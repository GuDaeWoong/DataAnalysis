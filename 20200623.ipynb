{
 "cells": [
  {
   "cell_type": "code",
   "execution_count": 1,
   "metadata": {},
   "outputs": [],
   "source": [
    "#https://thebook.io/080228/part02/ch03/04-01/\n",
    "import numpy as np"
   ]
  },
  {
   "cell_type": "code",
   "execution_count": 2,
   "metadata": {},
   "outputs": [],
   "source": [
    "x=[2,4,6,8]\n",
    "y=[81,93,91,97]"
   ]
  },
  {
   "cell_type": "code",
   "execution_count": 3,
   "metadata": {},
   "outputs": [],
   "source": [
    "mx=np.mean(x)\n",
    "my=np.mean(y)"
   ]
  },
  {
   "cell_type": "code",
   "execution_count": 4,
   "metadata": {},
   "outputs": [],
   "source": [
    "divisor = sum([(i - mx)**2 for i in x])"
   ]
  },
  {
   "cell_type": "code",
   "execution_count": 5,
   "metadata": {},
   "outputs": [],
   "source": [
    "def top(x, mx, y, my):\n",
    "    d = 0\n",
    "    for i in range(len(x)):\n",
    "        d += (x[i] - mx) * (y[i] - my)\n",
    "    return d\n",
    "dividend = top(x, mx, y, my)"
   ]
  },
  {
   "cell_type": "code",
   "execution_count": 6,
   "metadata": {},
   "outputs": [],
   "source": [
    "a = dividend / divisor"
   ]
  },
  {
   "cell_type": "code",
   "execution_count": 7,
   "metadata": {},
   "outputs": [],
   "source": [
    "b = my - (mx*a)"
   ]
  },
  {
   "cell_type": "code",
   "execution_count": 10,
   "metadata": {},
   "outputs": [
    {
     "name": "stdout",
     "output_type": "stream",
     "text": [
      "x의 평균값: 5.0\n",
      "y의 평균값: 90.5\n"
     ]
    }
   ],
   "source": [
    "print(\"x의 평균값:\", mx)\n",
    "print(\"y의 평균값:\", my)"
   ]
  },
  {
   "cell_type": "code",
   "execution_count": 9,
   "metadata": {},
   "outputs": [
    {
     "name": "stdout",
     "output_type": "stream",
     "text": [
      "분모: 20.0\n",
      "분자: 46.0\n"
     ]
    }
   ],
   "source": [
    "print(\"분모:\", divisor)\n",
    "print(\"분자:\", dividend)"
   ]
  },
  {
   "cell_type": "code",
   "execution_count": 8,
   "metadata": {},
   "outputs": [
    {
     "name": "stdout",
     "output_type": "stream",
     "text": [
      "기울기 a = 2.3\n",
      "y 절편 b = 79.0\n"
     ]
    }
   ],
   "source": [
    "print(\"기울기 a =\", a)\n",
    "print(\"y 절편 b =\", b)"
   ]
  },
  {
   "cell_type": "code",
   "execution_count": null,
   "metadata": {},
   "outputs": [],
   "source": []
  },
  {
   "cell_type": "code",
   "execution_count": null,
   "metadata": {},
   "outputs": [],
   "source": []
  },
  {
   "cell_type": "code",
   "execution_count": 11,
   "metadata": {},
   "outputs": [],
   "source": [
    "fake_a_b = [3, 76]#y=3x+76"
   ]
  },
  {
   "cell_type": "code",
   "execution_count": 12,
   "metadata": {},
   "outputs": [],
   "source": [
    "data = [[2, 81], [4, 93], [6, 91], [8, 97]]\n",
    "x = [i[0] for i in data]\n",
    "y = [i[1] for i in data]"
   ]
  },
  {
   "cell_type": "code",
   "execution_count": 13,
   "metadata": {},
   "outputs": [],
   "source": [
    "def predict(x):\n",
    "    return fake_a_b[0]*x + fake_a_b[1]"
   ]
  },
  {
   "cell_type": "code",
   "execution_count": 17,
   "metadata": {},
   "outputs": [],
   "source": [
    "def mse(y_hat, y):\n",
    "    return ((y_hat-y) ** 2).mean()"
   ]
  },
  {
   "cell_type": "code",
   "execution_count": 18,
   "metadata": {},
   "outputs": [],
   "source": [
    "def mse_val(predict_result, y):\n",
    "    return mse(np.array(predict_result), np.array(y))"
   ]
  },
  {
   "cell_type": "code",
   "execution_count": 19,
   "metadata": {},
   "outputs": [
    {
     "name": "stdout",
     "output_type": "stream",
     "text": [
      "공부시간 = 2, 실제 점수 = 81, 예측 점수 = 82\n",
      "공부시간 = 4, 실제 점수 = 93, 예측 점수 = 88\n",
      "공부시간 = 6, 실제 점수 = 91, 예측 점수 = 94\n",
      "공부시간 = 8, 실제 점수 = 97, 예측 점수 = 100\n"
     ]
    }
   ],
   "source": [
    "# 예측 값이 들어갈 빈 리스트\n",
    "predict_result = []\n",
    "\n",
    "# 모든 x 값을 한 번씩 대입하여\n",
    "for i in range(len(x)):\n",
    "    # 그 결과에 해당하는 predict_result 리스트를 완성\n",
    "    predict_result.append(predict(x[i]))\n",
    "    print(\"공부시간 = %.f, 실제 점수 = %.f, 예측 점수 = %.f\" % (x[i], y[i], predict(x[i])))"
   ]
  },
  {
   "cell_type": "code",
   "execution_count": 20,
   "metadata": {},
   "outputs": [
    {
     "name": "stdout",
     "output_type": "stream",
     "text": [
      "공부한 시간 = 2, 실제 점수 = 81, 예측 점수 = 82\n",
      "공부한 시간 = 4, 실제 점수 = 93, 예측 점수 = 88\n",
      "공부한 시간 = 6, 실제 점수 = 91, 예측 점수 = 94\n",
      "공부한 시간 = 8, 실제 점수 = 97, 예측 점수 = 100\n",
      "mse 최종값: 11.0\n"
     ]
    }
   ],
   "source": [
    "# 예측 값이 들어갈 빈 리스트\n",
    "predict_result = []\n",
    "\n",
    "# 모든 x 값을 한 번씩 대입하여\n",
    "for i in range(len(x)):\n",
    "    # predict_result 리스트를 완성\n",
    "    predict_result.append(predict(x[i]))\n",
    "    print(\"공부한 시간 = %.f, 실제 점수 = %.f, 예측 점수 = %.f\" % (x[i], y[i], predict(x[i])))\n",
    "\n",
    "# 최종 MSE 출력\n",
    "print(\"mse 최종값: \" + str(mse_val(predict_result,y)))"
   ]
  },
  {
   "cell_type": "code",
   "execution_count": null,
   "metadata": {},
   "outputs": [],
   "source": []
  },
  {
   "cell_type": "code",
   "execution_count": null,
   "metadata": {},
   "outputs": [],
   "source": []
  },
  {
   "cell_type": "code",
   "execution_count": 23,
   "metadata": {},
   "outputs": [
    {
     "data": {
      "image/png": "[encoded data removed]",
      "text/plain": [
       "<Figure size 576x360 with 1 Axes>"
      ]
     },
     "metadata": {
      "needs_background": "light"
     },
     "output_type": "display_data"
    },
    {
     "name": "stdout",
     "output_type": "stream",
     "text": [
      "epoch=0, 기울기=23.2000, 절편=4.5250\n",
      "epoch=100, 기울기=7.9316, 절편=45.3932\n",
      "epoch=200, 기울기=4.7953, 절편=64.1094\n",
      "epoch=300, 기울기=3.4056, 절편=72.4022\n",
      "epoch=400, 기울기=2.7899, 절편=76.0766\n",
      "epoch=500, 기울기=2.5171, 절편=77.7047\n",
      "epoch=600, 기울기=2.3962, 절편=78.4261\n",
      "epoch=700, 기울기=2.3426, 절편=78.7457\n",
      "epoch=800, 기울기=2.3189, 절편=78.8873\n",
      "epoch=900, 기울기=2.3084, 절편=78.9501\n",
      "epoch=1000, 기울기=2.3037, 절편=78.9779\n",
      "epoch=1100, 기울기=2.3016, 절편=78.9902\n",
      "epoch=1200, 기울기=2.3007, 절편=78.9957\n",
      "epoch=1300, 기울기=2.3003, 절편=78.9981\n",
      "epoch=1400, 기울기=2.3001, 절편=78.9991\n",
      "epoch=1500, 기울기=2.3001, 절편=78.9996\n",
      "epoch=1600, 기울기=2.3000, 절편=78.9998\n",
      "epoch=1700, 기울기=2.3000, 절편=78.9999\n",
      "epoch=1800, 기울기=2.3000, 절편=79.0000\n",
      "epoch=1900, 기울기=2.3000, 절편=79.0000\n",
      "epoch=2000, 기울기=2.3000, 절편=79.0000\n"
     ]
    },
    {
     "data": {
      "image/png": "[encoded data removed]",
      "text/plain": [
       "<Figure size 432x288 with 1 Axes>"
      ]
     },
     "metadata": {
      "needs_background": "light"
     },
     "output_type": "display_data"
    }
   ],
   "source": [
    "import numpy as np\n",
    "import pandas as pd\n",
    "import matplotlib.pyplot as plt\n",
    "\n",
    "# 공부 시간 X와 성적 Y의 리스트를 만들기\n",
    "data = [[2, 81], [4, 93], [6, 91], [8, 97]]\n",
    "x = [i[0] for i in data]\n",
    "y = [i[1] for i in data]\n",
    "\n",
    "# 그래프로 나타내기\n",
    "plt.figure(figsize=(8,5))\n",
    "plt.scatter(x, y)\n",
    "plt.show()\n",
    "\n",
    "# 리스트로 되어 있는 x와 y 값을 넘파이 배열로 바꾸기(인덱스를 주어 하나씩 불러와 계산이 가능하게 하기 위함)\n",
    "x_data = np.array(x)\n",
    "y_data = np.array(y)\n",
    "\n",
    "# 기울기 a와 절편 b의 값 초기화\n",
    "a = 0\n",
    "b = 0\n",
    "\n",
    "# 학습률 정하기\n",
    "lr = 0.05\n",
    "\n",
    "# 몇 번 반복될지 설정(0부터 세므로 원하는 반복 횟수에 +1)\n",
    "epochs = 2001\n",
    "\n",
    "# 경사 하강법 시작\n",
    "for i in range(epochs):     # 에포크 수만큼 반복\n",
    "    y_pred = a * x_data + b # y를 구하는 식 세우기\n",
    "    error = y_data - y_pred # 오차를 구하는 식\n",
    "    # 오차 함수를 a로 미분한 값\n",
    "    a_diff = -(1/len(x_data)) * sum(x_data * (error))\n",
    "    # 오차 함수를 b로 미분한 값\n",
    "    b_diff = -(1/len(x_data)) * sum(y_data - y_pred)\n",
    "\n",
    "    a = a - lr * a_diff # 학습률을 곱해 기존의 a값 업데이트\n",
    "    b = b - lr * b_diff # 학습률을 곱해 기존의 b값 업데이트\n",
    "\n",
    "    if i % 100 == 0:    # 100번 반복될 때마다 현재의 a값 , b값 출력\n",
    "        print(\"epoch=%.f, 기울기=%.04f, 절편=%.04f\" % (i, a, b))\n",
    "\n",
    "# 앞서 구한 기울기와 절편을 이용해 그래프를 다시 그리기\n",
    "y_pred = a * x_data + b\n",
    "plt.scatter(x, y)\n",
    "plt.plot([min(x_data), max(x_data)], [min(y_pred), max(y_pred)])\n",
    "plt.show()"
   ]
  },
  {
   "cell_type": "code",
   "execution_count": 24,
   "metadata": {},
   "outputs": [],
   "source": [
    "data = [[2, 0, 81], [4, 4, 93], [6, 2, 91], [8, 3, 97]]\n",
    "x1 = [i[0] for i in data]\n",
    "x2 = [i[1] for i in data]\n",
    "y = [i[2] for i in data]"
   ]
  },
  {
   "cell_type": "code",
   "execution_count": 25,
   "metadata": {},
   "outputs": [
    {
     "data": {
      "image/png": "[encoded data removed]",
      "text/plain": [
       "<Figure size 432x288 with 1 Axes>"
      ]
     },
     "metadata": {
      "needs_background": "light"
     },
     "output_type": "display_data"
    }
   ],
   "source": [
    "import matplotlib.pyplot as plt\n",
    "from mpl_toolkits import mplot3d # 3D 그래프 그리는 라이브러리 가져오기\n",
    "\n",
    "ax = plt.axes(projection='3d')   # 그래프 유형 정하기\n",
    "ax.set_xlabel('study_hours')\n",
    "ax.set_ylabel('private_class')\n",
    "ax.set_zlabel('Score')\n",
    "ax.scatter(x1, x2, y)\n",
    "plt.show()"
   ]
  },
  {
   "cell_type": "code",
   "execution_count": 27,
   "metadata": {},
   "outputs": [],
   "source": [
    "# 리스트로 되어 있는 x와 y 값을 넘파이 배열로 바꾸기(인덱스로 하나씩 불러와 계산할 수 있도록 하기 위함)\n",
    "x1_data = np.array(x1)\n",
    "x2_data = np.array(x2)\n",
    "y_data = np.array(y)\n",
    "\n",
    "# 기울기 a와 절편 b의 값 초기화\n",
    "a1 = 0\n",
    "a2 = 0\n",
    "b = 0\n",
    "\n",
    "# 학습률\n",
    "lr = 0.05\n",
    "\n",
    "# 몇 번 반복할지 설정(0부터 세므로 원하는 반복 횟수에 +1)\n",
    "epochs = 2001"
   ]
  },
  {
   "cell_type": "code",
   "execution_count": 28,
   "metadata": {},
   "outputs": [],
   "source": [
    "y_pred = a1 * x1_data + a2 * x2_data + b # y를 구하는 식을 세우기\n",
    "error = y_data - y_pred # 오차를 구하는 식\n",
    "a1_diff = -(1/len(x1_data)) * sum(x1_data * (error)) # 오차 함수를 a1로 미분한 값\n",
    "a2_diff = -(1/len(x2_data)) * sum(x2_data * (error)) # 오차 함수를 a2로 미분한 값\n",
    "b_new = -(1/len(x1_data)) * sum(y_data - y_pred)     # 오차 함수를 b로 미분한 값\n",
    "a1 = a1 - lr * a1_diff # 학습률을 곱해 기존의 a1 값 업데이트\n",
    "a2 = a2 - lr * a2_diff # 학습률을 곱해 기존의 a2 값 업데이트\n",
    "b = b - lr * b_diff    # 학습률을 곱해 기존의 b 값 업데이트"
   ]
  },
  {
   "cell_type": "code",
   "execution_count": 29,
   "metadata": {},
   "outputs": [
    {
     "name": "stdout",
     "output_type": "stream",
     "text": [
      "epoch=0, 기울기1=4.7344, 기울기2=2.2161, 절편=0.0000\n",
      "epoch=100, 기울기1=12.7373, 기울기2=6.2986, 절편=0.0000\n",
      "epoch=200, 기울기1=12.7371, 기울기2=6.2990, 절편=0.0000\n",
      "epoch=300, 기울기1=12.7371, 기울기2=6.2990, 절편=0.0000\n",
      "epoch=400, 기울기1=12.7371, 기울기2=6.2990, 절편=0.0000\n",
      "epoch=500, 기울기1=12.7371, 기울기2=6.2990, 절편=0.0000\n",
      "epoch=600, 기울기1=12.7371, 기울기2=6.2990, 절편=0.0000\n",
      "epoch=700, 기울기1=12.7371, 기울기2=6.2990, 절편=0.0000\n",
      "epoch=800, 기울기1=12.7371, 기울기2=6.2990, 절편=0.0000\n",
      "epoch=900, 기울기1=12.7371, 기울기2=6.2990, 절편=0.0000\n",
      "epoch=1000, 기울기1=12.7371, 기울기2=6.2990, 절편=0.0001\n",
      "epoch=1100, 기울기1=12.7371, 기울기2=6.2990, 절편=0.0001\n",
      "epoch=1200, 기울기1=12.7371, 기울기2=6.2990, 절편=0.0001\n",
      "epoch=1300, 기울기1=12.7371, 기울기2=6.2990, 절편=0.0001\n",
      "epoch=1400, 기울기1=12.7371, 기울기2=6.2990, 절편=0.0001\n",
      "epoch=1500, 기울기1=12.7371, 기울기2=6.2990, 절편=0.0001\n",
      "epoch=1600, 기울기1=12.7371, 기울기2=6.2990, 절편=0.0001\n",
      "epoch=1700, 기울기1=12.7371, 기울기2=6.2990, 절편=0.0001\n",
      "epoch=1800, 기울기1=12.7371, 기울기2=6.2990, 절편=0.0001\n",
      "epoch=1900, 기울기1=12.7371, 기울기2=6.2990, 절편=0.0001\n",
      "epoch=2000, 기울기1=12.7371, 기울기2=6.2990, 절편=0.0001\n"
     ]
    }
   ],
   "source": [
    "# 경사 하강법 시작\n",
    "for i in range(epochs): # epoch 수 만큼 반복\n",
    "    y_pred = a1 * x1_data + a2 * x2_data + b # y를 구하는 식 세우기\n",
    "    error = y_data - y_pred # 오차를 구하는 식\n",
    "    # 오차 함수를 a1로 미분한 값\n",
    "    a1_diff = -(1/len(x1_data)) * sum(x1_data * (error))\n",
    "    # 오차 함수를 a2로 미분한 값\n",
    "    a2_diff = -(1/len(x2_data)) * sum(x2_data * (error))\n",
    "    # 오차 함수를 b로 미분한 값\n",
    "    b_new = -(1/len(x1_data)) * sum(y_data - y_pred)\n",
    "    a1 = a1 - lr * a1_diff # 학습률을 곱해 기존의 a1 값 업데이트\n",
    "    a2 = a2 - lr * a2_diff # 학습률을 곱해 기존의 a2 값 업데이트\n",
    "    b = b - lr * b_diff    # 학습률을 곱해 기존의 b값 업데이트\n",
    "\n",
    "    if i % 100 == 0:       # 100번 반복될 때마다 현재의 a1, a2, b 값 출력\n",
    "        print(\"epoch=%.f, 기울기1=%.04f, 기울기2=%.04f, 절편=%.04f\" % (i, a1, a2, b))"
   ]
  },
  {
   "cell_type": "code",
   "execution_count": null,
   "metadata": {},
   "outputs": [],
   "source": []
  },
  {
   "cell_type": "code",
   "execution_count": null,
   "metadata": {},
   "outputs": [],
   "source": []
  },
  {
   "cell_type": "code",
   "execution_count": null,
   "metadata": {},
   "outputs": [],
   "source": []
  },
  {
   "cell_type": "code",
   "execution_count": 30,
   "metadata": {},
   "outputs": [
    {
     "name": "stdout",
     "output_type": "stream",
     "text": [
      "<class 'pandas.core.frame.DataFrame'>\n",
      "RangeIndex: 208 entries, 0 to 207\n",
      "Data columns (total 61 columns):\n",
      " #   Column  Non-Null Count  Dtype  \n",
      "---  ------  --------------  -----  \n",
      " 0   0       208 non-null    float64\n",
      " 1   1       208 non-null    float64\n",
      " 2   2       208 non-null    float64\n",
      " 3   3       208 non-null    float64\n",
      " 4   4       208 non-null    float64\n",
      " 5   5       208 non-null    float64\n",
      " 6   6       208 non-null    float64\n",
      " 7   7       208 non-null    float64\n",
      " 8   8       208 non-null    float64\n",
      " 9   9       208 non-null    float64\n",
      " 10  10      208 non-null    float64\n",
      " 11  11      208 non-null    float64\n",
      " 12  12      208 non-null    float64\n",
      " 13  13      208 non-null    float64\n",
      " 14  14      208 non-null    float64\n",
      " 15  15      208 non-null    float64\n",
      " 16  16      208 non-null    float64\n",
      " 17  17      208 non-null    float64\n",
      " 18  18      208 non-null    float64\n",
      " 19  19      208 non-null    float64\n",
      " 20  20      208 non-null    float64\n",
      " 21  21      208 non-null    float64\n",
      " 22  22      208 non-null    float64\n",
      " 23  23      208 non-null    float64\n",
      " 24  24      208 non-null    float64\n",
      " 25  25      208 non-null    float64\n",
      " 26  26      208 non-null    float64\n",
      " 27  27      208 non-null    float64\n",
      " 28  28      208 non-null    float64\n",
      " 29  29      208 non-null    float64\n",
      " 30  30      208 non-null    float64\n",
      " 31  31      208 non-null    float64\n",
      " 32  32      208 non-null    float64\n",
      " 33  33      208 non-null    float64\n",
      " 34  34      208 non-null    float64\n",
      " 35  35      208 non-null    float64\n",
      " 36  36      208 non-null    float64\n",
      " 37  37      208 non-null    float64\n",
      " 38  38      208 non-null    float64\n",
      " 39  39      208 non-null    float64\n",
      " 40  40      208 non-null    float64\n",
      " 41  41      208 non-null    float64\n",
      " 42  42      208 non-null    float64\n",
      " 43  43      208 non-null    float64\n",
      " 44  44      208 non-null    float64\n",
      " 45  45      208 non-null    float64\n",
      " 46  46      208 non-null    float64\n",
      " 47  47      208 non-null    float64\n",
      " 48  48      208 non-null    float64\n",
      " 49  49      208 non-null    float64\n",
      " 50  50      208 non-null    float64\n",
      " 51  51      208 non-null    float64\n",
      " 52  52      208 non-null    float64\n",
      " 53  53      208 non-null    float64\n",
      " 54  54      208 non-null    float64\n",
      " 55  55      208 non-null    float64\n",
      " 56  56      208 non-null    float64\n",
      " 57  57      208 non-null    float64\n",
      " 58  58      208 non-null    float64\n",
      " 59  59      208 non-null    float64\n",
      " 60  60      208 non-null    object \n",
      "dtypes: float64(60), object(1)\n",
      "memory usage: 99.2+ KB\n",
      "None\n"
     ]
    }
   ],
   "source": [
    "import pandas as pd\n",
    " \n",
    "df = pd.read_csv('../data/sonar.csv', header=None)\n",
    "print(df.info())"
   ]
  },
  {
   "cell_type": "code",
   "execution_count": 31,
   "metadata": {},
   "outputs": [
    {
     "name": "stdout",
     "output_type": "stream",
     "text": [
      "       0       1       2       3       4       5       6       7       8   \\\n",
      "0  0.0200  0.0371  0.0428  0.0207  0.0954  0.0986  0.1539  0.1601  0.3109   \n",
      "1  0.0453  0.0523  0.0843  0.0689  0.1183  0.2583  0.2156  0.3481  0.3337   \n",
      "2  0.0262  0.0582  0.1099  0.1083  0.0974  0.2280  0.2431  0.3771  0.5598   \n",
      "3  0.0100  0.0171  0.0623  0.0205  0.0205  0.0368  0.1098  0.1276  0.0598   \n",
      "4  0.0762  0.0666  0.0481  0.0394  0.0590  0.0649  0.1209  0.2467  0.3564   \n",
      "\n",
      "       9   ...      51      52      53      54      55      56      57  \\\n",
      "0  0.2111  ...  0.0027  0.0065  0.0159  0.0072  0.0167  0.0180  0.0084   \n",
      "1  0.2872  ...  0.0084  0.0089  0.0048  0.0094  0.0191  0.0140  0.0049   \n",
      "2  0.6194  ...  0.0232  0.0166  0.0095  0.0180  0.0244  0.0316  0.0164   \n",
      "3  0.1264  ...  0.0121  0.0036  0.0150  0.0085  0.0073  0.0050  0.0044   \n",
      "4  0.4459  ...  0.0031  0.0054  0.0105  0.0110  0.0015  0.0072  0.0048   \n",
      "\n",
      "       58      59  60  \n",
      "0  0.0090  0.0032   R  \n",
      "1  0.0052  0.0044   R  \n",
      "2  0.0095  0.0078   R  \n",
      "3  0.0040  0.0117   R  \n",
      "4  0.0107  0.0094   R  \n",
      "\n",
      "[5 rows x 61 columns]\n"
     ]
    }
   ],
   "source": [
    "print(df.head())"
   ]
  },
  {
   "cell_type": "code",
   "execution_count": 38,
   "metadata": {},
   "outputs": [],
   "source": [
    "from keras.models import Sequential\n",
    "from keras.layers.core import Dense\n",
    "from sklearn.preprocessing import LabelEncoder\n",
    " \n",
    "import pandas as pd\n",
    "import numpy\n",
    "import tensorflow as tf\n",
    "  \n",
    "# seed 값 설정\n",
    "numpy.random.seed(3)\n",
    "tf.random.set_seed(3)\n",
    "  \n",
    "# 데이터 입력\n",
    "df = pd.read_csv('../data/sonar.csv', header=None)\n",
    "\n",
    "dataset = df.values\n",
    "X = dataset[:,0:60]\n",
    "Y_obj = dataset[:,60]\n",
    "  \n",
    "# 문자열 변환\n",
    "e = LabelEncoder()\n",
    "e.fit(Y_obj)\n",
    "Y = e.transform(Y_obj)\n",
    "  \n",
    "# 모델 설정\n",
    "model = Sequential()\n",
    "model.add(Dense(24, input_dim=60, activation='relu'))\n",
    "model.add(Dense(10, activation='relu'))\n",
    "model.add(Dense(1, activation='sigmoid'))\n",
    " \n"
   ]
  },
  {
   "cell_type": "code",
   "execution_count": 40,
   "metadata": {},
   "outputs": [],
   "source": [
    "\n",
    "# 모델 컴파일\n",
    "model.compile(loss='mean_squared_error', optimizer='adam', metrics=['accuracy'])\n"
   ]
  },
  {
   "cell_type": "code",
   "execution_count": 51,
   "metadata": {},
   "outputs": [],
   "source": [
    "X=np.asanyarray(X).astype(np.float32)"
   ]
  },
  {
   "cell_type": "code",
   "execution_count": 52,
   "metadata": {},
   "outputs": [
    {
     "name": "stdout",
     "output_type": "stream",
     "text": [
      "Epoch 1/200\n",
      "42/42 [==============================] - 0s 738us/step - loss: 0.2432 - accuracy: 0.5865\n",
      "Epoch 2/200\n",
      "42/42 [==============================] - 0s 761us/step - loss: 0.2288 - accuracy: 0.6394\n",
      "Epoch 3/200\n",
      "42/42 [==============================] - 0s 714us/step - loss: 0.2187 - accuracy: 0.6490\n",
      "Epoch 4/200\n",
      "42/42 [==============================] - 0s 714us/step - loss: 0.2031 - accuracy: 0.7260\n",
      "Epoch 5/200\n",
      "42/42 [==============================] - 0s 785us/step - loss: 0.1893 - accuracy: 0.7692\n",
      "Epoch 6/200\n",
      "42/42 [==============================] - 0s 714us/step - loss: 0.1802 - accuracy: 0.7596\n",
      "Epoch 7/200\n",
      "42/42 [==============================] - 0s 666us/step - loss: 0.1677 - accuracy: 0.7740\n",
      "Epoch 8/200\n",
      "42/42 [==============================] - 0s 761us/step - loss: 0.1590 - accuracy: 0.7837\n",
      "Epoch 9/200\n",
      "42/42 [==============================] - 0s 761us/step - loss: 0.1558 - accuracy: 0.7885\n",
      "Epoch 10/200\n",
      "42/42 [==============================] - 0s 761us/step - loss: 0.1483 - accuracy: 0.7788\n",
      "Epoch 11/200\n",
      "42/42 [==============================] - 0s 738us/step - loss: 0.1467 - accuracy: 0.7933\n",
      "Epoch 12/200\n",
      "42/42 [==============================] - 0s 761us/step - loss: 0.1380 - accuracy: 0.8029\n",
      "Epoch 13/200\n",
      "42/42 [==============================] - 0s 761us/step - loss: 0.1346 - accuracy: 0.8173\n",
      "Epoch 14/200\n",
      "42/42 [==============================] - 0s 761us/step - loss: 0.1329 - accuracy: 0.8077\n",
      "Epoch 15/200\n",
      "42/42 [==============================] - 0s 761us/step - loss: 0.1291 - accuracy: 0.8077\n",
      "Epoch 16/200\n",
      "42/42 [==============================] - 0s 738us/step - loss: 0.1317 - accuracy: 0.8269\n",
      "Epoch 17/200\n",
      "42/42 [==============================] - 0s 761us/step - loss: 0.1242 - accuracy: 0.8462\n",
      "Epoch 18/200\n",
      "42/42 [==============================] - 0s 761us/step - loss: 0.1227 - accuracy: 0.8269\n",
      "Epoch 19/200\n",
      "42/42 [==============================] - 0s 761us/step - loss: 0.1251 - accuracy: 0.8317\n",
      "Epoch 20/200\n",
      "42/42 [==============================] - 0s 738us/step - loss: 0.1202 - accuracy: 0.8269\n",
      "Epoch 21/200\n",
      "42/42 [==============================] - 0s 809us/step - loss: 0.1159 - accuracy: 0.8365\n",
      "Epoch 22/200\n",
      "42/42 [==============================] - 0s 738us/step - loss: 0.1163 - accuracy: 0.8462\n",
      "Epoch 23/200\n",
      "42/42 [==============================] - 0s 690us/step - loss: 0.1109 - accuracy: 0.8606\n",
      "Epoch 24/200\n",
      "42/42 [==============================] - 0s 761us/step - loss: 0.1103 - accuracy: 0.8654\n",
      "Epoch 25/200\n",
      "42/42 [==============================] - 0s 714us/step - loss: 0.1097 - accuracy: 0.8462\n",
      "Epoch 26/200\n",
      "42/42 [==============================] - 0s 738us/step - loss: 0.1073 - accuracy: 0.8462\n",
      "Epoch 27/200\n",
      "42/42 [==============================] - 0s 785us/step - loss: 0.1118 - accuracy: 0.8413\n",
      "Epoch 28/200\n",
      "42/42 [==============================] - 0s 738us/step - loss: 0.1085 - accuracy: 0.8702\n",
      "Epoch 29/200\n",
      "42/42 [==============================] - 0s 714us/step - loss: 0.1022 - accuracy: 0.8846\n",
      "Epoch 30/200\n",
      "42/42 [==============================] - 0s 761us/step - loss: 0.0992 - accuracy: 0.8846\n",
      "Epoch 31/200\n",
      "42/42 [==============================] - 0s 714us/step - loss: 0.0968 - accuracy: 0.8798\n",
      "Epoch 32/200\n",
      "42/42 [==============================] - 0s 761us/step - loss: 0.1024 - accuracy: 0.8654\n",
      "Epoch 33/200\n",
      "42/42 [==============================] - 0s 714us/step - loss: 0.0904 - accuracy: 0.8990\n",
      "Epoch 34/200\n",
      "42/42 [==============================] - 0s 738us/step - loss: 0.0975 - accuracy: 0.8558\n",
      "Epoch 35/200\n",
      "42/42 [==============================] - 0s 690us/step - loss: 0.0942 - accuracy: 0.8654\n",
      "Epoch 36/200\n",
      "42/42 [==============================] - 0s 714us/step - loss: 0.0917 - accuracy: 0.8990\n",
      "Epoch 37/200\n",
      "42/42 [==============================] - 0s 738us/step - loss: 0.0902 - accuracy: 0.8990\n",
      "Epoch 38/200\n",
      "42/42 [==============================] - 0s 738us/step - loss: 0.0917 - accuracy: 0.8846\n",
      "Epoch 39/200\n",
      "42/42 [==============================] - 0s 738us/step - loss: 0.0837 - accuracy: 0.8990\n",
      "Epoch 40/200\n",
      "42/42 [==============================] - 0s 761us/step - loss: 0.0822 - accuracy: 0.9087\n",
      "Epoch 41/200\n",
      "42/42 [==============================] - 0s 714us/step - loss: 0.0852 - accuracy: 0.8846\n",
      "Epoch 42/200\n",
      "42/42 [==============================] - 0s 714us/step - loss: 0.0795 - accuracy: 0.9135\n",
      "Epoch 43/200\n",
      "42/42 [==============================] - 0s 714us/step - loss: 0.0821 - accuracy: 0.8990\n",
      "Epoch 44/200\n",
      "42/42 [==============================] - 0s 738us/step - loss: 0.0823 - accuracy: 0.9279\n",
      "Epoch 45/200\n",
      "42/42 [==============================] - 0s 738us/step - loss: 0.0790 - accuracy: 0.9038\n",
      "Epoch 46/200\n",
      "42/42 [==============================] - 0s 761us/step - loss: 0.0739 - accuracy: 0.9327\n",
      "Epoch 47/200\n",
      "42/42 [==============================] - 0s 785us/step - loss: 0.0722 - accuracy: 0.9135\n",
      "Epoch 48/200\n",
      "42/42 [==============================] - 0s 833us/step - loss: 0.0709 - accuracy: 0.9279\n",
      "Epoch 49/200\n",
      "42/42 [==============================] - 0s 833us/step - loss: 0.0715 - accuracy: 0.9183\n",
      "Epoch 50/200\n",
      "42/42 [==============================] - 0s 809us/step - loss: 0.0720 - accuracy: 0.9231\n",
      "Epoch 51/200\n",
      "42/42 [==============================] - 0s 809us/step - loss: 0.0670 - accuracy: 0.9327\n",
      "Epoch 52/200\n",
      "42/42 [==============================] - 0s 785us/step - loss: 0.0649 - accuracy: 0.9327\n",
      "Epoch 53/200\n",
      "42/42 [==============================] - 0s 785us/step - loss: 0.0705 - accuracy: 0.9183\n",
      "Epoch 54/200\n",
      "42/42 [==============================] - 0s 833us/step - loss: 0.0639 - accuracy: 0.9327\n",
      "Epoch 55/200\n",
      "42/42 [==============================] - 0s 714us/step - loss: 0.0649 - accuracy: 0.9327\n",
      "Epoch 56/200\n",
      "42/42 [==============================] - 0s 690us/step - loss: 0.0627 - accuracy: 0.9423\n",
      "Epoch 57/200\n",
      "42/42 [==============================] - 0s 690us/step - loss: 0.0580 - accuracy: 0.9519\n",
      "Epoch 58/200\n",
      "42/42 [==============================] - 0s 738us/step - loss: 0.0590 - accuracy: 0.9423\n",
      "Epoch 59/200\n",
      "42/42 [==============================] - 0s 761us/step - loss: 0.0588 - accuracy: 0.9327\n",
      "Epoch 60/200\n",
      "42/42 [==============================] - 0s 714us/step - loss: 0.0586 - accuracy: 0.9375\n",
      "Epoch 61/200\n",
      "42/42 [==============================] - 0s 666us/step - loss: 0.0560 - accuracy: 0.9375\n",
      "Epoch 62/200\n",
      "42/42 [==============================] - 0s 738us/step - loss: 0.0569 - accuracy: 0.9423\n",
      "Epoch 63/200\n",
      "42/42 [==============================] - 0s 761us/step - loss: 0.0523 - accuracy: 0.9423\n",
      "Epoch 64/200\n",
      "42/42 [==============================] - 0s 761us/step - loss: 0.0526 - accuracy: 0.9471\n",
      "Epoch 65/200\n",
      "42/42 [==============================] - 0s 738us/step - loss: 0.0484 - accuracy: 0.9615\n",
      "Epoch 66/200\n",
      "42/42 [==============================] - 0s 738us/step - loss: 0.0486 - accuracy: 0.9567\n",
      "Epoch 67/200\n",
      "42/42 [==============================] - 0s 714us/step - loss: 0.0523 - accuracy: 0.9471\n",
      "Epoch 68/200\n",
      "42/42 [==============================] - 0s 714us/step - loss: 0.0459 - accuracy: 0.9663\n",
      "Epoch 69/200\n",
      "42/42 [==============================] - 0s 738us/step - loss: 0.0480 - accuracy: 0.9615\n",
      "Epoch 70/200\n",
      "42/42 [==============================] - 0s 714us/step - loss: 0.0453 - accuracy: 0.9567\n",
      "Epoch 71/200\n",
      "42/42 [==============================] - 0s 642us/step - loss: 0.0456 - accuracy: 0.9519\n",
      "Epoch 72/200\n",
      "42/42 [==============================] - 0s 714us/step - loss: 0.0440 - accuracy: 0.9663\n",
      "Epoch 73/200\n",
      "42/42 [==============================] - 0s 738us/step - loss: 0.0445 - accuracy: 0.9567\n",
      "Epoch 74/200\n",
      "42/42 [==============================] - 0s 738us/step - loss: 0.0439 - accuracy: 0.9567\n",
      "Epoch 75/200\n",
      "42/42 [==============================] - 0s 738us/step - loss: 0.0427 - accuracy: 0.9663\n",
      "Epoch 76/200\n",
      "42/42 [==============================] - 0s 761us/step - loss: 0.0458 - accuracy: 0.9519\n",
      "Epoch 77/200\n",
      "42/42 [==============================] - 0s 690us/step - loss: 0.0397 - accuracy: 0.9712\n",
      "Epoch 78/200\n",
      "42/42 [==============================] - 0s 738us/step - loss: 0.0390 - accuracy: 0.9712\n",
      "Epoch 79/200\n",
      "42/42 [==============================] - 0s 738us/step - loss: 0.0405 - accuracy: 0.9663\n",
      "Epoch 80/200\n",
      "42/42 [==============================] - 0s 761us/step - loss: 0.0360 - accuracy: 0.9663\n",
      "Epoch 81/200\n",
      "42/42 [==============================] - 0s 738us/step - loss: 0.0378 - accuracy: 0.9615\n",
      "Epoch 82/200\n",
      "42/42 [==============================] - 0s 690us/step - loss: 0.0396 - accuracy: 0.9567\n",
      "Epoch 83/200\n",
      "42/42 [==============================] - 0s 714us/step - loss: 0.0357 - accuracy: 0.9712\n",
      "Epoch 84/200\n",
      "42/42 [==============================] - 0s 714us/step - loss: 0.0356 - accuracy: 0.9663\n",
      "Epoch 85/200\n",
      "42/42 [==============================] - 0s 714us/step - loss: 0.0349 - accuracy: 0.9567\n",
      "Epoch 86/200\n",
      "42/42 [==============================] - 0s 690us/step - loss: 0.0347 - accuracy: 0.9712\n",
      "Epoch 87/200\n",
      "42/42 [==============================] - 0s 690us/step - loss: 0.0320 - accuracy: 0.9760\n",
      "Epoch 88/200\n",
      "42/42 [==============================] - 0s 738us/step - loss: 0.0381 - accuracy: 0.9615\n",
      "Epoch 89/200\n",
      "42/42 [==============================] - 0s 761us/step - loss: 0.0312 - accuracy: 0.9760\n",
      "Epoch 90/200\n",
      "42/42 [==============================] - 0s 690us/step - loss: 0.0332 - accuracy: 0.9760\n",
      "Epoch 91/200\n",
      "42/42 [==============================] - 0s 714us/step - loss: 0.0312 - accuracy: 0.9760\n",
      "Epoch 92/200\n",
      "42/42 [==============================] - 0s 714us/step - loss: 0.0329 - accuracy: 0.9663\n",
      "Epoch 93/200\n",
      "42/42 [==============================] - 0s 714us/step - loss: 0.0300 - accuracy: 0.9808\n",
      "Epoch 94/200\n",
      "42/42 [==============================] - 0s 714us/step - loss: 0.0285 - accuracy: 0.9808\n",
      "Epoch 95/200\n",
      "42/42 [==============================] - 0s 738us/step - loss: 0.0292 - accuracy: 0.9712\n",
      "Epoch 96/200\n",
      "42/42 [==============================] - 0s 690us/step - loss: 0.0284 - accuracy: 0.9808\n",
      "Epoch 97/200\n",
      "42/42 [==============================] - 0s 666us/step - loss: 0.0322 - accuracy: 0.9663\n",
      "Epoch 98/200\n",
      "42/42 [==============================] - 0s 690us/step - loss: 0.0301 - accuracy: 0.9760\n",
      "Epoch 99/200\n",
      "42/42 [==============================] - 0s 666us/step - loss: 0.0292 - accuracy: 0.9856\n",
      "Epoch 100/200\n",
      "42/42 [==============================] - 0s 690us/step - loss: 0.0257 - accuracy: 0.9808\n",
      "Epoch 101/200\n",
      "42/42 [==============================] - 0s 666us/step - loss: 0.0250 - accuracy: 0.9760\n",
      "Epoch 102/200\n",
      "42/42 [==============================] - 0s 714us/step - loss: 0.0248 - accuracy: 0.9808\n",
      "Epoch 103/200\n",
      "42/42 [==============================] - 0s 690us/step - loss: 0.0265 - accuracy: 0.9760\n",
      "Epoch 104/200\n",
      "42/42 [==============================] - 0s 714us/step - loss: 0.0298 - accuracy: 0.9760\n",
      "Epoch 105/200\n",
      "42/42 [==============================] - 0s 714us/step - loss: 0.0242 - accuracy: 0.9808\n",
      "Epoch 106/200\n",
      "42/42 [==============================] - 0s 690us/step - loss: 0.0271 - accuracy: 0.9808\n",
      "Epoch 107/200\n",
      "42/42 [==============================] - 0s 714us/step - loss: 0.0236 - accuracy: 0.9808\n",
      "Epoch 108/200\n",
      "42/42 [==============================] - 0s 714us/step - loss: 0.0257 - accuracy: 0.9760\n",
      "Epoch 109/200\n",
      "42/42 [==============================] - 0s 714us/step - loss: 0.0252 - accuracy: 0.9663\n",
      "Epoch 110/200\n",
      "42/42 [==============================] - 0s 714us/step - loss: 0.0230 - accuracy: 0.9760\n",
      "Epoch 111/200\n",
      "42/42 [==============================] - 0s 690us/step - loss: 0.0206 - accuracy: 0.9856\n",
      "Epoch 112/200\n",
      "42/42 [==============================] - 0s 738us/step - loss: 0.0204 - accuracy: 0.9808\n",
      "Epoch 113/200\n",
      "42/42 [==============================] - 0s 738us/step - loss: 0.0198 - accuracy: 0.9856\n",
      "Epoch 114/200\n",
      "42/42 [==============================] - 0s 714us/step - loss: 0.0203 - accuracy: 0.9808\n",
      "Epoch 115/200\n",
      "42/42 [==============================] - 0s 714us/step - loss: 0.0188 - accuracy: 0.9856\n",
      "Epoch 116/200\n",
      "42/42 [==============================] - 0s 714us/step - loss: 0.0204 - accuracy: 0.9856\n",
      "Epoch 117/200\n",
      "42/42 [==============================] - 0s 714us/step - loss: 0.0265 - accuracy: 0.9712\n",
      "Epoch 118/200\n",
      "42/42 [==============================] - 0s 714us/step - loss: 0.0184 - accuracy: 0.9904\n",
      "Epoch 119/200\n",
      "42/42 [==============================] - 0s 714us/step - loss: 0.0186 - accuracy: 0.9856\n",
      "Epoch 120/200\n",
      "42/42 [==============================] - 0s 761us/step - loss: 0.0172 - accuracy: 0.9904\n",
      "Epoch 121/200\n",
      "42/42 [==============================] - 0s 714us/step - loss: 0.0160 - accuracy: 0.9904\n",
      "Epoch 122/200\n",
      "42/42 [==============================] - 0s 714us/step - loss: 0.0151 - accuracy: 0.9856\n",
      "Epoch 123/200\n",
      "42/42 [==============================] - 0s 738us/step - loss: 0.0166 - accuracy: 0.9904\n",
      "Epoch 124/200\n",
      "42/42 [==============================] - 0s 714us/step - loss: 0.0197 - accuracy: 0.9856\n",
      "Epoch 125/200\n",
      "42/42 [==============================] - 0s 690us/step - loss: 0.0141 - accuracy: 0.9904\n",
      "Epoch 126/200\n",
      "42/42 [==============================] - 0s 714us/step - loss: 0.0159 - accuracy: 0.9952\n",
      "Epoch 127/200\n",
      "42/42 [==============================] - 0s 714us/step - loss: 0.0147 - accuracy: 0.9904\n",
      "Epoch 128/200\n",
      "42/42 [==============================] - 0s 666us/step - loss: 0.0137 - accuracy: 0.9856\n",
      "Epoch 129/200\n",
      "42/42 [==============================] - 0s 690us/step - loss: 0.0128 - accuracy: 0.9952\n",
      "Epoch 130/200\n",
      "42/42 [==============================] - 0s 690us/step - loss: 0.0139 - accuracy: 0.9904\n",
      "Epoch 131/200\n",
      "42/42 [==============================] - 0s 690us/step - loss: 0.0129 - accuracy: 0.9904\n",
      "Epoch 132/200\n",
      "42/42 [==============================] - 0s 714us/step - loss: 0.0129 - accuracy: 0.9904\n",
      "Epoch 133/200\n",
      "42/42 [==============================] - 0s 714us/step - loss: 0.0142 - accuracy: 0.9856\n",
      "Epoch 134/200\n",
      "42/42 [==============================] - 0s 714us/step - loss: 0.0142 - accuracy: 0.9904\n",
      "Epoch 135/200\n",
      "42/42 [==============================] - 0s 714us/step - loss: 0.0125 - accuracy: 0.9904\n",
      "Epoch 136/200\n",
      "42/42 [==============================] - 0s 690us/step - loss: 0.0110 - accuracy: 0.9952\n",
      "Epoch 137/200\n",
      "42/42 [==============================] - 0s 690us/step - loss: 0.0105 - accuracy: 0.9952\n",
      "Epoch 138/200\n",
      "42/42 [==============================] - 0s 714us/step - loss: 0.0110 - accuracy: 0.9952\n",
      "Epoch 139/200\n",
      "42/42 [==============================] - 0s 714us/step - loss: 0.0111 - accuracy: 0.9952\n",
      "Epoch 140/200\n",
      "42/42 [==============================] - 0s 666us/step - loss: 0.0115 - accuracy: 0.9952\n",
      "Epoch 141/200\n",
      "42/42 [==============================] - 0s 690us/step - loss: 0.0116 - accuracy: 0.9904\n",
      "Epoch 142/200\n",
      "42/42 [==============================] - 0s 690us/step - loss: 0.0115 - accuracy: 0.9904\n",
      "Epoch 143/200\n",
      "42/42 [==============================] - 0s 761us/step - loss: 0.0107 - accuracy: 0.9952\n",
      "Epoch 144/200\n",
      "42/42 [==============================] - 0s 714us/step - loss: 0.0113 - accuracy: 0.9952\n",
      "Epoch 145/200\n",
      "42/42 [==============================] - 0s 738us/step - loss: 0.0160 - accuracy: 0.9856\n",
      "Epoch 146/200\n",
      "42/42 [==============================] - 0s 690us/step - loss: 0.0110 - accuracy: 0.9952\n",
      "Epoch 147/200\n",
      "42/42 [==============================] - 0s 714us/step - loss: 0.0086 - accuracy: 0.9952\n",
      "Epoch 148/200\n",
      "42/42 [==============================] - 0s 714us/step - loss: 0.0094 - accuracy: 0.9952\n",
      "Epoch 149/200\n",
      "42/42 [==============================] - 0s 714us/step - loss: 0.0088 - accuracy: 0.9952\n",
      "Epoch 150/200\n",
      "42/42 [==============================] - 0s 809us/step - loss: 0.0089 - accuracy: 0.9952\n",
      "Epoch 151/200\n",
      "42/42 [==============================] - 0s 904us/step - loss: 0.0083 - accuracy: 0.9952\n",
      "Epoch 152/200\n",
      "42/42 [==============================] - 0s 738us/step - loss: 0.0089 - accuracy: 0.9952\n",
      "Epoch 153/200\n",
      "42/42 [==============================] - 0s 666us/step - loss: 0.0081 - accuracy: 0.9952\n",
      "Epoch 154/200\n",
      "42/42 [==============================] - 0s 714us/step - loss: 0.0080 - accuracy: 0.9952\n",
      "Epoch 155/200\n",
      "42/42 [==============================] - 0s 714us/step - loss: 0.0079 - accuracy: 0.9952\n",
      "Epoch 156/200\n",
      "42/42 [==============================] - 0s 714us/step - loss: 0.0079 - accuracy: 0.9952\n",
      "Epoch 157/200\n",
      "42/42 [==============================] - 0s 714us/step - loss: 0.0081 - accuracy: 0.9952\n",
      "Epoch 158/200\n",
      "42/42 [==============================] - 0s 714us/step - loss: 0.0085 - accuracy: 0.9952\n",
      "Epoch 159/200\n",
      "42/42 [==============================] - 0s 714us/step - loss: 0.0077 - accuracy: 0.9952\n",
      "Epoch 160/200\n"
     ]
    },
    {
     "name": "stdout",
     "output_type": "stream",
     "text": [
      "42/42 [==============================] - 0s 714us/step - loss: 0.0073 - accuracy: 0.9952\n",
      "Epoch 161/200\n",
      "42/42 [==============================] - 0s 690us/step - loss: 0.0076 - accuracy: 0.9952\n",
      "Epoch 162/200\n",
      "42/42 [==============================] - 0s 738us/step - loss: 0.0071 - accuracy: 0.9952\n",
      "Epoch 163/200\n",
      "42/42 [==============================] - 0s 738us/step - loss: 0.0099 - accuracy: 0.9952\n",
      "Epoch 164/200\n",
      "42/42 [==============================] - 0s 714us/step - loss: 0.0088 - accuracy: 0.9952\n",
      "Epoch 165/200\n",
      "42/42 [==============================] - 0s 690us/step - loss: 0.0073 - accuracy: 0.9952\n",
      "Epoch 166/200\n",
      "42/42 [==============================] - 0s 714us/step - loss: 0.0073 - accuracy: 0.9952\n",
      "Epoch 167/200\n",
      "42/42 [==============================] - 0s 714us/step - loss: 0.0070 - accuracy: 0.9952\n",
      "Epoch 168/200\n",
      "42/42 [==============================] - 0s 738us/step - loss: 0.0079 - accuracy: 0.9952\n",
      "Epoch 169/200\n",
      "42/42 [==============================] - 0s 714us/step - loss: 0.0068 - accuracy: 0.9952\n",
      "Epoch 170/200\n",
      "42/42 [==============================] - 0s 714us/step - loss: 0.0064 - accuracy: 0.9952\n",
      "Epoch 171/200\n",
      "42/42 [==============================] - 0s 738us/step - loss: 0.0065 - accuracy: 0.9952\n",
      "Epoch 172/200\n",
      "42/42 [==============================] - 0s 714us/step - loss: 0.0063 - accuracy: 0.9952\n",
      "Epoch 173/200\n",
      "42/42 [==============================] - 0s 714us/step - loss: 0.0063 - accuracy: 0.9952\n",
      "Epoch 174/200\n",
      "42/42 [==============================] - 0s 714us/step - loss: 0.0062 - accuracy: 0.9952\n",
      "Epoch 175/200\n",
      "42/42 [==============================] - 0s 690us/step - loss: 0.0066 - accuracy: 0.9952\n",
      "Epoch 176/200\n",
      "42/42 [==============================] - 0s 690us/step - loss: 0.0068 - accuracy: 0.9952\n",
      "Epoch 177/200\n",
      "42/42 [==============================] - 0s 690us/step - loss: 0.0063 - accuracy: 0.9952\n",
      "Epoch 178/200\n",
      "42/42 [==============================] - 0s 714us/step - loss: 0.0062 - accuracy: 0.9952\n",
      "Epoch 179/200\n",
      "42/42 [==============================] - 0s 690us/step - loss: 0.0062 - accuracy: 0.9952\n",
      "Epoch 180/200\n",
      "42/42 [==============================] - 0s 714us/step - loss: 0.0062 - accuracy: 0.9952\n",
      "Epoch 181/200\n",
      "42/42 [==============================] - 0s 690us/step - loss: 0.0060 - accuracy: 0.9952\n",
      "Epoch 182/200\n",
      "42/42 [==============================] - 0s 714us/step - loss: 0.0059 - accuracy: 0.9952\n",
      "Epoch 183/200\n",
      "42/42 [==============================] - 0s 714us/step - loss: 0.0060 - accuracy: 0.9952\n",
      "Epoch 184/200\n",
      "42/42 [==============================] - 0s 714us/step - loss: 0.0060 - accuracy: 0.9952\n",
      "Epoch 185/200\n",
      "42/42 [==============================] - 0s 714us/step - loss: 0.0059 - accuracy: 0.9952\n",
      "Epoch 186/200\n",
      "42/42 [==============================] - 0s 714us/step - loss: 0.0059 - accuracy: 0.9952\n",
      "Epoch 187/200\n",
      "42/42 [==============================] - 0s 714us/step - loss: 0.0059 - accuracy: 0.9952\n",
      "Epoch 188/200\n",
      "42/42 [==============================] - 0s 714us/step - loss: 0.0058 - accuracy: 0.9952\n",
      "Epoch 189/200\n",
      "42/42 [==============================] - 0s 738us/step - loss: 0.0059 - accuracy: 0.9952\n",
      "Epoch 190/200\n",
      "42/42 [==============================] - 0s 714us/step - loss: 0.0058 - accuracy: 0.9952\n",
      "Epoch 191/200\n",
      "42/42 [==============================] - 0s 714us/step - loss: 0.0057 - accuracy: 0.9952\n",
      "Epoch 192/200\n",
      "42/42 [==============================] - 0s 690us/step - loss: 0.0057 - accuracy: 0.9952\n",
      "Epoch 193/200\n",
      "42/42 [==============================] - 0s 690us/step - loss: 0.0062 - accuracy: 0.9952\n",
      "Epoch 194/200\n",
      "42/42 [==============================] - 0s 666us/step - loss: 0.0058 - accuracy: 0.9952\n",
      "Epoch 195/200\n",
      "42/42 [==============================] - 0s 761us/step - loss: 0.0057 - accuracy: 0.9952\n",
      "Epoch 196/200\n",
      "42/42 [==============================] - 0s 738us/step - loss: 0.0056 - accuracy: 0.9952\n",
      "Epoch 197/200\n",
      "42/42 [==============================] - 0s 714us/step - loss: 0.0055 - accuracy: 0.9952\n",
      "Epoch 198/200\n",
      "42/42 [==============================] - 0s 714us/step - loss: 0.0056 - accuracy: 0.9952\n",
      "Epoch 199/200\n",
      "42/42 [==============================] - 0s 738us/step - loss: 0.0054 - accuracy: 0.9952\n",
      "Epoch 200/200\n",
      "42/42 [==============================] - 0s 714us/step - loss: 0.0054 - accuracy: 0.9952\n"
     ]
    },
    {
     "data": {
      "text/plain": [
       "<tensorflow.python.keras.callbacks.History at 0x23e5f24ef28>"
      ]
     },
     "execution_count": 52,
     "metadata": {},
     "output_type": "execute_result"
    }
   ],
   "source": [
    "  \n",
    "# 모델 실행\n",
    "model.fit([X], Y, epochs=200, batch_size=5)\n"
   ]
  },
  {
   "cell_type": "code",
   "execution_count": 53,
   "metadata": {},
   "outputs": [
    {
     "name": "stdout",
     "output_type": "stream",
     "text": [
      "7/7 [==============================] - 0s 714us/step - loss: 0.0054 - accuracy: 0.9952\n",
      "\n",
      " Accuracy: 0.9952\n"
     ]
    }
   ],
   "source": [
    "# 결과 출력\n",
    "print(\"\\n Accuracy: %.4f\" % (model.evaluate(X, Y)[1]))"
   ]
  },
  {
   "cell_type": "code",
   "execution_count": null,
   "metadata": {},
   "outputs": [],
   "source": []
  }
 ],
 "metadata": {
  "kernelspec": {
   "display_name": "Python 3",
   "language": "python",
   "name": "python3"
  },
  "language_info": {
   "codemirror_mode": {
    "name": "ipython",
    "version": 3
   },
   "file_extension": ".py",
   "mimetype": "text/x-python",
   "name": "python",
   "nbconvert_exporter": "python",
   "pygments_lexer": "ipython3",
   "version": "3.7.0"
  }
 },
 "nbformat": 4,
 "nbformat_minor": 2
}
