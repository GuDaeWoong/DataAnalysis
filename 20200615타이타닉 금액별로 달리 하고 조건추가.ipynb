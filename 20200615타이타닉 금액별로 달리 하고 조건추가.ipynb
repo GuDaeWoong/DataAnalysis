{
 "cells": [
  {
   "cell_type": "code",
   "execution_count": 1,
   "metadata": {},
   "outputs": [
    {
     "name": "stderr",
     "output_type": "stream",
     "text": [
      "In C:\\Users\\A\\Anaconda3\\lib\\site-packages\\matplotlib\\mpl-data\\stylelib\\_classic_test.mplstyle: \n",
      "The text.latex.unicode rcparam was deprecated in Matplotlib 3.0 and will be removed in 3.2.\n",
      "In C:\\Users\\A\\Anaconda3\\lib\\site-packages\\matplotlib\\mpl-data\\stylelib\\_classic_test.mplstyle: \n",
      "The savefig.frameon rcparam was deprecated in Matplotlib 3.1 and will be removed in 3.3.\n",
      "In C:\\Users\\A\\Anaconda3\\lib\\site-packages\\matplotlib\\mpl-data\\stylelib\\_classic_test.mplstyle: \n",
      "The pgf.debug rcparam was deprecated in Matplotlib 3.0 and will be removed in 3.2.\n",
      "In C:\\Users\\A\\Anaconda3\\lib\\site-packages\\matplotlib\\mpl-data\\stylelib\\_classic_test.mplstyle: \n",
      "The verbose.level rcparam was deprecated in Matplotlib 3.1 and will be removed in 3.3.\n",
      "In C:\\Users\\A\\Anaconda3\\lib\\site-packages\\matplotlib\\mpl-data\\stylelib\\_classic_test.mplstyle: \n",
      "The verbose.fileo rcparam was deprecated in Matplotlib 3.1 and will be removed in 3.3.\n"
     ]
    }
   ],
   "source": [
    "import pandas as pd\n",
    "import numpy as np\n",
    "import matplotlib.pyplot as plt\n",
    "from matplotlib import font_manager, rc\n",
    "plt.rcParams['axes.unicode_minus'] = False\n",
    "f_path = 'C:/Windows/Fonts/malgun.ttf' #윈도우\n",
    "font_name = font_manager.FontProperties(fname=f_path).get_name()\n",
    "rc('font',family=font_name)\n",
    "%matplotlib inline\n",
    "import warnings\n",
    "warnings.simplefilter(action='ignore', category = FutureWarning)"
   ]
  },
  {
   "cell_type": "code",
   "execution_count": 2,
   "metadata": {},
   "outputs": [
    {
     "data": {
      "text/html": [
       "<div>\n",
       "<style scoped>\n",
       "    .dataframe tbody tr th:only-of-type {\n",
       "        vertical-align: middle;\n",
       "    }\n",
       "\n",
       "    .dataframe tbody tr th {\n",
       "        vertical-align: top;\n",
       "    }\n",
       "\n",
       "    .dataframe thead th {\n",
       "        text-align: right;\n",
       "    }\n",
       "</style>\n",
       "<table border=\"1\" class=\"dataframe\">\n",
       "  <thead>\n",
       "    <tr style=\"text-align: right;\">\n",
       "      <th></th>\n",
       "      <th>PassengerId</th>\n",
       "      <th>Survived</th>\n",
       "      <th>Pclass</th>\n",
       "      <th>Name</th>\n",
       "      <th>Sex</th>\n",
       "      <th>Age</th>\n",
       "      <th>SibSp</th>\n",
       "      <th>Parch</th>\n",
       "      <th>Ticket</th>\n",
       "      <th>Fare</th>\n",
       "      <th>Cabin</th>\n",
       "      <th>Embarked</th>\n",
       "    </tr>\n",
       "  </thead>\n",
       "  <tbody>\n",
       "    <tr>\n",
       "      <th>0</th>\n",
       "      <td>1</td>\n",
       "      <td>0</td>\n",
       "      <td>3</td>\n",
       "      <td>Braund, Mr. Owen Harris</td>\n",
       "      <td>male</td>\n",
       "      <td>22.0</td>\n",
       "      <td>1</td>\n",
       "      <td>0</td>\n",
       "      <td>A/5 21171</td>\n",
       "      <td>7.2500</td>\n",
       "      <td>NaN</td>\n",
       "      <td>S</td>\n",
       "    </tr>\n",
       "    <tr>\n",
       "      <th>1</th>\n",
       "      <td>2</td>\n",
       "      <td>1</td>\n",
       "      <td>1</td>\n",
       "      <td>Cumings, Mrs. John Bradley (Florence Briggs Th...</td>\n",
       "      <td>female</td>\n",
       "      <td>38.0</td>\n",
       "      <td>1</td>\n",
       "      <td>0</td>\n",
       "      <td>PC 17599</td>\n",
       "      <td>71.2833</td>\n",
       "      <td>C85</td>\n",
       "      <td>C</td>\n",
       "    </tr>\n",
       "    <tr>\n",
       "      <th>2</th>\n",
       "      <td>3</td>\n",
       "      <td>1</td>\n",
       "      <td>3</td>\n",
       "      <td>Heikkinen, Miss. Laina</td>\n",
       "      <td>female</td>\n",
       "      <td>26.0</td>\n",
       "      <td>0</td>\n",
       "      <td>0</td>\n",
       "      <td>STON/O2. 3101282</td>\n",
       "      <td>7.9250</td>\n",
       "      <td>NaN</td>\n",
       "      <td>S</td>\n",
       "    </tr>\n",
       "    <tr>\n",
       "      <th>3</th>\n",
       "      <td>4</td>\n",
       "      <td>1</td>\n",
       "      <td>1</td>\n",
       "      <td>Futrelle, Mrs. Jacques Heath (Lily May Peel)</td>\n",
       "      <td>female</td>\n",
       "      <td>35.0</td>\n",
       "      <td>1</td>\n",
       "      <td>0</td>\n",
       "      <td>113803</td>\n",
       "      <td>53.1000</td>\n",
       "      <td>C123</td>\n",
       "      <td>S</td>\n",
       "    </tr>\n",
       "    <tr>\n",
       "      <th>4</th>\n",
       "      <td>5</td>\n",
       "      <td>0</td>\n",
       "      <td>3</td>\n",
       "      <td>Allen, Mr. William Henry</td>\n",
       "      <td>male</td>\n",
       "      <td>35.0</td>\n",
       "      <td>0</td>\n",
       "      <td>0</td>\n",
       "      <td>373450</td>\n",
       "      <td>8.0500</td>\n",
       "      <td>NaN</td>\n",
       "      <td>S</td>\n",
       "    </tr>\n",
       "  </tbody>\n",
       "</table>\n",
       "</div>"
      ],
      "text/plain": [
       "   PassengerId  Survived  Pclass  \\\n",
       "0            1         0       3   \n",
       "1            2         1       1   \n",
       "2            3         1       3   \n",
       "3            4         1       1   \n",
       "4            5         0       3   \n",
       "\n",
       "                                                Name     Sex   Age  SibSp  \\\n",
       "0                            Braund, Mr. Owen Harris    male  22.0      1   \n",
       "1  Cumings, Mrs. John Bradley (Florence Briggs Th...  female  38.0      1   \n",
       "2                             Heikkinen, Miss. Laina  female  26.0      0   \n",
       "3       Futrelle, Mrs. Jacques Heath (Lily May Peel)  female  35.0      1   \n",
       "4                           Allen, Mr. William Henry    male  35.0      0   \n",
       "\n",
       "   Parch            Ticket     Fare Cabin Embarked  \n",
       "0      0         A/5 21171   7.2500   NaN        S  \n",
       "1      0          PC 17599  71.2833   C85        C  \n",
       "2      0  STON/O2. 3101282   7.9250   NaN        S  \n",
       "3      0            113803  53.1000  C123        S  \n",
       "4      0            373450   8.0500   NaN        S  "
      ]
     },
     "execution_count": 2,
     "metadata": {},
     "output_type": "execute_result"
    }
   ],
   "source": [
    "train = pd.read_csv('../data/titanic/train.csv')\n",
    "test = pd.read_csv('../data/titanic/test.csv')\n",
    "#train = pd.concat([train.iloc[:,2:],test.iloc[:,1:]])\n",
    "train.head()"
   ]
  },
  {
   "cell_type": "markdown",
   "metadata": {},
   "source": []
  },
  {
   "cell_type": "markdown",
   "metadata": {},
   "source": [
    "Survived - 생존 여부 (0 = 사망, 1 = 생존)  \n",
    "Pclass - 티켓 클래스 (1 = 1등석, 2 = 2등석, 3 = 3등석)  \n",
    "Sex - 성별  \n",
    "Age - 나이  \n",
    "SibSp - 함께 탑승한 자녀 / 배우자 의 수  \n",
    "Parch - 함께 탑승한 부모님 / 아이들 의 수  \n",
    "Ticket - 티켓 번호  \n",
    "Fare - 탑승 요금  \n",
    "Cabin - 수하물 번호  \n",
    "Embarked - 선착장 (C = Cherbourg, Q = Queenstown, S = Southampton)  "
   ]
  },
  {
   "cell_type": "markdown",
   "metadata": {},
   "source": [
    "# Family"
   ]
  },
  {
   "cell_type": "code",
   "execution_count": 4,
   "metadata": {},
   "outputs": [],
   "source": [
    "train['Family'] = 1 + train['SibSp'] + train['Parch']\n",
    "test['Family'] = 1 + test['SibSp'] + test['Parch']"
   ]
  },
  {
   "cell_type": "code",
   "execution_count": 5,
   "metadata": {},
   "outputs": [],
   "source": [
    "train['Sex'] = train['Sex'].apply(lambda x : 0 if x=='female' else (1 if x=='male' else x))\n",
    "test['Sex'] = test['Sex'].apply(lambda x : 0 if x=='female' else (1 if x=='male' else x))"
   ]
  },
  {
   "cell_type": "markdown",
   "metadata": {},
   "source": [
    "# Solo"
   ]
  },
  {
   "cell_type": "code",
   "execution_count": 7,
   "metadata": {},
   "outputs": [],
   "source": [
    "train['Solo'] = (train['Family'] == 1)\n",
    "test['Solo'] = (test['Family'] == 1)"
   ]
  },
  {
   "cell_type": "code",
   "execution_count": 9,
   "metadata": {},
   "outputs": [],
   "source": [
    "train.loc[train['Solo'] == True,'Solo'] = 1\n",
    "train.loc[train['Solo'] == False,'Solo'] = 0\n",
    "test.loc[test['Solo'] == True,'Solo'] = 1\n",
    "test.loc[test['Solo'] == False,'Solo'] = 0"
   ]
  },
  {
   "cell_type": "code",
   "execution_count": 10,
   "metadata": {},
   "outputs": [],
   "source": [
    "conversion_nare = lambda x : x.split(',')[1].split('.')[0].strip()\n",
    "train['Title'] = train['Name'].map(conversion_nare)\n",
    "test['Title'] = test['Name'].map(conversion_nare)\n",
    "train['Title'] = train['Title'].replace(['Capt', 'Col', 'Countess', 'Don','Dona', 'Dr', 'Jonkheer',\n",
    "                                                 'Lady','Major', 'Rev', 'Sir','the Countess'], 'Other')\n",
    "train['Title'] = train['Title'].replace('Mlle', 'Miss')\n",
    "train['Title'] = train['Title'].replace('Mme', 'Mrs')\n",
    "train['Title'] = train['Title'].replace('Ms', 'Miss')\n",
    "test['Title'] = test['Title'].replace(['Capt', 'Col', 'Countess', 'Don','Dona', 'Dr', 'Jonkheer',\n",
    "                                                 'Lady','Major', 'Rev', 'Sir','the Countess'], 'Other')\n",
    "test['Title'] = test['Title'].replace('Mlle', 'Miss')\n",
    "test['Title'] = test['Title'].replace('Mme', 'Mrs')\n",
    "test['Title'] = test['Title'].replace('Ms', 'Miss')"
   ]
  },
  {
   "cell_type": "code",
   "execution_count": 11,
   "metadata": {},
   "outputs": [
    {
     "data": {
      "text/plain": [
       "array(['Mr', 'Mrs', 'Miss', 'Master', 'Other'], dtype=object)"
      ]
     },
     "execution_count": 11,
     "metadata": {},
     "output_type": "execute_result"
    }
   ],
   "source": [
    "train['Title'].unique()"
   ]
  },
  {
   "cell_type": "code",
   "execution_count": 12,
   "metadata": {},
   "outputs": [],
   "source": [
    "train['TitleCode'] = train['Title'].apply(lambda x : 0 if x=='Mr' else (1 if x=='Mrs' else (2 if x=='MIss' else(3 if x=='Master' else 4))))\n",
    "test['TitleCode'] = test['Title'].apply(lambda x : 0 if x=='Mr' else (1 if x=='Mrs' else (2 if x=='MIss' else(3 if x=='Master' else 4))))"
   ]
  },
  {
   "cell_type": "markdown",
   "metadata": {},
   "source": [
    "# FamilyName"
   ]
  },
  {
   "cell_type": "code",
   "execution_count": 13,
   "metadata": {},
   "outputs": [],
   "source": [
    "train['FamilyName'] = train['Name'].apply(lambda x : x.split(',')[0])\n",
    "test['FamilyName'] = test['Name'].apply(lambda x : x.split(',')[0])"
   ]
  },
  {
   "cell_type": "markdown",
   "metadata": {},
   "source": [
    "# Fare"
   ]
  },
  {
   "cell_type": "code",
   "execution_count": 15,
   "metadata": {},
   "outputs": [
    {
     "data": {
      "text/html": [
       "<div>\n",
       "<style scoped>\n",
       "    .dataframe tbody tr th:only-of-type {\n",
       "        vertical-align: middle;\n",
       "    }\n",
       "\n",
       "    .dataframe tbody tr th {\n",
       "        vertical-align: top;\n",
       "    }\n",
       "\n",
       "    .dataframe thead th {\n",
       "        text-align: right;\n",
       "    }\n",
       "</style>\n",
       "<table border=\"1\" class=\"dataframe\">\n",
       "  <thead>\n",
       "    <tr style=\"text-align: right;\">\n",
       "      <th></th>\n",
       "      <th>PassengerId</th>\n",
       "      <th>Pclass</th>\n",
       "      <th>Name</th>\n",
       "      <th>Sex</th>\n",
       "      <th>Age</th>\n",
       "      <th>SibSp</th>\n",
       "      <th>Parch</th>\n",
       "      <th>Ticket</th>\n",
       "      <th>Fare</th>\n",
       "      <th>Cabin</th>\n",
       "      <th>Embarked</th>\n",
       "      <th>Family</th>\n",
       "      <th>Solo</th>\n",
       "      <th>Title</th>\n",
       "      <th>TitleCode</th>\n",
       "      <th>FamilyName</th>\n",
       "    </tr>\n",
       "  </thead>\n",
       "  <tbody>\n",
       "    <tr>\n",
       "      <th>152</th>\n",
       "      <td>1044</td>\n",
       "      <td>3</td>\n",
       "      <td>Storey, Mr. Thomas</td>\n",
       "      <td>1</td>\n",
       "      <td>60.5</td>\n",
       "      <td>0</td>\n",
       "      <td>0</td>\n",
       "      <td>3701</td>\n",
       "      <td>NaN</td>\n",
       "      <td>NaN</td>\n",
       "      <td>S</td>\n",
       "      <td>1</td>\n",
       "      <td>1</td>\n",
       "      <td>Mr</td>\n",
       "      <td>0</td>\n",
       "      <td>Storey</td>\n",
       "    </tr>\n",
       "  </tbody>\n",
       "</table>\n",
       "</div>"
      ],
      "text/plain": [
       "     PassengerId  Pclass                Name  Sex   Age  SibSp  Parch Ticket  \\\n",
       "152         1044       3  Storey, Mr. Thomas    1  60.5      0      0   3701   \n",
       "\n",
       "     Fare Cabin Embarked  Family Solo Title  TitleCode FamilyName  \n",
       "152   NaN   NaN        S       1    1    Mr          0     Storey  "
      ]
     },
     "execution_count": 15,
     "metadata": {},
     "output_type": "execute_result"
    }
   ],
   "source": [
    "test[test['Fare'].isnull()]"
   ]
  },
  {
   "cell_type": "code",
   "execution_count": 30,
   "metadata": {},
   "outputs": [
    {
     "data": {
      "text/plain": [
       "7.875"
      ]
     },
     "execution_count": 30,
     "metadata": {},
     "output_type": "execute_result"
    }
   ],
   "source": [
    "test[(test['Title'] == 'Mr') & (test['Pclass'] == 3) & (test['Solo'] == True)& (test['Age'] >30)]['Fare'].median()"
   ]
  },
  {
   "cell_type": "code",
   "execution_count": 31,
   "metadata": {},
   "outputs": [],
   "source": [
    "test.loc[test['Fare'].isnull(),'Fare'] = 7.875"
   ]
  },
  {
   "cell_type": "code",
   "execution_count": 32,
   "metadata": {},
   "outputs": [
    {
     "data": {
      "text/html": [
       "<div>\n",
       "<style scoped>\n",
       "    .dataframe tbody tr th:only-of-type {\n",
       "        vertical-align: middle;\n",
       "    }\n",
       "\n",
       "    .dataframe tbody tr th {\n",
       "        vertical-align: top;\n",
       "    }\n",
       "\n",
       "    .dataframe thead th {\n",
       "        text-align: right;\n",
       "    }\n",
       "</style>\n",
       "<table border=\"1\" class=\"dataframe\">\n",
       "  <thead>\n",
       "    <tr style=\"text-align: right;\">\n",
       "      <th></th>\n",
       "      <th>PassengerId</th>\n",
       "      <th>Pclass</th>\n",
       "      <th>Name</th>\n",
       "      <th>Sex</th>\n",
       "      <th>Age</th>\n",
       "      <th>SibSp</th>\n",
       "      <th>Parch</th>\n",
       "      <th>Ticket</th>\n",
       "      <th>Fare</th>\n",
       "      <th>Cabin</th>\n",
       "      <th>Embarked</th>\n",
       "      <th>Family</th>\n",
       "      <th>Solo</th>\n",
       "      <th>Title</th>\n",
       "      <th>TitleCode</th>\n",
       "      <th>FamilyName</th>\n",
       "    </tr>\n",
       "  </thead>\n",
       "  <tbody>\n",
       "    <tr>\n",
       "      <th>152</th>\n",
       "      <td>1044</td>\n",
       "      <td>3</td>\n",
       "      <td>Storey, Mr. Thomas</td>\n",
       "      <td>1</td>\n",
       "      <td>60.5</td>\n",
       "      <td>0</td>\n",
       "      <td>0</td>\n",
       "      <td>3701</td>\n",
       "      <td>7.875</td>\n",
       "      <td>NaN</td>\n",
       "      <td>S</td>\n",
       "      <td>1</td>\n",
       "      <td>1</td>\n",
       "      <td>Mr</td>\n",
       "      <td>0</td>\n",
       "      <td>Storey</td>\n",
       "    </tr>\n",
       "  </tbody>\n",
       "</table>\n",
       "</div>"
      ],
      "text/plain": [
       "     PassengerId  Pclass                Name  Sex   Age  SibSp  Parch Ticket  \\\n",
       "152         1044       3  Storey, Mr. Thomas    1  60.5      0      0   3701   \n",
       "\n",
       "      Fare Cabin Embarked  Family Solo Title  TitleCode FamilyName  \n",
       "152  7.875   NaN        S       1    1    Mr          0     Storey  "
      ]
     },
     "execution_count": 32,
     "metadata": {},
     "output_type": "execute_result"
    }
   ],
   "source": [
    "test[test.PassengerId == 1044]"
   ]
  },
  {
   "cell_type": "markdown",
   "metadata": {},
   "source": [
    "train['FareBin'] = pd.qcut(train['Fare'],5)\n",
    "test['FareBin'] = pd.qcut(test['Fare'],5)"
   ]
  },
  {
   "cell_type": "markdown",
   "metadata": {},
   "source": [
    "pd.qcut(train['Fare'],5)"
   ]
  },
  {
   "cell_type": "code",
   "execution_count": 38,
   "metadata": {},
   "outputs": [
    {
     "data": {
      "text/html": [
       "<div>\n",
       "<style scoped>\n",
       "    .dataframe tbody tr th:only-of-type {\n",
       "        vertical-align: middle;\n",
       "    }\n",
       "\n",
       "    .dataframe tbody tr th {\n",
       "        vertical-align: top;\n",
       "    }\n",
       "\n",
       "    .dataframe thead th {\n",
       "        text-align: right;\n",
       "    }\n",
       "</style>\n",
       "<table border=\"1\" class=\"dataframe\">\n",
       "  <thead>\n",
       "    <tr style=\"text-align: right;\">\n",
       "      <th></th>\n",
       "      <th>PassengerId</th>\n",
       "      <th>Survived</th>\n",
       "      <th>Pclass</th>\n",
       "      <th>Name</th>\n",
       "      <th>Sex</th>\n",
       "      <th>Age</th>\n",
       "      <th>SibSp</th>\n",
       "      <th>Parch</th>\n",
       "      <th>Ticket</th>\n",
       "      <th>Fare</th>\n",
       "      <th>Cabin</th>\n",
       "      <th>Embarked</th>\n",
       "      <th>Family</th>\n",
       "      <th>Solo</th>\n",
       "      <th>Title</th>\n",
       "      <th>TitleCode</th>\n",
       "      <th>FamilyName</th>\n",
       "    </tr>\n",
       "  </thead>\n",
       "  <tbody>\n",
       "    <tr>\n",
       "      <th>0</th>\n",
       "      <td>1</td>\n",
       "      <td>0</td>\n",
       "      <td>3</td>\n",
       "      <td>Braund, Mr. Owen Harris</td>\n",
       "      <td>1</td>\n",
       "      <td>22.0</td>\n",
       "      <td>1</td>\n",
       "      <td>0</td>\n",
       "      <td>A/5 21171</td>\n",
       "      <td>7.2500</td>\n",
       "      <td>NaN</td>\n",
       "      <td>S</td>\n",
       "      <td>2</td>\n",
       "      <td>0</td>\n",
       "      <td>Mr</td>\n",
       "      <td>0</td>\n",
       "      <td>Braund</td>\n",
       "    </tr>\n",
       "    <tr>\n",
       "      <th>1</th>\n",
       "      <td>2</td>\n",
       "      <td>1</td>\n",
       "      <td>1</td>\n",
       "      <td>Cumings, Mrs. John Bradley (Florence Briggs Th...</td>\n",
       "      <td>0</td>\n",
       "      <td>38.0</td>\n",
       "      <td>1</td>\n",
       "      <td>0</td>\n",
       "      <td>PC 17599</td>\n",
       "      <td>71.2833</td>\n",
       "      <td>C85</td>\n",
       "      <td>C</td>\n",
       "      <td>2</td>\n",
       "      <td>0</td>\n",
       "      <td>Mrs</td>\n",
       "      <td>1</td>\n",
       "      <td>Cumings</td>\n",
       "    </tr>\n",
       "    <tr>\n",
       "      <th>3</th>\n",
       "      <td>4</td>\n",
       "      <td>1</td>\n",
       "      <td>1</td>\n",
       "      <td>Futrelle, Mrs. Jacques Heath (Lily May Peel)</td>\n",
       "      <td>0</td>\n",
       "      <td>35.0</td>\n",
       "      <td>1</td>\n",
       "      <td>0</td>\n",
       "      <td>113803</td>\n",
       "      <td>53.1000</td>\n",
       "      <td>C123</td>\n",
       "      <td>S</td>\n",
       "      <td>2</td>\n",
       "      <td>0</td>\n",
       "      <td>Mrs</td>\n",
       "      <td>1</td>\n",
       "      <td>Futrelle</td>\n",
       "    </tr>\n",
       "  </tbody>\n",
       "</table>\n",
       "</div>"
      ],
      "text/plain": [
       "   PassengerId  Survived  Pclass  \\\n",
       "0            1         0       3   \n",
       "1            2         1       1   \n",
       "3            4         1       1   \n",
       "\n",
       "                                                Name  Sex   Age  SibSp  Parch  \\\n",
       "0                            Braund, Mr. Owen Harris    1  22.0      1      0   \n",
       "1  Cumings, Mrs. John Bradley (Florence Briggs Th...    0  38.0      1      0   \n",
       "3       Futrelle, Mrs. Jacques Heath (Lily May Peel)    0  35.0      1      0   \n",
       "\n",
       "      Ticket     Fare Cabin Embarked  Family Solo Title  TitleCode FamilyName  \n",
       "0  A/5 21171   7.2500   NaN        S       2    0    Mr          0     Braund  \n",
       "1   PC 17599  71.2833   C85        C       2    0   Mrs          1    Cumings  \n",
       "3     113803  53.1000  C123        S       2    0   Mrs          1   Futrelle  "
      ]
     },
     "execution_count": 38,
     "metadata": {},
     "output_type": "execute_result"
    }
   ],
   "source": [
    "train[train.Family==2].head(3)"
   ]
  },
  {
   "cell_type": "code",
   "execution_count": 43,
   "metadata": {},
   "outputs": [
    {
     "data": {
      "text/html": [
       "<div>\n",
       "<style scoped>\n",
       "    .dataframe tbody tr th:only-of-type {\n",
       "        vertical-align: middle;\n",
       "    }\n",
       "\n",
       "    .dataframe tbody tr th {\n",
       "        vertical-align: top;\n",
       "    }\n",
       "\n",
       "    .dataframe thead th {\n",
       "        text-align: right;\n",
       "    }\n",
       "</style>\n",
       "<table border=\"1\" class=\"dataframe\">\n",
       "  <thead>\n",
       "    <tr style=\"text-align: right;\">\n",
       "      <th></th>\n",
       "      <th>PassengerId</th>\n",
       "      <th>Survived</th>\n",
       "      <th>Pclass</th>\n",
       "      <th>Name</th>\n",
       "      <th>Sex</th>\n",
       "      <th>Age</th>\n",
       "      <th>SibSp</th>\n",
       "      <th>Parch</th>\n",
       "      <th>Ticket</th>\n",
       "      <th>Fare</th>\n",
       "      <th>Cabin</th>\n",
       "      <th>Embarked</th>\n",
       "      <th>Family</th>\n",
       "      <th>Solo</th>\n",
       "      <th>Title</th>\n",
       "      <th>TitleCode</th>\n",
       "      <th>FamilyName</th>\n",
       "    </tr>\n",
       "  </thead>\n",
       "  <tbody>\n",
       "    <tr>\n",
       "      <th>0</th>\n",
       "      <td>1</td>\n",
       "      <td>0</td>\n",
       "      <td>3</td>\n",
       "      <td>Braund, Mr. Owen Harris</td>\n",
       "      <td>1</td>\n",
       "      <td>22.0</td>\n",
       "      <td>1</td>\n",
       "      <td>0</td>\n",
       "      <td>A/5 21171</td>\n",
       "      <td>7.25</td>\n",
       "      <td>NaN</td>\n",
       "      <td>S</td>\n",
       "      <td>2</td>\n",
       "      <td>0</td>\n",
       "      <td>Mr</td>\n",
       "      <td>0</td>\n",
       "      <td>Braund</td>\n",
       "    </tr>\n",
       "  </tbody>\n",
       "</table>\n",
       "</div>"
      ],
      "text/plain": [
       "   PassengerId  Survived  Pclass                     Name  Sex   Age  SibSp  \\\n",
       "0            1         0       3  Braund, Mr. Owen Harris    1  22.0      1   \n",
       "\n",
       "   Parch     Ticket  Fare Cabin Embarked  Family Solo Title  TitleCode  \\\n",
       "0      0  A/5 21171  7.25   NaN        S       2    0    Mr          0   \n",
       "\n",
       "  FamilyName  \n",
       "0     Braund  "
      ]
     },
     "execution_count": 43,
     "metadata": {},
     "output_type": "execute_result"
    }
   ],
   "source": [
    "train[train.Family==2].head(1)"
   ]
  },
  {
   "cell_type": "code",
   "execution_count": null,
   "metadata": {},
   "outputs": [],
   "source": [
    "train[train.Family==2].head(1)"
   ]
  },
  {
   "cell_type": "code",
   "execution_count": 49,
   "metadata": {},
   "outputs": [
    {
     "name": "stdout",
     "output_type": "stream",
     "text": [
      "<class 'pandas.core.frame.DataFrame'>\n",
      "RangeIndex: 891 entries, 0 to 890\n",
      "Data columns (total 17 columns):\n",
      " #   Column       Non-Null Count  Dtype  \n",
      "---  ------       --------------  -----  \n",
      " 0   PassengerId  891 non-null    int64  \n",
      " 1   Survived     891 non-null    int64  \n",
      " 2   Pclass       891 non-null    int64  \n",
      " 3   Name         891 non-null    object \n",
      " 4   Sex          891 non-null    int64  \n",
      " 5   Age          714 non-null    float64\n",
      " 6   SibSp        891 non-null    int64  \n",
      " 7   Parch        891 non-null    int64  \n",
      " 8   Ticket       891 non-null    object \n",
      " 9   Fare         891 non-null    float64\n",
      " 10  Cabin        204 non-null    object \n",
      " 11  Embarked     889 non-null    object \n",
      " 12  Family       891 non-null    int64  \n",
      " 13  Solo         891 non-null    object \n",
      " 14  Title        891 non-null    object \n",
      " 15  TitleCode    891 non-null    int64  \n",
      " 16  FamilyName   891 non-null    object \n",
      "dtypes: float64(2), int64(8), object(7)\n",
      "memory usage: 118.5+ KB\n"
     ]
    }
   ],
   "source": [
    "train.info()"
   ]
  },
  {
   "cell_type": "code",
   "execution_count": 63,
   "metadata": {},
   "outputs": [],
   "source": [
    "Fare_1=[]\n",
    "for i in range(len(train)):\n",
    "    if(train.Family[i]==1):\n",
    "        Fare_1.append(train.Fare[i])\n",
    "    elif(train.Family[i]==2):\n",
    "        Fare_1.append(train.Fare[i]/2)\n",
    "    elif(train.Family[i]==3):\n",
    "        Fare_1.append(train.Fare[i]/3)\n",
    "    elif(train.Family[i]==4):\n",
    "        Fare_1.append(train.Fare[i]/4)\n",
    "    elif(train.Family[i]==5):\n",
    "        Fare_1.append(train.Fare[i]/5)\n",
    "    elif(train.Family[i]==6):\n",
    "        Fare_1.append(train.Fare[i]/6)\n",
    "    elif(train.Family[i]==7):\n",
    "        Fare_1.append(train.Fare[i]/7)\n",
    "    elif(train.Family[i]==8):\n",
    "        Fare_1.append(train.Fare[i]/8)\n",
    "    elif(train.Family[i]==9):\n",
    "        Fare_1.append(train.Fare[i]/9)\n",
    "    elif(train.Family[i]==10):\n",
    "        Fare_1.append(train.Fare[i]/10)\n",
    "    else:\n",
    "        Fare_1.append(train.Fare[i]/11)\n",
    "train[\"Fare_1\"]=Fare_1"
   ]
  },
  {
   "cell_type": "code",
   "execution_count": 65,
   "metadata": {},
   "outputs": [],
   "source": [
    "Fare_1=[]\n",
    "for i in range(len(test)):\n",
    "    if(test.Family[i]==1):\n",
    "        Fare_1.append(test.Fare[i])\n",
    "    elif(test.Family[i]==2):\n",
    "        Fare_1.append(test.Fare[i]/2)\n",
    "    elif(test.Family[i]==3):\n",
    "        Fare_1.append(test.Fare[i]/3)\n",
    "    elif(test.Family[i]==4):\n",
    "        Fare_1.append(test.Fare[i]/4)\n",
    "    elif(test.Family[i]==5):\n",
    "        Fare_1.append(test.Fare[i]/5)\n",
    "    elif(test.Family[i]==6):\n",
    "        Fare_1.append(test.Fare[i]/6)\n",
    "    elif(test.Family[i]==7):\n",
    "        Fare_1.append(test.Fare[i]/7)\n",
    "    elif(test.Family[i]==8):\n",
    "        Fare_1.append(test.Fare[i]/8)\n",
    "    elif(test.Family[i]==9):\n",
    "        Fare_1.append(test.Fare[i]/9)\n",
    "    elif(test.Family[i]==10):\n",
    "        Fare_1.append(test.Fare[i]/10)\n",
    "    else:\n",
    "        Fare_1.append(test.Fare[i]/11)\n",
    "test[\"Fare_1\"]=Fare_1"
   ]
  },
  {
   "cell_type": "markdown",
   "metadata": {},
   "source": [
    "# Age"
   ]
  },
  {
   "cell_type": "code",
   "execution_count": 82,
   "metadata": {},
   "outputs": [
    {
     "data": {
      "text/plain": [
       "Title\n",
       "Master     3.5\n",
       "Miss      21.0\n",
       "Mr        30.0\n",
       "Mrs       35.0\n",
       "Other     48.5\n",
       "Name: Age, dtype: float64"
      ]
     },
     "execution_count": 82,
     "metadata": {},
     "output_type": "execute_result"
    }
   ],
   "source": [
    "train.groupby('Title')['Age'].median()"
   ]
  },
  {
   "cell_type": "code",
   "execution_count": 83,
   "metadata": {},
   "outputs": [
    {
     "data": {
      "text/plain": [
       "{'Master': 3.5, 'Miss': 21.0, 'Mr': 30.0, 'Mrs': 35.0, 'Other': 48.5}"
      ]
     },
     "execution_count": 83,
     "metadata": {},
     "output_type": "execute_result"
    }
   ],
   "source": [
    "Age_map = dict(train.groupby('Title')['Age'].median())\n",
    "Age_map"
   ]
  },
  {
   "cell_type": "code",
   "execution_count": 84,
   "metadata": {},
   "outputs": [],
   "source": [
    "#for k in Age_map.keys():\n",
    "#    train.loc[(train.Title == k) & (train.Age.isnull()),'Age'] = Age_map[k]\n",
    "train['Age'].fillna(train.groupby('Title')['Age'].transform('median'), inplace=True)"
   ]
  },
  {
   "cell_type": "code",
   "execution_count": 85,
   "metadata": {},
   "outputs": [
    {
     "data": {
      "text/plain": [
       "{'Master': 7.0, 'Miss': 22.0, 'Mr': 28.5, 'Mrs': 36.5, 'Other': 44.0}"
      ]
     },
     "execution_count": 85,
     "metadata": {},
     "output_type": "execute_result"
    }
   ],
   "source": [
    "Age_map = dict(test.groupby('Title')['Age'].median())\n",
    "Age_map"
   ]
  },
  {
   "cell_type": "code",
   "execution_count": 86,
   "metadata": {},
   "outputs": [],
   "source": [
    "#for k in Age_map.keys():\n",
    "#    test.loc[(test.Title == k) & (test.Age.isnull()),'Age'] = Age_map[k]\n",
    "test['Age'].fillna(test.groupby('Title')['Age'].transform('median'), inplace=True)"
   ]
  },
  {
   "cell_type": "code",
   "execution_count": 88,
   "metadata": {},
   "outputs": [],
   "source": [
    "train.loc[train.Age < 10,'AgeCode'] = 0\n",
    "train.loc[(train.Age >= 10) & (train.Age < 16),'AgeCode'] = 1\n",
    "train.loc[(train.Age >= 16) & (train.Age < 20),'AgeCode'] = 2\n",
    "train.loc[(train.Age >= 20) & (train.Age < 26),'AgeCode'] = 3\n",
    "train.loc[(train.Age >= 26) & (train.Age < 30),'AgeCode'] = 4\n",
    "train.loc[(train.Age >= 30) & (train.Age < 36),'AgeCode'] = 5\n",
    "train.loc[(train.Age >= 36) & (train.Age < 40),'AgeCode'] = 6\n",
    "train.loc[(train.Age >= 40) & (train.Age < 46),'AgeCode'] = 7\n",
    "train.loc[(train.Age >= 46) & (train.Age < 50),'AgeCode'] = 8\n",
    "train.loc[(train.Age >= 50) & (train.Age < 60),'AgeCode'] = 9\n",
    "train.loc[train.Age >= 60,'AgeCode'] = 10\n",
    "\n",
    "test.loc[test.Age < 10,'AgeCode'] = 0\n",
    "test.loc[(test.Age >= 10) & (test.Age < 16),'AgeCode'] = 1\n",
    "test.loc[(test.Age >= 16) & (test.Age < 20),'AgeCode'] = 2\n",
    "test.loc[(test.Age >= 20) & (test.Age < 26),'AgeCode'] = 3\n",
    "test.loc[(test.Age >= 26) & (test.Age < 30),'AgeCode'] = 4\n",
    "test.loc[(test.Age >= 30) & (test.Age < 36),'AgeCode'] = 5\n",
    "test.loc[(test.Age >= 36) & (test.Age < 40),'AgeCode'] = 6\n",
    "test.loc[(test.Age >= 40) & (test.Age < 46),'AgeCode'] = 7\n",
    "test.loc[(test.Age >= 46) & (test.Age < 50),'AgeCode'] = 8\n",
    "test.loc[(test.Age >= 50) & (test.Age < 60),'AgeCode'] = 9\n",
    "test.loc[test.Age >= 60,'AgeCode'] = 10"
   ]
  },
  {
   "cell_type": "code",
   "execution_count": 92,
   "metadata": {},
   "outputs": [],
   "source": [
    "train_1=train[[\"Pclass\",\"Sex\",\"Age\",\"Fare_1\"]]\n",
    "test_1=test[[\"Pclass\",\"Sex\",\"Age\",\"Fare_1\"]]"
   ]
  },
  {
   "cell_type": "code",
   "execution_count": 81,
   "metadata": {},
   "outputs": [
    {
     "data": {
      "text/plain": [
       "Pclass    False\n",
       "Sex       False\n",
       "Age        True\n",
       "Fare_1    False\n",
       "dtype: bool"
      ]
     },
     "execution_count": 81,
     "metadata": {},
     "output_type": "execute_result"
    }
   ],
   "source": [
    "test_1.isnull().any()"
   ]
  },
  {
   "cell_type": "code",
   "execution_count": 158,
   "metadata": {},
   "outputs": [
    {
     "data": {
      "text/html": [
       "<div>\n",
       "<style scoped>\n",
       "    .dataframe tbody tr th:only-of-type {\n",
       "        vertical-align: middle;\n",
       "    }\n",
       "\n",
       "    .dataframe tbody tr th {\n",
       "        vertical-align: top;\n",
       "    }\n",
       "\n",
       "    .dataframe thead th {\n",
       "        text-align: right;\n",
       "    }\n",
       "</style>\n",
       "<table border=\"1\" class=\"dataframe\">\n",
       "  <thead>\n",
       "    <tr style=\"text-align: right;\">\n",
       "      <th></th>\n",
       "      <th>Pclass</th>\n",
       "      <th>Sex</th>\n",
       "      <th>Age</th>\n",
       "      <th>Fare_1</th>\n",
       "    </tr>\n",
       "  </thead>\n",
       "  <tbody>\n",
       "    <tr>\n",
       "      <th>0</th>\n",
       "      <td>3</td>\n",
       "      <td>1</td>\n",
       "      <td>34.5</td>\n",
       "      <td>7.829200</td>\n",
       "    </tr>\n",
       "    <tr>\n",
       "      <th>1</th>\n",
       "      <td>3</td>\n",
       "      <td>0</td>\n",
       "      <td>47.0</td>\n",
       "      <td>3.500000</td>\n",
       "    </tr>\n",
       "    <tr>\n",
       "      <th>2</th>\n",
       "      <td>2</td>\n",
       "      <td>1</td>\n",
       "      <td>62.0</td>\n",
       "      <td>9.687500</td>\n",
       "    </tr>\n",
       "    <tr>\n",
       "      <th>3</th>\n",
       "      <td>3</td>\n",
       "      <td>1</td>\n",
       "      <td>27.0</td>\n",
       "      <td>8.662500</td>\n",
       "    </tr>\n",
       "    <tr>\n",
       "      <th>4</th>\n",
       "      <td>3</td>\n",
       "      <td>0</td>\n",
       "      <td>22.0</td>\n",
       "      <td>4.095833</td>\n",
       "    </tr>\n",
       "    <tr>\n",
       "      <th>...</th>\n",
       "      <td>...</td>\n",
       "      <td>...</td>\n",
       "      <td>...</td>\n",
       "      <td>...</td>\n",
       "    </tr>\n",
       "    <tr>\n",
       "      <th>413</th>\n",
       "      <td>3</td>\n",
       "      <td>1</td>\n",
       "      <td>28.5</td>\n",
       "      <td>8.050000</td>\n",
       "    </tr>\n",
       "    <tr>\n",
       "      <th>414</th>\n",
       "      <td>1</td>\n",
       "      <td>0</td>\n",
       "      <td>39.0</td>\n",
       "      <td>108.900000</td>\n",
       "    </tr>\n",
       "    <tr>\n",
       "      <th>415</th>\n",
       "      <td>3</td>\n",
       "      <td>1</td>\n",
       "      <td>38.5</td>\n",
       "      <td>7.250000</td>\n",
       "    </tr>\n",
       "    <tr>\n",
       "      <th>416</th>\n",
       "      <td>3</td>\n",
       "      <td>1</td>\n",
       "      <td>28.5</td>\n",
       "      <td>8.050000</td>\n",
       "    </tr>\n",
       "    <tr>\n",
       "      <th>417</th>\n",
       "      <td>3</td>\n",
       "      <td>1</td>\n",
       "      <td>7.0</td>\n",
       "      <td>7.452767</td>\n",
       "    </tr>\n",
       "  </tbody>\n",
       "</table>\n",
       "<p>418 rows × 4 columns</p>\n",
       "</div>"
      ],
      "text/plain": [
       "     Pclass  Sex   Age      Fare_1\n",
       "0         3    1  34.5    7.829200\n",
       "1         3    0  47.0    3.500000\n",
       "2         2    1  62.0    9.687500\n",
       "3         3    1  27.0    8.662500\n",
       "4         3    0  22.0    4.095833\n",
       "..      ...  ...   ...         ...\n",
       "413       3    1  28.5    8.050000\n",
       "414       1    0  39.0  108.900000\n",
       "415       3    1  38.5    7.250000\n",
       "416       3    1  28.5    8.050000\n",
       "417       3    1   7.0    7.452767\n",
       "\n",
       "[418 rows x 4 columns]"
      ]
     },
     "execution_count": 158,
     "metadata": {},
     "output_type": "execute_result"
    }
   ],
   "source": [
    "test_1"
   ]
  },
  {
   "cell_type": "code",
   "execution_count": 168,
   "metadata": {
    "scrolled": true
   },
   "outputs": [
    {
     "name": "stdout",
     "output_type": "stream",
     "text": [
      "훈련 세트 정확도 : 0.87\n"
     ]
    },
    {
     "name": "stderr",
     "output_type": "stream",
     "text": [
      "C:\\Users\\A\\Anaconda3\\lib\\site-packages\\ipykernel_launcher.py:3: DataConversionWarning: A column-vector y was passed when a 1d array was expected. Please change the shape of y to (n_samples,), for example using ravel().\n",
      "  This is separate from the ipykernel package so we can avoid doing imports until\n"
     ]
    }
   ],
   "source": [
    "from sklearn.ensemble import RandomForestClassifier\n",
    "forest = RandomForestClassifier(n_estimators=50,max_depth=6,random_state=0)\n",
    "forest.fit(train_1,train[[\"Survived\"]])\n",
    "print(\"훈련 세트 정확도 : {:.2f}\".format(forest.score(train_1,train[[\"Survived\"]])))"
   ]
  },
  {
   "cell_type": "code",
   "execution_count": 95,
   "metadata": {},
   "outputs": [
    {
     "data": {
      "text/plain": [
       "array([0.12582031, 0.46751473, 0.1749506 , 0.23171436])"
      ]
     },
     "execution_count": 95,
     "metadata": {},
     "output_type": "execute_result"
    }
   ],
   "source": [
    "forest.feature_importances_"
   ]
  },
  {
   "cell_type": "code",
   "execution_count": 169,
   "metadata": {},
   "outputs": [],
   "source": [
    "forest_submission = pd.DataFrame({\n",
    "    \"PassengerId\": test[\"PassengerId\"],\n",
    "    \"Survived\": forest.predict(test_1)\n",
    "})\n",
    "forest_submission.to_csv(\"../data/gender_submission_30.csv\", index=False)"
   ]
  },
  {
   "cell_type": "code",
   "execution_count": null,
   "metadata": {},
   "outputs": [],
   "source": []
  },
  {
   "cell_type": "code",
   "execution_count": 170,
   "metadata": {},
   "outputs": [
    {
     "name": "stdout",
     "output_type": "stream",
     "text": [
      "훈련 세트 정확도 : 0.79\n"
     ]
    },
    {
     "name": "stderr",
     "output_type": "stream",
     "text": [
      "C:\\Users\\A\\Anaconda3\\lib\\site-packages\\sklearn\\utils\\validation.py:73: DataConversionWarning: A column-vector y was passed when a 1d array was expected. Please change the shape of y to (n_samples, ), for example using ravel().\n",
      "  return f(**kwargs)\n"
     ]
    }
   ],
   "source": [
    "from sklearn.svm import SVC\n",
    "svc=SVC(C=100).fit(train_1,train[[\"Survived\"]])\n",
    "print(\"훈련 세트 정확도 : {:.2f}\".format(svc.score(train_1,train[[\"Survived\"]])))\n",
    "#0.76076"
   ]
  },
  {
   "cell_type": "code",
   "execution_count": 171,
   "metadata": {},
   "outputs": [],
   "source": [
    "forest_submission = pd.DataFrame({\n",
    "    \"PassengerId\": test[\"PassengerId\"],\n",
    "    \"Survived\": svc.predict(test_1)\n",
    "})\n",
    "forest_submission.to_csv(\"../data/gender_submission_31.csv\", index=False)"
   ]
  },
  {
   "cell_type": "code",
   "execution_count": 172,
   "metadata": {},
   "outputs": [
    {
     "name": "stderr",
     "output_type": "stream",
     "text": [
      "C:\\Users\\A\\Anaconda3\\lib\\site-packages\\sklearn\\utils\\validation.py:73: DataConversionWarning: A column-vector y was passed when a 1d array was expected. Please change the shape of y to (n_samples, ), for example using ravel().\n",
      "  return f(**kwargs)\n"
     ]
    },
    {
     "name": "stdout",
     "output_type": "stream",
     "text": [
      "훈련 세트 정확도 : 0.882\n"
     ]
    }
   ],
   "source": [
    "from sklearn.ensemble import GradientBoostingClassifier\n",
    "gbrt = GradientBoostingClassifier(n_estimators=1000,random_state=0,max_depth=3,learning_rate=0.01)\n",
    "gbrt.fit(train_1,train[[\"Survived\"]])\n",
    "print(\"훈련 세트 정확도 : {:.3f}\".format(gbrt.score(train_1,train[[\"Survived\"]])))\n",
    "#0.72727"
   ]
  },
  {
   "cell_type": "code",
   "execution_count": 173,
   "metadata": {},
   "outputs": [],
   "source": [
    "forest_submission = pd.DataFrame({\n",
    "    \"PassengerId\": test[\"PassengerId\"],\n",
    "    \"Survived\": gbrt.predict(test_1)\n",
    "})\n",
    "forest_submission.to_csv(\"../data/gender_submission_32.csv\", index=False)"
   ]
  },
  {
   "cell_type": "code",
   "execution_count": 178,
   "metadata": {},
   "outputs": [
    {
     "name": "stdout",
     "output_type": "stream",
     "text": [
      "훈련 세트 점수: 0.906\n"
     ]
    },
    {
     "name": "stderr",
     "output_type": "stream",
     "text": [
      "C:\\Users\\A\\Anaconda3\\lib\\site-packages\\ipykernel_launcher.py:3: DataConversionWarning: A column-vector y was passed when a 1d array was expected. Please change the shape of y to (n_samples,), for example using ravel().\n",
      "  This is separate from the ipykernel package so we can avoid doing imports until\n"
     ]
    }
   ],
   "source": [
    "from sklearn.ensemble import ExtraTreesClassifier\n",
    "extra_clf = ExtraTreesClassifier(n_estimators=100, max_leaf_nodes=100)\n",
    "extra_clf.fit(train_1,train[[\"Survived\"]])\n",
    "print(\"훈련 세트 점수: {:.3f}\".format(extra_clf.score(train_1,train[[\"Survived\"]])))\n",
    "#0.75598"
   ]
  },
  {
   "cell_type": "code",
   "execution_count": 179,
   "metadata": {},
   "outputs": [],
   "source": [
    "forest_submission = pd.DataFrame({\n",
    "    \"PassengerId\": test[\"PassengerId\"],\n",
    "    \"Survived\": extra_clf.predict(test_1)\n",
    "})\n",
    "forest_submission.to_csv(\"../data/gender_submission_33.csv\", index=False)"
   ]
  },
  {
   "cell_type": "code",
   "execution_count": 180,
   "metadata": {},
   "outputs": [
    {
     "name": "stdout",
     "output_type": "stream",
     "text": [
      "훈련 세트 점수: 0.920\n"
     ]
    },
    {
     "name": "stderr",
     "output_type": "stream",
     "text": [
      "C:\\Users\\A\\Anaconda3\\lib\\site-packages\\ipykernel_launcher.py:3: DataConversionWarning: A column-vector y was passed when a 1d array was expected. Please change the shape of y to (n_samples,), for example using ravel().\n",
      "  This is separate from the ipykernel package so we can avoid doing imports until\n"
     ]
    }
   ],
   "source": [
    "from sklearn.ensemble import ExtraTreesClassifier\n",
    "extra_clf = ExtraTreesClassifier()\n",
    "extra_clf.fit(train_1,train[[\"Survived\"]])\n",
    "print(\"훈련 세트 점수: {:.3f}\".format(extra_clf.score(train_1,train[[\"Survived\"]])))\n",
    "#0.70813"
   ]
  },
  {
   "cell_type": "code",
   "execution_count": 181,
   "metadata": {},
   "outputs": [],
   "source": [
    "forest_submission = pd.DataFrame({\n",
    "    \"PassengerId\": test[\"PassengerId\"],\n",
    "    \"Survived\": extra_clf.predict(test_1)\n",
    "})\n",
    "forest_submission.to_csv(\"../data/gender_submission_34.csv\", index=False)\n",
    "#"
   ]
  },
  {
   "cell_type": "code",
   "execution_count": 182,
   "metadata": {},
   "outputs": [
    {
     "name": "stderr",
     "output_type": "stream",
     "text": [
      "C:\\Users\\A\\Anaconda3\\lib\\site-packages\\sklearn\\utils\\validation.py:73: DataConversionWarning: A column-vector y was passed when a 1d array was expected. Please change the shape of y to (n_samples, ), for example using ravel().\n",
      "  return f(**kwargs)\n"
     ]
    },
    {
     "name": "stdout",
     "output_type": "stream",
     "text": [
      "훈련 세트 점수: 0.878\n"
     ]
    }
   ],
   "source": [
    "from sklearn.tree import  DecisionTreeClassifier\n",
    "from sklearn.ensemble import AdaBoostClassifier\n",
    "ada_clf = AdaBoostClassifier(\n",
    "    DecisionTreeClassifier(max_depth=1), n_estimators=1000, \n",
    "    algorithm=\"SAMME.R\", learning_rate=1)\n",
    "ada_clf.fit(train_1,train[[\"Survived\"]])\n",
    "print(\"훈련 세트 점수: {:.3f}\".format(ada_clf.score(train_1,train[[\"Survived\"]])))\n",
    "#0.75119"
   ]
  },
  {
   "cell_type": "code",
   "execution_count": 183,
   "metadata": {},
   "outputs": [],
   "source": [
    "forest_submission = pd.DataFrame({\n",
    "    \"PassengerId\": test[\"PassengerId\"],\n",
    "    \"Survived\": ada_clf.predict(test_1)\n",
    "})\n",
    "forest_submission.to_csv(\"../data/gender_submission_35.csv\", index=False)"
   ]
  },
  {
   "cell_type": "code",
   "execution_count": 184,
   "metadata": {},
   "outputs": [
    {
     "name": "stdout",
     "output_type": "stream",
     "text": [
      "훈련 세트 정확도 : 0.857\n"
     ]
    }
   ],
   "source": [
    "from sklearn.tree import  DecisionTreeClassifier\n",
    "tree_clf=DecisionTreeClassifier(max_depth=5,random_state=3)\n",
    "tree_clf.fit(train_1,train[[\"Survived\"]])\n",
    "print(\"훈련 세트 정확도 : {:.3f}\".format(tree_clf.score(train_1,train[[\"Survived\"]])))\n",
    "#0.76555"
   ]
  },
  {
   "cell_type": "code",
   "execution_count": 185,
   "metadata": {},
   "outputs": [],
   "source": [
    "forest_submission = pd.DataFrame({\n",
    "    \"PassengerId\": test[\"PassengerId\"],\n",
    "    \"Survived\": tree_clf.predict(test_1)\n",
    "})\n",
    "forest_submission.to_csv(\"../data/gender_submission_36.csv\", index=False)"
   ]
  },
  {
   "cell_type": "code",
   "execution_count": 186,
   "metadata": {},
   "outputs": [
    {
     "name": "stdout",
     "output_type": "stream",
     "text": [
      "훈련 세트 정확도 : 0.898\n"
     ]
    }
   ],
   "source": [
    "from sklearn.tree import  DecisionTreeClassifier\n",
    "tree_clf=DecisionTreeClassifier(max_depth=10,random_state=3)\n",
    "tree_clf.fit(train_1,train[[\"Survived\"]])\n",
    "print(\"훈련 세트 정확도 : {:.3f}\".format(tree_clf.score(train_1,train[[\"Survived\"]])))\n",
    "#0.73684"
   ]
  },
  {
   "cell_type": "code",
   "execution_count": 187,
   "metadata": {},
   "outputs": [],
   "source": [
    "forest_submission = pd.DataFrame({\n",
    "    \"PassengerId\": test[\"PassengerId\"],\n",
    "    \"Survived\": tree_clf.predict(test_1)\n",
    "})\n",
    "forest_submission.to_csv(\"../data/gender_submission_37.csv\", index=False)"
   ]
  },
  {
   "cell_type": "code",
   "execution_count": 188,
   "metadata": {},
   "outputs": [
    {
     "name": "stdout",
     "output_type": "stream",
     "text": [
      "훈련 세트 정확도 : 0.782\n"
     ]
    }
   ],
   "source": [
    "from sklearn.tree import  DecisionTreeClassifier\n",
    "tree_clf=DecisionTreeClassifier(max_depth=1,random_state=3)\n",
    "tree_clf.fit(train_1,train[[\"Survived\"]])\n",
    "print(\"훈련 세트 정확도 : {:.3f}\".format(tree_clf.score(train_1,train[[\"Survived\"]])))\n",
    "#0.76555"
   ]
  },
  {
   "cell_type": "code",
   "execution_count": 189,
   "metadata": {},
   "outputs": [],
   "source": [
    "forest_submission = pd.DataFrame({\n",
    "    \"PassengerId\": test[\"PassengerId\"],\n",
    "    \"Survived\": tree_clf.predict(test_1)\n",
    "})\n",
    "forest_submission.to_csv(\"../data/gender_submission_38.csv\", index=False)"
   ]
  },
  {
   "cell_type": "code",
   "execution_count": null,
   "metadata": {},
   "outputs": [],
   "source": []
  },
  {
   "cell_type": "code",
   "execution_count": 166,
   "metadata": {},
   "outputs": [
    {
     "data": {
      "text/html": [
       "<div>\n",
       "<style scoped>\n",
       "    .dataframe tbody tr th:only-of-type {\n",
       "        vertical-align: middle;\n",
       "    }\n",
       "\n",
       "    .dataframe tbody tr th {\n",
       "        vertical-align: top;\n",
       "    }\n",
       "\n",
       "    .dataframe thead th {\n",
       "        text-align: right;\n",
       "    }\n",
       "</style>\n",
       "<table border=\"1\" class=\"dataframe\">\n",
       "  <thead>\n",
       "    <tr style=\"text-align: right;\">\n",
       "      <th></th>\n",
       "      <th>PassengerId</th>\n",
       "      <th>Survived</th>\n",
       "      <th>Pclass</th>\n",
       "      <th>Sex</th>\n",
       "      <th>Age</th>\n",
       "      <th>SibSp</th>\n",
       "      <th>Parch</th>\n",
       "      <th>Fare</th>\n",
       "      <th>Family</th>\n",
       "      <th>TitleCode</th>\n",
       "      <th>Fare_1</th>\n",
       "      <th>AgeCode</th>\n",
       "    </tr>\n",
       "  </thead>\n",
       "  <tbody>\n",
       "    <tr>\n",
       "      <th>PassengerId</th>\n",
       "      <td>1.000000</td>\n",
       "      <td>-0.005007</td>\n",
       "      <td>-0.035144</td>\n",
       "      <td>0.042939</td>\n",
       "      <td>0.043096</td>\n",
       "      <td>-0.057527</td>\n",
       "      <td>-0.001652</td>\n",
       "      <td>0.012658</td>\n",
       "      <td>-0.040143</td>\n",
       "      <td>-0.048858</td>\n",
       "      <td>0.026303</td>\n",
       "      <td>0.047035</td>\n",
       "    </tr>\n",
       "    <tr>\n",
       "      <th>Survived</th>\n",
       "      <td>-0.005007</td>\n",
       "      <td>1.000000</td>\n",
       "      <td>-0.338481</td>\n",
       "      <td>-0.543351</td>\n",
       "      <td>-0.078931</td>\n",
       "      <td>-0.035322</td>\n",
       "      <td>0.081629</td>\n",
       "      <td>0.257307</td>\n",
       "      <td>0.016639</td>\n",
       "      <td>0.422451</td>\n",
       "      <td>0.221600</td>\n",
       "      <td>-0.087406</td>\n",
       "    </tr>\n",
       "    <tr>\n",
       "      <th>Pclass</th>\n",
       "      <td>-0.035144</td>\n",
       "      <td>-0.338481</td>\n",
       "      <td>1.000000</td>\n",
       "      <td>0.131900</td>\n",
       "      <td>-0.354189</td>\n",
       "      <td>0.083081</td>\n",
       "      <td>0.018443</td>\n",
       "      <td>-0.549500</td>\n",
       "      <td>0.065997</td>\n",
       "      <td>-0.082202</td>\n",
       "      <td>-0.485079</td>\n",
       "      <td>-0.342093</td>\n",
       "    </tr>\n",
       "    <tr>\n",
       "      <th>Sex</th>\n",
       "      <td>0.042939</td>\n",
       "      <td>-0.543351</td>\n",
       "      <td>0.131900</td>\n",
       "      <td>1.000000</td>\n",
       "      <td>0.104921</td>\n",
       "      <td>-0.114631</td>\n",
       "      <td>-0.245489</td>\n",
       "      <td>-0.182333</td>\n",
       "      <td>-0.200988</td>\n",
       "      <td>-0.697246</td>\n",
       "      <td>-0.115143</td>\n",
       "      <td>0.125789</td>\n",
       "    </tr>\n",
       "    <tr>\n",
       "      <th>Age</th>\n",
       "      <td>0.043096</td>\n",
       "      <td>-0.078931</td>\n",
       "      <td>-0.354189</td>\n",
       "      <td>0.104921</td>\n",
       "      <td>1.000000</td>\n",
       "      <td>-0.265621</td>\n",
       "      <td>-0.188159</td>\n",
       "      <td>0.097947</td>\n",
       "      <td>-0.275544</td>\n",
       "      <td>-0.323094</td>\n",
       "      <td>0.150928</td>\n",
       "      <td>0.983216</td>\n",
       "    </tr>\n",
       "    <tr>\n",
       "      <th>SibSp</th>\n",
       "      <td>-0.057527</td>\n",
       "      <td>-0.035322</td>\n",
       "      <td>0.083081</td>\n",
       "      <td>-0.114631</td>\n",
       "      <td>-0.265621</td>\n",
       "      <td>1.000000</td>\n",
       "      <td>0.414838</td>\n",
       "      <td>0.159651</td>\n",
       "      <td>0.890712</td>\n",
       "      <td>0.213092</td>\n",
       "      <td>-0.094682</td>\n",
       "      <td>-0.263331</td>\n",
       "    </tr>\n",
       "    <tr>\n",
       "      <th>Parch</th>\n",
       "      <td>-0.001652</td>\n",
       "      <td>0.081629</td>\n",
       "      <td>0.018443</td>\n",
       "      <td>-0.245489</td>\n",
       "      <td>-0.188159</td>\n",
       "      <td>0.414838</td>\n",
       "      <td>1.000000</td>\n",
       "      <td>0.216225</td>\n",
       "      <td>0.783111</td>\n",
       "      <td>0.220506</td>\n",
       "      <td>-0.068978</td>\n",
       "      <td>-0.190942</td>\n",
       "    </tr>\n",
       "    <tr>\n",
       "      <th>Fare</th>\n",
       "      <td>0.012658</td>\n",
       "      <td>0.257307</td>\n",
       "      <td>-0.549500</td>\n",
       "      <td>-0.182333</td>\n",
       "      <td>0.097947</td>\n",
       "      <td>0.159651</td>\n",
       "      <td>0.216225</td>\n",
       "      <td>1.000000</td>\n",
       "      <td>0.217138</td>\n",
       "      <td>0.147996</td>\n",
       "      <td>0.840995</td>\n",
       "      <td>0.087784</td>\n",
       "    </tr>\n",
       "    <tr>\n",
       "      <th>Family</th>\n",
       "      <td>-0.040143</td>\n",
       "      <td>0.016639</td>\n",
       "      <td>0.065997</td>\n",
       "      <td>-0.200988</td>\n",
       "      <td>-0.275544</td>\n",
       "      <td>0.890712</td>\n",
       "      <td>0.783111</td>\n",
       "      <td>0.217138</td>\n",
       "      <td>1.000000</td>\n",
       "      <td>0.255802</td>\n",
       "      <td>-0.099173</td>\n",
       "      <td>-0.275369</td>\n",
       "    </tr>\n",
       "    <tr>\n",
       "      <th>TitleCode</th>\n",
       "      <td>-0.048858</td>\n",
       "      <td>0.422451</td>\n",
       "      <td>-0.082202</td>\n",
       "      <td>-0.697246</td>\n",
       "      <td>-0.323094</td>\n",
       "      <td>0.213092</td>\n",
       "      <td>0.220506</td>\n",
       "      <td>0.147996</td>\n",
       "      <td>0.255802</td>\n",
       "      <td>1.000000</td>\n",
       "      <td>0.098766</td>\n",
       "      <td>-0.328026</td>\n",
       "    </tr>\n",
       "    <tr>\n",
       "      <th>Fare_1</th>\n",
       "      <td>0.026303</td>\n",
       "      <td>0.221600</td>\n",
       "      <td>-0.485079</td>\n",
       "      <td>-0.115143</td>\n",
       "      <td>0.150928</td>\n",
       "      <td>-0.094682</td>\n",
       "      <td>-0.068978</td>\n",
       "      <td>0.840995</td>\n",
       "      <td>-0.099173</td>\n",
       "      <td>0.098766</td>\n",
       "      <td>1.000000</td>\n",
       "      <td>0.144020</td>\n",
       "    </tr>\n",
       "    <tr>\n",
       "      <th>AgeCode</th>\n",
       "      <td>0.047035</td>\n",
       "      <td>-0.087406</td>\n",
       "      <td>-0.342093</td>\n",
       "      <td>0.125789</td>\n",
       "      <td>0.983216</td>\n",
       "      <td>-0.263331</td>\n",
       "      <td>-0.190942</td>\n",
       "      <td>0.087784</td>\n",
       "      <td>-0.275369</td>\n",
       "      <td>-0.328026</td>\n",
       "      <td>0.144020</td>\n",
       "      <td>1.000000</td>\n",
       "    </tr>\n",
       "  </tbody>\n",
       "</table>\n",
       "</div>"
      ],
      "text/plain": [
       "             PassengerId  Survived    Pclass       Sex       Age     SibSp  \\\n",
       "PassengerId     1.000000 -0.005007 -0.035144  0.042939  0.043096 -0.057527   \n",
       "Survived       -0.005007  1.000000 -0.338481 -0.543351 -0.078931 -0.035322   \n",
       "Pclass         -0.035144 -0.338481  1.000000  0.131900 -0.354189  0.083081   \n",
       "Sex             0.042939 -0.543351  0.131900  1.000000  0.104921 -0.114631   \n",
       "Age             0.043096 -0.078931 -0.354189  0.104921  1.000000 -0.265621   \n",
       "SibSp          -0.057527 -0.035322  0.083081 -0.114631 -0.265621  1.000000   \n",
       "Parch          -0.001652  0.081629  0.018443 -0.245489 -0.188159  0.414838   \n",
       "Fare            0.012658  0.257307 -0.549500 -0.182333  0.097947  0.159651   \n",
       "Family         -0.040143  0.016639  0.065997 -0.200988 -0.275544  0.890712   \n",
       "TitleCode      -0.048858  0.422451 -0.082202 -0.697246 -0.323094  0.213092   \n",
       "Fare_1          0.026303  0.221600 -0.485079 -0.115143  0.150928 -0.094682   \n",
       "AgeCode         0.047035 -0.087406 -0.342093  0.125789  0.983216 -0.263331   \n",
       "\n",
       "                Parch      Fare    Family  TitleCode    Fare_1   AgeCode  \n",
       "PassengerId -0.001652  0.012658 -0.040143  -0.048858  0.026303  0.047035  \n",
       "Survived     0.081629  0.257307  0.016639   0.422451  0.221600 -0.087406  \n",
       "Pclass       0.018443 -0.549500  0.065997  -0.082202 -0.485079 -0.342093  \n",
       "Sex         -0.245489 -0.182333 -0.200988  -0.697246 -0.115143  0.125789  \n",
       "Age         -0.188159  0.097947 -0.275544  -0.323094  0.150928  0.983216  \n",
       "SibSp        0.414838  0.159651  0.890712   0.213092 -0.094682 -0.263331  \n",
       "Parch        1.000000  0.216225  0.783111   0.220506 -0.068978 -0.190942  \n",
       "Fare         0.216225  1.000000  0.217138   0.147996  0.840995  0.087784  \n",
       "Family       0.783111  0.217138  1.000000   0.255802 -0.099173 -0.275369  \n",
       "TitleCode    0.220506  0.147996  0.255802   1.000000  0.098766 -0.328026  \n",
       "Fare_1      -0.068978  0.840995 -0.099173   0.098766  1.000000  0.144020  \n",
       "AgeCode     -0.190942  0.087784 -0.275369  -0.328026  0.144020  1.000000  "
      ]
     },
     "execution_count": 166,
     "metadata": {},
     "output_type": "execute_result"
    }
   ],
   "source": [
    "train.corr()"
   ]
  },
  {
   "cell_type": "code",
   "execution_count": 164,
   "metadata": {},
   "outputs": [
    {
     "data": {
      "text/html": [
       "<div>\n",
       "<style scoped>\n",
       "    .dataframe tbody tr th:only-of-type {\n",
       "        vertical-align: middle;\n",
       "    }\n",
       "\n",
       "    .dataframe tbody tr th {\n",
       "        vertical-align: top;\n",
       "    }\n",
       "\n",
       "    .dataframe thead th {\n",
       "        text-align: right;\n",
       "    }\n",
       "</style>\n",
       "<table border=\"1\" class=\"dataframe\">\n",
       "  <thead>\n",
       "    <tr style=\"text-align: right;\">\n",
       "      <th></th>\n",
       "      <th>PassengerId</th>\n",
       "      <th>Survived</th>\n",
       "      <th>Pclass</th>\n",
       "      <th>Name</th>\n",
       "      <th>Sex</th>\n",
       "      <th>Age</th>\n",
       "      <th>SibSp</th>\n",
       "      <th>Parch</th>\n",
       "      <th>Ticket</th>\n",
       "      <th>Fare</th>\n",
       "      <th>Cabin</th>\n",
       "      <th>Embarked</th>\n",
       "      <th>Family</th>\n",
       "      <th>Solo</th>\n",
       "      <th>Title</th>\n",
       "      <th>TitleCode</th>\n",
       "      <th>FamilyName</th>\n",
       "      <th>Fare_1</th>\n",
       "      <th>AgeCode</th>\n",
       "    </tr>\n",
       "  </thead>\n",
       "  <tbody>\n",
       "  </tbody>\n",
       "</table>\n",
       "</div>"
      ],
      "text/plain": [
       "Empty DataFrame\n",
       "Columns: [PassengerId, Survived, Pclass, Name, Sex, Age, SibSp, Parch, Ticket, Fare, Cabin, Embarked, Family, Solo, Title, TitleCode, FamilyName, Fare_1, AgeCode]\n",
       "Index: []"
      ]
     },
     "execution_count": 164,
     "metadata": {},
     "output_type": "execute_result"
    }
   ],
   "source": [
    "train[train['TitleCode'].isnull()]"
   ]
  },
  {
   "cell_type": "code",
   "execution_count": null,
   "metadata": {},
   "outputs": [],
   "source": [
    "PassengerId\tSurvived\tPclass\tSex\tAge\tSibSp\tParch\tFare\tFamily\tTitleCode\tFare_1\tAgeCode\n",
    "-0.005007\t1.000000\t-0.338481\t-0.543351\t-0.078931\t-0.035322\t0.081629\t0.257307\t0.016639\t0.422451\t0.221600\t-0.087406"
   ]
  },
  {
   "cell_type": "code",
   "execution_count": null,
   "metadata": {},
   "outputs": [],
   "source": [
    "Pclass Sex TitleCode Fare_1"
   ]
  },
  {
   "cell_type": "code",
   "execution_count": 167,
   "metadata": {},
   "outputs": [],
   "source": [
    "train_1=train[[\"Pclass\",\"Sex\",\"TitleCode\",\"Fare_1\"]]\n",
    "test_1=test[[\"Pclass\",\"Sex\",\"TitleCode\",\"Fare_1\"]]"
   ]
  },
  {
   "cell_type": "code",
   "execution_count": null,
   "metadata": {},
   "outputs": [],
   "source": []
  },
  {
   "cell_type": "code",
   "execution_count": null,
   "metadata": {},
   "outputs": [],
   "source": []
  },
  {
   "cell_type": "code",
   "execution_count": null,
   "metadata": {},
   "outputs": [],
   "source": []
  },
  {
   "cell_type": "code",
   "execution_count": null,
   "metadata": {},
   "outputs": [],
   "source": []
  },
  {
   "cell_type": "code",
   "execution_count": null,
   "metadata": {},
   "outputs": [],
   "source": []
  }
 ],
 "metadata": {
  "kernelspec": {
   "display_name": "Python 3",
   "language": "python",
   "name": "python3"
  },
  "language_info": {
   "codemirror_mode": {
    "name": "ipython",
    "version": 3
   },
   "file_extension": ".py",
   "mimetype": "text/x-python",
   "name": "python",
   "nbconvert_exporter": "python",
   "pygments_lexer": "ipython3",
   "version": "3.7.0"
  }
 },
 "nbformat": 4,
 "nbformat_minor": 2
}
