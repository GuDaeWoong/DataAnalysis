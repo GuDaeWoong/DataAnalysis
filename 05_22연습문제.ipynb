{
 "cells": [
  {
   "cell_type": "code",
   "execution_count": 11,
   "metadata": {},
   "outputs": [
    {
     "data": {
      "text/html": [
       "<div>\n",
       "<style scoped>\n",
       "    .dataframe tbody tr th:only-of-type {\n",
       "        vertical-align: middle;\n",
       "    }\n",
       "\n",
       "    .dataframe tbody tr th {\n",
       "        vertical-align: top;\n",
       "    }\n",
       "\n",
       "    .dataframe thead th {\n",
       "        text-align: right;\n",
       "    }\n",
       "</style>\n",
       "<table border=\"1\" class=\"dataframe\">\n",
       "  <thead>\n",
       "    <tr style=\"text-align: right;\">\n",
       "      <th></th>\n",
       "      <th>pop_cd</th>\n",
       "      <th>year</th>\n",
       "      <th>month</th>\n",
       "      <th>avg_score</th>\n",
       "      <th>avg_rat</th>\n",
       "      <th>city</th>\n",
       "      <th>sex</th>\n",
       "      <th>ages</th>\n",
       "      <th>population</th>\n",
       "      <th>num_opencard</th>\n",
       "      <th>...</th>\n",
       "      <th>monthly_installments_loan</th>\n",
       "      <th>monthly_insurance_loan</th>\n",
       "      <th>monthly_sbk_loan</th>\n",
       "      <th>loan_commitment</th>\n",
       "      <th>inst_rep_loanb</th>\n",
       "      <th>ls_rep_loanb</th>\n",
       "      <th>credit_loan</th>\n",
       "      <th>mortgage_loan</th>\n",
       "      <th>credit_card_payment</th>\n",
       "      <th>credit_card_installments_payment</th>\n",
       "    </tr>\n",
       "  </thead>\n",
       "  <tbody>\n",
       "    <tr>\n",
       "      <th>0</th>\n",
       "      <td>L011</td>\n",
       "      <td>2016</td>\n",
       "      <td>1</td>\n",
       "      <td>812</td>\n",
       "      <td>2</td>\n",
       "      <td>서울</td>\n",
       "      <td>NaN</td>\n",
       "      <td>10대</td>\n",
       "      <td>55000</td>\n",
       "      <td>1.44</td>\n",
       "      <td>...</td>\n",
       "      <td>0</td>\n",
       "      <td>0</td>\n",
       "      <td>0</td>\n",
       "      <td>1120000</td>\n",
       "      <td>8210000</td>\n",
       "      <td>78020000</td>\n",
       "      <td>92170000</td>\n",
       "      <td>87260000</td>\n",
       "      <td>0</td>\n",
       "      <td>0</td>\n",
       "    </tr>\n",
       "    <tr>\n",
       "      <th>1</th>\n",
       "      <td>L011</td>\n",
       "      <td>2016</td>\n",
       "      <td>2</td>\n",
       "      <td>773</td>\n",
       "      <td>4</td>\n",
       "      <td>서울</td>\n",
       "      <td>NaN</td>\n",
       "      <td>10대</td>\n",
       "      <td>380000</td>\n",
       "      <td>1.71</td>\n",
       "      <td>...</td>\n",
       "      <td>510000</td>\n",
       "      <td>220000</td>\n",
       "      <td>1020000</td>\n",
       "      <td>680000</td>\n",
       "      <td>4660000</td>\n",
       "      <td>23300000</td>\n",
       "      <td>8260000</td>\n",
       "      <td>42410000</td>\n",
       "      <td>4000</td>\n",
       "      <td>1000</td>\n",
       "    </tr>\n",
       "    <tr>\n",
       "      <th>2</th>\n",
       "      <td>L011</td>\n",
       "      <td>2016</td>\n",
       "      <td>3</td>\n",
       "      <td>771</td>\n",
       "      <td>4</td>\n",
       "      <td>서울</td>\n",
       "      <td>NaN</td>\n",
       "      <td>10대</td>\n",
       "      <td>387000</td>\n",
       "      <td>1.75</td>\n",
       "      <td>...</td>\n",
       "      <td>490000</td>\n",
       "      <td>210000</td>\n",
       "      <td>1140000</td>\n",
       "      <td>640000</td>\n",
       "      <td>4370000</td>\n",
       "      <td>22930000</td>\n",
       "      <td>8300000</td>\n",
       "      <td>41710000</td>\n",
       "      <td>3000</td>\n",
       "      <td>1000</td>\n",
       "    </tr>\n",
       "    <tr>\n",
       "      <th>3</th>\n",
       "      <td>L011</td>\n",
       "      <td>2016</td>\n",
       "      <td>4</td>\n",
       "      <td>770</td>\n",
       "      <td>4</td>\n",
       "      <td>서울</td>\n",
       "      <td>NaN</td>\n",
       "      <td>10대</td>\n",
       "      <td>412000</td>\n",
       "      <td>1.76</td>\n",
       "      <td>...</td>\n",
       "      <td>510000</td>\n",
       "      <td>240000</td>\n",
       "      <td>1340000</td>\n",
       "      <td>510000</td>\n",
       "      <td>4770000</td>\n",
       "      <td>22160000</td>\n",
       "      <td>9460000</td>\n",
       "      <td>41040000</td>\n",
       "      <td>4000</td>\n",
       "      <td>1000</td>\n",
       "    </tr>\n",
       "    <tr>\n",
       "      <th>4</th>\n",
       "      <td>L011</td>\n",
       "      <td>2016</td>\n",
       "      <td>5</td>\n",
       "      <td>771</td>\n",
       "      <td>4</td>\n",
       "      <td>서울</td>\n",
       "      <td>NaN</td>\n",
       "      <td>10대</td>\n",
       "      <td>414000</td>\n",
       "      <td>1.75</td>\n",
       "      <td>...</td>\n",
       "      <td>490000</td>\n",
       "      <td>340000</td>\n",
       "      <td>1490000</td>\n",
       "      <td>640000</td>\n",
       "      <td>4740000</td>\n",
       "      <td>21960000</td>\n",
       "      <td>9660000</td>\n",
       "      <td>40850000</td>\n",
       "      <td>3000</td>\n",
       "      <td>1000</td>\n",
       "    </tr>\n",
       "  </tbody>\n",
       "</table>\n",
       "<p>5 rows × 26 columns</p>\n",
       "</div>"
      ],
      "text/plain": [
       "  pop_cd  year  month  avg_score  avg_rat city  sex ages  population  \\\n",
       "0   L011  2016      1        812        2   서울  NaN  10대       55000   \n",
       "1   L011  2016      2        773        4   서울  NaN  10대      380000   \n",
       "2   L011  2016      3        771        4   서울  NaN  10대      387000   \n",
       "3   L011  2016      4        770        4   서울  NaN  10대      412000   \n",
       "4   L011  2016      5        771        4   서울  NaN  10대      414000   \n",
       "\n",
       "   num_opencard                ...                 monthly_installments_loan  \\\n",
       "0          1.44                ...                                         0   \n",
       "1          1.71                ...                                    510000   \n",
       "2          1.75                ...                                    490000   \n",
       "3          1.76                ...                                    510000   \n",
       "4          1.75                ...                                    490000   \n",
       "\n",
       "   monthly_insurance_loan  monthly_sbk_loan  loan_commitment  inst_rep_loanb  \\\n",
       "0                       0                 0          1120000         8210000   \n",
       "1                  220000           1020000           680000         4660000   \n",
       "2                  210000           1140000           640000         4370000   \n",
       "3                  240000           1340000           510000         4770000   \n",
       "4                  340000           1490000           640000         4740000   \n",
       "\n",
       "   ls_rep_loanb  credit_loan  mortgage_loan  credit_card_payment  \\\n",
       "0      78020000     92170000       87260000                    0   \n",
       "1      23300000      8260000       42410000                 4000   \n",
       "2      22930000      8300000       41710000                 3000   \n",
       "3      22160000      9460000       41040000                 4000   \n",
       "4      21960000      9660000       40850000                 3000   \n",
       "\n",
       "   credit_card_installments_payment  \n",
       "0                                 0  \n",
       "1                              1000  \n",
       "2                              1000  \n",
       "3                              1000  \n",
       "4                              1000  \n",
       "\n",
       "[5 rows x 26 columns]"
      ]
     },
     "execution_count": 11,
     "metadata": {},
     "output_type": "execute_result"
    }
   ],
   "source": [
    "import pandas as pd\n",
    "card=pd.read_csv(\"../data/credit_card_data.csv\",sep=\",\")\n",
    "card.head()"
   ]
  },
  {
   "cell_type": "code",
   "execution_count": 4,
   "metadata": {},
   "outputs": [],
   "source": [
    "import matplotlib.pyplot as plt\n",
    "%matplotlib inline\n",
    "\n",
    "from matplotlib import  font_manager,rc\n",
    "plt.rcParams[\"axes.unicode_minus\"]=False\n",
    "\n",
    "#f_path=\"/Library/Fonts/AppleGothic.ttf\"(맥)\n",
    "f_path=\"C:/Windows/Fonts/malgun.ttf\" #(윈도우)\n",
    "font_name=font_manager.FontProperties(fname=f_path).get_name()\n",
    "rc(\"font\",family=font_name)"
   ]
  },
  {
   "cell_type": "code",
   "execution_count": 6,
   "metadata": {},
   "outputs": [
    {
     "data": {
      "image/png": "[encoded data removed]",
      "text/plain": [
       "<Figure size 1152x576 with 1 Axes>"
      ]
     },
     "metadata": {
      "needs_background": "light"
     },
     "output_type": "display_data"
    }
   ],
   "source": [
    "import seaborn as sns\n",
    "age_month=card.groupby([\"ages\"])[\"monthly_card_spend\"].sum().reset_index()\n",
    "\n",
    "ax = plt.subplots(figsize = (16,8))\n",
    "ax = sns.barplot(x='ages',y=\"monthly_card_spend\",data=age_month)\n",
    "plt.show()"
   ]
  },
  {
   "cell_type": "code",
   "execution_count": 7,
   "metadata": {},
   "outputs": [
    {
     "data": {
      "image/png": "[encoded data removed]",
      "text/plain": [
       "<Figure size 1152x576 with 1 Axes>"
      ]
     },
     "metadata": {
      "needs_background": "light"
     },
     "output_type": "display_data"
    }
   ],
   "source": [
    "c_m=card.groupby([\"city\"])[\"monthly_card_spend\"].sum().reset_index()\n",
    "c_m\n",
    "import seaborn as sns\n",
    "import matplotlib.pyplot as plt\n",
    "ax = plt.subplots(figsize = (16,8))\n",
    "ax = sns.barplot(x='city',y=\"monthly_card_spend\",data=c_m)\n",
    "plt.show()"
   ]
  },
  {
   "cell_type": "code",
   "execution_count": 8,
   "metadata": {},
   "outputs": [
    {
     "data": {
      "text/plain": [
       "12659810000"
      ]
     },
     "execution_count": 8,
     "metadata": {},
     "output_type": "execute_result"
    }
   ],
   "source": [
    "card[card[\"ages\"]==\"20대\"].monthly_loan.sum()"
   ]
  },
  {
   "cell_type": "code",
   "execution_count": 9,
   "metadata": {},
   "outputs": [
    {
     "data": {
      "text/html": [
       "<div>\n",
       "<style scoped>\n",
       "    .dataframe tbody tr th:only-of-type {\n",
       "        vertical-align: middle;\n",
       "    }\n",
       "\n",
       "    .dataframe tbody tr th {\n",
       "        vertical-align: top;\n",
       "    }\n",
       "\n",
       "    .dataframe thead th {\n",
       "        text-align: right;\n",
       "    }\n",
       "</style>\n",
       "<table border=\"1\" class=\"dataframe\">\n",
       "  <thead>\n",
       "    <tr style=\"text-align: right;\">\n",
       "      <th></th>\n",
       "      <th>month</th>\n",
       "      <th>monthly_card_spend</th>\n",
       "    </tr>\n",
       "  </thead>\n",
       "  <tbody>\n",
       "    <tr>\n",
       "      <th>0</th>\n",
       "      <td>1</td>\n",
       "      <td>26410000</td>\n",
       "    </tr>\n",
       "    <tr>\n",
       "      <th>1</th>\n",
       "      <td>2</td>\n",
       "      <td>26810000</td>\n",
       "    </tr>\n",
       "    <tr>\n",
       "      <th>2</th>\n",
       "      <td>3</td>\n",
       "      <td>26170000</td>\n",
       "    </tr>\n",
       "    <tr>\n",
       "      <th>3</th>\n",
       "      <td>4</td>\n",
       "      <td>28970000</td>\n",
       "    </tr>\n",
       "    <tr>\n",
       "      <th>4</th>\n",
       "      <td>5</td>\n",
       "      <td>27160000</td>\n",
       "    </tr>\n",
       "    <tr>\n",
       "      <th>5</th>\n",
       "      <td>6</td>\n",
       "      <td>29830000</td>\n",
       "    </tr>\n",
       "    <tr>\n",
       "      <th>6</th>\n",
       "      <td>7</td>\n",
       "      <td>28340000</td>\n",
       "    </tr>\n",
       "    <tr>\n",
       "      <th>7</th>\n",
       "      <td>8</td>\n",
       "      <td>29330000</td>\n",
       "    </tr>\n",
       "    <tr>\n",
       "      <th>8</th>\n",
       "      <td>9</td>\n",
       "      <td>30070000</td>\n",
       "    </tr>\n",
       "    <tr>\n",
       "      <th>9</th>\n",
       "      <td>10</td>\n",
       "      <td>28890000</td>\n",
       "    </tr>\n",
       "    <tr>\n",
       "      <th>10</th>\n",
       "      <td>11</td>\n",
       "      <td>29440000</td>\n",
       "    </tr>\n",
       "    <tr>\n",
       "      <th>11</th>\n",
       "      <td>12</td>\n",
       "      <td>29380000</td>\n",
       "    </tr>\n",
       "  </tbody>\n",
       "</table>\n",
       "</div>"
      ],
      "text/plain": [
       "    month  monthly_card_spend\n",
       "0       1            26410000\n",
       "1       2            26810000\n",
       "2       3            26170000\n",
       "3       4            28970000\n",
       "4       5            27160000\n",
       "5       6            29830000\n",
       "6       7            28340000\n",
       "7       8            29330000\n",
       "8       9            30070000\n",
       "9      10            28890000\n",
       "10     11            29440000\n",
       "11     12            29380000"
      ]
     },
     "execution_count": 9,
     "metadata": {},
     "output_type": "execute_result"
    }
   ],
   "source": [
    "card20=card[card[\"ages\"]==\"20대\"].groupby([\"month\"])[\"monthly_card_spend\" ].sum().reset_index()\n",
    "card20"
   ]
  },
  {
   "cell_type": "code",
   "execution_count": 24,
   "metadata": {},
   "outputs": [
    {
     "data": {
      "image/png": "[encoded data removed]",
      "text/plain": [
       "<Figure size 1152x576 with 1 Axes>"
      ]
     },
     "metadata": {
      "needs_background": "light"
     },
     "output_type": "display_data"
    }
   ],
   "source": [
    "import seaborn as sns\n",
    "import matplotlib.pyplot as plt\n",
    "ax = plt.subplots(figsize = (16,8))\n",
    "ax = sns.barplot(x='month',y=\"monthly_card_spend\",data=card20)\n",
    "ax.set_ylim(card20.min()[1]-100000,card20.max()[1]+100000)#y축범위조절\n",
    "plt.show()"
   ]
  },
  {
   "cell_type": "code",
   "execution_count": 15,
   "metadata": {},
   "outputs": [
    {
     "data": {
      "image/png": "[encoded data removed]",
      "text/plain": [
       "<Figure size 432x288 with 1 Axes>"
      ]
     },
     "metadata": {
      "needs_background": "light"
     },
     "output_type": "display_data"
    }
   ],
   "source": [
    "f, ax = plt.subplots()\n",
    "sns.pointplot(data=card20,x='month',y=\"monthly_card_spend\", ax=ax)\n",
    "plt.show()"
   ]
  },
  {
   "cell_type": "code",
   "execution_count": null,
   "metadata": {},
   "outputs": [],
   "source": []
  },
  {
   "cell_type": "code",
   "execution_count": 20,
   "metadata": {},
   "outputs": [
    {
     "data": {
      "text/plain": [
       "26169900"
      ]
     },
     "execution_count": 20,
     "metadata": {},
     "output_type": "execute_result"
    }
   ],
   "source": [
    "card20.min()[1]-100"
   ]
  }
 ],
 "metadata": {
  "kernelspec": {
   "display_name": "Python 3",
   "language": "python",
   "name": "python3"
  },
  "language_info": {
   "codemirror_mode": {
    "name": "ipython",
    "version": 3
   },
   "file_extension": ".py",
   "mimetype": "text/x-python",
   "name": "python",
   "nbconvert_exporter": "python",
   "pygments_lexer": "ipython3",
   "version": "3.7.0"
  }
 },
 "nbformat": 4,
 "nbformat_minor": 2
}
