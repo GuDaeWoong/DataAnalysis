{
 "cells": [
  {
   "cell_type": "markdown",
   "metadata": {},
   "source": [
    "********************\n",
    "\n",
    "#### 탐색 결과를 소개하기 앞서 대회에서 제공하는 해당 데이터는 대회 진행을 목적으로 적합한 샘플링 작업을 거친 데이터라는 점을 알려드립니다.\n",
    "\n",
    "#### 소개할 내용들이 <font color = \"red\">실제 멜론 유저의 소비 패턴과는 전혀 무관</font>하며, <font color = \"red\">멜론 DJ 플레이리스트 서비스를 일반화할 수 없음</font>을 참고하여 주시기 바랍니다.\n",
    "\n",
    "********************"
   ]
  },
  {
   "cell_type": "markdown",
   "metadata": {},
   "source": [
    "# KAKAO Arena 3rd Compitition : Melon Playlist Continuation\n",
    "\n",
    "## 대회 데이터 간단하게 EDA"
   ]
  },
  {
   "cell_type": "markdown",
   "metadata": {},
   "source": [
    "<br><br><br><br><br>"
   ]
  },
  {
   "cell_type": "code",
   "execution_count": 31,
   "metadata": {
    "ExecuteTime": {
     "end_time": "2020-04-26T23:00:41.231826Z",
     "start_time": "2020-04-26T23:00:24.271547Z"
    }
   },
   "outputs": [],
   "source": [
    "from datetime import timedelta, datetime\n",
    "import glob\n",
    "from itertools import chain\n",
    "import json\n",
    "import os\n",
    "import re\n",
    "import warnings\n",
    "warnings.filterwarnings(action='ignore')\n",
    "import numpy as np\n",
    "import pandas as pd\n",
    "\n",
    "from wordcloud import WordCloud\n",
    "import nltk\n",
    "from nltk.corpus import stopwords\n",
    "from konlpy.tag import Twitter\n",
    "from collections import Counter\n",
    "from sklearn.feature_extraction.text import TfidfVectorizer\n",
    "from sklearn.feature_extraction.text import CountVectorizer\n",
    "\n",
    "from pandas.plotting import register_matplotlib_converters\n",
    "import seaborn as sns\n",
    "import matplotlib.pyplot as plt\n",
    "import matplotlib as mpl\n",
    "import matplotlib.pyplot as plt\n",
    "import matplotlib.font_manager as fm\n",
    "font_path = 'C:/Windows/Fonts/malgun.ttf'\n",
    "font_name = fm.FontProperties(fname=font_path, size=10).get_name()\n",
    "plt.rc('font', family=font_name, size=12)\n",
    "plt.rcParams[\"figure.figsize\"] = (20, 10)\n",
    "register_matplotlib_converters()\n",
    "mpl.font_manager._rebuild()\n",
    "mpl.pyplot.rc('font', family='malgun')\n",
    "from matplotlib import font_manager, rc\n",
    "font_name = font_manager.FontProperties(fname = 'c:/Windows/Fonts/malgun.ttf').get_name()\n",
    "rc('font', family = font_name)"
   ]
  },
  {
   "cell_type": "code",
   "execution_count": 2,
   "metadata": {
    "ExecuteTime": {
     "end_time": "2020-04-26T23:00:41.240148Z",
     "start_time": "2020-04-26T23:00:41.237465Z"
    }
   },
   "outputs": [],
   "source": [
    "pd.options.mode.chained_assignment = None"
   ]
  },
  {
   "cell_type": "markdown",
   "metadata": {},
   "source": [
    "<br><br><br><br><br><br><br><br><br><br>"
   ]
  },
  {
   "cell_type": "markdown",
   "metadata": {},
   "source": [
    "## 1. 곡 장르 코드 데이터 : `genre_gn_all.json`"
   ]
  },
  {
   "cell_type": "markdown",
   "metadata": {},
   "source": [
    "### 데이터 불러오기 "
   ]
  },
  {
   "cell_type": "code",
   "execution_count": 3,
   "metadata": {
    "ExecuteTime": {
     "end_time": "2020-04-26T23:00:41.287704Z",
     "start_time": "2020-04-26T23:00:41.241507Z"
    }
   },
   "outputs": [],
   "source": [
    "genre_gn_all = pd.read_json('../data/genre_gn_all.json', typ = 'series')"
   ]
  },
  {
   "cell_type": "code",
   "execution_count": 4,
   "metadata": {
    "ExecuteTime": {
     "end_time": "2020-04-26T23:00:41.294122Z",
     "start_time": "2020-04-26T23:00:41.289083Z"
    }
   },
   "outputs": [],
   "source": [
    "# 장르코드 : gnr_code, 장르명 : gnr_name\n",
    "genre_gn_all = pd.DataFrame(genre_gn_all, columns = ['gnr_name']).reset_index().rename(columns = {'index' : 'gnr_code'})"
   ]
  },
  {
   "cell_type": "code",
   "execution_count": 5,
   "metadata": {
    "ExecuteTime": {
     "end_time": "2020-04-26T23:00:41.342662Z",
     "start_time": "2020-04-26T23:00:41.295466Z"
    }
   },
   "outputs": [
    {
     "data": {
      "text/html": [
       "<div>\n",
       "<style scoped>\n",
       "    .dataframe tbody tr th:only-of-type {\n",
       "        vertical-align: middle;\n",
       "    }\n",
       "\n",
       "    .dataframe tbody tr th {\n",
       "        vertical-align: top;\n",
       "    }\n",
       "\n",
       "    .dataframe thead th {\n",
       "        text-align: right;\n",
       "    }\n",
       "</style>\n",
       "<table border=\"1\" class=\"dataframe\">\n",
       "  <thead>\n",
       "    <tr style=\"text-align: right;\">\n",
       "      <th></th>\n",
       "      <th>gnr_code</th>\n",
       "      <th>gnr_name</th>\n",
       "    </tr>\n",
       "  </thead>\n",
       "  <tbody>\n",
       "    <tr>\n",
       "      <th>0</th>\n",
       "      <td>GN0100</td>\n",
       "      <td>발라드</td>\n",
       "    </tr>\n",
       "    <tr>\n",
       "      <th>1</th>\n",
       "      <td>GN0101</td>\n",
       "      <td>세부장르전체</td>\n",
       "    </tr>\n",
       "    <tr>\n",
       "      <th>2</th>\n",
       "      <td>GN0102</td>\n",
       "      <td>'80</td>\n",
       "    </tr>\n",
       "    <tr>\n",
       "      <th>3</th>\n",
       "      <td>GN0103</td>\n",
       "      <td>'90</td>\n",
       "    </tr>\n",
       "    <tr>\n",
       "      <th>4</th>\n",
       "      <td>GN0104</td>\n",
       "      <td>'00</td>\n",
       "    </tr>\n",
       "    <tr>\n",
       "      <th>...</th>\n",
       "      <td>...</td>\n",
       "      <td>...</td>\n",
       "    </tr>\n",
       "    <tr>\n",
       "      <th>249</th>\n",
       "      <td>GN2900</td>\n",
       "      <td>뮤지컬</td>\n",
       "    </tr>\n",
       "    <tr>\n",
       "      <th>250</th>\n",
       "      <td>GN2901</td>\n",
       "      <td>세부장르전체</td>\n",
       "    </tr>\n",
       "    <tr>\n",
       "      <th>251</th>\n",
       "      <td>GN2902</td>\n",
       "      <td>국내뮤지컬</td>\n",
       "    </tr>\n",
       "    <tr>\n",
       "      <th>252</th>\n",
       "      <td>GN2903</td>\n",
       "      <td>국외뮤지컬</td>\n",
       "    </tr>\n",
       "    <tr>\n",
       "      <th>253</th>\n",
       "      <td>GN3000</td>\n",
       "      <td>크리스마스</td>\n",
       "    </tr>\n",
       "  </tbody>\n",
       "</table>\n",
       "<p>254 rows × 2 columns</p>\n",
       "</div>"
      ],
      "text/plain": [
       "    gnr_code gnr_name\n",
       "0     GN0100      발라드\n",
       "1     GN0101   세부장르전체\n",
       "2     GN0102      '80\n",
       "3     GN0103      '90\n",
       "4     GN0104      '00\n",
       "..       ...      ...\n",
       "249   GN2900      뮤지컬\n",
       "250   GN2901   세부장르전체\n",
       "251   GN2902    국내뮤지컬\n",
       "252   GN2903    국외뮤지컬\n",
       "253   GN3000    크리스마스\n",
       "\n",
       "[254 rows x 2 columns]"
      ]
     },
     "execution_count": 5,
     "metadata": {},
     "output_type": "execute_result"
    }
   ],
   "source": [
    "genre_gn_all"
   ]
  },
  {
   "cell_type": "markdown",
   "metadata": {},
   "source": [
    "- 장르 코드는 **총 254개의 장르코드가 존재**하며 **30개의 대분류 장르코드**와 **224개의 상세 장르코드**로 분류할 수 있습니다."
   ]
  },
  {
   "cell_type": "markdown",
   "metadata": {},
   "source": [
    "<br>"
   ]
  },
  {
   "cell_type": "markdown",
   "metadata": {},
   "source": [
    "### 대분류 장르코드 "
   ]
  },
  {
   "cell_type": "markdown",
   "metadata": {},
   "source": [
    "- 대분류 장르코드는 장르코드(`gnr_code`)에서 **숫자 네 자리 중 뒷자리 두 자리가 `00`인 코드로 분류**할 수 있습니다.\n",
    "- 대분류 장르는 총 30개가 있습니다."
   ]
  },
  {
   "cell_type": "code",
   "execution_count": 6,
   "metadata": {
    "ExecuteTime": {
     "end_time": "2020-04-26T23:00:41.357671Z",
     "start_time": "2020-04-26T23:00:41.343953Z"
    }
   },
   "outputs": [],
   "source": [
    "# 장르코드 뒷자리 두 자리가 00인 코드를 필터링\n",
    "gnr_code = genre_gn_all[genre_gn_all['gnr_code'].str[-2:] == '00']"
   ]
  },
  {
   "cell_type": "code",
   "execution_count": 7,
   "metadata": {
    "ExecuteTime": {
     "end_time": "2020-04-26T23:00:41.371136Z",
     "start_time": "2020-04-26T23:00:41.359662Z"
    }
   },
   "outputs": [
    {
     "data": {
      "text/html": [
       "<div>\n",
       "<style scoped>\n",
       "    .dataframe tbody tr th:only-of-type {\n",
       "        vertical-align: middle;\n",
       "    }\n",
       "\n",
       "    .dataframe tbody tr th {\n",
       "        vertical-align: top;\n",
       "    }\n",
       "\n",
       "    .dataframe thead th {\n",
       "        text-align: right;\n",
       "    }\n",
       "</style>\n",
       "<table border=\"1\" class=\"dataframe\">\n",
       "  <thead>\n",
       "    <tr style=\"text-align: right;\">\n",
       "      <th></th>\n",
       "      <th>gnr_code</th>\n",
       "      <th>gnr_name</th>\n",
       "    </tr>\n",
       "  </thead>\n",
       "  <tbody>\n",
       "    <tr>\n",
       "      <th>0</th>\n",
       "      <td>GN0100</td>\n",
       "      <td>발라드</td>\n",
       "    </tr>\n",
       "    <tr>\n",
       "      <th>6</th>\n",
       "      <td>GN0200</td>\n",
       "      <td>댄스</td>\n",
       "    </tr>\n",
       "    <tr>\n",
       "      <th>12</th>\n",
       "      <td>GN0300</td>\n",
       "      <td>랩/힙합</td>\n",
       "    </tr>\n",
       "    <tr>\n",
       "      <th>18</th>\n",
       "      <td>GN0400</td>\n",
       "      <td>R&amp;B/Soul</td>\n",
       "    </tr>\n",
       "    <tr>\n",
       "      <th>22</th>\n",
       "      <td>GN0500</td>\n",
       "      <td>인디음악</td>\n",
       "    </tr>\n",
       "    <tr>\n",
       "      <th>32</th>\n",
       "      <td>GN0600</td>\n",
       "      <td>록/메탈</td>\n",
       "    </tr>\n",
       "    <tr>\n",
       "      <th>39</th>\n",
       "      <td>GN0700</td>\n",
       "      <td>성인가요</td>\n",
       "    </tr>\n",
       "    <tr>\n",
       "      <th>50</th>\n",
       "      <td>GN0800</td>\n",
       "      <td>포크/블루스</td>\n",
       "    </tr>\n",
       "    <tr>\n",
       "      <th>56</th>\n",
       "      <td>GN0900</td>\n",
       "      <td>POP</td>\n",
       "    </tr>\n",
       "    <tr>\n",
       "      <th>65</th>\n",
       "      <td>GN1000</td>\n",
       "      <td>록/메탈</td>\n",
       "    </tr>\n",
       "    <tr>\n",
       "      <th>80</th>\n",
       "      <td>GN1100</td>\n",
       "      <td>일렉트로니카</td>\n",
       "    </tr>\n",
       "    <tr>\n",
       "      <th>90</th>\n",
       "      <td>GN1200</td>\n",
       "      <td>랩/힙합</td>\n",
       "    </tr>\n",
       "    <tr>\n",
       "      <th>100</th>\n",
       "      <td>GN1300</td>\n",
       "      <td>R&amp;B/Soul</td>\n",
       "    </tr>\n",
       "    <tr>\n",
       "      <th>109</th>\n",
       "      <td>GN1400</td>\n",
       "      <td>포크/블루스/컨트리</td>\n",
       "    </tr>\n",
       "    <tr>\n",
       "      <th>117</th>\n",
       "      <td>GN1500</td>\n",
       "      <td>OST</td>\n",
       "    </tr>\n",
       "    <tr>\n",
       "      <th>128</th>\n",
       "      <td>GN1600</td>\n",
       "      <td>클래식</td>\n",
       "    </tr>\n",
       "    <tr>\n",
       "      <th>144</th>\n",
       "      <td>GN1700</td>\n",
       "      <td>재즈</td>\n",
       "    </tr>\n",
       "    <tr>\n",
       "      <th>155</th>\n",
       "      <td>GN1800</td>\n",
       "      <td>뉴에이지</td>\n",
       "    </tr>\n",
       "    <tr>\n",
       "      <th>163</th>\n",
       "      <td>GN1900</td>\n",
       "      <td>J-POP</td>\n",
       "    </tr>\n",
       "    <tr>\n",
       "      <th>176</th>\n",
       "      <td>GN2000</td>\n",
       "      <td>월드뮤직</td>\n",
       "    </tr>\n",
       "    <tr>\n",
       "      <th>187</th>\n",
       "      <td>GN2100</td>\n",
       "      <td>CCM</td>\n",
       "    </tr>\n",
       "    <tr>\n",
       "      <th>198</th>\n",
       "      <td>GN2200</td>\n",
       "      <td>어린이/태교</td>\n",
       "    </tr>\n",
       "    <tr>\n",
       "      <th>215</th>\n",
       "      <td>GN2300</td>\n",
       "      <td>종교음악</td>\n",
       "    </tr>\n",
       "    <tr>\n",
       "      <th>218</th>\n",
       "      <td>GN2400</td>\n",
       "      <td>국악</td>\n",
       "    </tr>\n",
       "    <tr>\n",
       "      <th>225</th>\n",
       "      <td>GN2500</td>\n",
       "      <td>아이돌</td>\n",
       "    </tr>\n",
       "    <tr>\n",
       "      <th>232</th>\n",
       "      <td>GN2600</td>\n",
       "      <td>일렉트로니카</td>\n",
       "    </tr>\n",
       "    <tr>\n",
       "      <th>237</th>\n",
       "      <td>GN2700</td>\n",
       "      <td>EDM</td>\n",
       "    </tr>\n",
       "    <tr>\n",
       "      <th>242</th>\n",
       "      <td>GN2800</td>\n",
       "      <td>뮤직테라피</td>\n",
       "    </tr>\n",
       "    <tr>\n",
       "      <th>249</th>\n",
       "      <td>GN2900</td>\n",
       "      <td>뮤지컬</td>\n",
       "    </tr>\n",
       "    <tr>\n",
       "      <th>253</th>\n",
       "      <td>GN3000</td>\n",
       "      <td>크리스마스</td>\n",
       "    </tr>\n",
       "  </tbody>\n",
       "</table>\n",
       "</div>"
      ],
      "text/plain": [
       "    gnr_code    gnr_name\n",
       "0     GN0100         발라드\n",
       "6     GN0200          댄스\n",
       "12    GN0300        랩/힙합\n",
       "18    GN0400    R&B/Soul\n",
       "22    GN0500        인디음악\n",
       "32    GN0600        록/메탈\n",
       "39    GN0700        성인가요\n",
       "50    GN0800      포크/블루스\n",
       "56    GN0900         POP\n",
       "65    GN1000        록/메탈\n",
       "80    GN1100      일렉트로니카\n",
       "90    GN1200        랩/힙합\n",
       "100   GN1300    R&B/Soul\n",
       "109   GN1400  포크/블루스/컨트리\n",
       "117   GN1500         OST\n",
       "128   GN1600         클래식\n",
       "144   GN1700          재즈\n",
       "155   GN1800        뉴에이지\n",
       "163   GN1900       J-POP\n",
       "176   GN2000        월드뮤직\n",
       "187   GN2100         CCM\n",
       "198   GN2200      어린이/태교\n",
       "215   GN2300        종교음악\n",
       "218   GN2400          국악\n",
       "225   GN2500         아이돌\n",
       "232   GN2600      일렉트로니카\n",
       "237   GN2700         EDM\n",
       "242   GN2800       뮤직테라피\n",
       "249   GN2900         뮤지컬\n",
       "253   GN3000       크리스마스"
      ]
     },
     "execution_count": 7,
     "metadata": {},
     "output_type": "execute_result"
    }
   ],
   "source": [
    "gnr_code"
   ]
  },
  {
   "cell_type": "code",
   "execution_count": 7,
   "metadata": {},
   "outputs": [
    {
     "data": {
      "text/plain": [
       "(30, 2)"
      ]
     },
     "execution_count": 7,
     "metadata": {},
     "output_type": "execute_result"
    }
   ],
   "source": [
    "gnr_code.shape"
   ]
  },
  {
   "cell_type": "markdown",
   "metadata": {},
   "source": [
    "<br>"
   ]
  },
  {
   "cell_type": "markdown",
   "metadata": {},
   "source": [
    "### 상세 장르코드"
   ]
  },
  {
   "cell_type": "markdown",
   "metadata": {},
   "source": [
    "- 상세 장르코드는 장르코드(`gnr_code`)에서 **숫자 네 자리 중 뒷자리 두 자리가 `00`이 아닌 나머지 코드로 분류**할 수 있습니다.\n",
    "- 상세 장르는 총 224개가 있습니다."
   ]
  },
  {
   "cell_type": "code",
   "execution_count": 8,
   "metadata": {
    "ExecuteTime": {
     "end_time": "2020-04-26T23:00:41.379616Z",
     "start_time": "2020-04-26T23:00:41.372594Z"
    }
   },
   "outputs": [],
   "source": [
    "# 장르코드 뒷자리 두 자리가 00이 아닌 코드를 필터링\n",
    "dtl_gnr_code = genre_gn_all[genre_gn_all['gnr_code'].str[-2:] != '00']\n",
    "dtl_gnr_code.rename(columns = {'gnr_code' : 'dtl_gnr_code', 'gnr_name' : 'dtl_gnr_name'}, inplace = True)"
   ]
  },
  {
   "cell_type": "code",
   "execution_count": 9,
   "metadata": {
    "ExecuteTime": {
     "end_time": "2020-04-26T23:00:41.393342Z",
     "start_time": "2020-04-26T23:00:41.380918Z"
    }
   },
   "outputs": [
    {
     "data": {
      "text/html": [
       "<div>\n",
       "<style scoped>\n",
       "    .dataframe tbody tr th:only-of-type {\n",
       "        vertical-align: middle;\n",
       "    }\n",
       "\n",
       "    .dataframe tbody tr th {\n",
       "        vertical-align: top;\n",
       "    }\n",
       "\n",
       "    .dataframe thead th {\n",
       "        text-align: right;\n",
       "    }\n",
       "</style>\n",
       "<table border=\"1\" class=\"dataframe\">\n",
       "  <thead>\n",
       "    <tr style=\"text-align: right;\">\n",
       "      <th></th>\n",
       "      <th>dtl_gnr_code</th>\n",
       "      <th>dtl_gnr_name</th>\n",
       "    </tr>\n",
       "  </thead>\n",
       "  <tbody>\n",
       "    <tr>\n",
       "      <th>1</th>\n",
       "      <td>GN0101</td>\n",
       "      <td>세부장르전체</td>\n",
       "    </tr>\n",
       "    <tr>\n",
       "      <th>2</th>\n",
       "      <td>GN0102</td>\n",
       "      <td>'80</td>\n",
       "    </tr>\n",
       "    <tr>\n",
       "      <th>3</th>\n",
       "      <td>GN0103</td>\n",
       "      <td>'90</td>\n",
       "    </tr>\n",
       "    <tr>\n",
       "      <th>4</th>\n",
       "      <td>GN0104</td>\n",
       "      <td>'00</td>\n",
       "    </tr>\n",
       "    <tr>\n",
       "      <th>5</th>\n",
       "      <td>GN0105</td>\n",
       "      <td>'10-</td>\n",
       "    </tr>\n",
       "    <tr>\n",
       "      <th>...</th>\n",
       "      <td>...</td>\n",
       "      <td>...</td>\n",
       "    </tr>\n",
       "    <tr>\n",
       "      <th>247</th>\n",
       "      <td>GN2805</td>\n",
       "      <td>숙면유도</td>\n",
       "    </tr>\n",
       "    <tr>\n",
       "      <th>248</th>\n",
       "      <td>GN2806</td>\n",
       "      <td>반려동물</td>\n",
       "    </tr>\n",
       "    <tr>\n",
       "      <th>250</th>\n",
       "      <td>GN2901</td>\n",
       "      <td>세부장르전체</td>\n",
       "    </tr>\n",
       "    <tr>\n",
       "      <th>251</th>\n",
       "      <td>GN2902</td>\n",
       "      <td>국내뮤지컬</td>\n",
       "    </tr>\n",
       "    <tr>\n",
       "      <th>252</th>\n",
       "      <td>GN2903</td>\n",
       "      <td>국외뮤지컬</td>\n",
       "    </tr>\n",
       "  </tbody>\n",
       "</table>\n",
       "<p>224 rows × 2 columns</p>\n",
       "</div>"
      ],
      "text/plain": [
       "    dtl_gnr_code dtl_gnr_name\n",
       "1         GN0101       세부장르전체\n",
       "2         GN0102          '80\n",
       "3         GN0103          '90\n",
       "4         GN0104          '00\n",
       "5         GN0105         '10-\n",
       "..           ...          ...\n",
       "247       GN2805         숙면유도\n",
       "248       GN2806         반려동물\n",
       "250       GN2901       세부장르전체\n",
       "251       GN2902        국내뮤지컬\n",
       "252       GN2903        국외뮤지컬\n",
       "\n",
       "[224 rows x 2 columns]"
      ]
     },
     "execution_count": 9,
     "metadata": {},
     "output_type": "execute_result"
    }
   ],
   "source": [
    "dtl_gnr_code"
   ]
  },
  {
   "cell_type": "markdown",
   "metadata": {},
   "source": [
    "<br>"
   ]
  },
  {
   "cell_type": "markdown",
   "metadata": {},
   "source": [
    "### 장르 코드 트리(Tree)"
   ]
  },
  {
   "cell_type": "markdown",
   "metadata": {},
   "source": [
    "- 위에서 구분한 **대분류 장르코드와 상세 장르코드 앞자리 네 자리를 활용**하여 장르 코드 트리도 구성해볼 수 있습니다."
   ]
  },
  {
   "cell_type": "code",
   "execution_count": 10,
   "metadata": {
    "ExecuteTime": {
     "end_time": "2020-04-26T23:00:41.485298Z",
     "start_time": "2020-04-26T23:00:41.394678Z"
    }
   },
   "outputs": [
    {
     "data": {
      "text/html": [
       "<div>\n",
       "<style scoped>\n",
       "    .dataframe tbody tr th:only-of-type {\n",
       "        vertical-align: middle;\n",
       "    }\n",
       "\n",
       "    .dataframe tbody tr th {\n",
       "        vertical-align: top;\n",
       "    }\n",
       "\n",
       "    .dataframe thead th {\n",
       "        text-align: right;\n",
       "    }\n",
       "</style>\n",
       "<table border=\"1\" class=\"dataframe\">\n",
       "  <thead>\n",
       "    <tr style=\"text-align: right;\">\n",
       "      <th></th>\n",
       "      <th>gnr_code</th>\n",
       "      <th>gnr_name</th>\n",
       "      <th>dtl_gnr_code</th>\n",
       "      <th>dtl_gnr_name</th>\n",
       "    </tr>\n",
       "  </thead>\n",
       "  <tbody>\n",
       "    <tr>\n",
       "      <th>0</th>\n",
       "      <td>GN0100</td>\n",
       "      <td>발라드</td>\n",
       "      <td>GN0101</td>\n",
       "      <td>세부장르전체</td>\n",
       "    </tr>\n",
       "    <tr>\n",
       "      <th>1</th>\n",
       "      <td>GN0100</td>\n",
       "      <td>발라드</td>\n",
       "      <td>GN0102</td>\n",
       "      <td>'80</td>\n",
       "    </tr>\n",
       "    <tr>\n",
       "      <th>2</th>\n",
       "      <td>GN0100</td>\n",
       "      <td>발라드</td>\n",
       "      <td>GN0103</td>\n",
       "      <td>'90</td>\n",
       "    </tr>\n",
       "    <tr>\n",
       "      <th>3</th>\n",
       "      <td>GN0100</td>\n",
       "      <td>발라드</td>\n",
       "      <td>GN0104</td>\n",
       "      <td>'00</td>\n",
       "    </tr>\n",
       "    <tr>\n",
       "      <th>4</th>\n",
       "      <td>GN0100</td>\n",
       "      <td>발라드</td>\n",
       "      <td>GN0105</td>\n",
       "      <td>'10-</td>\n",
       "    </tr>\n",
       "    <tr>\n",
       "      <th>...</th>\n",
       "      <td>...</td>\n",
       "      <td>...</td>\n",
       "      <td>...</td>\n",
       "      <td>...</td>\n",
       "    </tr>\n",
       "    <tr>\n",
       "      <th>220</th>\n",
       "      <td>GN2800</td>\n",
       "      <td>뮤직테라피</td>\n",
       "      <td>GN2806</td>\n",
       "      <td>반려동물</td>\n",
       "    </tr>\n",
       "    <tr>\n",
       "      <th>221</th>\n",
       "      <td>GN2900</td>\n",
       "      <td>뮤지컬</td>\n",
       "      <td>GN2901</td>\n",
       "      <td>세부장르전체</td>\n",
       "    </tr>\n",
       "    <tr>\n",
       "      <th>222</th>\n",
       "      <td>GN2900</td>\n",
       "      <td>뮤지컬</td>\n",
       "      <td>GN2902</td>\n",
       "      <td>국내뮤지컬</td>\n",
       "    </tr>\n",
       "    <tr>\n",
       "      <th>223</th>\n",
       "      <td>GN2900</td>\n",
       "      <td>뮤지컬</td>\n",
       "      <td>GN2903</td>\n",
       "      <td>국외뮤지컬</td>\n",
       "    </tr>\n",
       "    <tr>\n",
       "      <th>224</th>\n",
       "      <td>GN3000</td>\n",
       "      <td>크리스마스</td>\n",
       "      <td>NaN</td>\n",
       "      <td>NaN</td>\n",
       "    </tr>\n",
       "  </tbody>\n",
       "</table>\n",
       "<p>225 rows × 4 columns</p>\n",
       "</div>"
      ],
      "text/plain": [
       "    gnr_code gnr_name dtl_gnr_code dtl_gnr_name\n",
       "0     GN0100      발라드       GN0101       세부장르전체\n",
       "1     GN0100      발라드       GN0102          '80\n",
       "2     GN0100      발라드       GN0103          '90\n",
       "3     GN0100      발라드       GN0104          '00\n",
       "4     GN0100      발라드       GN0105         '10-\n",
       "..       ...      ...          ...          ...\n",
       "220   GN2800    뮤직테라피       GN2806         반려동물\n",
       "221   GN2900      뮤지컬       GN2901       세부장르전체\n",
       "222   GN2900      뮤지컬       GN2902        국내뮤지컬\n",
       "223   GN2900      뮤지컬       GN2903        국외뮤지컬\n",
       "224   GN3000    크리스마스          NaN          NaN\n",
       "\n",
       "[225 rows x 4 columns]"
      ]
     },
     "execution_count": 10,
     "metadata": {},
     "output_type": "execute_result"
    }
   ],
   "source": [
    "# 앞자리 네 자리 공통코드 추출\n",
    "gnr_code = gnr_code.assign(join_code = gnr_code['gnr_code'].str[0:4])\n",
    "dtl_gnr_code = dtl_gnr_code.assign(join_code = dtl_gnr_code['dtl_gnr_code'].str[0:4])\n",
    "\n",
    "# Merge\n",
    "gnr_code_tree = pd.merge(gnr_code, dtl_gnr_code, how = 'left', on = 'join_code')\n",
    "\n",
    "gnr_code_tree[['gnr_code', 'gnr_name', 'dtl_gnr_code', 'dtl_gnr_name']]"
   ]
  },
  {
   "cell_type": "code",
   "execution_count": 11,
   "metadata": {
    "ExecuteTime": {
     "end_time": "2020-04-26T23:00:41.496315Z",
     "start_time": "2020-04-26T23:00:41.486600Z"
    }
   },
   "outputs": [
    {
     "data": {
      "text/html": [
       "<div>\n",
       "<style scoped>\n",
       "    .dataframe tbody tr th:only-of-type {\n",
       "        vertical-align: middle;\n",
       "    }\n",
       "\n",
       "    .dataframe tbody tr th {\n",
       "        vertical-align: top;\n",
       "    }\n",
       "\n",
       "    .dataframe thead th {\n",
       "        text-align: right;\n",
       "    }\n",
       "</style>\n",
       "<table border=\"1\" class=\"dataframe\">\n",
       "  <thead>\n",
       "    <tr style=\"text-align: right;\">\n",
       "      <th></th>\n",
       "      <th>gnr_code</th>\n",
       "      <th>gnr_name</th>\n",
       "      <th>join_code</th>\n",
       "      <th>dtl_gnr_code</th>\n",
       "      <th>dtl_gnr_name</th>\n",
       "    </tr>\n",
       "  </thead>\n",
       "  <tbody>\n",
       "    <tr>\n",
       "      <th>48</th>\n",
       "      <td>GN0900</td>\n",
       "      <td>POP</td>\n",
       "      <td>GN09</td>\n",
       "      <td>GN0901</td>\n",
       "      <td>세부장르전체</td>\n",
       "    </tr>\n",
       "    <tr>\n",
       "      <th>49</th>\n",
       "      <td>GN0900</td>\n",
       "      <td>POP</td>\n",
       "      <td>GN09</td>\n",
       "      <td>GN0902</td>\n",
       "      <td>얼터너티브팝</td>\n",
       "    </tr>\n",
       "    <tr>\n",
       "      <th>50</th>\n",
       "      <td>GN0900</td>\n",
       "      <td>POP</td>\n",
       "      <td>GN09</td>\n",
       "      <td>GN0903</td>\n",
       "      <td>올디스</td>\n",
       "    </tr>\n",
       "    <tr>\n",
       "      <th>51</th>\n",
       "      <td>GN0900</td>\n",
       "      <td>POP</td>\n",
       "      <td>GN09</td>\n",
       "      <td>GN0904</td>\n",
       "      <td>월드팝</td>\n",
       "    </tr>\n",
       "    <tr>\n",
       "      <th>52</th>\n",
       "      <td>GN0900</td>\n",
       "      <td>POP</td>\n",
       "      <td>GN09</td>\n",
       "      <td>GN0905</td>\n",
       "      <td>'60-'70</td>\n",
       "    </tr>\n",
       "    <tr>\n",
       "      <th>53</th>\n",
       "      <td>GN0900</td>\n",
       "      <td>POP</td>\n",
       "      <td>GN09</td>\n",
       "      <td>GN0906</td>\n",
       "      <td>'80-'90</td>\n",
       "    </tr>\n",
       "    <tr>\n",
       "      <th>54</th>\n",
       "      <td>GN0900</td>\n",
       "      <td>POP</td>\n",
       "      <td>GN09</td>\n",
       "      <td>GN0907</td>\n",
       "      <td>'00</td>\n",
       "    </tr>\n",
       "    <tr>\n",
       "      <th>55</th>\n",
       "      <td>GN0900</td>\n",
       "      <td>POP</td>\n",
       "      <td>GN09</td>\n",
       "      <td>GN0908</td>\n",
       "      <td>'10-</td>\n",
       "    </tr>\n",
       "  </tbody>\n",
       "</table>\n",
       "</div>"
      ],
      "text/plain": [
       "   gnr_code gnr_name join_code dtl_gnr_code dtl_gnr_name\n",
       "48   GN0900      POP      GN09       GN0901       세부장르전체\n",
       "49   GN0900      POP      GN09       GN0902       얼터너티브팝\n",
       "50   GN0900      POP      GN09       GN0903          올디스\n",
       "51   GN0900      POP      GN09       GN0904          월드팝\n",
       "52   GN0900      POP      GN09       GN0905      '60-'70\n",
       "53   GN0900      POP      GN09       GN0906      '80-'90\n",
       "54   GN0900      POP      GN09       GN0907          '00\n",
       "55   GN0900      POP      GN09       GN0908         '10-"
      ]
     },
     "execution_count": 11,
     "metadata": {},
     "output_type": "execute_result"
    }
   ],
   "source": [
    "# POP 장르(GN0900)의 상세 장르 살펴보기\n",
    "gnr_code_tree[gnr_code_tree['gnr_code'] == 'GN0900']"
   ]
  },
  {
   "cell_type": "code",
   "execution_count": 12,
   "metadata": {
    "ExecuteTime": {
     "end_time": "2020-04-26T23:00:41.511410Z",
     "start_time": "2020-04-26T23:00:41.497657Z"
    }
   },
   "outputs": [
    {
     "data": {
      "text/html": [
       "<div>\n",
       "<style scoped>\n",
       "    .dataframe tbody tr th:only-of-type {\n",
       "        vertical-align: middle;\n",
       "    }\n",
       "\n",
       "    .dataframe tbody tr th {\n",
       "        vertical-align: top;\n",
       "    }\n",
       "\n",
       "    .dataframe thead th {\n",
       "        text-align: right;\n",
       "    }\n",
       "</style>\n",
       "<table border=\"1\" class=\"dataframe\">\n",
       "  <thead>\n",
       "    <tr style=\"text-align: right;\">\n",
       "      <th></th>\n",
       "      <th>gnr_code</th>\n",
       "      <th>gnr_name</th>\n",
       "      <th>join_code</th>\n",
       "      <th>dtl_gnr_code</th>\n",
       "      <th>dtl_gnr_name</th>\n",
       "    </tr>\n",
       "  </thead>\n",
       "  <tbody>\n",
       "    <tr>\n",
       "      <th>177</th>\n",
       "      <td>GN2200</td>\n",
       "      <td>어린이/태교</td>\n",
       "      <td>GN22</td>\n",
       "      <td>GN2201</td>\n",
       "      <td>유아동요</td>\n",
       "    </tr>\n",
       "    <tr>\n",
       "      <th>178</th>\n",
       "      <td>GN2200</td>\n",
       "      <td>어린이/태교</td>\n",
       "      <td>GN22</td>\n",
       "      <td>GN2202</td>\n",
       "      <td>창작동요</td>\n",
       "    </tr>\n",
       "    <tr>\n",
       "      <th>179</th>\n",
       "      <td>GN2200</td>\n",
       "      <td>어린이/태교</td>\n",
       "      <td>GN22</td>\n",
       "      <td>GN2203</td>\n",
       "      <td>영어동요</td>\n",
       "    </tr>\n",
       "    <tr>\n",
       "      <th>180</th>\n",
       "      <td>GN2200</td>\n",
       "      <td>어린이/태교</td>\n",
       "      <td>GN22</td>\n",
       "      <td>GN2204</td>\n",
       "      <td>영어동요</td>\n",
       "    </tr>\n",
       "    <tr>\n",
       "      <th>181</th>\n",
       "      <td>GN2200</td>\n",
       "      <td>어린이/태교</td>\n",
       "      <td>GN22</td>\n",
       "      <td>GN2205</td>\n",
       "      <td>영어동요</td>\n",
       "    </tr>\n",
       "    <tr>\n",
       "      <th>182</th>\n",
       "      <td>GN2200</td>\n",
       "      <td>어린이/태교</td>\n",
       "      <td>GN22</td>\n",
       "      <td>GN2206</td>\n",
       "      <td>영어동화</td>\n",
       "    </tr>\n",
       "    <tr>\n",
       "      <th>183</th>\n",
       "      <td>GN2200</td>\n",
       "      <td>어린이/태교</td>\n",
       "      <td>GN22</td>\n",
       "      <td>GN2207</td>\n",
       "      <td>만화</td>\n",
       "    </tr>\n",
       "    <tr>\n",
       "      <th>184</th>\n",
       "      <td>GN2200</td>\n",
       "      <td>어린이/태교</td>\n",
       "      <td>GN22</td>\n",
       "      <td>GN2208</td>\n",
       "      <td>자장가</td>\n",
       "    </tr>\n",
       "    <tr>\n",
       "      <th>185</th>\n",
       "      <td>GN2200</td>\n",
       "      <td>어린이/태교</td>\n",
       "      <td>GN22</td>\n",
       "      <td>GN2209</td>\n",
       "      <td>태교동화</td>\n",
       "    </tr>\n",
       "    <tr>\n",
       "      <th>186</th>\n",
       "      <td>GN2200</td>\n",
       "      <td>어린이/태교</td>\n",
       "      <td>GN22</td>\n",
       "      <td>GN2210</td>\n",
       "      <td>태교</td>\n",
       "    </tr>\n",
       "    <tr>\n",
       "      <th>187</th>\n",
       "      <td>GN2200</td>\n",
       "      <td>어린이/태교</td>\n",
       "      <td>GN22</td>\n",
       "      <td>GN2211</td>\n",
       "      <td>릴렉싱&amp;힐링</td>\n",
       "    </tr>\n",
       "    <tr>\n",
       "      <th>188</th>\n",
       "      <td>GN2200</td>\n",
       "      <td>어린이/태교</td>\n",
       "      <td>GN22</td>\n",
       "      <td>GN2212</td>\n",
       "      <td>명작동화</td>\n",
       "    </tr>\n",
       "    <tr>\n",
       "      <th>189</th>\n",
       "      <td>GN2200</td>\n",
       "      <td>어린이/태교</td>\n",
       "      <td>GN22</td>\n",
       "      <td>GN2213</td>\n",
       "      <td>교과서동요</td>\n",
       "    </tr>\n",
       "    <tr>\n",
       "      <th>190</th>\n",
       "      <td>GN2200</td>\n",
       "      <td>어린이/태교</td>\n",
       "      <td>GN22</td>\n",
       "      <td>GN2214</td>\n",
       "      <td>전래동요</td>\n",
       "    </tr>\n",
       "    <tr>\n",
       "      <th>191</th>\n",
       "      <td>GN2200</td>\n",
       "      <td>어린이/태교</td>\n",
       "      <td>GN22</td>\n",
       "      <td>GN2215</td>\n",
       "      <td>창작동화</td>\n",
       "    </tr>\n",
       "    <tr>\n",
       "      <th>192</th>\n",
       "      <td>GN2200</td>\n",
       "      <td>어린이/태교</td>\n",
       "      <td>GN22</td>\n",
       "      <td>GN2216</td>\n",
       "      <td>어린이클래식</td>\n",
       "    </tr>\n",
       "  </tbody>\n",
       "</table>\n",
       "</div>"
      ],
      "text/plain": [
       "    gnr_code gnr_name join_code dtl_gnr_code dtl_gnr_name\n",
       "177   GN2200   어린이/태교      GN22       GN2201         유아동요\n",
       "178   GN2200   어린이/태교      GN22       GN2202         창작동요\n",
       "179   GN2200   어린이/태교      GN22       GN2203         영어동요\n",
       "180   GN2200   어린이/태교      GN22       GN2204         영어동요\n",
       "181   GN2200   어린이/태교      GN22       GN2205         영어동요\n",
       "182   GN2200   어린이/태교      GN22       GN2206         영어동화\n",
       "183   GN2200   어린이/태교      GN22       GN2207           만화\n",
       "184   GN2200   어린이/태교      GN22       GN2208          자장가\n",
       "185   GN2200   어린이/태교      GN22       GN2209         태교동화\n",
       "186   GN2200   어린이/태교      GN22       GN2210           태교\n",
       "187   GN2200   어린이/태교      GN22       GN2211       릴렉싱&힐링\n",
       "188   GN2200   어린이/태교      GN22       GN2212         명작동화\n",
       "189   GN2200   어린이/태교      GN22       GN2213        교과서동요\n",
       "190   GN2200   어린이/태교      GN22       GN2214         전래동요\n",
       "191   GN2200   어린이/태교      GN22       GN2215         창작동화\n",
       "192   GN2200   어린이/태교      GN22       GN2216       어린이클래식"
      ]
     },
     "execution_count": 12,
     "metadata": {},
     "output_type": "execute_result"
    }
   ],
   "source": [
    "# 어린이/테교 장르(GN2200)의 상세 장르 살펴보기\n",
    "gnr_code_tree[gnr_code_tree['gnr_code'] == 'GN2200']"
   ]
  },
  {
   "cell_type": "markdown",
   "metadata": {},
   "source": [
    "<br><br><br>"
   ]
  },
  {
   "cell_type": "markdown",
   "metadata": {},
   "source": [
    "## 2. 곡 별 메타 데이터 : `song_meta.json`"
   ]
  },
  {
   "cell_type": "markdown",
   "metadata": {},
   "source": [
    "### 데이터 불러오기"
   ]
  },
  {
   "cell_type": "code",
   "execution_count": 13,
   "metadata": {
    "ExecuteTime": {
     "end_time": "2020-04-26T23:00:56.977184Z",
     "start_time": "2020-04-26T23:00:46.031689Z"
    }
   },
   "outputs": [],
   "source": [
    "song_meta = pd.read_json('../data/song_meta.json', typ = 'frame')"
   ]
  },
  {
   "cell_type": "code",
   "execution_count": 14,
   "metadata": {
    "ExecuteTime": {
     "end_time": "2020-04-26T23:00:57.011940Z",
     "start_time": "2020-04-26T23:00:56.979715Z"
    }
   },
   "outputs": [
    {
     "data": {
      "text/html": [
       "<div>\n",
       "<style scoped>\n",
       "    .dataframe tbody tr th:only-of-type {\n",
       "        vertical-align: middle;\n",
       "    }\n",
       "\n",
       "    .dataframe tbody tr th {\n",
       "        vertical-align: top;\n",
       "    }\n",
       "\n",
       "    .dataframe thead th {\n",
       "        text-align: right;\n",
       "    }\n",
       "</style>\n",
       "<table border=\"1\" class=\"dataframe\">\n",
       "  <thead>\n",
       "    <tr style=\"text-align: right;\">\n",
       "      <th></th>\n",
       "      <th>song_gn_dtl_gnr_basket</th>\n",
       "      <th>issue_date</th>\n",
       "      <th>album_name</th>\n",
       "      <th>album_id</th>\n",
       "      <th>artist_id_basket</th>\n",
       "      <th>song_name</th>\n",
       "      <th>song_gn_gnr_basket</th>\n",
       "      <th>artist_name_basket</th>\n",
       "      <th>id</th>\n",
       "    </tr>\n",
       "  </thead>\n",
       "  <tbody>\n",
       "    <tr>\n",
       "      <th>0</th>\n",
       "      <td>[GN0901]</td>\n",
       "      <td>20140512</td>\n",
       "      <td>불후의 명곡 - 7080 추억의 얄개시대 팝송베스트</td>\n",
       "      <td>2255639</td>\n",
       "      <td>[2727]</td>\n",
       "      <td>Feelings</td>\n",
       "      <td>[GN0900]</td>\n",
       "      <td>[Various Artists]</td>\n",
       "      <td>0</td>\n",
       "    </tr>\n",
       "    <tr>\n",
       "      <th>1</th>\n",
       "      <td>[GN1601, GN1606]</td>\n",
       "      <td>20080421</td>\n",
       "      <td>Bach : Partitas Nos. 2, 3 &amp; 4</td>\n",
       "      <td>376431</td>\n",
       "      <td>[29966]</td>\n",
       "      <td>Bach : Partita No. 4 In D Major, BWV 828 - II....</td>\n",
       "      <td>[GN1600]</td>\n",
       "      <td>[Murray Perahia]</td>\n",
       "      <td>1</td>\n",
       "    </tr>\n",
       "    <tr>\n",
       "      <th>2</th>\n",
       "      <td>[GN0901]</td>\n",
       "      <td>20180518</td>\n",
       "      <td>Hit</td>\n",
       "      <td>4698747</td>\n",
       "      <td>[3361]</td>\n",
       "      <td>Solsbury Hill (Remastered 2002)</td>\n",
       "      <td>[GN0900]</td>\n",
       "      <td>[Peter Gabriel]</td>\n",
       "      <td>2</td>\n",
       "    </tr>\n",
       "    <tr>\n",
       "      <th>3</th>\n",
       "      <td>[GN1102, GN1101]</td>\n",
       "      <td>20151016</td>\n",
       "      <td>Feeling Right (Everything Is Nice) (Feat. Popc...</td>\n",
       "      <td>2644882</td>\n",
       "      <td>[838543]</td>\n",
       "      <td>Feeling Right (Everything Is Nice) (Feat. Popc...</td>\n",
       "      <td>[GN1100]</td>\n",
       "      <td>[Matoma]</td>\n",
       "      <td>3</td>\n",
       "    </tr>\n",
       "    <tr>\n",
       "      <th>4</th>\n",
       "      <td>[GN1802, GN1801]</td>\n",
       "      <td>20110824</td>\n",
       "      <td>그남자 그여자</td>\n",
       "      <td>2008470</td>\n",
       "      <td>[560160]</td>\n",
       "      <td>그남자 그여자</td>\n",
       "      <td>[GN1800]</td>\n",
       "      <td>[Jude Law]</td>\n",
       "      <td>4</td>\n",
       "    </tr>\n",
       "    <tr>\n",
       "      <th>...</th>\n",
       "      <td>...</td>\n",
       "      <td>...</td>\n",
       "      <td>...</td>\n",
       "      <td>...</td>\n",
       "      <td>...</td>\n",
       "      <td>...</td>\n",
       "      <td>...</td>\n",
       "      <td>...</td>\n",
       "      <td>...</td>\n",
       "    </tr>\n",
       "    <tr>\n",
       "      <th>707984</th>\n",
       "      <td>[GN2001]</td>\n",
       "      <td>19991219</td>\n",
       "      <td>The Best Best Of The Black President</td>\n",
       "      <td>65254</td>\n",
       "      <td>[166499]</td>\n",
       "      <td>Coffin For Head Of State</td>\n",
       "      <td>[GN2000]</td>\n",
       "      <td>[Fela Kuti]</td>\n",
       "      <td>707984</td>\n",
       "    </tr>\n",
       "    <tr>\n",
       "      <th>707985</th>\n",
       "      <td>[GN0901]</td>\n",
       "      <td>19860000</td>\n",
       "      <td>True Colors</td>\n",
       "      <td>44141</td>\n",
       "      <td>[11837]</td>\n",
       "      <td>Change Of Heart</td>\n",
       "      <td>[GN0900]</td>\n",
       "      <td>[Cyndi Lauper]</td>\n",
       "      <td>707985</td>\n",
       "    </tr>\n",
       "    <tr>\n",
       "      <th>707986</th>\n",
       "      <td>[GN0105, GN0101]</td>\n",
       "      <td>20160120</td>\n",
       "      <td>행보 2015 윤종신 / 작사가 윤종신 Live Part.1</td>\n",
       "      <td>2662866</td>\n",
       "      <td>[437]</td>\n",
       "      <td>스치듯 안녕</td>\n",
       "      <td>[GN0100]</td>\n",
       "      <td>[윤종신]</td>\n",
       "      <td>707986</td>\n",
       "    </tr>\n",
       "    <tr>\n",
       "      <th>707987</th>\n",
       "      <td>[GN1807, GN1801]</td>\n",
       "      <td>20131217</td>\n",
       "      <td>명상의 시간을 위한 뉴에이지 음악</td>\n",
       "      <td>2221722</td>\n",
       "      <td>[729868]</td>\n",
       "      <td>숲의 빛</td>\n",
       "      <td>[GN1800]</td>\n",
       "      <td>[Nature Piano]</td>\n",
       "      <td>707987</td>\n",
       "    </tr>\n",
       "    <tr>\n",
       "      <th>707988</th>\n",
       "      <td>[GN0601, GN0604]</td>\n",
       "      <td>19980000</td>\n",
       "      <td>김경호 Live</td>\n",
       "      <td>34663</td>\n",
       "      <td>[895]</td>\n",
       "      <td>Queen 명곡 멜로디</td>\n",
       "      <td>[GN0600]</td>\n",
       "      <td>[김경호]</td>\n",
       "      <td>707988</td>\n",
       "    </tr>\n",
       "  </tbody>\n",
       "</table>\n",
       "<p>707989 rows × 9 columns</p>\n",
       "</div>"
      ],
      "text/plain": [
       "       song_gn_dtl_gnr_basket  issue_date  \\\n",
       "0                    [GN0901]    20140512   \n",
       "1            [GN1601, GN1606]    20080421   \n",
       "2                    [GN0901]    20180518   \n",
       "3            [GN1102, GN1101]    20151016   \n",
       "4            [GN1802, GN1801]    20110824   \n",
       "...                       ...         ...   \n",
       "707984               [GN2001]    19991219   \n",
       "707985               [GN0901]    19860000   \n",
       "707986       [GN0105, GN0101]    20160120   \n",
       "707987       [GN1807, GN1801]    20131217   \n",
       "707988       [GN0601, GN0604]    19980000   \n",
       "\n",
       "                                               album_name  album_id  \\\n",
       "0                            불후의 명곡 - 7080 추억의 얄개시대 팝송베스트   2255639   \n",
       "1                           Bach : Partitas Nos. 2, 3 & 4    376431   \n",
       "2                                                     Hit   4698747   \n",
       "3       Feeling Right (Everything Is Nice) (Feat. Popc...   2644882   \n",
       "4                                                 그남자 그여자   2008470   \n",
       "...                                                   ...       ...   \n",
       "707984               The Best Best Of The Black President     65254   \n",
       "707985                                        True Colors     44141   \n",
       "707986                  행보 2015 윤종신 / 작사가 윤종신 Live Part.1   2662866   \n",
       "707987                                 명상의 시간을 위한 뉴에이지 음악   2221722   \n",
       "707988                                           김경호 Live     34663   \n",
       "\n",
       "       artist_id_basket                                          song_name  \\\n",
       "0                [2727]                                           Feelings   \n",
       "1               [29966]  Bach : Partita No. 4 In D Major, BWV 828 - II....   \n",
       "2                [3361]                    Solsbury Hill (Remastered 2002)   \n",
       "3              [838543]  Feeling Right (Everything Is Nice) (Feat. Popc...   \n",
       "4              [560160]                                            그남자 그여자   \n",
       "...                 ...                                                ...   \n",
       "707984         [166499]                           Coffin For Head Of State   \n",
       "707985          [11837]                                    Change Of Heart   \n",
       "707986            [437]                                             스치듯 안녕   \n",
       "707987         [729868]                                               숲의 빛   \n",
       "707988            [895]                                       Queen 명곡 멜로디   \n",
       "\n",
       "       song_gn_gnr_basket artist_name_basket      id  \n",
       "0                [GN0900]  [Various Artists]       0  \n",
       "1                [GN1600]   [Murray Perahia]       1  \n",
       "2                [GN0900]    [Peter Gabriel]       2  \n",
       "3                [GN1100]           [Matoma]       3  \n",
       "4                [GN1800]         [Jude Law]       4  \n",
       "...                   ...                ...     ...  \n",
       "707984           [GN2000]        [Fela Kuti]  707984  \n",
       "707985           [GN0900]     [Cyndi Lauper]  707985  \n",
       "707986           [GN0100]              [윤종신]  707986  \n",
       "707987           [GN1800]     [Nature Piano]  707987  \n",
       "707988           [GN0600]              [김경호]  707988  \n",
       "\n",
       "[707989 rows x 9 columns]"
      ]
     },
     "execution_count": 14,
     "metadata": {},
     "output_type": "execute_result"
    }
   ],
   "source": [
    "song_meta"
   ]
  },
  {
   "cell_type": "code",
   "execution_count": 15,
   "metadata": {
    "ExecuteTime": {
     "end_time": "2020-04-26T23:00:57.647218Z",
     "start_time": "2020-04-26T23:00:57.013747Z"
    }
   },
   "outputs": [
    {
     "name": "stdout",
     "output_type": "stream",
     "text": [
      "<class 'pandas.core.frame.DataFrame'>\n",
      "RangeIndex: 707989 entries, 0 to 707988\n",
      "Data columns (total 9 columns):\n",
      " #   Column                  Non-Null Count   Dtype \n",
      "---  ------                  --------------   ----- \n",
      " 0   song_gn_dtl_gnr_basket  707989 non-null  object\n",
      " 1   issue_date              707989 non-null  int64 \n",
      " 2   album_name              707985 non-null  object\n",
      " 3   album_id                707989 non-null  int64 \n",
      " 4   artist_id_basket        707989 non-null  object\n",
      " 5   song_name               707989 non-null  object\n",
      " 6   song_gn_gnr_basket      707989 non-null  object\n",
      " 7   artist_name_basket      707989 non-null  object\n",
      " 8   id                      707989 non-null  int64 \n",
      "dtypes: int64(3), object(6)\n",
      "memory usage: 48.6+ MB\n"
     ]
    }
   ],
   "source": [
    "song_meta.info()"
   ]
  },
  {
   "cell_type": "code",
   "execution_count": 16,
   "metadata": {},
   "outputs": [
    {
     "data": {
      "text/plain": [
       "song_gn_dtl_gnr_basket    False\n",
       "issue_date                False\n",
       "album_name                 True\n",
       "album_id                  False\n",
       "artist_id_basket          False\n",
       "song_name                 False\n",
       "song_gn_gnr_basket        False\n",
       "artist_name_basket        False\n",
       "id                        False\n",
       "dtype: bool"
      ]
     },
     "execution_count": 16,
     "metadata": {},
     "output_type": "execute_result"
    }
   ],
   "source": [
    "song_meta.isnull().any()"
   ]
  },
  {
   "cell_type": "code",
   "execution_count": 18,
   "metadata": {},
   "outputs": [
    {
     "data": {
      "text/html": [
       "<div>\n",
       "<style scoped>\n",
       "    .dataframe tbody tr th:only-of-type {\n",
       "        vertical-align: middle;\n",
       "    }\n",
       "\n",
       "    .dataframe tbody tr th {\n",
       "        vertical-align: top;\n",
       "    }\n",
       "\n",
       "    .dataframe thead th {\n",
       "        text-align: right;\n",
       "    }\n",
       "</style>\n",
       "<table border=\"1\" class=\"dataframe\">\n",
       "  <thead>\n",
       "    <tr style=\"text-align: right;\">\n",
       "      <th></th>\n",
       "      <th>song_gn_dtl_gnr_basket</th>\n",
       "      <th>issue_date</th>\n",
       "      <th>album_name</th>\n",
       "      <th>album_id</th>\n",
       "      <th>artist_id_basket</th>\n",
       "      <th>song_name</th>\n",
       "      <th>song_gn_gnr_basket</th>\n",
       "      <th>artist_name_basket</th>\n",
       "      <th>id</th>\n",
       "    </tr>\n",
       "  </thead>\n",
       "  <tbody>\n",
       "    <tr>\n",
       "      <th>143209</th>\n",
       "      <td>[GN0501, GN0601, GN0503, GN0606, GN0509]</td>\n",
       "      <td>20150522</td>\n",
       "      <td>None</td>\n",
       "      <td>2318271</td>\n",
       "      <td>[726168]</td>\n",
       "      <td>사랑바보</td>\n",
       "      <td>[GN0500, GN0600]</td>\n",
       "      <td>[민은서밴드]</td>\n",
       "      <td>143209</td>\n",
       "    </tr>\n",
       "    <tr>\n",
       "      <th>291631</th>\n",
       "      <td>[GN0105, GN0101]</td>\n",
       "      <td>20101108</td>\n",
       "      <td>None</td>\n",
       "      <td>1065178</td>\n",
       "      <td>[28772]</td>\n",
       "      <td>빗속에서</td>\n",
       "      <td>[GN0100]</td>\n",
       "      <td>[존박]</td>\n",
       "      <td>291631</td>\n",
       "    </tr>\n",
       "    <tr>\n",
       "      <th>431110</th>\n",
       "      <td>[GN0509, GN0601, GN0503, GN0606, GN0501]</td>\n",
       "      <td>20200208</td>\n",
       "      <td>None</td>\n",
       "      <td>10385717</td>\n",
       "      <td>[2203064]</td>\n",
       "      <td>화면</td>\n",
       "      <td>[GN0500, GN0600]</td>\n",
       "      <td>[Oowl Hannal (우울 한날)]</td>\n",
       "      <td>431110</td>\n",
       "    </tr>\n",
       "    <tr>\n",
       "      <th>552088</th>\n",
       "      <td>[GN0105, GN0601]</td>\n",
       "      <td>20101108</td>\n",
       "      <td>None</td>\n",
       "      <td>1065178</td>\n",
       "      <td>[28263]</td>\n",
       "      <td>본능적으로 (Feat. Swings)</td>\n",
       "      <td>[GN0600, GN0100]</td>\n",
       "      <td>[강승윤]</td>\n",
       "      <td>552088</td>\n",
       "    </tr>\n",
       "  </tbody>\n",
       "</table>\n",
       "</div>"
      ],
      "text/plain": [
       "                          song_gn_dtl_gnr_basket  issue_date album_name  \\\n",
       "143209  [GN0501, GN0601, GN0503, GN0606, GN0509]    20150522       None   \n",
       "291631                          [GN0105, GN0101]    20101108       None   \n",
       "431110  [GN0509, GN0601, GN0503, GN0606, GN0501]    20200208       None   \n",
       "552088                          [GN0105, GN0601]    20101108       None   \n",
       "\n",
       "        album_id artist_id_basket             song_name song_gn_gnr_basket  \\\n",
       "143209   2318271         [726168]                  사랑바보   [GN0500, GN0600]   \n",
       "291631   1065178          [28772]                  빗속에서           [GN0100]   \n",
       "431110  10385717        [2203064]                    화면   [GN0500, GN0600]   \n",
       "552088   1065178          [28263]  본능적으로 (Feat. Swings)   [GN0600, GN0100]   \n",
       "\n",
       "           artist_name_basket      id  \n",
       "143209                [민은서밴드]  143209  \n",
       "291631                   [존박]  291631  \n",
       "431110  [Oowl Hannal (우울 한날)]  431110  \n",
       "552088                  [강승윤]  552088  "
      ]
     },
     "execution_count": 18,
     "metadata": {},
     "output_type": "execute_result"
    }
   ],
   "source": [
    "song_meta[song_meta[\"album_name\"].isnull()]"
   ]
  },
  {
   "cell_type": "markdown",
   "metadata": {},
   "source": [
    "- **총 707,989곡의 메타 정보가 담겨 있으며** 포함하는 값은 아래와 같습니다.\n",
    "  + `song_gn_dtl_gnr_basket` : 상세 장르 코드\n",
    "  + `issue_date` : 곡 발매 일자 (yyyymmdd)\n",
    "  + `album_name` : 앨범 명\n",
    "  + `album_id` : 앨범 아이디\n",
    "  + `artist_id_basket` : 아티스트 아이디 (복수일 경우 띄어쓰기로 구분)\n",
    "  + `song_name` : 곡 명\n",
    "  + `song_gn_gnr_basket` : 대분류 장르코드\n",
    "  + `artist_name_basket` : 아티스트 명 (복수일 경우 띄어쓰기로 구분)\n",
    "  + `id` : 곡 아이디"
   ]
  },
  {
   "cell_type": "markdown",
   "metadata": {},
   "source": [
    "<br>"
   ]
  },
  {
   "cell_type": "markdown",
   "metadata": {},
   "source": [
    "### 곡 별 매핑 되는 장르 수는?"
   ]
  },
  {
   "cell_type": "code",
   "execution_count": 19,
   "metadata": {
    "ExecuteTime": {
     "end_time": "2020-04-26T23:03:51.097055Z",
     "start_time": "2020-04-26T23:03:48.067165Z"
    }
   },
   "outputs": [],
   "source": [
    "# 곡 아이디(id)와 대분류 장르코드 리스트(song_gn_gnr_basket) 추출\n",
    "song_gnr_map = song_meta.loc[:, ['id', 'song_gn_gnr_basket']]\n",
    "\n",
    "# unnest song_gn_gnr_basket\n",
    "song_gnr_map_unnest = np.dstack(\n",
    "    (\n",
    "        np.repeat(song_gnr_map.id.values, list(map(len, song_gnr_map.song_gn_gnr_basket))), \n",
    "        np.concatenate(song_gnr_map.song_gn_gnr_basket.values)\n",
    "    )\n",
    ")\n",
    "\n",
    "# unnested 데이터프레임 생성 : song_gnr_map\n",
    "song_gnr_map = pd.DataFrame(data = song_gnr_map_unnest[0], columns = song_gnr_map.columns)\n",
    "song_gnr_map['id'] = song_gnr_map['id'].astype(str)\n",
    "song_gnr_map.rename(columns = {'id' : 'song_id', 'song_gn_gnr_basket' : 'gnr_code'}, inplace = True)\n",
    "\n",
    "# unnest 객체 제거\n",
    "del song_gnr_map_unnest"
   ]
  },
  {
   "cell_type": "code",
   "execution_count": 20,
   "metadata": {
    "ExecuteTime": {
     "end_time": "2020-04-26T23:03:52.358995Z",
     "start_time": "2020-04-26T23:03:52.349514Z"
    }
   },
   "outputs": [
    {
     "data": {
      "text/html": [
       "<div>\n",
       "<style scoped>\n",
       "    .dataframe tbody tr th:only-of-type {\n",
       "        vertical-align: middle;\n",
       "    }\n",
       "\n",
       "    .dataframe tbody tr th {\n",
       "        vertical-align: top;\n",
       "    }\n",
       "\n",
       "    .dataframe thead th {\n",
       "        text-align: right;\n",
       "    }\n",
       "</style>\n",
       "<table border=\"1\" class=\"dataframe\">\n",
       "  <thead>\n",
       "    <tr style=\"text-align: right;\">\n",
       "      <th></th>\n",
       "      <th>song_id</th>\n",
       "      <th>gnr_code</th>\n",
       "    </tr>\n",
       "  </thead>\n",
       "  <tbody>\n",
       "    <tr>\n",
       "      <th>0</th>\n",
       "      <td>0</td>\n",
       "      <td>GN0900</td>\n",
       "    </tr>\n",
       "    <tr>\n",
       "      <th>1</th>\n",
       "      <td>1</td>\n",
       "      <td>GN1600</td>\n",
       "    </tr>\n",
       "    <tr>\n",
       "      <th>2</th>\n",
       "      <td>2</td>\n",
       "      <td>GN0900</td>\n",
       "    </tr>\n",
       "    <tr>\n",
       "      <th>3</th>\n",
       "      <td>3</td>\n",
       "      <td>GN1100</td>\n",
       "    </tr>\n",
       "    <tr>\n",
       "      <th>4</th>\n",
       "      <td>4</td>\n",
       "      <td>GN1800</td>\n",
       "    </tr>\n",
       "    <tr>\n",
       "      <th>...</th>\n",
       "      <td>...</td>\n",
       "      <td>...</td>\n",
       "    </tr>\n",
       "    <tr>\n",
       "      <th>802854</th>\n",
       "      <td>707984</td>\n",
       "      <td>GN2000</td>\n",
       "    </tr>\n",
       "    <tr>\n",
       "      <th>802855</th>\n",
       "      <td>707985</td>\n",
       "      <td>GN0900</td>\n",
       "    </tr>\n",
       "    <tr>\n",
       "      <th>802856</th>\n",
       "      <td>707986</td>\n",
       "      <td>GN0100</td>\n",
       "    </tr>\n",
       "    <tr>\n",
       "      <th>802857</th>\n",
       "      <td>707987</td>\n",
       "      <td>GN1800</td>\n",
       "    </tr>\n",
       "    <tr>\n",
       "      <th>802858</th>\n",
       "      <td>707988</td>\n",
       "      <td>GN0600</td>\n",
       "    </tr>\n",
       "  </tbody>\n",
       "</table>\n",
       "<p>802859 rows × 2 columns</p>\n",
       "</div>"
      ],
      "text/plain": [
       "       song_id gnr_code\n",
       "0            0   GN0900\n",
       "1            1   GN1600\n",
       "2            2   GN0900\n",
       "3            3   GN1100\n",
       "4            4   GN1800\n",
       "...        ...      ...\n",
       "802854  707984   GN2000\n",
       "802855  707985   GN0900\n",
       "802856  707986   GN0100\n",
       "802857  707987   GN1800\n",
       "802858  707988   GN0600\n",
       "\n",
       "[802859 rows x 2 columns]"
      ]
     },
     "execution_count": 20,
     "metadata": {},
     "output_type": "execute_result"
    }
   ],
   "source": [
    "song_gnr_map"
   ]
  },
  {
   "cell_type": "code",
   "execution_count": 21,
   "metadata": {
    "ExecuteTime": {
     "end_time": "2020-04-26T23:03:59.204173Z",
     "start_time": "2020-04-26T23:03:57.651570Z"
    }
   },
   "outputs": [
    {
     "data": {
      "text/html": [
       "<div>\n",
       "<style scoped>\n",
       "    .dataframe tbody tr th:only-of-type {\n",
       "        vertical-align: middle;\n",
       "    }\n",
       "\n",
       "    .dataframe tbody tr th {\n",
       "        vertical-align: top;\n",
       "    }\n",
       "\n",
       "    .dataframe thead th {\n",
       "        text-align: right;\n",
       "    }\n",
       "</style>\n",
       "<table border=\"1\" class=\"dataframe\">\n",
       "  <thead>\n",
       "    <tr style=\"text-align: right;\">\n",
       "      <th></th>\n",
       "      <th>장르 수</th>\n",
       "      <th>매핑된 곡 수</th>\n",
       "      <th>비율(%)</th>\n",
       "    </tr>\n",
       "  </thead>\n",
       "  <tbody>\n",
       "    <tr>\n",
       "      <th>0</th>\n",
       "      <td>1</td>\n",
       "      <td>612806</td>\n",
       "      <td>86.69</td>\n",
       "    </tr>\n",
       "    <tr>\n",
       "      <th>1</th>\n",
       "      <td>2</td>\n",
       "      <td>92378</td>\n",
       "      <td>13.07</td>\n",
       "    </tr>\n",
       "    <tr>\n",
       "      <th>2</th>\n",
       "      <td>3</td>\n",
       "      <td>1694</td>\n",
       "      <td>0.24</td>\n",
       "    </tr>\n",
       "    <tr>\n",
       "      <th>3</th>\n",
       "      <td>4</td>\n",
       "      <td>48</td>\n",
       "      <td>0.01</td>\n",
       "    </tr>\n",
       "    <tr>\n",
       "      <th>4</th>\n",
       "      <td>5</td>\n",
       "      <td>1</td>\n",
       "      <td>0.00</td>\n",
       "    </tr>\n",
       "    <tr>\n",
       "      <th>5</th>\n",
       "      <td>6</td>\n",
       "      <td>3</td>\n",
       "      <td>0.00</td>\n",
       "    </tr>\n",
       "  </tbody>\n",
       "</table>\n",
       "</div>"
      ],
      "text/plain": [
       "   장르 수  매핑된 곡 수  비율(%)\n",
       "0     1   612806  86.69\n",
       "1     2    92378  13.07\n",
       "2     3     1694   0.24\n",
       "3     4       48   0.01\n",
       "4     5        1   0.00\n",
       "5     6        3   0.00"
      ]
     },
     "execution_count": 21,
     "metadata": {},
     "output_type": "execute_result"
    }
   ],
   "source": [
    "# 1. 곡 별 장르 개수 count 테이블 생성 : song_gnr_count\n",
    "song_gnr_count = song_gnr_map.groupby('song_id').gnr_code.nunique().reset_index(name = 'mapping_gnr_cnt')\n",
    "\n",
    "# 2. 1번에서 생성한 테이블을 가지고 매핑된 장르 개수 별 곡 수 count 테이블 생성 : gnr_song_count\n",
    "gnr_song_count = song_gnr_count.groupby('mapping_gnr_cnt').song_id.nunique().reset_index(name = '매핑된 곡 수')\n",
    "\n",
    "# 3. 2번 테이블에 비율 값 추가\n",
    "gnr_song_count.loc[:, '비율(%)'] = round(gnr_song_count['매핑된 곡 수']/sum(gnr_song_count['매핑된 곡 수'])*100, 2)\n",
    "gnr_song_count = gnr_song_count.reset_index().rename(columns = {'mapping_gnr_cnt' : '장르 수'})\n",
    "gnr_song_count[['장르 수', '매핑된 곡 수', '비율(%)']]"
   ]
  },
  {
   "cell_type": "markdown",
   "metadata": {},
   "source": [
    "- **대부분의 곡들은 한 개의 대분류 장르와 매핑**되어 있습니다.\n",
    "- 전체 곡의 약 13%는 2개 이상의 대분류 장르를 가지며 아래 임의 예시입니다."
   ]
  },
  {
   "cell_type": "code",
   "execution_count": 22,
   "metadata": {
    "ExecuteTime": {
     "end_time": "2020-04-26T23:04:37.486190Z",
     "start_time": "2020-04-26T23:04:37.471486Z"
    }
   },
   "outputs": [
    {
     "data": {
      "text/html": [
       "<div>\n",
       "<style scoped>\n",
       "    .dataframe tbody tr th:only-of-type {\n",
       "        vertical-align: middle;\n",
       "    }\n",
       "\n",
       "    .dataframe tbody tr th {\n",
       "        vertical-align: top;\n",
       "    }\n",
       "\n",
       "    .dataframe thead th {\n",
       "        text-align: right;\n",
       "    }\n",
       "</style>\n",
       "<table border=\"1\" class=\"dataframe\">\n",
       "  <thead>\n",
       "    <tr style=\"text-align: right;\">\n",
       "      <th></th>\n",
       "      <th>song_gn_dtl_gnr_basket</th>\n",
       "      <th>issue_date</th>\n",
       "      <th>album_name</th>\n",
       "      <th>album_id</th>\n",
       "      <th>artist_id_basket</th>\n",
       "      <th>song_name</th>\n",
       "      <th>song_gn_gnr_basket</th>\n",
       "      <th>artist_name_basket</th>\n",
       "      <th>id</th>\n",
       "    </tr>\n",
       "  </thead>\n",
       "  <tbody>\n",
       "    <tr>\n",
       "      <th>456506</th>\n",
       "      <td>[GN0403, GN0101, GN1501, GN1504]</td>\n",
       "      <td>20060731</td>\n",
       "      <td>오버 더 레인보우 OST</td>\n",
       "      <td>321962</td>\n",
       "      <td>[1928]</td>\n",
       "      <td>그리운 건 어쩔 수 없어</td>\n",
       "      <td>[GN0400, GN1500, GN0100]</td>\n",
       "      <td>[환희]</td>\n",
       "      <td>456506</td>\n",
       "    </tr>\n",
       "  </tbody>\n",
       "</table>\n",
       "</div>"
      ],
      "text/plain": [
       "                  song_gn_dtl_gnr_basket  issue_date     album_name  album_id  \\\n",
       "456506  [GN0403, GN0101, GN1501, GN1504]    20060731  오버 더 레인보우 OST    321962   \n",
       "\n",
       "       artist_id_basket      song_name        song_gn_gnr_basket  \\\n",
       "456506           [1928]  그리운 건 어쩔 수 없어  [GN0400, GN1500, GN0100]   \n",
       "\n",
       "       artist_name_basket      id  \n",
       "456506               [환희]  456506  "
      ]
     },
     "execution_count": 22,
     "metadata": {},
     "output_type": "execute_result"
    }
   ],
   "source": [
    "#song_gnr_count[song_gnr_count['mapping_gnr_cnt'] >= 2]\n",
    "song_meta[song_meta['id'] == 456506] "
   ]
  },
  {
   "cell_type": "markdown",
   "metadata": {},
   "source": [
    "<br>"
   ]
  },
  {
   "cell_type": "markdown",
   "metadata": {},
   "source": [
    "### 가장 많이 매핑 되는 장르는?"
   ]
  },
  {
   "cell_type": "code",
   "execution_count": 32,
   "metadata": {
    "ExecuteTime": {
     "end_time": "2020-04-26T23:04:46.254514Z",
     "start_time": "2020-04-26T23:04:45.071903Z"
    }
   },
   "outputs": [
    {
     "data": {
      "image/png": "[encoded data removed]",
      "text/plain": [
       "<Figure size 1440x720 with 1 Axes>"
      ]
     },
     "metadata": {
      "needs_background": "light"
     },
     "output_type": "display_data"
    }
   ],
   "source": [
    "# 1. 장르 별 곡 수 count 테이블 생성 : gnr_count\n",
    "gnr_count = song_gnr_map.groupby('gnr_code').song_id.nunique().reset_index(name = 'song_cnt')\n",
    "\n",
    "# 2. 1번 테이블과 장르 meta와 join\n",
    "gnr_count = pd.merge(gnr_count, gnr_code.loc[:, ['gnr_code', 'gnr_name']], how = 'left', on = 'gnr_code')\n",
    "gnr_count['gnr_code_name'] = gnr_count['gnr_code'] + ' (' + gnr_count['gnr_name'] + ')'\n",
    "\n",
    "# 3. 매핑이 되지 않은 일부 곡들은 제거\n",
    "gnr_count = gnr_count[['gnr_code_name', 'song_cnt']].dropna()\n",
    "\n",
    "# 4. 많은 곡이 매핑된 순 기준으로 내림차순 리스트 생성\n",
    "gnr_list_desc = gnr_count.sort_values('song_cnt', ascending = False).gnr_code_name\n",
    "\n",
    "# 5. plotting\n",
    "gnr_code_name_plot = sns.barplot(x = 'gnr_code_name', y = 'song_cnt', data = gnr_count, order = gnr_list_desc)\n",
    "gnr_code_name_plot.set_title('장르 별 매핑된 곡 수 분포')\n",
    "gnr_code_name_plot.set_xlabel('대분류 장르코드')\n",
    "gnr_code_name_plot.set_ylabel('곡 수')\n",
    "plt.xticks(rotation = 90)\n",
    "plt.show()"
   ]
  },
  {
   "cell_type": "markdown",
   "metadata": {},
   "source": [
    "- **POP 장르(`GN0900`)의 곡 비중이 가장 높았고**, 국악, 뮤지컬, 뮤직테라피, 종교음악 등의 장르 비중은 1% 미만의 비중을 보입니다.\n",
    "- 아이돌 아티스트 관련 장르인 아이돌 장르(`GN2500`)와 댄스 장르(`GN0200`) 비중도 비교적 낮게 나타나는 점이 보입니다."
   ]
  },
  {
   "cell_type": "markdown",
   "metadata": {},
   "source": [
    "<br>"
   ]
  },
  {
   "cell_type": "markdown",
   "metadata": {},
   "source": [
    "### 발매 년도 별 곡 비중은?"
   ]
  },
  {
   "cell_type": "code",
   "execution_count": 33,
   "metadata": {
    "ExecuteTime": {
     "end_time": "2020-04-26T23:05:27.233402Z",
     "start_time": "2020-04-26T23:05:24.744509Z"
    }
   },
   "outputs": [
    {
     "data": {
      "image/png": "[encoded data removed]",
      "text/plain": [
       "<Figure size 1440x720 with 1 Axes>"
      ]
     },
     "metadata": {
      "needs_background": "light"
     },
     "output_type": "display_data"
    }
   ],
   "source": [
    "# 1. 곡 아이디(id)와 발매일자(issue_date) 추출\n",
    "song_issue_date = song_meta[['id', 'issue_date']]\n",
    "song_issue_date['issue_date'] = song_issue_date['issue_date'].astype(str)\n",
    "\n",
    "# 2. issue_date의 앞자리 네 자리를 추출하여 발매년도(issue_year) 변수 생성\n",
    "song_issue_date['issue_year'] = song_issue_date['issue_date'].str[0:4]\n",
    "song_issue_date.rename(columns = {'id' : 'song_id'}, inplace = True)\n",
    "song_issue_date['song_id'] = song_issue_date['song_id'].astype(str)\n",
    "\n",
    "# 3. 1990년도~ 필터링\n",
    "song_issue_date_filter = song_issue_date[song_issue_date.issue_year >= '1990']\n",
    "\n",
    "# 4. 발매년도 별 곡 수 count 테이블 생성 : issue_year_song_cnt\n",
    "issue_year_song_cnt = song_issue_date_filter.groupby('issue_year').song_id.nunique().reset_index(name = 'song_cnt')\n",
    "\n",
    "# 5. plotting\n",
    "issue_year_song_cnt_plot = sns.barplot(x = 'issue_year', y = 'song_cnt', data = issue_year_song_cnt, color = 'grey')\n",
    "issue_year_song_cnt_plot.set_title('발매년도 별 곡 수 추이 (1990년~)')\n",
    "issue_year_song_cnt_plot.set_xlabel('발매년도')\n",
    "issue_year_song_cnt_plot.set_ylabel('곡 수')\n",
    "plt.xticks(rotation = 45)\n",
    "plt.show()"
   ]
  },
  {
   "cell_type": "markdown",
   "metadata": {},
   "source": [
    "- 1990년 이후로 각 곡들의 발매년도 별 곡의 비중을 확인해본 결과 **2014~2019년도에 발매된 곡의 비중**이 높았습니다.  \n",
    "  (실제 전체 메타 풀에서 약 50% 정도의 비중을 보임)"
   ]
  },
  {
   "cell_type": "markdown",
   "metadata": {},
   "source": [
    "<br><br><br>"
   ]
  },
  {
   "cell_type": "markdown",
   "metadata": {},
   "source": [
    "## 3. 학습 데이터 : `train.json`"
   ]
  },
  {
   "cell_type": "markdown",
   "metadata": {},
   "source": [
    "### 데이터 불러오기"
   ]
  },
  {
   "cell_type": "code",
   "execution_count": 34,
   "metadata": {
    "ExecuteTime": {
     "end_time": "2020-04-26T23:05:44.935013Z",
     "start_time": "2020-04-26T23:05:42.448978Z"
    }
   },
   "outputs": [],
   "source": [
    "train = pd.read_json('../data/train.json', typ = 'frame')"
   ]
  },
  {
   "cell_type": "code",
   "execution_count": 35,
   "metadata": {
    "ExecuteTime": {
     "end_time": "2020-04-26T23:05:45.717239Z",
     "start_time": "2020-04-26T23:05:45.691335Z"
    }
   },
   "outputs": [
    {
     "data": {
      "text/html": [
       "<div>\n",
       "<style scoped>\n",
       "    .dataframe tbody tr th:only-of-type {\n",
       "        vertical-align: middle;\n",
       "    }\n",
       "\n",
       "    .dataframe tbody tr th {\n",
       "        vertical-align: top;\n",
       "    }\n",
       "\n",
       "    .dataframe thead th {\n",
       "        text-align: right;\n",
       "    }\n",
       "</style>\n",
       "<table border=\"1\" class=\"dataframe\">\n",
       "  <thead>\n",
       "    <tr style=\"text-align: right;\">\n",
       "      <th></th>\n",
       "      <th>tags</th>\n",
       "      <th>id</th>\n",
       "      <th>plylst_title</th>\n",
       "      <th>songs</th>\n",
       "      <th>like_cnt</th>\n",
       "      <th>updt_date</th>\n",
       "    </tr>\n",
       "  </thead>\n",
       "  <tbody>\n",
       "    <tr>\n",
       "      <th>0</th>\n",
       "      <td>[락]</td>\n",
       "      <td>61281</td>\n",
       "      <td>여행같은 음악</td>\n",
       "      <td>[525514, 129701, 383374, 562083, 297861, 13954...</td>\n",
       "      <td>71</td>\n",
       "      <td>2013-12-19 18:36:19.000</td>\n",
       "    </tr>\n",
       "    <tr>\n",
       "      <th>1</th>\n",
       "      <td>[추억, 회상]</td>\n",
       "      <td>10532</td>\n",
       "      <td>요즘 너 말야</td>\n",
       "      <td>[432406, 675945, 497066, 120377, 389529, 24427...</td>\n",
       "      <td>1</td>\n",
       "      <td>2014-12-02 16:19:42.000</td>\n",
       "    </tr>\n",
       "    <tr>\n",
       "      <th>2</th>\n",
       "      <td>[까페, 잔잔한]</td>\n",
       "      <td>76951</td>\n",
       "      <td>편하게, 잔잔하게 들을 수 있는 곡.-</td>\n",
       "      <td>[83116, 276692, 166267, 186301, 354465, 256598...</td>\n",
       "      <td>17</td>\n",
       "      <td>2017-08-28 07:09:34.000</td>\n",
       "    </tr>\n",
       "    <tr>\n",
       "      <th>3</th>\n",
       "      <td>[연말, 눈오는날, 캐럴, 분위기, 따듯한, 크리스마스캐럴, 겨울노래, 크리스마스,...</td>\n",
       "      <td>147456</td>\n",
       "      <td>크리스마스 분위기에 흠뻑 취하고 싶을때</td>\n",
       "      <td>[394031, 195524, 540149, 287984, 440773, 10033...</td>\n",
       "      <td>33</td>\n",
       "      <td>2019-12-05 15:15:18.000</td>\n",
       "    </tr>\n",
       "    <tr>\n",
       "      <th>4</th>\n",
       "      <td>[댄스]</td>\n",
       "      <td>27616</td>\n",
       "      <td>추억의 노래 ㅋ</td>\n",
       "      <td>[159327, 553610, 5130, 645103, 294435, 100657,...</td>\n",
       "      <td>9</td>\n",
       "      <td>2011-10-25 13:54:56.000</td>\n",
       "    </tr>\n",
       "    <tr>\n",
       "      <th>...</th>\n",
       "      <td>...</td>\n",
       "      <td>...</td>\n",
       "      <td>...</td>\n",
       "      <td>...</td>\n",
       "      <td>...</td>\n",
       "      <td>...</td>\n",
       "    </tr>\n",
       "    <tr>\n",
       "      <th>115066</th>\n",
       "      <td>[록메탈, 밴드사운드, 록, 락메탈, 메탈, 락, extreme]</td>\n",
       "      <td>120325</td>\n",
       "      <td>METAL E'SM #2</td>\n",
       "      <td>[429629, 441511, 612106, 516359, 691768, 38714...</td>\n",
       "      <td>3</td>\n",
       "      <td>2020-04-17 04:31:11.000</td>\n",
       "    </tr>\n",
       "    <tr>\n",
       "      <th>115067</th>\n",
       "      <td>[일렉]</td>\n",
       "      <td>106976</td>\n",
       "      <td>빠른 리스너를 위한 따끈따끈한 최신 인기 EDM 모음!</td>\n",
       "      <td>[321330, 216057, 534472, 240306, 331098, 23288...</td>\n",
       "      <td>13</td>\n",
       "      <td>2015-12-24 17:23:19.000</td>\n",
       "    </tr>\n",
       "    <tr>\n",
       "      <th>115068</th>\n",
       "      <td>[담시, 가족, 눈물, 그리움, 주인공, 나의_이야기, 사랑, 친구]</td>\n",
       "      <td>11343</td>\n",
       "      <td>#1. 눈물이 앞을 가리는 나의_이야기</td>\n",
       "      <td>[50512, 249024, 250608, 371171, 229942, 694943...</td>\n",
       "      <td>4</td>\n",
       "      <td>2019-08-16 20:59:22.000</td>\n",
       "    </tr>\n",
       "    <tr>\n",
       "      <th>115069</th>\n",
       "      <td>[잔잔한, 버스, 퇴근버스, Pop, 풍경, 퇴근길]</td>\n",
       "      <td>131982</td>\n",
       "      <td>퇴근 버스에서 편히 들으면서 하루를 마무리하기에 좋은 POP</td>\n",
       "      <td>[533534, 608114, 343608, 417140, 609009, 30217...</td>\n",
       "      <td>4</td>\n",
       "      <td>2019-10-25 23:40:42.000</td>\n",
       "    </tr>\n",
       "    <tr>\n",
       "      <th>115070</th>\n",
       "      <td>[노래추천, 팝송추천, 팝송, 팝송모음]</td>\n",
       "      <td>100389</td>\n",
       "      <td>FAVORITE POPSONG!!!</td>\n",
       "      <td>[26008, 456354, 324105, 89871, 135272, 143548,...</td>\n",
       "      <td>17</td>\n",
       "      <td>2020-04-18 20:35:06.000</td>\n",
       "    </tr>\n",
       "  </tbody>\n",
       "</table>\n",
       "<p>115071 rows × 6 columns</p>\n",
       "</div>"
      ],
      "text/plain": [
       "                                                     tags      id  \\\n",
       "0                                                     [락]   61281   \n",
       "1                                                [추억, 회상]   10532   \n",
       "2                                               [까페, 잔잔한]   76951   \n",
       "3       [연말, 눈오는날, 캐럴, 분위기, 따듯한, 크리스마스캐럴, 겨울노래, 크리스마스,...  147456   \n",
       "4                                                    [댄스]   27616   \n",
       "...                                                   ...     ...   \n",
       "115066               [록메탈, 밴드사운드, 록, 락메탈, 메탈, 락, extreme]  120325   \n",
       "115067                                               [일렉]  106976   \n",
       "115068             [담시, 가족, 눈물, 그리움, 주인공, 나의_이야기, 사랑, 친구]   11343   \n",
       "115069                      [잔잔한, 버스, 퇴근버스, Pop, 풍경, 퇴근길]  131982   \n",
       "115070                             [노래추천, 팝송추천, 팝송, 팝송모음]  100389   \n",
       "\n",
       "                             plylst_title  \\\n",
       "0                                 여행같은 음악   \n",
       "1                                 요즘 너 말야   \n",
       "2                   편하게, 잔잔하게 들을 수 있는 곡.-   \n",
       "3                   크리스마스 분위기에 흠뻑 취하고 싶을때   \n",
       "4                                추억의 노래 ㅋ   \n",
       "...                                   ...   \n",
       "115066                      METAL E'SM #2   \n",
       "115067     빠른 리스너를 위한 따끈따끈한 최신 인기 EDM 모음!   \n",
       "115068              #1. 눈물이 앞을 가리는 나의_이야기   \n",
       "115069  퇴근 버스에서 편히 들으면서 하루를 마무리하기에 좋은 POP   \n",
       "115070                FAVORITE POPSONG!!!   \n",
       "\n",
       "                                                    songs  like_cnt  \\\n",
       "0       [525514, 129701, 383374, 562083, 297861, 13954...        71   \n",
       "1       [432406, 675945, 497066, 120377, 389529, 24427...         1   \n",
       "2       [83116, 276692, 166267, 186301, 354465, 256598...        17   \n",
       "3       [394031, 195524, 540149, 287984, 440773, 10033...        33   \n",
       "4       [159327, 553610, 5130, 645103, 294435, 100657,...         9   \n",
       "...                                                   ...       ...   \n",
       "115066  [429629, 441511, 612106, 516359, 691768, 38714...         3   \n",
       "115067  [321330, 216057, 534472, 240306, 331098, 23288...        13   \n",
       "115068  [50512, 249024, 250608, 371171, 229942, 694943...         4   \n",
       "115069  [533534, 608114, 343608, 417140, 609009, 30217...         4   \n",
       "115070  [26008, 456354, 324105, 89871, 135272, 143548,...        17   \n",
       "\n",
       "                      updt_date  \n",
       "0       2013-12-19 18:36:19.000  \n",
       "1       2014-12-02 16:19:42.000  \n",
       "2       2017-08-28 07:09:34.000  \n",
       "3       2019-12-05 15:15:18.000  \n",
       "4       2011-10-25 13:54:56.000  \n",
       "...                         ...  \n",
       "115066  2020-04-17 04:31:11.000  \n",
       "115067  2015-12-24 17:23:19.000  \n",
       "115068  2019-08-16 20:59:22.000  \n",
       "115069  2019-10-25 23:40:42.000  \n",
       "115070  2020-04-18 20:35:06.000  \n",
       "\n",
       "[115071 rows x 6 columns]"
      ]
     },
     "execution_count": 35,
     "metadata": {},
     "output_type": "execute_result"
    }
   ],
   "source": [
    "train"
   ]
  },
  {
   "cell_type": "code",
   "execution_count": 36,
   "metadata": {
    "ExecuteTime": {
     "end_time": "2020-04-26T10:46:36.429262Z",
     "start_time": "2020-04-26T10:46:36.361687Z"
    }
   },
   "outputs": [
    {
     "name": "stdout",
     "output_type": "stream",
     "text": [
      "<class 'pandas.core.frame.DataFrame'>\n",
      "RangeIndex: 115071 entries, 0 to 115070\n",
      "Data columns (total 6 columns):\n",
      " #   Column        Non-Null Count   Dtype \n",
      "---  ------        --------------   ----- \n",
      " 0   tags          115071 non-null  object\n",
      " 1   id            115071 non-null  int64 \n",
      " 2   plylst_title  115071 non-null  object\n",
      " 3   songs         115071 non-null  object\n",
      " 4   like_cnt      115071 non-null  int64 \n",
      " 5   updt_date     115071 non-null  object\n",
      "dtypes: int64(2), object(4)\n",
      "memory usage: 5.3+ MB\n"
     ]
    }
   ],
   "source": [
    "train.info()"
   ]
  },
  {
   "cell_type": "markdown",
   "metadata": {},
   "source": [
    "- 학습 데이터에는 **총 115,071개 플레이리스트 정보가 담겨져 있으며** 포함하는 값은 아래와 같습니다.\n",
    "  + `tags` : 플레이리스트에 매핑된 태그\n",
    "  + `id` : 플레이리스트 아이디\n",
    "  + `plylst_title` : 플레이리스트 명\n",
    "  + `songs` : 플레이리스트 내 수록된 곡 아이디\n",
    "  + `like_cnt` : 플레이리스트 좋아요 횟수\n",
    "  + `updt_date` : 플레이리스트 업데이트 일시"
   ]
  },
  {
   "cell_type": "code",
   "execution_count": 37,
   "metadata": {
    "ExecuteTime": {
     "end_time": "2020-04-26T23:06:03.467113Z",
     "start_time": "2020-04-26T23:05:53.911081Z"
    }
   },
   "outputs": [],
   "source": [
    "# 플레이리스트 아이디(id)와 수록곡(songs) 추출\n",
    "plylst_song_map = train[['id', 'songs']]\n",
    "\n",
    "# unnest songs\n",
    "plylst_song_map_unnest = np.dstack(\n",
    "    (\n",
    "        np.repeat(plylst_song_map.id.values, list(map(len, plylst_song_map.songs))), \n",
    "        np.concatenate(plylst_song_map.songs.values)\n",
    "    )\n",
    ")\n",
    "\n",
    "# unnested 데이터프레임 생성 : plylst_song_map\n",
    "plylst_song_map = pd.DataFrame(data = plylst_song_map_unnest[0], columns = plylst_song_map.columns)\n",
    "plylst_song_map['id'] = plylst_song_map['id'].astype(str)\n",
    "plylst_song_map['songs'] = plylst_song_map['songs'].astype(str)\n",
    "\n",
    "# unnest 객체 제거\n",
    "del plylst_song_map_unnest"
   ]
  },
  {
   "cell_type": "code",
   "execution_count": 39,
   "metadata": {
    "ExecuteTime": {
     "end_time": "2020-04-26T23:06:03.481135Z",
     "start_time": "2020-04-26T23:06:03.469401Z"
    }
   },
   "outputs": [
    {
     "data": {
      "text/html": [
       "<div>\n",
       "<style scoped>\n",
       "    .dataframe tbody tr th:only-of-type {\n",
       "        vertical-align: middle;\n",
       "    }\n",
       "\n",
       "    .dataframe tbody tr th {\n",
       "        vertical-align: top;\n",
       "    }\n",
       "\n",
       "    .dataframe thead th {\n",
       "        text-align: right;\n",
       "    }\n",
       "</style>\n",
       "<table border=\"1\" class=\"dataframe\">\n",
       "  <thead>\n",
       "    <tr style=\"text-align: right;\">\n",
       "      <th></th>\n",
       "      <th>id</th>\n",
       "      <th>songs</th>\n",
       "    </tr>\n",
       "  </thead>\n",
       "  <tbody>\n",
       "    <tr>\n",
       "      <th>0</th>\n",
       "      <td>61281</td>\n",
       "      <td>525514</td>\n",
       "    </tr>\n",
       "    <tr>\n",
       "      <th>1</th>\n",
       "      <td>61281</td>\n",
       "      <td>129701</td>\n",
       "    </tr>\n",
       "    <tr>\n",
       "      <th>2</th>\n",
       "      <td>61281</td>\n",
       "      <td>383374</td>\n",
       "    </tr>\n",
       "    <tr>\n",
       "      <th>3</th>\n",
       "      <td>61281</td>\n",
       "      <td>562083</td>\n",
       "    </tr>\n",
       "    <tr>\n",
       "      <th>4</th>\n",
       "      <td>61281</td>\n",
       "      <td>297861</td>\n",
       "    </tr>\n",
       "    <tr>\n",
       "      <th>...</th>\n",
       "      <td>...</td>\n",
       "      <td>...</td>\n",
       "    </tr>\n",
       "    <tr>\n",
       "      <th>5285866</th>\n",
       "      <td>100389</td>\n",
       "      <td>111365</td>\n",
       "    </tr>\n",
       "    <tr>\n",
       "      <th>5285867</th>\n",
       "      <td>100389</td>\n",
       "      <td>51373</td>\n",
       "    </tr>\n",
       "    <tr>\n",
       "      <th>5285868</th>\n",
       "      <td>100389</td>\n",
       "      <td>640239</td>\n",
       "    </tr>\n",
       "    <tr>\n",
       "      <th>5285869</th>\n",
       "      <td>100389</td>\n",
       "      <td>13759</td>\n",
       "    </tr>\n",
       "    <tr>\n",
       "      <th>5285870</th>\n",
       "      <td>100389</td>\n",
       "      <td>154078</td>\n",
       "    </tr>\n",
       "  </tbody>\n",
       "</table>\n",
       "<p>5285871 rows × 2 columns</p>\n",
       "</div>"
      ],
      "text/plain": [
       "             id   songs\n",
       "0         61281  525514\n",
       "1         61281  129701\n",
       "2         61281  383374\n",
       "3         61281  562083\n",
       "4         61281  297861\n",
       "...         ...     ...\n",
       "5285866  100389  111365\n",
       "5285867  100389   51373\n",
       "5285868  100389  640239\n",
       "5285869  100389   13759\n",
       "5285870  100389  154078\n",
       "\n",
       "[5285871 rows x 2 columns]"
      ]
     },
     "execution_count": 39,
     "metadata": {},
     "output_type": "execute_result"
    }
   ],
   "source": [
    "plylst_song_map"
   ]
  },
  {
   "cell_type": "code",
   "execution_count": 40,
   "metadata": {
    "ExecuteTime": {
     "end_time": "2020-04-26T23:06:04.915352Z",
     "start_time": "2020-04-26T23:06:03.863235Z"
    }
   },
   "outputs": [],
   "source": [
    "# 플레이리스트 아이디(id)와 매핑된 태그(tags) 추출\n",
    "plylst_tag_map = train[['id', 'tags']]\n",
    "\n",
    "# unnest tags\n",
    "plylst_tag_map_unnest = np.dstack(\n",
    "    (\n",
    "        np.repeat(plylst_tag_map.id.values, list(map(len, plylst_tag_map.tags))), \n",
    "        np.concatenate(plylst_tag_map.tags.values)\n",
    "    )\n",
    ")\n",
    "\n",
    "# unnested 데이터프레임 생성 : plylst_tag_map\n",
    "plylst_tag_map = pd.DataFrame(data = plylst_tag_map_unnest[0], columns = plylst_tag_map.columns)\n",
    "plylst_tag_map['id'] = plylst_tag_map['id'].astype(str)\n",
    "\n",
    "# unnest 객체 제거\n",
    "del plylst_tag_map_unnest"
   ]
  },
  {
   "cell_type": "code",
   "execution_count": 41,
   "metadata": {
    "ExecuteTime": {
     "end_time": "2020-04-26T23:06:06.397077Z",
     "start_time": "2020-04-26T23:06:06.387772Z"
    }
   },
   "outputs": [
    {
     "data": {
      "text/html": [
       "<div>\n",
       "<style scoped>\n",
       "    .dataframe tbody tr th:only-of-type {\n",
       "        vertical-align: middle;\n",
       "    }\n",
       "\n",
       "    .dataframe tbody tr th {\n",
       "        vertical-align: top;\n",
       "    }\n",
       "\n",
       "    .dataframe thead th {\n",
       "        text-align: right;\n",
       "    }\n",
       "</style>\n",
       "<table border=\"1\" class=\"dataframe\">\n",
       "  <thead>\n",
       "    <tr style=\"text-align: right;\">\n",
       "      <th></th>\n",
       "      <th>id</th>\n",
       "      <th>tags</th>\n",
       "    </tr>\n",
       "  </thead>\n",
       "  <tbody>\n",
       "    <tr>\n",
       "      <th>0</th>\n",
       "      <td>61281</td>\n",
       "      <td>락</td>\n",
       "    </tr>\n",
       "    <tr>\n",
       "      <th>1</th>\n",
       "      <td>10532</td>\n",
       "      <td>추억</td>\n",
       "    </tr>\n",
       "    <tr>\n",
       "      <th>2</th>\n",
       "      <td>10532</td>\n",
       "      <td>회상</td>\n",
       "    </tr>\n",
       "    <tr>\n",
       "      <th>3</th>\n",
       "      <td>76951</td>\n",
       "      <td>까페</td>\n",
       "    </tr>\n",
       "    <tr>\n",
       "      <th>4</th>\n",
       "      <td>76951</td>\n",
       "      <td>잔잔한</td>\n",
       "    </tr>\n",
       "    <tr>\n",
       "      <th>...</th>\n",
       "      <td>...</td>\n",
       "      <td>...</td>\n",
       "    </tr>\n",
       "    <tr>\n",
       "      <th>476326</th>\n",
       "      <td>131982</td>\n",
       "      <td>퇴근길</td>\n",
       "    </tr>\n",
       "    <tr>\n",
       "      <th>476327</th>\n",
       "      <td>100389</td>\n",
       "      <td>노래추천</td>\n",
       "    </tr>\n",
       "    <tr>\n",
       "      <th>476328</th>\n",
       "      <td>100389</td>\n",
       "      <td>팝송추천</td>\n",
       "    </tr>\n",
       "    <tr>\n",
       "      <th>476329</th>\n",
       "      <td>100389</td>\n",
       "      <td>팝송</td>\n",
       "    </tr>\n",
       "    <tr>\n",
       "      <th>476330</th>\n",
       "      <td>100389</td>\n",
       "      <td>팝송모음</td>\n",
       "    </tr>\n",
       "  </tbody>\n",
       "</table>\n",
       "<p>476331 rows × 2 columns</p>\n",
       "</div>"
      ],
      "text/plain": [
       "            id  tags\n",
       "0        61281     락\n",
       "1        10532    추억\n",
       "2        10532    회상\n",
       "3        76951    까페\n",
       "4        76951   잔잔한\n",
       "...        ...   ...\n",
       "476326  131982   퇴근길\n",
       "476327  100389  노래추천\n",
       "476328  100389  팝송추천\n",
       "476329  100389    팝송\n",
       "476330  100389  팝송모음\n",
       "\n",
       "[476331 rows x 2 columns]"
      ]
     },
     "execution_count": 41,
     "metadata": {},
     "output_type": "execute_result"
    }
   ],
   "source": [
    "plylst_tag_map"
   ]
  },
  {
   "cell_type": "code",
   "execution_count": 42,
   "metadata": {
    "ExecuteTime": {
     "end_time": "2020-04-26T23:06:07.167691Z",
     "start_time": "2020-04-26T23:06:06.398573Z"
    }
   },
   "outputs": [
    {
     "name": "stdout",
     "output_type": "stream",
     "text": [
      "곡 수 : 615142\n",
      "태그 수 : 29160\n"
     ]
    }
   ],
   "source": [
    "train_uniq_song_cnt = plylst_song_map.songs.nunique() # 유니크 곡 수\n",
    "train_uniq_tag_cnt = plylst_tag_map.tags.nunique() # 유니크 태그 수\n",
    "\n",
    "print('곡 수 : %s' %train_uniq_song_cnt)\n",
    "print('태그 수 : %s' %train_uniq_tag_cnt)"
   ]
  },
  {
   "cell_type": "markdown",
   "metadata": {},
   "source": [
    "<br>"
   ]
  },
  {
   "cell_type": "markdown",
   "metadata": {},
   "source": [
    "### 플레이리스트 별 곡/태그/장르 수 분포는?"
   ]
  },
  {
   "cell_type": "markdown",
   "metadata": {},
   "source": [
    "#### 수록곡 "
   ]
  },
  {
   "cell_type": "code",
   "execution_count": 43,
   "metadata": {
    "ExecuteTime": {
     "end_time": "2020-04-26T23:06:28.550307Z",
     "start_time": "2020-04-26T23:06:23.962698Z"
    }
   },
   "outputs": [
    {
     "data": {
      "image/png": "[encoded data removed]",
      "text/plain": [
       "<Figure size 1440x720 with 1 Axes>"
      ]
     },
     "metadata": {
      "needs_background": "light"
     },
     "output_type": "display_data"
    }
   ],
   "source": [
    "# 1. 플레이리스트 별 수록곡 수 count 테이블 생성 : plylst_song_cnt\n",
    "plylst_song_cnt = pd.DataFrame(plylst_song_map.groupby('id').songs.nunique())\n",
    "\n",
    "# 2-1. grid setting\n",
    "grid_list = [i*2 for i in range(1, 101)]\n",
    "\n",
    "# 2-2. plotting\n",
    "plt.hist(plylst_song_cnt['songs'], grid_list, color = \"lightgrey\", edgecolor = \"black\")\n",
    "plt.show()"
   ]
  },
  {
   "cell_type": "code",
   "execution_count": 44,
   "metadata": {
    "ExecuteTime": {
     "end_time": "2020-04-26T23:06:28.574444Z",
     "start_time": "2020-04-26T23:06:28.551910Z"
    }
   },
   "outputs": [
    {
     "data": {
      "text/html": [
       "<div>\n",
       "<style scoped>\n",
       "    .dataframe tbody tr th:only-of-type {\n",
       "        vertical-align: middle;\n",
       "    }\n",
       "\n",
       "    .dataframe tbody tr th {\n",
       "        vertical-align: top;\n",
       "    }\n",
       "\n",
       "    .dataframe thead th {\n",
       "        text-align: right;\n",
       "    }\n",
       "</style>\n",
       "<table border=\"1\" class=\"dataframe\">\n",
       "  <thead>\n",
       "    <tr style=\"text-align: right;\">\n",
       "      <th></th>\n",
       "      <th>min</th>\n",
       "      <th>25%</th>\n",
       "      <th>50%</th>\n",
       "      <th>mean</th>\n",
       "      <th>75%</th>\n",
       "      <th>max</th>\n",
       "      <th>std</th>\n",
       "    </tr>\n",
       "  </thead>\n",
       "  <tbody>\n",
       "    <tr>\n",
       "      <th>songs</th>\n",
       "      <td>1.0</td>\n",
       "      <td>19.0</td>\n",
       "      <td>30.0</td>\n",
       "      <td>45.94</td>\n",
       "      <td>54.0</td>\n",
       "      <td>200.0</td>\n",
       "      <td>43.95</td>\n",
       "    </tr>\n",
       "  </tbody>\n",
       "</table>\n",
       "</div>"
      ],
      "text/plain": [
       "       min   25%   50%   mean   75%    max    std\n",
       "songs  1.0  19.0  30.0  45.94  54.0  200.0  43.95"
      ]
     },
     "execution_count": 44,
     "metadata": {},
     "output_type": "execute_result"
    }
   ],
   "source": [
    "round(plylst_song_cnt.describe().loc[['min', '25%', '50%', 'mean', '75%', 'max', 'std']].transpose(), 2)"
   ]
  },
  {
   "cell_type": "markdown",
   "metadata": {},
   "source": [
    "- 플레이리스트 별 수록된 곡 수의 분포를 확인해본 결과 **평균 약 46개**(중앙값 30개)**의 곡이 수록**되어 있으며 최대 200곡의 수록곡을 포함한 플레이리스트가 존재합니다."
   ]
  },
  {
   "cell_type": "markdown",
   "metadata": {},
   "source": [
    "#### 태그"
   ]
  },
  {
   "cell_type": "code",
   "execution_count": 45,
   "metadata": {
    "ExecuteTime": {
     "end_time": "2020-04-26T23:06:29.200943Z",
     "start_time": "2020-04-26T23:06:28.576167Z"
    }
   },
   "outputs": [
    {
     "data": {
      "image/png": "[encoded data removed]",
      "text/plain": [
       "<Figure size 1440x720 with 1 Axes>"
      ]
     },
     "metadata": {
      "needs_background": "light"
     },
     "output_type": "display_data"
    }
   ],
   "source": [
    "# 1. 플레이리스트 별 매핑 태그 수 count 테이블 생성 : plylst_tag_cnt\n",
    "plylst_tag_cnt = pd.DataFrame(plylst_tag_map.groupby('id').tags.nunique())\n",
    "\n",
    "# 2. plotting\n",
    "plt.hist(plylst_tag_cnt['tags'], range(1, 12), color = \"lightgrey\", edgecolor = \"black\")\n",
    "plt.show()"
   ]
  },
  {
   "cell_type": "code",
   "execution_count": 46,
   "metadata": {
    "ExecuteTime": {
     "end_time": "2020-04-26T23:06:29.223585Z",
     "start_time": "2020-04-26T23:06:29.202500Z"
    }
   },
   "outputs": [
    {
     "data": {
      "text/html": [
       "<div>\n",
       "<style scoped>\n",
       "    .dataframe tbody tr th:only-of-type {\n",
       "        vertical-align: middle;\n",
       "    }\n",
       "\n",
       "    .dataframe tbody tr th {\n",
       "        vertical-align: top;\n",
       "    }\n",
       "\n",
       "    .dataframe thead th {\n",
       "        text-align: right;\n",
       "    }\n",
       "</style>\n",
       "<table border=\"1\" class=\"dataframe\">\n",
       "  <thead>\n",
       "    <tr style=\"text-align: right;\">\n",
       "      <th></th>\n",
       "      <th>min</th>\n",
       "      <th>25%</th>\n",
       "      <th>50%</th>\n",
       "      <th>mean</th>\n",
       "      <th>75%</th>\n",
       "      <th>max</th>\n",
       "      <th>std</th>\n",
       "    </tr>\n",
       "  </thead>\n",
       "  <tbody>\n",
       "    <tr>\n",
       "      <th>tags</th>\n",
       "      <td>1.0</td>\n",
       "      <td>2.0</td>\n",
       "      <td>3.0</td>\n",
       "      <td>4.14</td>\n",
       "      <td>6.0</td>\n",
       "      <td>11.0</td>\n",
       "      <td>3.07</td>\n",
       "    </tr>\n",
       "  </tbody>\n",
       "</table>\n",
       "</div>"
      ],
      "text/plain": [
       "      min  25%  50%  mean  75%   max   std\n",
       "tags  1.0  2.0  3.0  4.14  6.0  11.0  3.07"
      ]
     },
     "execution_count": 46,
     "metadata": {},
     "output_type": "execute_result"
    }
   ],
   "source": [
    "round(plylst_tag_cnt.describe().loc[['min', '25%', '50%', 'mean', '75%', 'max', 'std']].transpose(), 2)"
   ]
  },
  {
   "cell_type": "markdown",
   "metadata": {},
   "source": [
    "- 플레이리스트 당 **태그는 평균 약 4.1개**(중앙값 3개)**가 포함**되어 있으며 가장 많은 태그 수는 11개 입니다."
   ]
  },
  {
   "cell_type": "markdown",
   "metadata": {},
   "source": [
    "#### 장르"
   ]
  },
  {
   "cell_type": "code",
   "execution_count": 47,
   "metadata": {
    "ExecuteTime": {
     "end_time": "2020-04-26T23:06:41.097155Z",
     "start_time": "2020-04-26T23:06:29.224981Z"
    }
   },
   "outputs": [
    {
     "data": {
      "image/png": "[encoded data removed]",
      "text/plain": [
       "<Figure size 1440x720 with 1 Axes>"
      ]
     },
     "metadata": {
      "needs_background": "light"
     },
     "output_type": "display_data"
    }
   ],
   "source": [
    "# 1-1. join 목적으로 곡 아이디 integer to string 변환\n",
    "plylst_song_map['songs'] = plylst_song_map['songs'].astype(str)\n",
    "\n",
    "# 1-2. 플레이리스트-곡 테이블 plylst_song_map + 곡-장르 테이블 song_gnr_map join\n",
    "plylst_song_gnr_map = pd.merge(plylst_song_map, song_gnr_map, how = 'left', left_on = 'songs', right_on = 'song_id')\n",
    "\n",
    "# 2. 플레이리스트 별 곡 장르 수 count 테이블 생성 : plylst_song_gnr_cnt\n",
    "plylst_song_gnr_cnt = pd.DataFrame(plylst_song_gnr_map.groupby('id').gnr_code.nunique())\n",
    "\n",
    "# 3. plotting\n",
    "plt.hist(plylst_song_gnr_cnt['gnr_code'], range(0, 31), color = \"lightgrey\", edgecolor = \"black\")\n",
    "plt.show()"
   ]
  },
  {
   "cell_type": "code",
   "execution_count": 41,
   "metadata": {
    "ExecuteTime": {
     "end_time": "2020-04-26T23:06:41.121171Z",
     "start_time": "2020-04-26T23:06:41.098915Z"
    }
   },
   "outputs": [
    {
     "data": {
      "text/html": [
       "<div>\n",
       "<style scoped>\n",
       "    .dataframe tbody tr th:only-of-type {\n",
       "        vertical-align: middle;\n",
       "    }\n",
       "\n",
       "    .dataframe tbody tr th {\n",
       "        vertical-align: top;\n",
       "    }\n",
       "\n",
       "    .dataframe thead th {\n",
       "        text-align: right;\n",
       "    }\n",
       "</style>\n",
       "<table border=\"1\" class=\"dataframe\">\n",
       "  <thead>\n",
       "    <tr style=\"text-align: right;\">\n",
       "      <th></th>\n",
       "      <th>min</th>\n",
       "      <th>25%</th>\n",
       "      <th>50%</th>\n",
       "      <th>mean</th>\n",
       "      <th>75%</th>\n",
       "      <th>max</th>\n",
       "      <th>std</th>\n",
       "    </tr>\n",
       "  </thead>\n",
       "  <tbody>\n",
       "    <tr>\n",
       "      <th>gnr_code</th>\n",
       "      <td>0.0</td>\n",
       "      <td>4.0</td>\n",
       "      <td>6.0</td>\n",
       "      <td>6.55</td>\n",
       "      <td>9.0</td>\n",
       "      <td>26.0</td>\n",
       "      <td>3.62</td>\n",
       "    </tr>\n",
       "  </tbody>\n",
       "</table>\n",
       "</div>"
      ],
      "text/plain": [
       "          min  25%  50%  mean  75%   max   std\n",
       "gnr_code  0.0  4.0  6.0  6.55  9.0  26.0  3.62"
      ]
     },
     "execution_count": 41,
     "metadata": {},
     "output_type": "execute_result"
    }
   ],
   "source": [
    "round(plylst_song_gnr_cnt.describe().loc[['min', '25%', '50%', 'mean', '75%', 'max', 'std']].transpose(), 2)"
   ]
  },
  {
   "cell_type": "markdown",
   "metadata": {},
   "source": [
    "- 플레이리스트에 수록된 곡에서 대분류 장르 수 분포를 확인해본 결과 플레이리스트 당 **평균 6.6개**(중앙값 6개)**의 장르를 포함**하고 있습니다. "
   ]
  },
  {
   "cell_type": "markdown",
   "metadata": {},
   "source": [
    "<br>"
   ]
  },
  {
   "cell_type": "markdown",
   "metadata": {},
   "source": [
    "### 곡/태그/플레이리스트명 중복 비율은?"
   ]
  },
  {
   "cell_type": "markdown",
   "metadata": {},
   "source": [
    "#### 중복 수록 곡 비중"
   ]
  },
  {
   "cell_type": "code",
   "execution_count": 48,
   "metadata": {
    "ExecuteTime": {
     "end_time": "2020-04-26T23:07:20.692703Z",
     "start_time": "2020-04-26T23:07:16.526694Z"
    }
   },
   "outputs": [
    {
     "data": {
      "text/html": [
       "<div>\n",
       "<style scoped>\n",
       "    .dataframe tbody tr th:only-of-type {\n",
       "        vertical-align: middle;\n",
       "    }\n",
       "\n",
       "    .dataframe tbody tr th {\n",
       "        vertical-align: top;\n",
       "    }\n",
       "\n",
       "    .dataframe thead th {\n",
       "        text-align: right;\n",
       "    }\n",
       "</style>\n",
       "<table border=\"1\" class=\"dataframe\">\n",
       "  <thead>\n",
       "    <tr style=\"text-align: right;\">\n",
       "      <th></th>\n",
       "      <th>중복 수록 여부</th>\n",
       "      <th>곡 수</th>\n",
       "      <th>비율(%)</th>\n",
       "    </tr>\n",
       "  </thead>\n",
       "  <tbody>\n",
       "    <tr>\n",
       "      <th>0</th>\n",
       "      <td>단일 수록</td>\n",
       "      <td>299028</td>\n",
       "      <td>48.61</td>\n",
       "    </tr>\n",
       "    <tr>\n",
       "      <th>1</th>\n",
       "      <td>중복 수록</td>\n",
       "      <td>316114</td>\n",
       "      <td>51.39</td>\n",
       "    </tr>\n",
       "  </tbody>\n",
       "</table>\n",
       "</div>"
      ],
      "text/plain": [
       "  중복 수록 여부     곡 수  비율(%)\n",
       "0    단일 수록  299028  48.61\n",
       "1    중복 수록  316114  51.39"
      ]
     },
     "execution_count": 48,
     "metadata": {},
     "output_type": "execute_result"
    }
   ],
   "source": [
    "# 1. 곡 별 수록된 플레이리스트 개수 count 테이블 생성 : song_plylst_cnt\n",
    "song_plylst_cnt = plylst_song_map.groupby('songs').id.nunique().reset_index(name = 'mapping_plylst_cnt')\n",
    "\n",
    "# 2. 단일/중복 수록 구분 : 곡 별 수록된 플레이리스트가 한 개면 '단일 수록', 두 개 이상이면 '중복 수록'\n",
    "song_plylst_cnt = song_plylst_cnt.assign(\n",
    "    mapping_plylst_cnt_category = pd.cut(song_plylst_cnt['mapping_plylst_cnt'], [0, 1, np.inf], labels = ['단일 수록', '중복 수록'])\n",
    ")\n",
    "\n",
    "# 3. 단일/중복 수록 구분 별 곡 수 count 테이블 생성 : song_plylst_mapping_division\n",
    "song_plylst_mapping_division = pd.DataFrame(song_plylst_cnt.groupby('mapping_plylst_cnt_category').count())\n",
    "\n",
    "# 4. 3번 테이블에 비율 값 추가\n",
    "song_plylst_mapping_division.rename(columns = {'songs' : '곡 수'}, inplace = True)\n",
    "song_plylst_mapping_division.loc[:, '비율(%)'] = round(song_plylst_mapping_division['곡 수']/sum(song_plylst_mapping_division['곡 수'])*100, 2)\n",
    "song_plylst_mapping_division = song_plylst_mapping_division.reset_index().rename(columns = {'mapping_plylst_cnt_category' : '중복 수록 여부'})\n",
    "song_plylst_mapping_division[['중복 수록 여부', '곡 수', '비율(%)']]"
   ]
  },
  {
   "cell_type": "markdown",
   "metadata": {},
   "source": [
    "- **수록 곡의 약 51%는 두 개 이상의 플레이리스트에 중복 수록**된 곡 입니다."
   ]
  },
  {
   "cell_type": "markdown",
   "metadata": {},
   "source": [
    "#### 아래는 중복 수록 곡 중 많이 수록된 횟수 기준 상위 30곡 입니다."
   ]
  },
  {
   "cell_type": "code",
   "execution_count": 49,
   "metadata": {
    "ExecuteTime": {
     "end_time": "2020-04-26T23:07:54.447311Z",
     "start_time": "2020-04-26T23:07:52.738061Z"
    }
   },
   "outputs": [
    {
     "data": {
      "text/html": [
       "<div>\n",
       "<style scoped>\n",
       "    .dataframe tbody tr th:only-of-type {\n",
       "        vertical-align: middle;\n",
       "    }\n",
       "\n",
       "    .dataframe tbody tr th {\n",
       "        vertical-align: top;\n",
       "    }\n",
       "\n",
       "    .dataframe thead th {\n",
       "        text-align: right;\n",
       "    }\n",
       "</style>\n",
       "<table border=\"1\" class=\"dataframe\">\n",
       "  <thead>\n",
       "    <tr style=\"text-align: right;\">\n",
       "      <th></th>\n",
       "      <th>곡 아이디</th>\n",
       "      <th>곡 명</th>\n",
       "      <th>아티스트 명</th>\n",
       "      <th>수록 횟수</th>\n",
       "    </tr>\n",
       "  </thead>\n",
       "  <tbody>\n",
       "    <tr>\n",
       "      <th>0</th>\n",
       "      <td>144663</td>\n",
       "      <td>밤편지</td>\n",
       "      <td>[아이유]</td>\n",
       "      <td>2175</td>\n",
       "    </tr>\n",
       "    <tr>\n",
       "      <th>1</th>\n",
       "      <td>116573</td>\n",
       "      <td>안아줘</td>\n",
       "      <td>[정준일]</td>\n",
       "      <td>2121</td>\n",
       "    </tr>\n",
       "    <tr>\n",
       "      <th>2</th>\n",
       "      <td>357367</td>\n",
       "      <td>비</td>\n",
       "      <td>[폴킴]</td>\n",
       "      <td>1981</td>\n",
       "    </tr>\n",
       "    <tr>\n",
       "      <th>3</th>\n",
       "      <td>366786</td>\n",
       "      <td>가끔 미치도록 네가 안고 싶어질 때가 있어</td>\n",
       "      <td>[가을방학]</td>\n",
       "      <td>1919</td>\n",
       "    </tr>\n",
       "    <tr>\n",
       "      <th>4</th>\n",
       "      <td>654757</td>\n",
       "      <td>눈의 꽃</td>\n",
       "      <td>[박효신]</td>\n",
       "      <td>1647</td>\n",
       "    </tr>\n",
       "    <tr>\n",
       "      <th>5</th>\n",
       "      <td>133143</td>\n",
       "      <td>그대와 나, 설레임 (Feat. 소울맨)</td>\n",
       "      <td>[어쿠스틱 콜라보]</td>\n",
       "      <td>1633</td>\n",
       "    </tr>\n",
       "    <tr>\n",
       "      <th>6</th>\n",
       "      <td>349492</td>\n",
       "      <td>어떤이별</td>\n",
       "      <td>[임승부]</td>\n",
       "      <td>1599</td>\n",
       "    </tr>\n",
       "    <tr>\n",
       "      <th>7</th>\n",
       "      <td>675115</td>\n",
       "      <td>야생화</td>\n",
       "      <td>[박효신]</td>\n",
       "      <td>1598</td>\n",
       "    </tr>\n",
       "    <tr>\n",
       "      <th>8</th>\n",
       "      <td>463173</td>\n",
       "      <td>비가 내렸어 (Vocal by 스티브언니)</td>\n",
       "      <td>[업라이트 (Upright)]</td>\n",
       "      <td>1544</td>\n",
       "    </tr>\n",
       "    <tr>\n",
       "      <th>9</th>\n",
       "      <td>42155</td>\n",
       "      <td>벙어리</td>\n",
       "      <td>[홍아]</td>\n",
       "      <td>1540</td>\n",
       "    </tr>\n",
       "    <tr>\n",
       "      <th>10</th>\n",
       "      <td>396828</td>\n",
       "      <td>쉬운사랑</td>\n",
       "      <td>[중신]</td>\n",
       "      <td>1538</td>\n",
       "    </tr>\n",
       "    <tr>\n",
       "      <th>11</th>\n",
       "      <td>610933</td>\n",
       "      <td>널 생각해</td>\n",
       "      <td>[원 모어 찬스 (one more chance)]</td>\n",
       "      <td>1538</td>\n",
       "    </tr>\n",
       "    <tr>\n",
       "      <th>12</th>\n",
       "      <td>461341</td>\n",
       "      <td>어떻게 지내</td>\n",
       "      <td>[Crush]</td>\n",
       "      <td>1526</td>\n",
       "    </tr>\n",
       "    <tr>\n",
       "      <th>13</th>\n",
       "      <td>174749</td>\n",
       "      <td>비도 오고 그래서 (Feat. 신용재)</td>\n",
       "      <td>[헤이즈 (Heize)]</td>\n",
       "      <td>1512</td>\n",
       "    </tr>\n",
       "    <tr>\n",
       "      <th>14</th>\n",
       "      <td>520093</td>\n",
       "      <td>고마운 사람 (Vocal by 이소진)</td>\n",
       "      <td>[업라이트 (Upright)]</td>\n",
       "      <td>1508</td>\n",
       "    </tr>\n",
       "    <tr>\n",
       "      <th>15</th>\n",
       "      <td>701557</td>\n",
       "      <td>우연히 봄</td>\n",
       "      <td>[로꼬, 유주 (여자친구)]</td>\n",
       "      <td>1507</td>\n",
       "    </tr>\n",
       "    <tr>\n",
       "      <th>16</th>\n",
       "      <td>549178</td>\n",
       "      <td>금요일에 만나요 (Feat. 장이정 Of HISTORY)</td>\n",
       "      <td>[아이유]</td>\n",
       "      <td>1501</td>\n",
       "    </tr>\n",
       "    <tr>\n",
       "      <th>17</th>\n",
       "      <td>485155</td>\n",
       "      <td>선물</td>\n",
       "      <td>[민우]</td>\n",
       "      <td>1492</td>\n",
       "    </tr>\n",
       "    <tr>\n",
       "      <th>18</th>\n",
       "      <td>650494</td>\n",
       "      <td>봄 사랑 벚꽃 말고</td>\n",
       "      <td>[HIGH4 (하이포), 아이유]</td>\n",
       "      <td>1479</td>\n",
       "    </tr>\n",
       "    <tr>\n",
       "      <th>19</th>\n",
       "      <td>523521</td>\n",
       "      <td>사랑을 놓치고</td>\n",
       "      <td>[박은옥]</td>\n",
       "      <td>1476</td>\n",
       "    </tr>\n",
       "    <tr>\n",
       "      <th>20</th>\n",
       "      <td>13281</td>\n",
       "      <td>넌 이별 난 아직 (With 한소현 Of 3rd Coast)</td>\n",
       "      <td>[스탠딩 에그]</td>\n",
       "      <td>1473</td>\n",
       "    </tr>\n",
       "    <tr>\n",
       "      <th>21</th>\n",
       "      <td>648628</td>\n",
       "      <td>분홍빛 가득한 날에 (Vocal by 호수)</td>\n",
       "      <td>[아재]</td>\n",
       "      <td>1470</td>\n",
       "    </tr>\n",
       "    <tr>\n",
       "      <th>22</th>\n",
       "      <td>449244</td>\n",
       "      <td>스토커</td>\n",
       "      <td>[10CM]</td>\n",
       "      <td>1468</td>\n",
       "    </tr>\n",
       "    <tr>\n",
       "      <th>23</th>\n",
       "      <td>680366</td>\n",
       "      <td>끝내지 못한 이야기 (Feat. 호수)</td>\n",
       "      <td>[어쿠스틱 멜로디 (Acoustic Melody)]</td>\n",
       "      <td>1467</td>\n",
       "    </tr>\n",
       "    <tr>\n",
       "      <th>24</th>\n",
       "      <td>169984</td>\n",
       "      <td>같은 시간 속의 너</td>\n",
       "      <td>[나얼]</td>\n",
       "      <td>1463</td>\n",
       "    </tr>\n",
       "    <tr>\n",
       "      <th>25</th>\n",
       "      <td>422915</td>\n",
       "      <td>연인</td>\n",
       "      <td>[중신]</td>\n",
       "      <td>1455</td>\n",
       "    </tr>\n",
       "    <tr>\n",
       "      <th>26</th>\n",
       "      <td>11657</td>\n",
       "      <td>Lost Stars</td>\n",
       "      <td>[Adam Levine]</td>\n",
       "      <td>1452</td>\n",
       "    </tr>\n",
       "    <tr>\n",
       "      <th>27</th>\n",
       "      <td>418935</td>\n",
       "      <td>수고했어, 오늘도</td>\n",
       "      <td>[옥상달빛]</td>\n",
       "      <td>1446</td>\n",
       "    </tr>\n",
       "    <tr>\n",
       "      <th>28</th>\n",
       "      <td>187047</td>\n",
       "      <td>착각</td>\n",
       "      <td>[박은옥]</td>\n",
       "      <td>1437</td>\n",
       "    </tr>\n",
       "    <tr>\n",
       "      <th>29</th>\n",
       "      <td>547967</td>\n",
       "      <td>불안해</td>\n",
       "      <td>[혜지 (Hyeji)]</td>\n",
       "      <td>1434</td>\n",
       "    </tr>\n",
       "  </tbody>\n",
       "</table>\n",
       "</div>"
      ],
      "text/plain": [
       "     곡 아이디                                곡 명                        아티스트 명  \\\n",
       "0   144663                                밤편지                         [아이유]   \n",
       "1   116573                                안아줘                         [정준일]   \n",
       "2   357367                                  비                          [폴킴]   \n",
       "3   366786            가끔 미치도록 네가 안고 싶어질 때가 있어                        [가을방학]   \n",
       "4   654757                               눈의 꽃                         [박효신]   \n",
       "5   133143             그대와 나, 설레임 (Feat. 소울맨)                    [어쿠스틱 콜라보]   \n",
       "6   349492                               어떤이별                         [임승부]   \n",
       "7   675115                                야생화                         [박효신]   \n",
       "8   463173            비가 내렸어 (Vocal by 스티브언니)              [업라이트 (Upright)]   \n",
       "9    42155                                벙어리                          [홍아]   \n",
       "10  396828                               쉬운사랑                          [중신]   \n",
       "11  610933                              널 생각해   [원 모어 찬스 (one more chance)]   \n",
       "12  461341                             어떻게 지내                       [Crush]   \n",
       "13  174749              비도 오고 그래서 (Feat. 신용재)                 [헤이즈 (Heize)]   \n",
       "14  520093              고마운 사람 (Vocal by 이소진)              [업라이트 (Upright)]   \n",
       "15  701557                              우연히 봄               [로꼬, 유주 (여자친구)]   \n",
       "16  549178    금요일에 만나요 (Feat. 장이정 Of HISTORY)                         [아이유]   \n",
       "17  485155                                 선물                          [민우]   \n",
       "18  650494                         봄 사랑 벚꽃 말고            [HIGH4 (하이포), 아이유]   \n",
       "19  523521                            사랑을 놓치고                         [박은옥]   \n",
       "20   13281  넌 이별 난 아직 (With 한소현 Of 3rd Coast)                      [스탠딩 에그]   \n",
       "21  648628           분홍빛 가득한 날에 (Vocal by 호수)                          [아재]   \n",
       "22  449244                                스토커                        [10CM]   \n",
       "23  680366              끝내지 못한 이야기 (Feat. 호수)  [어쿠스틱 멜로디 (Acoustic Melody)]   \n",
       "24  169984                         같은 시간 속의 너                          [나얼]   \n",
       "25  422915                                 연인                          [중신]   \n",
       "26   11657                         Lost Stars                 [Adam Levine]   \n",
       "27  418935                          수고했어, 오늘도                        [옥상달빛]   \n",
       "28  187047                                 착각                         [박은옥]   \n",
       "29  547967                                불안해                  [혜지 (Hyeji)]   \n",
       "\n",
       "    수록 횟수  \n",
       "0    2175  \n",
       "1    2121  \n",
       "2    1981  \n",
       "3    1919  \n",
       "4    1647  \n",
       "5    1633  \n",
       "6    1599  \n",
       "7    1598  \n",
       "8    1544  \n",
       "9    1540  \n",
       "10   1538  \n",
       "11   1538  \n",
       "12   1526  \n",
       "13   1512  \n",
       "14   1508  \n",
       "15   1507  \n",
       "16   1501  \n",
       "17   1492  \n",
       "18   1479  \n",
       "19   1476  \n",
       "20   1473  \n",
       "21   1470  \n",
       "22   1468  \n",
       "23   1467  \n",
       "24   1463  \n",
       "25   1455  \n",
       "26   1452  \n",
       "27   1446  \n",
       "28   1437  \n",
       "29   1434  "
      ]
     },
     "execution_count": 49,
     "metadata": {},
     "output_type": "execute_result"
    }
   ],
   "source": [
    "# 1. song_plylst_cnt 테이블에서 중복 수록 곡 중 수록 횟수 기준 상위 30곡 필터링 테이블 생성 : duplicate_song_top30\n",
    "duplicate_song_top30 = song_plylst_cnt[song_plylst_cnt['mapping_plylst_cnt_category'] == '중복 수록'].nlargest(30, 'mapping_plylst_cnt')\n",
    "\n",
    "# 2-1. join 목적으로 곡 아이디 integer to string 변환\n",
    "duplicate_song_top30['songs'] = duplicate_song_top30['songs'].astype(str)\n",
    "song_meta['id'] = song_meta['id'].astype(str)\n",
    "\n",
    "# 2-2 상위 30곡 테이블 duplicate_song_top30 + 곡 메타 song_meta join\n",
    "(\n",
    "    pd.merge(duplicate_song_top30, song_meta[['id', 'song_name', 'artist_name_basket']],\n",
    "             how = 'left', left_on = 'songs', right_on = 'id')\n",
    "    [['songs', 'song_name', 'artist_name_basket', 'mapping_plylst_cnt']]\n",
    "    .rename(columns = {'songs' : '곡 아이디', 'song_name' : '곡 명', 'artist_name_basket' : '아티스트 명', 'mapping_plylst_cnt' : '수록 횟수'})\n",
    ")"
   ]
  },
  {
   "cell_type": "markdown",
   "metadata": {},
   "source": [
    "#### 아래는 단일 수록 곡 중 가장 많은 곡이 수록된 장르 상위 30개 입니다."
   ]
  },
  {
   "cell_type": "code",
   "execution_count": 50,
   "metadata": {
    "ExecuteTime": {
     "end_time": "2020-04-26T23:08:07.362242Z",
     "start_time": "2020-04-26T23:08:05.498877Z"
    }
   },
   "outputs": [
    {
     "data": {
      "text/html": [
       "<div>\n",
       "<style scoped>\n",
       "    .dataframe tbody tr th:only-of-type {\n",
       "        vertical-align: middle;\n",
       "    }\n",
       "\n",
       "    .dataframe tbody tr th {\n",
       "        vertical-align: top;\n",
       "    }\n",
       "\n",
       "    .dataframe thead th {\n",
       "        text-align: right;\n",
       "    }\n",
       "</style>\n",
       "<table border=\"1\" class=\"dataframe\">\n",
       "  <thead>\n",
       "    <tr style=\"text-align: right;\">\n",
       "      <th></th>\n",
       "      <th>대분류 장르코드</th>\n",
       "      <th>장르명</th>\n",
       "      <th>수록 곡 수</th>\n",
       "    </tr>\n",
       "  </thead>\n",
       "  <tbody>\n",
       "    <tr>\n",
       "      <th>15</th>\n",
       "      <td>GN1600</td>\n",
       "      <td>클래식</td>\n",
       "      <td>32841</td>\n",
       "    </tr>\n",
       "    <tr>\n",
       "      <th>8</th>\n",
       "      <td>GN0900</td>\n",
       "      <td>POP</td>\n",
       "      <td>30987</td>\n",
       "    </tr>\n",
       "    <tr>\n",
       "      <th>9</th>\n",
       "      <td>GN1000</td>\n",
       "      <td>록/메탈</td>\n",
       "      <td>30028</td>\n",
       "    </tr>\n",
       "    <tr>\n",
       "      <th>10</th>\n",
       "      <td>GN1100</td>\n",
       "      <td>일렉트로니카</td>\n",
       "      <td>25725</td>\n",
       "    </tr>\n",
       "    <tr>\n",
       "      <th>16</th>\n",
       "      <td>GN1700</td>\n",
       "      <td>재즈</td>\n",
       "      <td>23158</td>\n",
       "    </tr>\n",
       "    <tr>\n",
       "      <th>17</th>\n",
       "      <td>GN1800</td>\n",
       "      <td>뉴에이지</td>\n",
       "      <td>19370</td>\n",
       "    </tr>\n",
       "    <tr>\n",
       "      <th>14</th>\n",
       "      <td>GN1500</td>\n",
       "      <td>OST</td>\n",
       "      <td>16855</td>\n",
       "    </tr>\n",
       "    <tr>\n",
       "      <th>11</th>\n",
       "      <td>GN1200</td>\n",
       "      <td>랩/힙합</td>\n",
       "      <td>15054</td>\n",
       "    </tr>\n",
       "    <tr>\n",
       "      <th>0</th>\n",
       "      <td>GN0100</td>\n",
       "      <td>발라드</td>\n",
       "      <td>14575</td>\n",
       "    </tr>\n",
       "    <tr>\n",
       "      <th>12</th>\n",
       "      <td>GN1300</td>\n",
       "      <td>R&amp;B/Soul</td>\n",
       "      <td>13136</td>\n",
       "    </tr>\n",
       "    <tr>\n",
       "      <th>4</th>\n",
       "      <td>GN0500</td>\n",
       "      <td>인디음악</td>\n",
       "      <td>12560</td>\n",
       "    </tr>\n",
       "    <tr>\n",
       "      <th>20</th>\n",
       "      <td>GN2100</td>\n",
       "      <td>CCM</td>\n",
       "      <td>10376</td>\n",
       "    </tr>\n",
       "    <tr>\n",
       "      <th>18</th>\n",
       "      <td>GN1900</td>\n",
       "      <td>J-POP</td>\n",
       "      <td>9871</td>\n",
       "    </tr>\n",
       "    <tr>\n",
       "      <th>5</th>\n",
       "      <td>GN0600</td>\n",
       "      <td>록/메탈</td>\n",
       "      <td>9386</td>\n",
       "    </tr>\n",
       "    <tr>\n",
       "      <th>21</th>\n",
       "      <td>GN2200</td>\n",
       "      <td>어린이/태교</td>\n",
       "      <td>8665</td>\n",
       "    </tr>\n",
       "    <tr>\n",
       "      <th>19</th>\n",
       "      <td>GN2000</td>\n",
       "      <td>월드뮤직</td>\n",
       "      <td>8073</td>\n",
       "    </tr>\n",
       "    <tr>\n",
       "      <th>2</th>\n",
       "      <td>GN0300</td>\n",
       "      <td>랩/힙합</td>\n",
       "      <td>7712</td>\n",
       "    </tr>\n",
       "    <tr>\n",
       "      <th>13</th>\n",
       "      <td>GN1400</td>\n",
       "      <td>포크/블루스/컨트리</td>\n",
       "      <td>6901</td>\n",
       "    </tr>\n",
       "    <tr>\n",
       "      <th>6</th>\n",
       "      <td>GN0700</td>\n",
       "      <td>성인가요</td>\n",
       "      <td>6161</td>\n",
       "    </tr>\n",
       "    <tr>\n",
       "      <th>1</th>\n",
       "      <td>GN0200</td>\n",
       "      <td>댄스</td>\n",
       "      <td>4672</td>\n",
       "    </tr>\n",
       "    <tr>\n",
       "      <th>7</th>\n",
       "      <td>GN0800</td>\n",
       "      <td>포크/블루스</td>\n",
       "      <td>4403</td>\n",
       "    </tr>\n",
       "    <tr>\n",
       "      <th>26</th>\n",
       "      <td>GN2700</td>\n",
       "      <td>EDM</td>\n",
       "      <td>3806</td>\n",
       "    </tr>\n",
       "    <tr>\n",
       "      <th>3</th>\n",
       "      <td>GN0400</td>\n",
       "      <td>R&amp;B/Soul</td>\n",
       "      <td>3125</td>\n",
       "    </tr>\n",
       "    <tr>\n",
       "      <th>25</th>\n",
       "      <td>GN2600</td>\n",
       "      <td>일렉트로니카</td>\n",
       "      <td>2292</td>\n",
       "    </tr>\n",
       "    <tr>\n",
       "      <th>23</th>\n",
       "      <td>GN2400</td>\n",
       "      <td>국악</td>\n",
       "      <td>1226</td>\n",
       "    </tr>\n",
       "    <tr>\n",
       "      <th>24</th>\n",
       "      <td>GN2500</td>\n",
       "      <td>아이돌</td>\n",
       "      <td>1134</td>\n",
       "    </tr>\n",
       "    <tr>\n",
       "      <th>29</th>\n",
       "      <td>GN9000</td>\n",
       "      <td>NaN</td>\n",
       "      <td>924</td>\n",
       "    </tr>\n",
       "    <tr>\n",
       "      <th>27</th>\n",
       "      <td>GN2800</td>\n",
       "      <td>뮤직테라피</td>\n",
       "      <td>909</td>\n",
       "    </tr>\n",
       "    <tr>\n",
       "      <th>28</th>\n",
       "      <td>GN2900</td>\n",
       "      <td>뮤지컬</td>\n",
       "      <td>818</td>\n",
       "    </tr>\n",
       "    <tr>\n",
       "      <th>22</th>\n",
       "      <td>GN2300</td>\n",
       "      <td>종교음악</td>\n",
       "      <td>528</td>\n",
       "    </tr>\n",
       "  </tbody>\n",
       "</table>\n",
       "</div>"
      ],
      "text/plain": [
       "   대분류 장르코드         장르명  수록 곡 수\n",
       "15   GN1600         클래식   32841\n",
       "8    GN0900         POP   30987\n",
       "9    GN1000        록/메탈   30028\n",
       "10   GN1100      일렉트로니카   25725\n",
       "16   GN1700          재즈   23158\n",
       "17   GN1800        뉴에이지   19370\n",
       "14   GN1500         OST   16855\n",
       "11   GN1200        랩/힙합   15054\n",
       "0    GN0100         발라드   14575\n",
       "12   GN1300    R&B/Soul   13136\n",
       "4    GN0500        인디음악   12560\n",
       "20   GN2100         CCM   10376\n",
       "18   GN1900       J-POP    9871\n",
       "5    GN0600        록/메탈    9386\n",
       "21   GN2200      어린이/태교    8665\n",
       "19   GN2000        월드뮤직    8073\n",
       "2    GN0300        랩/힙합    7712\n",
       "13   GN1400  포크/블루스/컨트리    6901\n",
       "6    GN0700        성인가요    6161\n",
       "1    GN0200          댄스    4672\n",
       "7    GN0800      포크/블루스    4403\n",
       "26   GN2700         EDM    3806\n",
       "3    GN0400    R&B/Soul    3125\n",
       "25   GN2600      일렉트로니카    2292\n",
       "23   GN2400          국악    1226\n",
       "24   GN2500         아이돌    1134\n",
       "29   GN9000         NaN     924\n",
       "27   GN2800       뮤직테라피     909\n",
       "28   GN2900         뮤지컬     818\n",
       "22   GN2300        종교음악     528"
      ]
     },
     "execution_count": 50,
     "metadata": {},
     "output_type": "execute_result"
    }
   ],
   "source": [
    "# 1. song_plylst_cnt 테이블에서 단일 수록 곡만 필터링 하여 테이블 생성 : single_song\n",
    "single_song = song_plylst_cnt[song_plylst_cnt['mapping_plylst_cnt_category'] == '단일 수록']\n",
    "\n",
    "# 2-1. join 목적으로 곡 아이디 integer to string 변환\n",
    "single_song['songs'] = single_song['songs'].astype(str)\n",
    "\n",
    "# 2-2. 단일 수록 곡 테이블 single_song + 곡 메타 song_meta join : 아티스트 기준 single_song_artist, 장르 기준 single_song_gnr\n",
    "single_song_artist = pd.merge(single_song, song_meta[['id', 'song_name', 'artist_name_basket']], how = 'left', left_on = 'songs', right_on = 'id')\n",
    "single_song_gnr = pd.merge(single_song, song_gnr_map, how = 'left', left_on = 'songs', right_on = 'song_id')\n",
    "\n",
    "# 3. 수록 곡 개수 기준 상위 30개 장르 : single_song_gnr_cnt\n",
    "single_song_gnr_cnt = single_song_gnr.groupby('gnr_code').songs.nunique().reset_index(name = 'song_cnt')\n",
    "(\n",
    "    pd.merge(single_song_gnr_cnt, genre_gn_all, how = 'left', on = 'gnr_code')[['gnr_code', 'gnr_name', 'song_cnt']]\n",
    "    .rename(columns = {'gnr_code' : '대분류 장르코드', 'gnr_name' : '장르명', 'song_cnt' : '수록 곡 수'})\n",
    "    .sort_values('수록 곡 수', ascending = False)\n",
    ")"
   ]
  },
  {
   "cell_type": "markdown",
   "metadata": {},
   "source": [
    "<br>"
   ]
  },
  {
   "cell_type": "markdown",
   "metadata": {},
   "source": [
    "#### 중복 매핑 태그 비중"
   ]
  },
  {
   "cell_type": "code",
   "execution_count": 51,
   "metadata": {
    "ExecuteTime": {
     "end_time": "2020-04-26T23:08:38.150136Z",
     "start_time": "2020-04-26T23:08:37.892796Z"
    }
   },
   "outputs": [
    {
     "data": {
      "text/html": [
       "<div>\n",
       "<style scoped>\n",
       "    .dataframe tbody tr th:only-of-type {\n",
       "        vertical-align: middle;\n",
       "    }\n",
       "\n",
       "    .dataframe tbody tr th {\n",
       "        vertical-align: top;\n",
       "    }\n",
       "\n",
       "    .dataframe thead th {\n",
       "        text-align: right;\n",
       "    }\n",
       "</style>\n",
       "<table border=\"1\" class=\"dataframe\">\n",
       "  <thead>\n",
       "    <tr style=\"text-align: right;\">\n",
       "      <th></th>\n",
       "      <th>중복 매핑 여부</th>\n",
       "      <th>태그 수</th>\n",
       "      <th>비율(%)</th>\n",
       "    </tr>\n",
       "  </thead>\n",
       "  <tbody>\n",
       "    <tr>\n",
       "      <th>0</th>\n",
       "      <td>단일 매핑</td>\n",
       "      <td>17431</td>\n",
       "      <td>59.78</td>\n",
       "    </tr>\n",
       "    <tr>\n",
       "      <th>1</th>\n",
       "      <td>중복 매핑</td>\n",
       "      <td>11729</td>\n",
       "      <td>40.22</td>\n",
       "    </tr>\n",
       "  </tbody>\n",
       "</table>\n",
       "</div>"
      ],
      "text/plain": [
       "  중복 매핑 여부   태그 수  비율(%)\n",
       "0    단일 매핑  17431  59.78\n",
       "1    중복 매핑  11729  40.22"
      ]
     },
     "execution_count": 51,
     "metadata": {},
     "output_type": "execute_result"
    }
   ],
   "source": [
    "# 1. 태그 별 수록된 플레이리스트 개수 count 테이블 생성 : tag_plylst_cnt\n",
    "tag_plylst_cnt = plylst_tag_map.groupby('tags').id.nunique().reset_index(name = 'mapping_plylst_cnt')\n",
    "\n",
    "# 2. 단일/중복 매핑 구분 : 태그 별 매핑된 플레이리스트가 한 개면 '단일 매핑', 두 개 이상이면 '중복 매핑'\n",
    "tag_plylst_cnt = tag_plylst_cnt.assign(\n",
    "    mapping_plylst_cnt_category = pd.cut(tag_plylst_cnt['mapping_plylst_cnt'], [0, 1, np.inf], labels = ['단일 매핑', '중복 매핑'])\n",
    ")\n",
    "\n",
    "# 3. 단일/중복 매핑 구분 별 태그 수 count 테이블 생성 : tag_plylst_mapping_division\n",
    "tag_plylst_mapping_division = pd.DataFrame(tag_plylst_cnt.groupby('mapping_plylst_cnt_category').count())\n",
    "\n",
    "# 4. 3번 테이블에 비율 값 추가\n",
    "tag_plylst_mapping_division.rename(columns = {'tags' : '태그 수'}, inplace = True)\n",
    "tag_plylst_mapping_division.loc[:, '비율(%)'] = round(tag_plylst_mapping_division['태그 수']/sum(tag_plylst_mapping_division['태그 수'])*100, 2)\n",
    "tag_plylst_mapping_division = tag_plylst_mapping_division.reset_index().rename(columns = {'mapping_plylst_cnt_category' : '중복 매핑 여부'})\n",
    "tag_plylst_mapping_division[['중복 매핑 여부', '태그 수', '비율(%)']]"
   ]
  },
  {
   "cell_type": "markdown",
   "metadata": {},
   "source": [
    "- 태그의 매핑 중복 비율을 확인해본 결과 **전체 대비 약 40.2%는 두 개 이상 플레이리스트에 매핑된 태그**이며  \n",
    "  한 개 플레이리스트에만 매핑된 태그는 과반 이상의 비중을 차지합니다."
   ]
  },
  {
   "cell_type": "markdown",
   "metadata": {},
   "source": [
    "<br>"
   ]
  },
  {
   "cell_type": "markdown",
   "metadata": {},
   "source": [
    "#### 플레이리스트명 중복 비중"
   ]
  },
  {
   "cell_type": "code",
   "execution_count": 52,
   "metadata": {
    "ExecuteTime": {
     "end_time": "2020-04-26T23:08:44.559454Z",
     "start_time": "2020-04-26T23:08:44.243693Z"
    }
   },
   "outputs": [
    {
     "data": {
      "text/html": [
       "<div>\n",
       "<style scoped>\n",
       "    .dataframe tbody tr th:only-of-type {\n",
       "        vertical-align: middle;\n",
       "    }\n",
       "\n",
       "    .dataframe tbody tr th {\n",
       "        vertical-align: top;\n",
       "    }\n",
       "\n",
       "    .dataframe thead th {\n",
       "        text-align: right;\n",
       "    }\n",
       "</style>\n",
       "<table border=\"1\" class=\"dataframe\">\n",
       "  <thead>\n",
       "    <tr style=\"text-align: right;\">\n",
       "      <th></th>\n",
       "      <th>중복 이름 여부</th>\n",
       "      <th>플레이리스트 아이디 수</th>\n",
       "      <th>비율(%)</th>\n",
       "    </tr>\n",
       "  </thead>\n",
       "  <tbody>\n",
       "    <tr>\n",
       "      <th>0</th>\n",
       "      <td>중복 없음</td>\n",
       "      <td>108214</td>\n",
       "      <td>97.9</td>\n",
       "    </tr>\n",
       "    <tr>\n",
       "      <th>1</th>\n",
       "      <td>중복 있음</td>\n",
       "      <td>2317</td>\n",
       "      <td>2.1</td>\n",
       "    </tr>\n",
       "  </tbody>\n",
       "</table>\n",
       "</div>"
      ],
      "text/plain": [
       "  중복 이름 여부  플레이리스트 아이디 수  비율(%)\n",
       "0    중복 없음        108214   97.9\n",
       "1    중복 있음          2317    2.1"
      ]
     },
     "execution_count": 52,
     "metadata": {},
     "output_type": "execute_result"
    }
   ],
   "source": [
    "# 1. 플레이리스트 아이디(id)와 플레이리스트 명(plylst_title) 추출\n",
    "plylst_title = train[['id', 'plylst_title']]\n",
    "\n",
    "# 2. 플레이리스트 이름 별 플레이리스트 ID count 테이블 생성 : plylst_id_cnt\n",
    "plylst_id_cnt = plylst_title.groupby('plylst_title').id.nunique().reset_index(name = 'mapping_plylst_cnt')\n",
    "\n",
    "# 3. 플레이리스트 명 중복 구분 : 서로 다른 플레이리스트 아이디로 겹치는 플레이리스트 이름이 없으면 '중복 없음', 그 외 '중복 있음'\n",
    "plylst_id_cnt = plylst_id_cnt.assign(\n",
    "    mapping_plylst_cnt_category = pd.cut(plylst_id_cnt['mapping_plylst_cnt'], [0, 1, np.inf], labels = ['중복 없음', '중복 있음'])\n",
    ")\n",
    "\n",
    "# 4. 중복 구분 별 플레이리스트 수 count 테이블 생성 : plylst_id_cnt_division\n",
    "plylst_id_cnt_division = pd.DataFrame(plylst_id_cnt.groupby('mapping_plylst_cnt_category').count())\n",
    "\n",
    "# 5. 4번 테이블에 비율 값 추가\n",
    "plylst_id_cnt_division.rename(columns = {'mapping_plylst_cnt' : '플레이리스트 아이디 수'}, inplace = True)\n",
    "plylst_id_cnt_division.loc[:, '비율(%)'] = round(plylst_id_cnt_division['플레이리스트 아이디 수']/sum(plylst_id_cnt_division['플레이리스트 아이디 수'])*100, 2)\n",
    "plylst_id_cnt_division = plylst_id_cnt_division.reset_index().rename(columns = {'mapping_plylst_cnt_category' : '중복 이름 여부'})\n",
    "plylst_id_cnt_division.loc[:, ['중복 이름 여부', '플레이리스트 아이디 수', '비율(%)']]"
   ]
  },
  {
   "cell_type": "markdown",
   "metadata": {},
   "source": [
    "- 또한 **플레이리스트 아이디는 다르지만 같은 이름을 갖는 플레이리스트도 전체 대비 약 2% 정도**로 소수 존재 합니다.\n",
    "- 이러한 플레이리스트들은 대부분 곡 수와 태그 수도 비슷한 편이 많았습니다. "
   ]
  },
  {
   "cell_type": "markdown",
   "metadata": {},
   "source": [
    "<br>"
   ]
  },
  {
   "cell_type": "markdown",
   "metadata": {},
   "source": [
    "### 많은 빈도를 보이는 태그는?"
   ]
  },
  {
   "cell_type": "code",
   "execution_count": 53,
   "metadata": {
    "ExecuteTime": {
     "end_time": "2020-04-26T23:08:49.641702Z",
     "start_time": "2020-04-26T23:08:48.966705Z"
    }
   },
   "outputs": [
    {
     "data": {
      "image/png": "[encoded data removed]",
      "text/plain": [
       "<PIL.Image.Image image mode=RGB size=450x450 at 0x20B383F7630>"
      ]
     },
     "execution_count": 53,
     "metadata": {},
     "output_type": "execute_result"
    }
   ],
   "source": [
    "# 태그 별 매핑 빈도 수 저장 \n",
    "tag_cnt = plylst_tag_map.groupby('tags').tags.count().reset_index(name = 'mapping_cnt')\n",
    "tag_cnt['tags'] = tag_cnt['tags'].astype(str)\n",
    "tag_cnt['mapping_cnt'] = tag_cnt['mapping_cnt'].astype(int)\n",
    "\n",
    "# 빈도 수가 1000회 이상인 태그만 저장\n",
    "tag_cnt = tag_cnt[tag_cnt['mapping_cnt'] >= 1000]\n",
    "word_count = list(zip(tag_cnt['tags'], tag_cnt['mapping_cnt']))\n",
    "\n",
    "# plotting\n",
    "wc = WordCloud(font_path = font_path, background_color = 'white', max_words = 100, width = 450, height = 450)\n",
    "wc.generate_from_frequencies(dict(word_count)).to_image()"
   ]
  },
  {
   "cell_type": "markdown",
   "metadata": {},
   "source": [
    "- 매핑 기준 상위 1,000번 이상 매핑된 태그를 살펴본 결과 **기분전환 태그명이 가장 높은 비중을 차지**하고 있으며  \n",
    "  여름/가을/겨울 등 계절이나 드라이브, 카페, 매장음악 등 특정 상황과 어울리는 태그 등이 상위권에 분포되어 있습니다.\n",
    "- 발라드, 힙합, 팝, 인디, 락, 댄스, 뉴에이지 등 **장르와 관련된 태그도 일부 상위권**에 속합니다."
   ]
  },
  {
   "cell_type": "markdown",
   "metadata": {},
   "source": [
    "<br>"
   ]
  },
  {
   "cell_type": "code",
   "execution_count": 54,
   "metadata": {
    "ExecuteTime": {
     "end_time": "2020-04-26T23:09:06.170054Z",
     "start_time": "2020-04-26T23:08:52.915631Z"
    }
   },
   "outputs": [
    {
     "data": {
      "image/png": "[encoded data removed]",
      "text/plain": [
       "<Figure size 792x1080 with 1 Axes>"
      ]
     },
     "metadata": {
      "needs_background": "light"
     },
     "output_type": "display_data"
    }
   ],
   "source": [
    "# 1. unnest 데이터프레임인 plylst_tag_map 테이블에서 태그 이름 정렬 후 list로 묶기\n",
    "plylst_tag_list_sort = plylst_tag_map.sort_values(by = ['id', 'tags']).groupby('id').tags.apply(list).reset_index(name = 'tag_list')\n",
    "\n",
    "# 2. 집계를 위해 1번 테이블에서 list 타입을 문자열 타입으로 변경\n",
    "plylst_tag_list_sort['tag_list'] = plylst_tag_list_sort['tag_list'].astype(str)\n",
    "\n",
    "# 3. 태그 리스트 별 매핑되는 플레이리스트 수 집계 테이블 생성 : tag_list_plylst_cnt\n",
    "tag_list_plylst_cnt = plylst_tag_list_sort.groupby('tag_list').id.nunique().reset_index(name = 'plylst_cnt')\n",
    "\n",
    "# 4. 매핑 수 기준 상위 50개 필터링\n",
    "tag_list_plylst_cnt = tag_list_plylst_cnt.nlargest(50, 'plylst_cnt')\n",
    "\n",
    "# 5. plotting\n",
    "plt.figure(figsize = (11, 15))\n",
    "tag_list_plylst_cnt_plot = sns.barplot(y = 'tag_list', x = 'plylst_cnt', data = tag_list_plylst_cnt, color = 'grey')\n",
    "tag_list_plylst_cnt_plot.set_title('매핑된 태그 리스트 상위 50개')\n",
    "tag_list_plylst_cnt_plot.set_xlabel('매핑된 플레이리스트 수')\n",
    "tag_list_plylst_cnt_plot.set_ylabel('태그 리스트')\n",
    "plt.show()"
   ]
  },
  {
   "cell_type": "markdown",
   "metadata": {},
   "source": [
    "- 플레이리스트에 매핑된 태그 리스트를 기준으로 매핑 기준 상위 50개를 확인해본 결과  \n",
    "  **다른 태그와 조합 없는 장르 관련 태그가 상위권을 차지**하고 있으며, 발라드 단일 태그가 가장 많았습니다.\n",
    "- **이 밖에 가장 빈도가 높았던 기분전환 태그명은 휴식, 힐링 뿐만 아니라 스트레스, 드라이브, 사랑, 설렘 등 다양한 태그와 같이 조합을 이루는 케이스가 많았습니다.**"
   ]
  },
  {
   "cell_type": "markdown",
   "metadata": {},
   "source": [
    "<br>"
   ]
  },
  {
   "cell_type": "markdown",
   "metadata": {},
   "source": [
    "### 플레이리스트 태그 별 어떤 곡들이 수록되었을까?"
   ]
  },
  {
   "cell_type": "code",
   "execution_count": 55,
   "metadata": {
    "ExecuteTime": {
     "end_time": "2020-04-26T23:09:37.788760Z",
     "start_time": "2020-04-26T23:09:06.171816Z"
    }
   },
   "outputs": [],
   "source": [
    "# 1. 플레이리스트-곡 테이블 plylst_song_map + 플레이리스트-태그 테이블 plylst_tag_map join 테이블 생성 : plylst_song_tag_map\n",
    "plylst_song_tag_map = pd.merge(plylst_song_map, plylst_tag_map, how = 'left', on = 'id')\n",
    "\n",
    "# 2. 1번 테이블 plylst_song_tag_map + 곡 장르 테이블 song_gnr_map join\n",
    "plylst_song_tag_map = pd.merge(plylst_song_tag_map, song_gnr_map, how = 'left', left_on = 'songs', right_on = 'song_id')\n",
    "\n",
    "# 3. 2번 테이블에서 장르 메타 join\n",
    "gnr_code['gnr_code_name'] = gnr_code['gnr_code'] + ' (' + gnr_code['gnr_name'] + ')'\n",
    "gnr_code = gnr_code[['gnr_code', 'gnr_code_name']]\n",
    "plylst_song_tag_map = pd.merge(plylst_song_tag_map, gnr_code, how = 'left', on = 'gnr_code')\n",
    "\n",
    "# 4. 최종 테이블 필드 선택\n",
    "plylst_song_tag_map = plylst_song_tag_map[['id', 'songs', 'tags', 'gnr_code_name']]"
   ]
  },
  {
   "cell_type": "code",
   "execution_count": 56,
   "metadata": {
    "ExecuteTime": {
     "end_time": "2020-04-26T23:09:45.068942Z",
     "start_time": "2020-04-26T23:09:37.791231Z"
    }
   },
   "outputs": [],
   "source": [
    "# 태그 = ['드라이브', '스트레스', '기분전환']\n",
    "song_tag_map_sample_1 = plylst_song_tag_map.loc[plylst_song_tag_map.tags.isin(['드라이브', '스트레스', '기분전환']), :]\n",
    "# 태그 = ['밤', '새벽', '잔잔한']\n",
    "song_tag_map_sample_2 = plylst_song_tag_map.loc[plylst_song_tag_map.tags.isin(['밤', '새벽', '잔잔한']), :]\n",
    "# 태그 = ['사랑', '설렘']\n",
    "song_tag_map_sample_3 = plylst_song_tag_map.loc[plylst_song_tag_map.tags.isin(['사랑', '설렘']), :]\n",
    "# 태그 = ['추억', '회상']\n",
    "song_tag_map_sample_4 = plylst_song_tag_map.loc[plylst_song_tag_map.tags.isin(['추억', '회상']), :]\n",
    "# 태그 = ['슬픔', '이별']\n",
    "song_tag_map_sample_5 = plylst_song_tag_map.loc[plylst_song_tag_map.tags.isin(['슬픔', '이별']), :]\n",
    "# 태그 = ['휴식', '힐링']\n",
    "song_tag_map_sample_6 = plylst_song_tag_map.loc[plylst_song_tag_map.tags.isin(['휴식', '힐링']), :]\n",
    "# 태그 = ['휴식', '힐링']\n",
    "song_tag_map_sample_7 = plylst_song_tag_map.loc[plylst_song_tag_map.tags.isin(['카페', '매장음악']), :]"
   ]
  },
  {
   "cell_type": "code",
   "execution_count": 57,
   "metadata": {
    "ExecuteTime": {
     "end_time": "2020-04-26T23:09:48.757462Z",
     "start_time": "2020-04-26T23:09:45.070767Z"
    }
   },
   "outputs": [
    {
     "data": {
      "image/png": "[encoded data removed]",
      "text/plain": [
       "<Figure size 1440x720 with 1 Axes>"
      ]
     },
     "metadata": {
      "needs_background": "light"
     },
     "output_type": "display_data"
    }
   ],
   "source": [
    "# 각 샘플 태그 리스트 별 장르 비율 집계\n",
    "song_tag_map_sample_1_gnr_rank = song_tag_map_sample_1.groupby('gnr_code_name').songs.nunique().reset_index(name = 'song_cnt')\n",
    "song_tag_map_sample_1_gnr_rank.loc[:, 'song_cnt_ratio'] = round(song_tag_map_sample_1_gnr_rank['song_cnt']/sum(song_tag_map_sample_1_gnr_rank['song_cnt'])*100, 2)\n",
    "song_tag_map_sample_1_gnr_rank['gnr_rank'] = song_tag_map_sample_1_gnr_rank['song_cnt_ratio'].rank(ascending = False)\n",
    "song_tag_map_sample_1_gnr_rank['tag_list'] = '드라이브, 스트레스, 기분전환'\n",
    "song_tag_map_sample_1_gnr_rank.rename(columns = {'gnr_code_name' : '장르', 'song_cnt' : '곡 수', 'song_cnt_ratio' : '비율(%)', 'gnr_rank' : '순위', 'tag_list' : '태그 리스트'}, inplace = True)\n",
    "\n",
    "song_tag_map_sample_2_gnr_rank = song_tag_map_sample_2.groupby('gnr_code_name').songs.nunique().reset_index(name = 'song_cnt')\n",
    "song_tag_map_sample_2_gnr_rank.loc[:, 'song_cnt_ratio'] = round(song_tag_map_sample_2_gnr_rank['song_cnt']/sum(song_tag_map_sample_2_gnr_rank['song_cnt'])*100, 2)\n",
    "song_tag_map_sample_2_gnr_rank['gnr_rank'] = song_tag_map_sample_2_gnr_rank['song_cnt_ratio'].rank(ascending = False)\n",
    "song_tag_map_sample_2_gnr_rank['tag_list'] = '밤, 새벽, 잔잔한'\n",
    "song_tag_map_sample_2_gnr_rank.rename(columns = {'gnr_code_name' : '장르', 'song_cnt' : '곡 수', 'song_cnt_ratio' : '비율(%)', 'gnr_rank' : '순위', 'tag_list' : '태그 리스트'}, inplace = True)\n",
    "\n",
    "song_tag_map_sample_3_gnr_rank = song_tag_map_sample_3.groupby('gnr_code_name').songs.nunique().reset_index(name = 'song_cnt')\n",
    "song_tag_map_sample_3_gnr_rank.loc[:, 'song_cnt_ratio'] = round(song_tag_map_sample_3_gnr_rank['song_cnt']/sum(song_tag_map_sample_3_gnr_rank['song_cnt'])*100, 2)\n",
    "song_tag_map_sample_3_gnr_rank['gnr_rank'] = song_tag_map_sample_3_gnr_rank['song_cnt_ratio'].rank(ascending = False)\n",
    "song_tag_map_sample_3_gnr_rank['tag_list'] = '사랑, 설렘'\n",
    "song_tag_map_sample_3_gnr_rank.rename(columns = {'gnr_code_name' : '장르', 'song_cnt' : '곡 수', 'song_cnt_ratio' : '비율(%)', 'gnr_rank' : '순위', 'tag_list' : '태그 리스트'}, inplace = True)\n",
    "\n",
    "song_tag_map_sample_4_gnr_rank = song_tag_map_sample_4.groupby('gnr_code_name').songs.nunique().reset_index(name = 'song_cnt')\n",
    "song_tag_map_sample_4_gnr_rank.loc[:, 'song_cnt_ratio'] = round(song_tag_map_sample_4_gnr_rank['song_cnt']/sum(song_tag_map_sample_4_gnr_rank['song_cnt'])*100, 2)\n",
    "song_tag_map_sample_4_gnr_rank['gnr_rank'] = song_tag_map_sample_4_gnr_rank['song_cnt_ratio'].rank(ascending = False)\n",
    "song_tag_map_sample_4_gnr_rank['tag_list'] = '추억, 회상'\n",
    "song_tag_map_sample_4_gnr_rank.rename(columns = {'gnr_code_name' : '장르', 'song_cnt' : '곡 수', 'song_cnt_ratio' : '비율(%)', 'gnr_rank' : '순위', 'tag_list' : '태그 리스트'}, inplace = True)\n",
    "\n",
    "song_tag_map_sample_5_gnr_rank = song_tag_map_sample_5.groupby('gnr_code_name').songs.nunique().reset_index(name = 'song_cnt')\n",
    "song_tag_map_sample_5_gnr_rank.loc[:, 'song_cnt_ratio'] = round(song_tag_map_sample_5_gnr_rank['song_cnt']/sum(song_tag_map_sample_5_gnr_rank['song_cnt'])*100, 2)\n",
    "song_tag_map_sample_5_gnr_rank['gnr_rank'] = song_tag_map_sample_5_gnr_rank['song_cnt_ratio'].rank(ascending = False)\n",
    "song_tag_map_sample_5_gnr_rank['tag_list'] = '슬픔, 이별'\n",
    "song_tag_map_sample_5_gnr_rank.rename(columns = {'gnr_code_name' : '장르', 'song_cnt' : '곡 수', 'song_cnt_ratio' : '비율(%)', 'gnr_rank' : '순위', 'tag_list' : '태그 리스트'}, inplace = True)\n",
    "\n",
    "song_tag_map_sample_6_gnr_rank = song_tag_map_sample_6.groupby('gnr_code_name').songs.nunique().reset_index(name = 'song_cnt')\n",
    "song_tag_map_sample_6_gnr_rank.loc[:, 'song_cnt_ratio'] = round(song_tag_map_sample_6_gnr_rank['song_cnt']/sum(song_tag_map_sample_6_gnr_rank['song_cnt'])*100, 2)\n",
    "song_tag_map_sample_6_gnr_rank['gnr_rank'] = song_tag_map_sample_6_gnr_rank['song_cnt_ratio'].rank(ascending = False)\n",
    "song_tag_map_sample_6_gnr_rank['tag_list'] = '휴식, 힐링'\n",
    "song_tag_map_sample_6_gnr_rank.rename(columns = {'gnr_code_name' : '장르', 'song_cnt' : '곡 수', 'song_cnt_ratio' : '비율(%)', 'gnr_rank' : '순위', 'tag_list' : '태그 리스트'}, inplace = True)\n",
    "\n",
    "song_tag_map_sample_7_gnr_rank = song_tag_map_sample_7.groupby('gnr_code_name').songs.nunique().reset_index(name = 'song_cnt')\n",
    "song_tag_map_sample_7_gnr_rank.loc[:, 'song_cnt_ratio'] = round(song_tag_map_sample_7_gnr_rank['song_cnt']/sum(song_tag_map_sample_7_gnr_rank['song_cnt'])*100, 2)\n",
    "song_tag_map_sample_7_gnr_rank['gnr_rank'] = song_tag_map_sample_7_gnr_rank['song_cnt_ratio'].rank(ascending = False)\n",
    "song_tag_map_sample_7_gnr_rank['tag_list'] = '카페, 매장음악'\n",
    "song_tag_map_sample_7_gnr_rank.rename(columns = {'gnr_code_name' : '장르', 'song_cnt' : '곡 수', 'song_cnt_ratio' : '비율(%)', 'gnr_rank' : '순위', 'tag_list' : '태그 리스트'}, inplace = True)\n",
    "\n",
    "# delete object\n",
    "del song_tag_map_sample_1, song_tag_map_sample_2, song_tag_map_sample_3, song_tag_map_sample_4, song_tag_map_sample_5, song_tag_map_sample_6, song_tag_map_sample_7\n",
    "\n",
    "# row binding\n",
    "song_tag_map_sample_rbind = pd.concat(\n",
    "    [song_tag_map_sample_1_gnr_rank, song_tag_map_sample_2_gnr_rank, song_tag_map_sample_3_gnr_rank,\n",
    "     song_tag_map_sample_4_gnr_rank, song_tag_map_sample_5_gnr_rank, song_tag_map_sample_6_gnr_rank,\n",
    "     song_tag_map_sample_7_gnr_rank],\n",
    "    axis = 0\n",
    ")\n",
    "\n",
    "# plotting\n",
    "song_tag_map_sample_rbind_plot = sns.barplot(\n",
    "    data = song_tag_map_sample_rbind.loc[song_tag_map_sample_rbind['순위'] <= 5, :].sort_values(by = '순위'),\n",
    "    x = '태그 리스트', y = '비율(%)', hue = '장르', edgecolor = \"black\"\n",
    ")\n",
    "song_tag_map_sample_rbind_plot.set_title('각 태그 리스트 별 상위 장르 TOP 5 비교')\n",
    "song_tag_map_sample_rbind_plot.set_xlabel('태그 리스트')\n",
    "song_tag_map_sample_rbind_plot.set_ylabel('곡 비율 (%)')\n",
    "plt.show()"
   ]
  },
  {
   "cell_type": "markdown",
   "metadata": {},
   "source": [
    "- **드라이브, 스트레스, 기분전환 태그가 매핑된 플레이리스트**와 **카페, 매장음악 태그가 매핑된 플레이리스트**에서는 **팝(GN0900) 장르와 일렉(GN1100)장르가 많았습니다.**\n",
    "- **이 밖에 대부분 태그에서 발라드(GN0100) 곡 비중이 가장 높았으며** 슬픔, 이별 태그가 매핑된 플레이리스트에서는 발라드 비중이 가장 높았습니다.\n",
    "- 밤, 새벽, 잔잔한, 휴식, 힐링 등의 태그가 있는 플레이리스트에서는 발라드 다음으로 팝 장르 비중이 높았습니다.\n",
    "- **추억, 회상 태그가 매핑된 플레이리스트에서는 OST 비중이 발라드 다음으로 높습니다.**\n",
    "- 이와 같이 태그 별 플레이리스트 수록 곡 특징을 탐색하여 플레이리스트의 곡 장르 성격을 추정해볼 수 있습니다."
   ]
  },
  {
   "cell_type": "markdown",
   "metadata": {},
   "source": [
    "<br>"
   ]
  },
  {
   "cell_type": "code",
   "execution_count": 58,
   "metadata": {
    "ExecuteTime": {
     "end_time": "2020-04-26T23:16:03.034763Z",
     "start_time": "2020-04-26T23:12:27.797243Z"
    }
   },
   "outputs": [
    {
     "data": {
      "image/png": "[encoded data removed]",
      "text/plain": [
       "<Figure size 1440x720 with 1 Axes>"
      ]
     },
     "metadata": {
      "needs_background": "light"
     },
     "output_type": "display_data"
    }
   ],
   "source": [
    "# 위에서 생성한 테이블에서 곡 별 발매년도 join\n",
    "plylst_song_tag_map_issue_year = pd.merge(plylst_song_tag_map, song_issue_date, how = 'left', left_on = 'songs', right_on = 'song_id')\n",
    "\n",
    "# 샘플 태그들이 포함되어 있는 플레이리스트만 필터링\n",
    "plylst_song_tag_map_issue_year_filter = plylst_song_tag_map_issue_year.loc[plylst_song_tag_map_issue_year.tags.isin(['드라이브', '스트레스', '기분전환', '밤', '새벽', '잔잔한', '사랑', '설렘', '추억', '회상', '슬픔', '이별', '휴식', '힐링', '카페', '매장음악']), :]\n",
    "plylst_song_tag_map_issue_year_filter['issue_year'] = plylst_song_tag_map_issue_year_filter['issue_year'].apply(pd.to_numeric)\n",
    "plylst_song_tag_map_issue_year_filter = plylst_song_tag_map_issue_year_filter[plylst_song_tag_map_issue_year_filter['issue_year'] >= 1980]\n",
    "\n",
    "del plylst_song_tag_map_issue_year\n",
    "\n",
    "# plotting\n",
    "temp_df = plylst_song_tag_map_issue_year_filter.loc[plylst_song_tag_map_issue_year_filter.tags.isin(['추억', '회상']), :]\n",
    "sns.distplot(temp_df['issue_year'], hist = False, kde = True, label = '추억, 회상')\n",
    "temp_df = plylst_song_tag_map_issue_year_filter.loc[plylst_song_tag_map_issue_year_filter.tags.isin(['카페', '매장음악']), :]\n",
    "sns.distplot(temp_df['issue_year'], hist = False, kde = True, label = '카페, 매장음악')\n",
    "temp_df = plylst_song_tag_map_issue_year_filter.loc[plylst_song_tag_map_issue_year_filter.tags.isin(['슬픔', '이별']), :]\n",
    "sns.distplot(temp_df['issue_year'], hist = False, kde = True, label = '슬픔, 이별')\n",
    "temp_df = plylst_song_tag_map_issue_year_filter.loc[plylst_song_tag_map_issue_year_filter.tags.isin(['휴식', '힐링']), :]\n",
    "sns.distplot(temp_df['issue_year'], hist = False, kde = True, label = '휴식, 힐링')\n",
    "temp_df = plylst_song_tag_map_issue_year_filter.loc[plylst_song_tag_map_issue_year_filter.tags.isin(['사랑', '설렘']), :]\n",
    "sns.distplot(temp_df['issue_year'], hist = False, kde = True, label = '사랑, 설렘')\n",
    "temp_df = plylst_song_tag_map_issue_year_filter.loc[plylst_song_tag_map_issue_year_filter.tags.isin(['드라이브', '스트레스', '기분전환']), :]\n",
    "sns.distplot(temp_df['issue_year'], hist = False, kde = True, label = '드라이브, 스트레스, 기분전환')\n",
    "temp_df = plylst_song_tag_map_issue_year_filter.loc[plylst_song_tag_map_issue_year_filter.tags.isin(['밤', '새벽', '잔잔한']), :]\n",
    "sns.distplot(temp_df['issue_year'], hist = False, kde = True, label = '밤, 새벽, 잔잔한')\n",
    "plt.legend(prop = {'size' : 18})\n",
    "plt.title('수록곡 발매 년도 별 density plot')\n",
    "plt.xlabel('발매년도')\n",
    "plt.ylabel('Density')\n",
    "plt.show()"
   ]
  },
  {
   "cell_type": "markdown",
   "metadata": {},
   "source": [
    "- 이 밖에 발매년도 기준으로 살펴본 결과  \n",
    "  **추억, 회상이 매핑된 플레이리스트들은 태그명처럼 다른 플레이리스트에 비해 비교적 과거 발매 곡 비중이 조금 더 높은 편**을 확인할 수 있습니다."
   ]
  },
  {
   "cell_type": "markdown",
   "metadata": {},
   "source": [
    "<br>"
   ]
  },
  {
   "cell_type": "markdown",
   "metadata": {},
   "source": [
    "### 역으로 곡 별 태그를 매핑해본다면?"
   ]
  },
  {
   "cell_type": "markdown",
   "metadata": {},
   "source": [
    "- 각 플레이리스트에 한 개 이상의 태그들이 매핑되어 있고, 한 곡 이상의 곡들이 수록되어 있습니다.\n",
    "- 이 부분을 고려하여 **곡 별 수록된 플레이리스트의 태그 값을 매핑**해본다면 **곡의 메타 정보를 하나 더 파생**시켜서 볼 수 있습니다."
   ]
  },
  {
   "cell_type": "code",
   "execution_count": 59,
   "metadata": {
    "ExecuteTime": {
     "end_time": "2020-04-26T23:16:09.113923Z",
     "start_time": "2020-04-26T23:16:07.239478Z"
    }
   },
   "outputs": [
    {
     "data": {
      "text/html": [
       "<div>\n",
       "<style scoped>\n",
       "    .dataframe tbody tr th:only-of-type {\n",
       "        vertical-align: middle;\n",
       "    }\n",
       "\n",
       "    .dataframe tbody tr th {\n",
       "        vertical-align: top;\n",
       "    }\n",
       "\n",
       "    .dataframe thead th {\n",
       "        text-align: right;\n",
       "    }\n",
       "</style>\n",
       "<table border=\"1\" class=\"dataframe\">\n",
       "  <thead>\n",
       "    <tr style=\"text-align: right;\">\n",
       "      <th></th>\n",
       "      <th>id</th>\n",
       "      <th>songs</th>\n",
       "      <th>tags</th>\n",
       "      <th>gnr_code_name</th>\n",
       "    </tr>\n",
       "  </thead>\n",
       "  <tbody>\n",
       "    <tr>\n",
       "      <th>36032</th>\n",
       "      <td>7984</td>\n",
       "      <td>144663</td>\n",
       "      <td>슬픔</td>\n",
       "      <td>GN0100 (발라드)</td>\n",
       "    </tr>\n",
       "    <tr>\n",
       "      <th>36033</th>\n",
       "      <td>7984</td>\n",
       "      <td>144663</td>\n",
       "      <td>거짓말</td>\n",
       "      <td>GN0100 (발라드)</td>\n",
       "    </tr>\n",
       "    <tr>\n",
       "      <th>36034</th>\n",
       "      <td>7984</td>\n",
       "      <td>144663</td>\n",
       "      <td>이별</td>\n",
       "      <td>GN0100 (발라드)</td>\n",
       "    </tr>\n",
       "    <tr>\n",
       "      <th>36035</th>\n",
       "      <td>7984</td>\n",
       "      <td>144663</td>\n",
       "      <td>아픈</td>\n",
       "      <td>GN0100 (발라드)</td>\n",
       "    </tr>\n",
       "    <tr>\n",
       "      <th>115027</th>\n",
       "      <td>106802</td>\n",
       "      <td>144663</td>\n",
       "      <td>힐링</td>\n",
       "      <td>GN0100 (발라드)</td>\n",
       "    </tr>\n",
       "    <tr>\n",
       "      <th>...</th>\n",
       "      <td>...</td>\n",
       "      <td>...</td>\n",
       "      <td>...</td>\n",
       "      <td>...</td>\n",
       "    </tr>\n",
       "    <tr>\n",
       "      <th>29580419</th>\n",
       "      <td>13178</td>\n",
       "      <td>144663</td>\n",
       "      <td>새벽</td>\n",
       "      <td>GN0100 (발라드)</td>\n",
       "    </tr>\n",
       "    <tr>\n",
       "      <th>29580420</th>\n",
       "      <td>13178</td>\n",
       "      <td>144663</td>\n",
       "      <td>새벽아침</td>\n",
       "      <td>GN0100 (발라드)</td>\n",
       "    </tr>\n",
       "    <tr>\n",
       "      <th>29580421</th>\n",
       "      <td>13178</td>\n",
       "      <td>144663</td>\n",
       "      <td>활기찬</td>\n",
       "      <td>GN0100 (발라드)</td>\n",
       "    </tr>\n",
       "    <tr>\n",
       "      <th>29580422</th>\n",
       "      <td>13178</td>\n",
       "      <td>144663</td>\n",
       "      <td>산책</td>\n",
       "      <td>GN0100 (발라드)</td>\n",
       "    </tr>\n",
       "    <tr>\n",
       "      <th>29580423</th>\n",
       "      <td>13178</td>\n",
       "      <td>144663</td>\n",
       "      <td>힐링</td>\n",
       "      <td>GN0100 (발라드)</td>\n",
       "    </tr>\n",
       "  </tbody>\n",
       "</table>\n",
       "<p>12791 rows × 4 columns</p>\n",
       "</div>"
      ],
      "text/plain": [
       "              id   songs  tags gnr_code_name\n",
       "36032       7984  144663    슬픔  GN0100 (발라드)\n",
       "36033       7984  144663   거짓말  GN0100 (발라드)\n",
       "36034       7984  144663    이별  GN0100 (발라드)\n",
       "36035       7984  144663    아픈  GN0100 (발라드)\n",
       "115027    106802  144663    힐링  GN0100 (발라드)\n",
       "...          ...     ...   ...           ...\n",
       "29580419   13178  144663    새벽  GN0100 (발라드)\n",
       "29580420   13178  144663  새벽아침  GN0100 (발라드)\n",
       "29580421   13178  144663   활기찬  GN0100 (발라드)\n",
       "29580422   13178  144663    산책  GN0100 (발라드)\n",
       "29580423   13178  144663    힐링  GN0100 (발라드)\n",
       "\n",
       "[12791 rows x 4 columns]"
      ]
     },
     "execution_count": 59,
     "metadata": {},
     "output_type": "execute_result"
    }
   ],
   "source": [
    "# 학습 데이터 내에서 가장 많은 태그가 매핑된 아이유 - 밤편지 (144663) 예시\n",
    "example_song = plylst_song_tag_map[plylst_song_tag_map['songs'] == '144663']\n",
    "example_song"
   ]
  },
  {
   "cell_type": "code",
   "execution_count": 60,
   "metadata": {
    "ExecuteTime": {
     "end_time": "2020-04-26T23:16:26.382874Z",
     "start_time": "2020-04-26T23:16:09.115580Z"
    }
   },
   "outputs": [
    {
     "data": {
      "text/html": [
       "<div>\n",
       "<style scoped>\n",
       "    .dataframe tbody tr th:only-of-type {\n",
       "        vertical-align: middle;\n",
       "    }\n",
       "\n",
       "    .dataframe tbody tr th {\n",
       "        vertical-align: top;\n",
       "    }\n",
       "\n",
       "    .dataframe thead th {\n",
       "        text-align: right;\n",
       "    }\n",
       "</style>\n",
       "<table border=\"1\" class=\"dataframe\">\n",
       "  <thead>\n",
       "    <tr style=\"text-align: right;\">\n",
       "      <th></th>\n",
       "      <th>min</th>\n",
       "      <th>25%</th>\n",
       "      <th>50%</th>\n",
       "      <th>mean</th>\n",
       "      <th>75%</th>\n",
       "      <th>max</th>\n",
       "      <th>std</th>\n",
       "    </tr>\n",
       "  </thead>\n",
       "  <tbody>\n",
       "    <tr>\n",
       "      <th>tags_cnt</th>\n",
       "      <td>1.0</td>\n",
       "      <td>2.0</td>\n",
       "      <td>7.0</td>\n",
       "      <td>17.86</td>\n",
       "      <td>15.0</td>\n",
       "      <td>1928.0</td>\n",
       "      <td>44.95</td>\n",
       "    </tr>\n",
       "  </tbody>\n",
       "</table>\n",
       "</div>"
      ],
      "text/plain": [
       "          min  25%  50%   mean   75%     max    std\n",
       "tags_cnt  1.0  2.0  7.0  17.86  15.0  1928.0  44.95"
      ]
     },
     "execution_count": 60,
     "metadata": {},
     "output_type": "execute_result"
    }
   ],
   "source": [
    "# 곡 별 매핑되는 태그 수 집계 : song_tag_map_cnt\n",
    "song_tag_map_cnt = plylst_song_tag_map.groupby('songs').tags.nunique().reset_index(name = 'tags_cnt')\n",
    "round(song_tag_map_cnt.describe().loc[['min', '25%', '50%', 'mean', '75%', 'max', 'std']].transpose(), 2)"
   ]
  },
  {
   "cell_type": "markdown",
   "metadata": {},
   "source": [
    "- 곡 별로 매핑된 태그 값은 **평균 18개**(중앙값 7개)이고 예시로 들었던 아이유 - 밤편지 곡은 1,928개의 태그가 매핑됩니다."
   ]
  },
  {
   "cell_type": "markdown",
   "metadata": {},
   "source": [
    "#### 태그 기준으로 유사 느낌의 곡 찾기 (아이유 - 밤편지 곡을 예시로 살펴보기)"
   ]
  },
  {
   "cell_type": "code",
   "execution_count": 61,
   "metadata": {
    "ExecuteTime": {
     "end_time": "2020-04-26T23:16:26.416404Z",
     "start_time": "2020-04-26T23:16:26.385084Z"
    }
   },
   "outputs": [
    {
     "data": {
      "text/html": [
       "<div>\n",
       "<style scoped>\n",
       "    .dataframe tbody tr th:only-of-type {\n",
       "        vertical-align: middle;\n",
       "    }\n",
       "\n",
       "    .dataframe tbody tr th {\n",
       "        vertical-align: top;\n",
       "    }\n",
       "\n",
       "    .dataframe thead th {\n",
       "        text-align: right;\n",
       "    }\n",
       "</style>\n",
       "<table border=\"1\" class=\"dataframe\">\n",
       "  <thead>\n",
       "    <tr style=\"text-align: right;\">\n",
       "      <th></th>\n",
       "      <th>songs</th>\n",
       "      <th>tags</th>\n",
       "      <th>mapping_plylst_cnt</th>\n",
       "    </tr>\n",
       "  </thead>\n",
       "  <tbody>\n",
       "    <tr>\n",
       "      <th>241</th>\n",
       "      <td>144663</td>\n",
       "      <td>감성</td>\n",
       "      <td>690</td>\n",
       "    </tr>\n",
       "    <tr>\n",
       "      <th>770</th>\n",
       "      <td>144663</td>\n",
       "      <td>발라드</td>\n",
       "      <td>543</td>\n",
       "    </tr>\n",
       "    <tr>\n",
       "      <th>1462</th>\n",
       "      <td>144663</td>\n",
       "      <td>잔잔한</td>\n",
       "      <td>413</td>\n",
       "    </tr>\n",
       "    <tr>\n",
       "      <th>1699</th>\n",
       "      <td>144663</td>\n",
       "      <td>카페</td>\n",
       "      <td>395</td>\n",
       "    </tr>\n",
       "    <tr>\n",
       "      <th>940</th>\n",
       "      <td>144663</td>\n",
       "      <td>새벽</td>\n",
       "      <td>339</td>\n",
       "    </tr>\n",
       "    <tr>\n",
       "      <th>...</th>\n",
       "      <td>...</td>\n",
       "      <td>...</td>\n",
       "      <td>...</td>\n",
       "    </tr>\n",
       "    <tr>\n",
       "      <th>782</th>\n",
       "      <td>144663</td>\n",
       "      <td>밤공기</td>\n",
       "      <td>1</td>\n",
       "    </tr>\n",
       "    <tr>\n",
       "      <th>781</th>\n",
       "      <td>144663</td>\n",
       "      <td>밤감성</td>\n",
       "      <td>1</td>\n",
       "    </tr>\n",
       "    <tr>\n",
       "      <th>779</th>\n",
       "      <td>144663</td>\n",
       "      <td>발랄한노래</td>\n",
       "      <td>1</td>\n",
       "    </tr>\n",
       "    <tr>\n",
       "      <th>778</th>\n",
       "      <td>144663</td>\n",
       "      <td>발라드핫트랙</td>\n",
       "      <td>1</td>\n",
       "    </tr>\n",
       "    <tr>\n",
       "      <th>1927</th>\n",
       "      <td>144663</td>\n",
       "      <td>힙합알앤비</td>\n",
       "      <td>1</td>\n",
       "    </tr>\n",
       "  </tbody>\n",
       "</table>\n",
       "<p>1928 rows × 3 columns</p>\n",
       "</div>"
      ],
      "text/plain": [
       "       songs    tags  mapping_plylst_cnt\n",
       "241   144663      감성                 690\n",
       "770   144663     발라드                 543\n",
       "1462  144663     잔잔한                 413\n",
       "1699  144663      카페                 395\n",
       "940   144663      새벽                 339\n",
       "...      ...     ...                 ...\n",
       "782   144663     밤공기                   1\n",
       "781   144663     밤감성                   1\n",
       "779   144663   발랄한노래                   1\n",
       "778   144663  발라드핫트랙                   1\n",
       "1927  144663   힙합알앤비                   1\n",
       "\n",
       "[1928 rows x 3 columns]"
      ]
     },
     "execution_count": 61,
     "metadata": {},
     "output_type": "execute_result"
    }
   ],
   "source": [
    "example_song.groupby(['songs', 'tags']).id.nunique().reset_index(name = 'mapping_plylst_cnt').sort_values(by = 'mapping_plylst_cnt', ascending = False)"
   ]
  },
  {
   "cell_type": "markdown",
   "metadata": {},
   "source": [
    "- 아이유 - 밤편지 곡은 **`감성` 태그를 갖는 690개의 플레이리스트에 수록**되어 있습니다.  \n",
    "  두 번째로 높은 태그는 `발라드`, 세 번째는 `잔잔한` 태그 입니다."
   ]
  },
  {
   "cell_type": "code",
   "execution_count": 62,
   "metadata": {
    "ExecuteTime": {
     "end_time": "2020-04-26T23:16:41.528170Z",
     "start_time": "2020-04-26T23:16:38.265013Z"
    }
   },
   "outputs": [
    {
     "data": {
      "text/html": [
       "<div>\n",
       "<style scoped>\n",
       "    .dataframe tbody tr th:only-of-type {\n",
       "        vertical-align: middle;\n",
       "    }\n",
       "\n",
       "    .dataframe tbody tr th {\n",
       "        vertical-align: top;\n",
       "    }\n",
       "\n",
       "    .dataframe thead th {\n",
       "        text-align: right;\n",
       "    }\n",
       "</style>\n",
       "<table border=\"1\" class=\"dataframe\">\n",
       "  <thead>\n",
       "    <tr style=\"text-align: right;\">\n",
       "      <th></th>\n",
       "      <th>songs</th>\n",
       "      <th>mapping_plylst_cnt</th>\n",
       "      <th>id</th>\n",
       "      <th>song_name</th>\n",
       "      <th>artist_name_basket</th>\n",
       "    </tr>\n",
       "  </thead>\n",
       "  <tbody>\n",
       "    <tr>\n",
       "      <th>0</th>\n",
       "      <td>357367</td>\n",
       "      <td>735</td>\n",
       "      <td>357367</td>\n",
       "      <td>비</td>\n",
       "      <td>[폴킴]</td>\n",
       "    </tr>\n",
       "    <tr>\n",
       "      <th>1</th>\n",
       "      <td>144663</td>\n",
       "      <td>690</td>\n",
       "      <td>144663</td>\n",
       "      <td>밤편지</td>\n",
       "      <td>[아이유]</td>\n",
       "    </tr>\n",
       "    <tr>\n",
       "      <th>2</th>\n",
       "      <td>519391</td>\n",
       "      <td>678</td>\n",
       "      <td>519391</td>\n",
       "      <td>Love Again</td>\n",
       "      <td>[김제훈]</td>\n",
       "    </tr>\n",
       "    <tr>\n",
       "      <th>3</th>\n",
       "      <td>640657</td>\n",
       "      <td>667</td>\n",
       "      <td>640657</td>\n",
       "      <td>내가 말하고 싶은건</td>\n",
       "      <td>[김제훈]</td>\n",
       "    </tr>\n",
       "    <tr>\n",
       "      <th>4</th>\n",
       "      <td>463173</td>\n",
       "      <td>662</td>\n",
       "      <td>463173</td>\n",
       "      <td>비가 내렸어 (Vocal by 스티브언니)</td>\n",
       "      <td>[업라이트 (Upright)]</td>\n",
       "    </tr>\n",
       "    <tr>\n",
       "      <th>5</th>\n",
       "      <td>349492</td>\n",
       "      <td>659</td>\n",
       "      <td>349492</td>\n",
       "      <td>어떤이별</td>\n",
       "      <td>[임승부]</td>\n",
       "    </tr>\n",
       "    <tr>\n",
       "      <th>6</th>\n",
       "      <td>427724</td>\n",
       "      <td>653</td>\n",
       "      <td>427724</td>\n",
       "      <td>지워줄게 (Vocal by 스티브언니)</td>\n",
       "      <td>[아재]</td>\n",
       "    </tr>\n",
       "    <tr>\n",
       "      <th>7</th>\n",
       "      <td>680366</td>\n",
       "      <td>650</td>\n",
       "      <td>680366</td>\n",
       "      <td>끝내지 못한 이야기 (Feat. 호수)</td>\n",
       "      <td>[어쿠스틱 멜로디 (Acoustic Melody)]</td>\n",
       "    </tr>\n",
       "    <tr>\n",
       "      <th>8</th>\n",
       "      <td>520093</td>\n",
       "      <td>641</td>\n",
       "      <td>520093</td>\n",
       "      <td>고마운 사람 (Vocal by 이소진)</td>\n",
       "      <td>[업라이트 (Upright)]</td>\n",
       "    </tr>\n",
       "    <tr>\n",
       "      <th>9</th>\n",
       "      <td>215411</td>\n",
       "      <td>639</td>\n",
       "      <td>215411</td>\n",
       "      <td>지금보다 조금 (Feat. 이원)</td>\n",
       "      <td>[어쿠스틱 멜로디 (Acoustic Melody)]</td>\n",
       "    </tr>\n",
       "  </tbody>\n",
       "</table>\n",
       "</div>"
      ],
      "text/plain": [
       "    songs  mapping_plylst_cnt      id                song_name  \\\n",
       "0  357367                 735  357367                        비   \n",
       "1  144663                 690  144663                      밤편지   \n",
       "2  519391                 678  519391               Love Again   \n",
       "3  640657                 667  640657               내가 말하고 싶은건   \n",
       "4  463173                 662  463173  비가 내렸어 (Vocal by 스티브언니)   \n",
       "5  349492                 659  349492                     어떤이별   \n",
       "6  427724                 653  427724    지워줄게 (Vocal by 스티브언니)   \n",
       "7  680366                 650  680366    끝내지 못한 이야기 (Feat. 호수)   \n",
       "8  520093                 641  520093    고마운 사람 (Vocal by 이소진)   \n",
       "9  215411                 639  215411       지금보다 조금 (Feat. 이원)   \n",
       "\n",
       "             artist_name_basket  \n",
       "0                          [폴킴]  \n",
       "1                         [아이유]  \n",
       "2                         [김제훈]  \n",
       "3                         [김제훈]  \n",
       "4              [업라이트 (Upright)]  \n",
       "5                         [임승부]  \n",
       "6                          [아재]  \n",
       "7  [어쿠스틱 멜로디 (Acoustic Melody)]  \n",
       "8              [업라이트 (Upright)]  \n",
       "9  [어쿠스틱 멜로디 (Acoustic Melody)]  "
      ]
     },
     "execution_count": 62,
     "metadata": {},
     "output_type": "execute_result"
    }
   ],
   "source": [
    "example_temp = plylst_song_tag_map.loc[plylst_song_tag_map['tags'] == '감성', :].groupby('songs').id.nunique().reset_index(name = 'mapping_plylst_cnt').sort_values(by = 'mapping_plylst_cnt', ascending = False)\n",
    "pd.merge(example_temp, song_meta[['id', 'song_name', 'artist_name_basket']], how = 'left', left_on = 'songs', right_on = 'id').head(10)"
   ]
  },
  {
   "cell_type": "markdown",
   "metadata": {},
   "source": [
    "- 감성이라는 태그에 매핑되는 곡은 대략 10만곡으로 매핑 수 기준 상위 10곡 입니다."
   ]
  },
  {
   "cell_type": "markdown",
   "metadata": {},
   "source": [
    "<br>"
   ]
  }
 ],
 "metadata": {
  "kernelspec": {
   "display_name": "Python 3",
   "language": "python",
   "name": "python3"
  },
  "language_info": {
   "codemirror_mode": {
    "name": "ipython",
    "version": 3
   },
   "file_extension": ".py",
   "mimetype": "text/x-python",
   "name": "python",
   "nbconvert_exporter": "python",
   "pygments_lexer": "ipython3",
   "version": "3.7.0"
  },
  "toc": {
   "base_numbering": 1,
   "nav_menu": {},
   "number_sections": false,
   "sideBar": true,
   "skip_h1_title": false,
   "title_cell": "Table of Contents",
   "title_sidebar": "Contents",
   "toc_cell": false,
   "toc_position": {},
   "toc_section_display": true,
   "toc_window_display": true
  }
 },
 "nbformat": 4,
 "nbformat_minor": 4
}
