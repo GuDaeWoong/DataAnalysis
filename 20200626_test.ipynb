{
 "cells": [
  {
   "cell_type": "code",
   "execution_count": 108,
   "metadata": {},
   "outputs": [],
   "source": [
    "from tensorflow.keras.models import Sequential\n",
    "from tensorflow.keras.layers import Dense\n",
    "from sklearn.preprocessing import LabelEncoder\n",
    "from tensorflow.keras.callbacks import ModelCheckpoint, EarlyStopping\n",
    "import pandas as pd\n",
    "import numpy as np\n",
    "import tensorflow as tf\n",
    "import matplotlib.pyplot as plt\n",
    "np.random.seed(3)\n",
    "tf.random.set_seed(3)"
   ]
  },
  {
   "cell_type": "code",
   "execution_count": 109,
   "metadata": {
    "scrolled": true
   },
   "outputs": [
    {
     "name": "stdout",
     "output_type": "stream",
     "text": [
      "         id diagnosis  radius_mean  texture_mean  perimeter_mean  area_mean  \\\n",
      "0    842302         M        17.99         10.38          122.80     1001.0   \n",
      "1    842517         M        20.57         17.77          132.90     1326.0   \n",
      "2  84300903         M        19.69         21.25          130.00     1203.0   \n",
      "3  84348301         M        11.42         20.38           77.58      386.1   \n",
      "4  84358402         M        20.29         14.34          135.10     1297.0   \n",
      "\n",
      "   smoothness_mean  compactness_mean  concavity_mean  concave points_mean  \\\n",
      "0          0.11840           0.27760          0.3001              0.14710   \n",
      "1          0.08474           0.07864          0.0869              0.07017   \n",
      "2          0.10960           0.15990          0.1974              0.12790   \n",
      "3          0.14250           0.28390          0.2414              0.10520   \n",
      "4          0.10030           0.13280          0.1980              0.10430   \n",
      "\n",
      "   ...  texture_worst  perimeter_worst  area_worst  smoothness_worst  \\\n",
      "0  ...          17.33           184.60      2019.0            0.1622   \n",
      "1  ...          23.41           158.80      1956.0            0.1238   \n",
      "2  ...          25.53           152.50      1709.0            0.1444   \n",
      "3  ...          26.50            98.87       567.7            0.2098   \n",
      "4  ...          16.67           152.20      1575.0            0.1374   \n",
      "\n",
      "   compactness_worst  concavity_worst  concave points_worst  symmetry_worst  \\\n",
      "0             0.6656           0.7119                0.2654          0.4601   \n",
      "1             0.1866           0.2416                0.1860          0.2750   \n",
      "2             0.4245           0.4504                0.2430          0.3613   \n",
      "3             0.8663           0.6869                0.2575          0.6638   \n",
      "4             0.2050           0.4000                0.1625          0.2364   \n",
      "\n",
      "   fractal_dimension_worst  Unnamed: 32  \n",
      "0                  0.11890          NaN  \n",
      "1                  0.08902          NaN  \n",
      "2                  0.08758          NaN  \n",
      "3                  0.17300          NaN  \n",
      "4                  0.07678          NaN  \n",
      "\n",
      "[5 rows x 33 columns]\n"
     ]
    }
   ],
   "source": [
    "data = pd.read_csv('../data/유방암.csv') \n",
    "print(data.head())"
   ]
  },
  {
   "cell_type": "code",
   "execution_count": 110,
   "metadata": {},
   "outputs": [
    {
     "name": "stdout",
     "output_type": "stream",
     "text": [
      "<class 'pandas.core.frame.DataFrame'>\n",
      "RangeIndex: 569 entries, 0 to 568\n",
      "Data columns (total 33 columns):\n",
      " #   Column                   Non-Null Count  Dtype  \n",
      "---  ------                   --------------  -----  \n",
      " 0   id                       569 non-null    int64  \n",
      " 1   diagnosis                569 non-null    object \n",
      " 2   radius_mean              569 non-null    float64\n",
      " 3   texture_mean             569 non-null    float64\n",
      " 4   perimeter_mean           569 non-null    float64\n",
      " 5   area_mean                569 non-null    float64\n",
      " 6   smoothness_mean          569 non-null    float64\n",
      " 7   compactness_mean         569 non-null    float64\n",
      " 8   concavity_mean           569 non-null    float64\n",
      " 9   concave points_mean      569 non-null    float64\n",
      " 10  symmetry_mean            569 non-null    float64\n",
      " 11  fractal_dimension_mean   569 non-null    float64\n",
      " 12  radius_se                569 non-null    float64\n",
      " 13  texture_se               569 non-null    float64\n",
      " 14  perimeter_se             569 non-null    float64\n",
      " 15  area_se                  569 non-null    float64\n",
      " 16  smoothness_se            569 non-null    float64\n",
      " 17  compactness_se           569 non-null    float64\n",
      " 18  concavity_se             569 non-null    float64\n",
      " 19  concave points_se        569 non-null    float64\n",
      " 20  symmetry_se              569 non-null    float64\n",
      " 21  fractal_dimension_se     569 non-null    float64\n",
      " 22  radius_worst             569 non-null    float64\n",
      " 23  texture_worst            569 non-null    float64\n",
      " 24  perimeter_worst          569 non-null    float64\n",
      " 25  area_worst               569 non-null    float64\n",
      " 26  smoothness_worst         569 non-null    float64\n",
      " 27  compactness_worst        569 non-null    float64\n",
      " 28  concavity_worst          569 non-null    float64\n",
      " 29  concave points_worst     569 non-null    float64\n",
      " 30  symmetry_worst           569 non-null    float64\n",
      " 31  fractal_dimension_worst  569 non-null    float64\n",
      " 32  Unnamed: 32              0 non-null      float64\n",
      "dtypes: float64(31), int64(1), object(1)\n",
      "memory usage: 146.8+ KB\n"
     ]
    }
   ],
   "source": [
    "data.info()"
   ]
  },
  {
   "cell_type": "code",
   "execution_count": 111,
   "metadata": {},
   "outputs": [],
   "source": [
    "data = data.iloc[:, 1:31]\n",
    "y_obj = data.iloc[:,0]\n",
    "X = data.iloc[:,1:]"
   ]
  },
  {
   "cell_type": "code",
   "execution_count": 112,
   "metadata": {},
   "outputs": [],
   "source": [
    "from sklearn.preprocessing import LabelEncoder\n",
    "e = LabelEncoder()\n",
    "e.fit(y_obj)\n",
    "y = e.transform(y_obj)"
   ]
  },
  {
   "cell_type": "code",
   "execution_count": 113,
   "metadata": {},
   "outputs": [],
   "source": [
    "from sklearn.model_selection import train_test_split\n",
    "X_train, X_test, Y_train, Y_test = train_test_split(X, y,\n",
    "                                                   random_state = 1)"
   ]
  },
  {
   "cell_type": "code",
   "execution_count": 114,
   "metadata": {},
   "outputs": [],
   "source": [
    "MODEL_DIR = './model/'\n",
    "if not os.path.exists(MODEL_DIR):\n",
    "    os.mkdir(MODEL_DIR)\n",
    "modelpath = './model/{epoch:02d}-{val_loss:.4f}.hdf5'\n",
    "\n",
    "checkpointer = ModelCheckpoint(filepath = modelpath, monitor='val_loss', verbose = 1, save_best_only=True)\n",
    "early_stopping_callback = EarlyStopping(monitor = 'val_loss', patience = 10)"
   ]
  },
  {
   "cell_type": "code",
   "execution_count": 116,
   "metadata": {},
   "outputs": [
    {
     "name": "stdout",
     "output_type": "stream",
     "text": [
      "\n",
      "Epoch 00001: val_loss improved from inf to 0.75536, saving model to ./model/01-0.7554.hdf5\n",
      "\n",
      "Epoch 00002: val_loss improved from 0.75536 to 0.74364, saving model to ./model/02-0.7436.hdf5\n",
      "\n",
      "Epoch 00003: val_loss improved from 0.74364 to 0.71750, saving model to ./model/03-0.7175.hdf5\n",
      "\n",
      "Epoch 00004: val_loss improved from 0.71750 to 0.71507, saving model to ./model/04-0.7151.hdf5\n",
      "\n",
      "Epoch 00005: val_loss improved from 0.71507 to 0.68374, saving model to ./model/05-0.6837.hdf5\n",
      "\n",
      "Epoch 00006: val_loss improved from 0.68374 to 0.65823, saving model to ./model/06-0.6582.hdf5\n",
      "\n",
      "Epoch 00007: val_loss improved from 0.65823 to 0.64485, saving model to ./model/07-0.6448.hdf5\n",
      "\n",
      "Epoch 00008: val_loss improved from 0.64485 to 0.62511, saving model to ./model/08-0.6251.hdf5\n",
      "\n",
      "Epoch 00009: val_loss improved from 0.62511 to 0.60599, saving model to ./model/09-0.6060.hdf5\n",
      "\n",
      "Epoch 00010: val_loss improved from 0.60599 to 0.59446, saving model to ./model/10-0.5945.hdf5\n",
      "\n",
      "Epoch 00011: val_loss improved from 0.59446 to 0.57598, saving model to ./model/11-0.5760.hdf5\n",
      "\n",
      "Epoch 00012: val_loss improved from 0.57598 to 0.57040, saving model to ./model/12-0.5704.hdf5\n",
      "\n",
      "Epoch 00013: val_loss improved from 0.57040 to 0.56151, saving model to ./model/13-0.5615.hdf5\n",
      "\n",
      "Epoch 00014: val_loss improved from 0.56151 to 0.54291, saving model to ./model/14-0.5429.hdf5\n",
      "\n",
      "Epoch 00015: val_loss improved from 0.54291 to 0.52366, saving model to ./model/15-0.5237.hdf5\n",
      "\n",
      "Epoch 00016: val_loss improved from 0.52366 to 0.51562, saving model to ./model/16-0.5156.hdf5\n",
      "\n",
      "Epoch 00017: val_loss improved from 0.51562 to 0.50126, saving model to ./model/17-0.5013.hdf5\n",
      "\n",
      "Epoch 00018: val_loss improved from 0.50126 to 0.49768, saving model to ./model/18-0.4977.hdf5\n",
      "\n",
      "Epoch 00019: val_loss improved from 0.49768 to 0.49767, saving model to ./model/19-0.4977.hdf5\n",
      "\n",
      "Epoch 00020: val_loss improved from 0.49767 to 0.47472, saving model to ./model/20-0.4747.hdf5\n",
      "\n",
      "Epoch 00021: val_loss improved from 0.47472 to 0.45916, saving model to ./model/21-0.4592.hdf5\n",
      "\n",
      "Epoch 00022: val_loss improved from 0.45916 to 0.44925, saving model to ./model/22-0.4493.hdf5\n",
      "\n",
      "Epoch 00023: val_loss improved from 0.44925 to 0.44123, saving model to ./model/23-0.4412.hdf5\n",
      "\n",
      "Epoch 00024: val_loss improved from 0.44123 to 0.43314, saving model to ./model/24-0.4331.hdf5\n",
      "\n",
      "Epoch 00025: val_loss improved from 0.43314 to 0.42318, saving model to ./model/25-0.4232.hdf5\n",
      "\n",
      "Epoch 00026: val_loss improved from 0.42318 to 0.41531, saving model to ./model/26-0.4153.hdf5\n",
      "\n",
      "Epoch 00027: val_loss improved from 0.41531 to 0.40530, saving model to ./model/27-0.4053.hdf5\n",
      "\n",
      "Epoch 00028: val_loss improved from 0.40530 to 0.39971, saving model to ./model/28-0.3997.hdf5\n",
      "\n",
      "Epoch 00029: val_loss improved from 0.39971 to 0.39696, saving model to ./model/29-0.3970.hdf5\n",
      "\n",
      "Epoch 00030: val_loss improved from 0.39696 to 0.38319, saving model to ./model/30-0.3832.hdf5\n"
     ]
    }
   ],
   "source": [
    "# 모델 설정\n",
    "model = Sequential()\n",
    "model.add(Dense(10, input_dim=29, kernel_initializer='normal', activation='relu'))\n",
    "model.add(Dense(1, kernel_initializer='normal', activation='sigmoid'))\n",
    "# 모델 컴파일\n",
    "model.compile(loss='binary_crossentropy', optimizer='adam', metrics=['accuracy'])\n",
    "history = model.fit(X_train, Y_train, validation_data=(X_test, Y_test), \n",
    "                    epochs=30, batch_size = 200, verbose = 0,\n",
    "                    callbacks = [early_stopping_callback, checkpointer])"
   ]
  },
  {
   "cell_type": "code",
   "execution_count": 117,
   "metadata": {},
   "outputs": [
    {
     "name": "stdout",
     "output_type": "stream",
     "text": [
      "Model: \"sequential_10\"\n",
      "_________________________________________________________________\n",
      "Layer (type)                 Output Shape              Param #   \n",
      "=================================================================\n",
      "dense_39 (Dense)             (None, 10)                300       \n",
      "_________________________________________________________________\n",
      "dense_40 (Dense)             (None, 1)                 11        \n",
      "=================================================================\n",
      "Total params: 311\n",
      "Trainable params: 311\n",
      "Non-trainable params: 0\n",
      "_________________________________________________________________\n"
     ]
    }
   ],
   "source": [
    "model.summary()"
   ]
  },
  {
   "cell_type": "code",
   "execution_count": 118,
   "metadata": {},
   "outputs": [
    {
     "name": "stdout",
     "output_type": "stream",
     "text": [
      "14/14 [==============================] - 0s 714us/step - loss: 0.3520 - accuracy: 0.9108\n",
      "Train Accuracy : 0.9108\n",
      "5/5 [==============================] - 0s 797us/step - loss: 0.3832 - accuracy: 0.8811\n",
      "test Accuracy : 0.8811\n"
     ]
    }
   ],
   "source": [
    "print('Train Accuracy : %.4f'%(model.evaluate(X_train,Y_train)[1]))\n",
    "print('test Accuracy : %.4f'%(model.evaluate(X_test, Y_test)[1]))"
   ]
  },
  {
   "cell_type": "code",
   "execution_count": 119,
   "metadata": {},
   "outputs": [
    {
     "data": {
      "text/plain": [
       "[<matplotlib.lines.Line2D at 0x28d58dd4a90>]"
      ]
     },
     "execution_count": 119,
     "metadata": {},
     "output_type": "execute_result"
    },
    {
     "data": {
      "image/png": "[encoded data removed]",
      "text/plain": [
       "<Figure size 432x288 with 1 Axes>"
      ]
     },
     "metadata": {
      "needs_background": "light"
     },
     "output_type": "display_data"
    }
   ],
   "source": [
    "import matplotlib.pyplot as plt\n",
    "y_vloss=history.history['val_loss']\n",
    "y_acc=history.history['accuracy']\n",
    "x_len = np.arange(len(y_acc))\n",
    "plt.plot(x_len, y_vloss, \"o\", c=\"red\", markersize=3)\n",
    "plt.plot(x_len, y_acc, \"o\", c=\"blue\", markersize=3)"
   ]
  },
  {
   "cell_type": "code",
   "execution_count": 141,
   "metadata": {},
   "outputs": [
    {
     "name": "stdout",
     "output_type": "stream",
     "text": [
      "실제유무: 0, 예상유무: 0\n",
      "실제유무: 1, 예상유무: 0\n",
      "실제유무: 0, 예상유무: 0\n",
      "실제유무: 1, 예상유무: 1\n",
      "실제유무: 1, 예상유무: 0\n",
      "실제유무: 1, 예상유무: 1\n",
      "실제유무: 1, 예상유무: 1\n",
      "실제유무: 1, 예상유무: 1\n",
      "실제유무: 0, 예상유무: 0\n",
      "실제유무: 0, 예상유무: 0\n",
      "실제유무: 0, 예상유무: 0\n",
      "실제유무: 1, 예상유무: 0\n",
      "실제유무: 1, 예상유무: 0\n",
      "실제유무: 0, 예상유무: 0\n",
      "실제유무: 0, 예상유무: 0\n",
      "실제유무: 0, 예상유무: 0\n",
      "실제유무: 0, 예상유무: 0\n",
      "실제유무: 0, 예상유무: 0\n",
      "실제유무: 0, 예상유무: 0\n",
      "실제유무: 1, 예상유무: 1\n",
      "실제유무: 0, 예상유무: 0\n",
      "실제유무: 0, 예상유무: 0\n",
      "실제유무: 1, 예상유무: 1\n",
      "실제유무: 0, 예상유무: 0\n",
      "실제유무: 1, 예상유무: 0\n",
      "실제유무: 0, 예상유무: 0\n",
      "실제유무: 0, 예상유무: 0\n",
      "실제유무: 1, 예상유무: 1\n",
      "실제유무: 1, 예상유무: 1\n",
      "실제유무: 1, 예상유무: 1\n",
      "실제유무: 1, 예상유무: 1\n",
      "실제유무: 0, 예상유무: 0\n",
      "실제유무: 1, 예상유무: 1\n",
      "실제유무: 1, 예상유무: 0\n",
      "실제유무: 0, 예상유무: 0\n",
      "실제유무: 0, 예상유무: 0\n",
      "실제유무: 1, 예상유무: 1\n",
      "실제유무: 0, 예상유무: 0\n",
      "실제유무: 1, 예상유무: 0\n",
      "실제유무: 0, 예상유무: 0\n",
      "실제유무: 0, 예상유무: 0\n",
      "실제유무: 0, 예상유무: 0\n",
      "실제유무: 0, 예상유무: 0\n",
      "실제유무: 0, 예상유무: 0\n",
      "실제유무: 0, 예상유무: 0\n",
      "실제유무: 1, 예상유무: 0\n",
      "실제유무: 0, 예상유무: 0\n",
      "실제유무: 0, 예상유무: 0\n",
      "실제유무: 0, 예상유무: 0\n",
      "실제유무: 1, 예상유무: 1\n",
      "실제유무: 1, 예상유무: 1\n",
      "실제유무: 1, 예상유무: 1\n",
      "실제유무: 0, 예상유무: 0\n",
      "실제유무: 0, 예상유무: 0\n",
      "실제유무: 0, 예상유무: 0\n",
      "실제유무: 0, 예상유무: 0\n",
      "실제유무: 0, 예상유무: 0\n",
      "실제유무: 1, 예상유무: 0\n",
      "실제유무: 0, 예상유무: 0\n",
      "실제유무: 0, 예상유무: 0\n",
      "실제유무: 0, 예상유무: 0\n",
      "실제유무: 1, 예상유무: 0\n",
      "실제유무: 0, 예상유무: 0\n",
      "실제유무: 0, 예상유무: 1\n",
      "실제유무: 0, 예상유무: 0\n",
      "실제유무: 0, 예상유무: 0\n",
      "실제유무: 0, 예상유무: 0\n",
      "실제유무: 1, 예상유무: 1\n",
      "실제유무: 0, 예상유무: 0\n",
      "실제유무: 0, 예상유무: 0\n",
      "실제유무: 0, 예상유무: 0\n",
      "실제유무: 0, 예상유무: 0\n",
      "실제유무: 1, 예상유무: 0\n",
      "실제유무: 1, 예상유무: 1\n",
      "실제유무: 0, 예상유무: 0\n",
      "실제유무: 1, 예상유무: 1\n",
      "실제유무: 1, 예상유무: 0\n",
      "실제유무: 1, 예상유무: 0\n",
      "실제유무: 0, 예상유무: 0\n",
      "실제유무: 1, 예상유무: 1\n",
      "실제유무: 0, 예상유무: 0\n",
      "실제유무: 1, 예상유무: 1\n",
      "실제유무: 0, 예상유무: 0\n",
      "실제유무: 1, 예상유무: 1\n",
      "실제유무: 0, 예상유무: 0\n",
      "실제유무: 0, 예상유무: 0\n",
      "실제유무: 1, 예상유무: 0\n",
      "실제유무: 0, 예상유무: 0\n",
      "실제유무: 1, 예상유무: 1\n",
      "실제유무: 0, 예상유무: 0\n",
      "실제유무: 0, 예상유무: 0\n",
      "실제유무: 1, 예상유무: 1\n",
      "실제유무: 0, 예상유무: 0\n",
      "실제유무: 0, 예상유무: 0\n",
      "실제유무: 1, 예상유무: 1\n",
      "실제유무: 1, 예상유무: 0\n",
      "실제유무: 0, 예상유무: 0\n",
      "실제유무: 0, 예상유무: 0\n",
      "실제유무: 0, 예상유무: 0\n",
      "실제유무: 0, 예상유무: 0\n",
      "실제유무: 0, 예상유무: 0\n",
      "실제유무: 0, 예상유무: 0\n",
      "실제유무: 0, 예상유무: 0\n",
      "실제유무: 0, 예상유무: 0\n",
      "실제유무: 0, 예상유무: 0\n",
      "실제유무: 0, 예상유무: 0\n",
      "실제유무: 0, 예상유무: 0\n",
      "실제유무: 0, 예상유무: 0\n",
      "실제유무: 1, 예상유무: 1\n",
      "실제유무: 1, 예상유무: 1\n",
      "실제유무: 1, 예상유무: 0\n",
      "실제유무: 0, 예상유무: 0\n",
      "실제유무: 0, 예상유무: 0\n",
      "실제유무: 0, 예상유무: 0\n",
      "실제유무: 1, 예상유무: 1\n",
      "실제유무: 1, 예상유무: 1\n",
      "실제유무: 0, 예상유무: 0\n",
      "실제유무: 0, 예상유무: 0\n",
      "실제유무: 0, 예상유무: 0\n",
      "실제유무: 0, 예상유무: 0\n",
      "실제유무: 0, 예상유무: 0\n",
      "실제유무: 1, 예상유무: 1\n",
      "실제유무: 1, 예상유무: 1\n",
      "실제유무: 0, 예상유무: 0\n",
      "실제유무: 0, 예상유무: 0\n",
      "실제유무: 1, 예상유무: 1\n",
      "실제유무: 1, 예상유무: 1\n",
      "실제유무: 0, 예상유무: 0\n",
      "실제유무: 1, 예상유무: 1\n",
      "실제유무: 1, 예상유무: 1\n",
      "실제유무: 0, 예상유무: 0\n",
      "실제유무: 0, 예상유무: 0\n",
      "실제유무: 0, 예상유무: 0\n",
      "실제유무: 1, 예상유무: 1\n",
      "실제유무: 0, 예상유무: 0\n",
      "실제유무: 1, 예상유무: 1\n",
      "실제유무: 1, 예상유무: 1\n",
      "실제유무: 0, 예상유무: 0\n",
      "실제유무: 0, 예상유무: 0\n",
      "실제유무: 0, 예상유무: 0\n",
      "실제유무: 1, 예상유무: 1\n",
      "실제유무: 1, 예상유무: 1\n",
      "실제유무: 0, 예상유무: 0\n"
     ]
    }
   ],
   "source": [
    "# 예측 값과 실제 값의 비교\n",
    "Y_prediction = model.predict(X_test).flatten()\n",
    "a=[]\n",
    "for i in range(143):\n",
    "    label = Y_test[i]\n",
    "    prediction = round(Y_prediction[i],0)\n",
    "    a.append([label, prediction])\n",
    "    print(\"실제유무: {:.0f}, 예상유무: {:.0f}\".format(label, prediction))"
   ]
  },
  {
   "cell_type": "code",
   "execution_count": 147,
   "metadata": {},
   "outputs": [
    {
     "data": {
      "text/plain": [
       "143"
      ]
     },
     "execution_count": 147,
     "metadata": {},
     "output_type": "execute_result"
    }
   ],
   "source": [
    "len(a)"
   ]
  },
  {
   "cell_type": "code",
   "execution_count": 144,
   "metadata": {},
   "outputs": [],
   "source": [
    "b=0\n",
    "for i,j in a:\n",
    "    if i==j:\n",
    "        b+=1\n",
    "    else:\n",
    "        b+=0"
   ]
  },
  {
   "cell_type": "code",
   "execution_count": 145,
   "metadata": {},
   "outputs": [
    {
     "data": {
      "text/plain": [
       "126"
      ]
     },
     "execution_count": 145,
     "metadata": {},
     "output_type": "execute_result"
    }
   ],
   "source": [
    "b"
   ]
  },
  {
   "cell_type": "code",
   "execution_count": 148,
   "metadata": {},
   "outputs": [
    {
     "data": {
      "text/plain": [
       "0.8811188811188811"
      ]
     },
     "execution_count": 148,
     "metadata": {},
     "output_type": "execute_result"
    }
   ],
   "source": [
    "126/143"
   ]
  },
  {
   "cell_type": "code",
   "execution_count": null,
   "metadata": {},
   "outputs": [],
   "source": []
  },
  {
   "cell_type": "code",
   "execution_count": null,
   "metadata": {},
   "outputs": [],
   "source": []
  },
  {
   "cell_type": "code",
   "execution_count": null,
   "metadata": {},
   "outputs": [],
   "source": []
  },
  {
   "cell_type": "code",
   "execution_count": null,
   "metadata": {},
   "outputs": [],
   "source": []
  },
  {
   "cell_type": "code",
   "execution_count": null,
   "metadata": {},
   "outputs": [],
   "source": []
  },
  {
   "cell_type": "code",
   "execution_count": null,
   "metadata": {},
   "outputs": [],
   "source": []
  },
  {
   "cell_type": "code",
   "execution_count": null,
   "metadata": {},
   "outputs": [],
   "source": []
  },
  {
   "cell_type": "code",
   "execution_count": null,
   "metadata": {},
   "outputs": [],
   "source": []
  }
 ],
 "metadata": {
  "kernelspec": {
   "display_name": "Python 3",
   "language": "python",
   "name": "python3"
  },
  "language_info": {
   "codemirror_mode": {
    "name": "ipython",
    "version": 3
   },
   "file_extension": ".py",
   "mimetype": "text/x-python",
   "name": "python",
   "nbconvert_exporter": "python",
   "pygments_lexer": "ipython3",
   "version": "3.7.0"
  }
 },
 "nbformat": 4,
 "nbformat_minor": 2
}
