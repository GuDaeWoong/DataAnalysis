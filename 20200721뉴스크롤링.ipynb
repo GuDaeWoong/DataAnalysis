{
 "cells": [
  {
   "cell_type": "code",
   "execution_count": 24,
   "metadata": {},
   "outputs": [
    {
     "name": "stderr",
     "output_type": "stream",
     "text": [
      "In C:\\Users\\A\\Anaconda3\\lib\\site-packages\\matplotlib\\mpl-data\\stylelib\\_classic_test.mplstyle: \n",
      "The text.latex.unicode rcparam was deprecated in Matplotlib 3.0 and will be removed in 3.2.\n",
      "In C:\\Users\\A\\Anaconda3\\lib\\site-packages\\matplotlib\\mpl-data\\stylelib\\_classic_test.mplstyle: \n",
      "The savefig.frameon rcparam was deprecated in Matplotlib 3.1 and will be removed in 3.3.\n",
      "In C:\\Users\\A\\Anaconda3\\lib\\site-packages\\matplotlib\\mpl-data\\stylelib\\_classic_test.mplstyle: \n",
      "The pgf.debug rcparam was deprecated in Matplotlib 3.0 and will be removed in 3.2.\n",
      "In C:\\Users\\A\\Anaconda3\\lib\\site-packages\\matplotlib\\mpl-data\\stylelib\\_classic_test.mplstyle: \n",
      "The verbose.level rcparam was deprecated in Matplotlib 3.1 and will be removed in 3.3.\n",
      "In C:\\Users\\A\\Anaconda3\\lib\\site-packages\\matplotlib\\mpl-data\\stylelib\\_classic_test.mplstyle: \n",
      "The verbose.fileo rcparam was deprecated in Matplotlib 3.1 and will be removed in 3.3.\n"
     ]
    }
   ],
   "source": [
    "from matplotlib import font_manager, rc\n",
    "font_name = font_manager.FontProperties(fname = 'c:/Windows/Fonts/malgun.ttf').get_name()\n",
    "rc('font', family = font_name)\n",
    "\n",
    "import numpy as np\n",
    "import pandas as pd\n",
    "%matplotlib inline\n",
    "import matplotlib.pyplot as plt\n",
    "import seaborn as sns\n",
    "import urllib\n",
    "from bs4 import BeautifulSoup\n",
    "from selenium import webdriver"
   ]
  },
  {
   "cell_type": "code",
   "execution_count": 2,
   "metadata": {},
   "outputs": [],
   "source": [
    "driver=webdriver.Chrome(\"../driver/chromedriver.exe\")\n",
    "driver.get('http://www.cgv.co.kr/movies/')"
   ]
  },
  {
   "cell_type": "code",
   "execution_count": 4,
   "metadata": {},
   "outputs": [],
   "source": [
    "res=driver.page_source\n",
    "soup=BeautifulSoup(res,\"html.parser\")"
   ]
  },
  {
   "cell_type": "code",
   "execution_count": 25,
   "metadata": {},
   "outputs": [],
   "source": [
    "keywords=soup.findAll(class_=\"title\")"
   ]
  },
  {
   "cell_type": "code",
   "execution_count": 30,
   "metadata": {},
   "outputs": [
    {
     "data": {
      "text/plain": [
       "[<strong class=\"title\">반도</strong>,\n",
       " <strong class=\"title\">소년시절의 너</strong>,\n",
       " <strong class=\"title\">밤쉘-세상을 바꾼 폭탄선언</strong>,\n",
       " <strong class=\"title\">비바리움</strong>,\n",
       " <strong class=\"title\">시네마천국</strong>,\n",
       " <strong class=\"title\">#살아있다</strong>,\n",
       " <strong class=\"title\">미션</strong>]"
      ]
     },
     "execution_count": 30,
     "metadata": {},
     "output_type": "execute_result"
    }
   ],
   "source": [
    "keywords[0:7]"
   ]
  },
  {
   "cell_type": "code",
   "execution_count": 24,
   "metadata": {},
   "outputs": [
    {
     "data": {
      "text/plain": [
       "<strong class=\"title\">소년시절의 너</strong>"
      ]
     },
     "execution_count": 24,
     "metadata": {},
     "output_type": "execute_result"
    }
   ],
   "source": [
    "keywords[1].find(class_=\"title\")"
   ]
  },
  {
   "cell_type": "code",
   "execution_count": 56,
   "metadata": {},
   "outputs": [
    {
     "data": {
      "text/html": [
       "<div>\n",
       "<style scoped>\n",
       "    .dataframe tbody tr th:only-of-type {\n",
       "        vertical-align: middle;\n",
       "    }\n",
       "\n",
       "    .dataframe tbody tr th {\n",
       "        vertical-align: top;\n",
       "    }\n",
       "\n",
       "    .dataframe thead th {\n",
       "        text-align: right;\n",
       "    }\n",
       "</style>\n",
       "<table border=\"1\" class=\"dataframe\">\n",
       "  <thead>\n",
       "    <tr style=\"text-align: right;\">\n",
       "      <th></th>\n",
       "      <th>index</th>\n",
       "      <th>0</th>\n",
       "    </tr>\n",
       "  </thead>\n",
       "  <tbody>\n",
       "    <tr>\n",
       "      <th>0</th>\n",
       "      <td>1</td>\n",
       "      <td>반도</td>\n",
       "    </tr>\n",
       "    <tr>\n",
       "      <th>1</th>\n",
       "      <td>2</td>\n",
       "      <td>소년시절의 너</td>\n",
       "    </tr>\n",
       "    <tr>\n",
       "      <th>2</th>\n",
       "      <td>3</td>\n",
       "      <td>밤쉘-세상을 바꾼 폭탄선언</td>\n",
       "    </tr>\n",
       "    <tr>\n",
       "      <th>3</th>\n",
       "      <td>4</td>\n",
       "      <td>비바리움</td>\n",
       "    </tr>\n",
       "    <tr>\n",
       "      <th>4</th>\n",
       "      <td>5</td>\n",
       "      <td>시네마천국</td>\n",
       "    </tr>\n",
       "    <tr>\n",
       "      <th>5</th>\n",
       "      <td>6</td>\n",
       "      <td>#살아있다</td>\n",
       "    </tr>\n",
       "    <tr>\n",
       "      <th>6</th>\n",
       "      <td>7</td>\n",
       "      <td>미션</td>\n",
       "    </tr>\n",
       "  </tbody>\n",
       "</table>\n",
       "</div>"
      ],
      "text/plain": [
       "   index               0\n",
       "0      1              반도\n",
       "1      2         소년시절의 너\n",
       "2      3  밤쉘-세상을 바꾼 폭탄선언\n",
       "3      4            비바리움\n",
       "4      5           시네마천국\n",
       "5      6           #살아있다\n",
       "6      7              미션"
      ]
     },
     "execution_count": 56,
     "metadata": {},
     "output_type": "execute_result"
    }
   ],
   "source": [
    "movies=[]\n",
    "for i in range(7):\n",
    "    movies.append(str(keywords[i])[22:-9])\n",
    "data=pd.DataFrame(movies).reset_index()\n",
    "data[\"index\"]=data[\"index\"]+1\n",
    "data"
   ]
  },
  {
   "cell_type": "code",
   "execution_count": 90,
   "metadata": {},
   "outputs": [],
   "source": [
    "driver=webdriver.Chrome(\"../driver/chromedriver.exe\")\n",
    "driver.get('https://www.google.com/search?source=hp&ei=iZIWX5GlHLLDmAXg1o6ACA&q='+\"내일\"+\"날씨\")"
   ]
  },
  {
   "cell_type": "code",
   "execution_count": 91,
   "metadata": {},
   "outputs": [],
   "source": [
    "res=driver.page_source\n",
    "soup=BeautifulSoup(res,\"html.parser\")"
   ]
  },
  {
   "cell_type": "code",
   "execution_count": 92,
   "metadata": {},
   "outputs": [],
   "source": [
    "keywords=soup.findAll(class_=\"vk_gy vk_sh\")"
   ]
  },
  {
   "cell_type": "code",
   "execution_count": 74,
   "metadata": {},
   "outputs": [
    {
     "data": {
      "text/plain": [
       "[<div class=\"vk_gy vk_sh\" id=\"wob_dts\">화요일</div>,\n",
       " <span class=\"vk_gy vk_sh\" id=\"wob_dc\">광역성 소나기</span>,\n",
       " <div class=\"vk_gy vk_sh\" id=\"wob_nh\" style=\"position:absolute;text-align:center;top:50%;width:100%;display:none\">시간별 예보를 사용할 수 없습니다.</div>]"
      ]
     },
     "execution_count": 74,
     "metadata": {},
     "output_type": "execute_result"
    }
   ],
   "source": [
    "keywords"
   ]
  },
  {
   "cell_type": "code",
   "execution_count": 93,
   "metadata": {},
   "outputs": [],
   "source": [
    "keywords=soup.findAll(id=\"wob_tm\")"
   ]
  },
  {
   "cell_type": "code",
   "execution_count": 94,
   "metadata": {},
   "outputs": [
    {
     "data": {
      "text/plain": [
       "[<span class=\"wob_t\" id=\"wob_tm\" style=\"display:inline\">27</span>]"
      ]
     },
     "execution_count": 94,
     "metadata": {},
     "output_type": "execute_result"
    }
   ],
   "source": [
    "keywords"
   ]
  },
  {
   "cell_type": "code",
   "execution_count": 95,
   "metadata": {},
   "outputs": [
    {
     "data": {
      "text/plain": [
       "'27'"
      ]
     },
     "execution_count": 95,
     "metadata": {},
     "output_type": "execute_result"
    }
   ],
   "source": [
    "str(keywords)[56:-8]"
   ]
  },
  {
   "cell_type": "code",
   "execution_count": 96,
   "metadata": {},
   "outputs": [
    {
     "data": {
      "text/plain": [
       "49"
      ]
     },
     "execution_count": 96,
     "metadata": {},
     "output_type": "execute_result"
    }
   ],
   "source": [
    "7*7"
   ]
  },
  {
   "cell_type": "code",
   "execution_count": 1,
   "metadata": {},
   "outputs": [],
   "source": [
    "import requests\n",
    "from bs4 import BeautifulSoup\n",
    "\n",
    "url = 'https://news.naver.com/main/ranking/popularDay.nhn?rankingType=popular_day&date=20200721'\n",
    "\n",
    "r = requests.get(url)\n",
    "html = r.content\n",
    "soup = BeautifulSoup(html, 'html.parser')\n",
    "titles_html = soup.select('.ranking_section > ol > li > dl > dt > a')\n",
    "\n",
    "news=[]\n",
    "j=0\n",
    "lis=[\"정치\",\"경제\",\"사회\",\"생활/문화\",\"세계\",\"It/과학\"]\n",
    "for i in range(len(titles_html)):    \n",
    "    if i in [0,5,10,15,20,25]:\n",
    "        news.append(lis[j])\n",
    "        j+=1\n",
    "        news.append(titles_html[i].text)\n",
    "    else:\n",
    "        news.append(titles_html[i].text)"
   ]
  },
  {
   "cell_type": "code",
   "execution_count": 142,
   "metadata": {},
   "outputs": [
    {
     "data": {
      "text/plain": [
       "['정치',\n",
       " '[속보] 홍남기 보고 뒤 文 “힘있게 추진해라”… 靑 “힘 실어…',\n",
       " '文 \"그린벨트 안푼다\"지만…태릉골프장도 알고보니 그린벨트',\n",
       " '국회서 보란듯 윤석열 장모·아내 자료 읽은 추미애',\n",
       " '국회간 추미애, 보란듯 윤석열 부인·장모 자료 확대해 읽었…',\n",
       " '임종석 평양방문 기념사진, 옵티머스 이혁진도 있었다',\n",
       " '경제',\n",
       " '강남아파트 통째 판 매도인 \"다주택 팔라는 정부시책 맞췄을…',\n",
       " '강남아파트 46채 통째 판 매도인 \"정부시책 맞춰 팔았다\"',\n",
       " \"로또라는 '줍줍 아파트'의 배신···12억 벌어도 세금 거의…\",\n",
       " '\"미분양 쓸어갔던 서울 사람들이 매물 풀자 청주 마비\" [부…',\n",
       " '용산공원 남산쪽으로 더 넓어진다…경찰청 시설 예정부지도 …',\n",
       " '사회',\n",
       " '특고·자영업자 1인당 150만원, 176만명 몰려…예상치 1.5배',\n",
       " '[속보]태영호 \"北에 20년간 1조1천억원 빌려줘\"',\n",
       " '[속보] 박원순 피해자 측 \"내일 오전 11시 2차 기자회견 연…',\n",
       " '[포착] 이번에도 빨랐다…다 접고 용인 화재현장 달려간 이…',\n",
       " '이재명, 무주택자 누구나 30년 역세권 거주 가능한 ‘기본주…',\n",
       " '생활/문화',\n",
       " '\"재미없으니 딴 방송 보세요\" 백종원도 셀프디스한 \\'백파더\\'',\n",
       " '찬장 안 확인하세요… 쇳가루 나온 시판 후추들 [목록]',\n",
       " \"수신료 인상 노렸나…KBS '검언유착 오보'에 의심의 눈길\",\n",
       " '카톡 성적대화 그대로 베낀 김봉곤, 결국 젊은작가상 반납',\n",
       " '“8월 17일 임시공휴일 되면 왜 사흘간 휴무죠?”',\n",
       " '세계',\n",
       " '\"대동강맥주·한국쌀 물물교환\" 이인영 아이디어가 놓친 팩…',\n",
       " \"가파른 절벽서 아이 잡고 '찰칵'…도넘은 인증 사진 논란\",\n",
       " \"고열로 활보한 '민폐 유튜버'…코로나 확진에 일본 발칵\",\n",
       " '생리때도 성폭행, 회사 신고하니 \"개인 일\"···악몽의 中…',\n",
       " '[영상] 5층서 떨어진 두 살배기…맨몸으로 받아낸 시민 영웅',\n",
       " 'It/과학',\n",
       " '[속보] SK바이오사이언스, 아스트라제네카 코로나19 백신 …',\n",
       " '“콜라 많이 먹으면 이 상한다” 부모님 말씀의 과학적 근거는',\n",
       " '콜라,사이다에 담갔던 치아를 현미경으로 보니',\n",
       " \"중졸 여공이 해냈다, 아이폰 만드는 첫 중국회사 '럭스쉐어'\",\n",
       " '청량음료에 치아 담갔더니 10분 만에 표면 5배 거칠어져']"
      ]
     },
     "execution_count": 142,
     "metadata": {},
     "output_type": "execute_result"
    }
   ],
   "source": [
    "news"
   ]
  },
  {
   "cell_type": "code",
   "execution_count": 126,
   "metadata": {},
   "outputs": [],
   "source": [
    "lis=[\"정치\",\"경제\",\"사회\",\"생활/문화\",\"세계\",\"It/과학\"]"
   ]
  },
  {
   "cell_type": "code",
   "execution_count": 140,
   "metadata": {},
   "outputs": [
    {
     "data": {
      "text/plain": [
       "'경제'"
      ]
     },
     "execution_count": 140,
     "metadata": {},
     "output_type": "execute_result"
    }
   ],
   "source": [
    "j=1\n",
    "lis[j]"
   ]
  },
  {
   "cell_type": "code",
   "execution_count": 127,
   "metadata": {
    "scrolled": false
   },
   "outputs": [
    {
     "name": "stdout",
     "output_type": "stream",
     "text": [
      "0\n",
      "1\n",
      "2\n",
      "3\n",
      "4\n",
      "5\n",
      "6\n",
      "7\n",
      "8\n",
      "9\n",
      "10\n",
      "11\n",
      "12\n",
      "13\n",
      "14\n",
      "15\n",
      "16\n",
      "17\n",
      "18\n",
      "19\n",
      "20\n",
      "21\n",
      "22\n",
      "23\n",
      "24\n",
      "25\n",
      "26\n",
      "27\n",
      "28\n",
      "29\n"
     ]
    }
   ],
   "source": [
    "for i in range(len(titles_html)):\n",
    "    print(i)"
   ]
  },
  {
   "cell_type": "code",
   "execution_count": 13,
   "metadata": {},
   "outputs": [
    {
     "data": {
      "text/plain": [
       "<a class=\"nclicks(rnk.gov)\" href=\"/main/ranking/read.nhn?mid=etc&amp;sid1=111&amp;rankingType=popular_day&amp;oid=001&amp;aid=0011758614&amp;date=20200721&amp;type=1&amp;rankingSectionId=100&amp;rankingSeq=2\" title=\"8월17일 임시공휴일 확정…광복절부터 사흘연휴\">8월17일 임시공휴일 확정…광복절부터 사흘연휴</a>"
      ]
     },
     "execution_count": 13,
     "metadata": {},
     "output_type": "execute_result"
    }
   ],
   "source": [
    "titles_html[1]"
   ]
  },
  {
   "cell_type": "code",
   "execution_count": 9,
   "metadata": {},
   "outputs": [
    {
     "data": {
      "text/plain": [
       "'8월17일 임시공휴일 확정…광복절부터 사흘연휴'"
      ]
     },
     "execution_count": 9,
     "metadata": {},
     "output_type": "execute_result"
    }
   ],
   "source": [
    "titles_html[1].text"
   ]
  },
  {
   "cell_type": "code",
   "execution_count": 16,
   "metadata": {},
   "outputs": [
    {
     "data": {
      "text/plain": [
       "'https://news.naver.com/main/ranking/read.nhn?mid=etc&sid1=111&rankingType=popular_day&oid=001&aid=0011758614&date=20200721&type=1&rankingSectionId=100&rankingSeq=2'"
      ]
     },
     "execution_count": 16,
     "metadata": {},
     "output_type": "execute_result"
    }
   ],
   "source": [
    "\"https://news.naver.com\"+titles_html[1].get('href')"
   ]
  },
  {
   "cell_type": "code",
   "execution_count": 32,
   "metadata": {},
   "outputs": [
    {
     "data": {
      "text/html": [
       "<div>\n",
       "<style scoped>\n",
       "    .dataframe tbody tr th:only-of-type {\n",
       "        vertical-align: middle;\n",
       "    }\n",
       "\n",
       "    .dataframe tbody tr th {\n",
       "        vertical-align: top;\n",
       "    }\n",
       "\n",
       "    .dataframe thead th {\n",
       "        text-align: right;\n",
       "    }\n",
       "</style>\n",
       "<table border=\"1\" class=\"dataframe\">\n",
       "  <thead>\n",
       "    <tr style=\"text-align: right;\">\n",
       "      <th></th>\n",
       "      <th>news</th>\n",
       "      <th>link</th>\n",
       "    </tr>\n",
       "  </thead>\n",
       "  <tbody>\n",
       "    <tr>\n",
       "      <th>0</th>\n",
       "      <td>[단독] PPT 2장으로 나랏돈 748억 따낸 '이혁진의 신공'</td>\n",
       "      <td>https://news.naver.com/main/ranking/read.nhn?m...</td>\n",
       "    </tr>\n",
       "    <tr>\n",
       "      <th>1</th>\n",
       "      <td>8월17일 임시공휴일 확정…광복절부터 사흘연휴</td>\n",
       "      <td>https://news.naver.com/main/ranking/read.nhn?m...</td>\n",
       "    </tr>\n",
       "    <tr>\n",
       "      <th>2</th>\n",
       "      <td>오늘 국무회의서 8월 17일 임시공휴일 지정</td>\n",
       "      <td>https://news.naver.com/main/ranking/read.nhn?m...</td>\n",
       "    </tr>\n",
       "    <tr>\n",
       "      <th>3</th>\n",
       "      <td>[단독]\"이인영 부인, 보조금 9억 중 7억 박원순 재임때 받았…</td>\n",
       "      <td>https://news.naver.com/main/ranking/read.nhn?m...</td>\n",
       "    </tr>\n",
       "    <tr>\n",
       "      <th>4</th>\n",
       "      <td>8월17일 임시공휴일 지정…文대통령 \"국민께 작은 위로되길\"…</td>\n",
       "      <td>https://news.naver.com/main/ranking/read.nhn?m...</td>\n",
       "    </tr>\n",
       "    <tr>\n",
       "      <th>5</th>\n",
       "      <td>\"한 달 몇천만원씩 벌었는데…\" 코로나 6개월에 '초토화'</td>\n",
       "      <td>https://news.naver.com/main/ranking/read.nhn?m...</td>\n",
       "    </tr>\n",
       "    <tr>\n",
       "      <th>6</th>\n",
       "      <td>\"잘있거라 나는 간다, 16억 챙기러\" SK바이오팜 직원들 사…</td>\n",
       "      <td>https://news.naver.com/main/ranking/read.nhn?m...</td>\n",
       "    </tr>\n",
       "    <tr>\n",
       "      <th>7</th>\n",
       "      <td>강남아파트 통째 판 매도인 \"다주택 팔라는 정부시책 맞췄을…</td>\n",
       "      <td>https://news.naver.com/main/ranking/read.nhn?m...</td>\n",
       "    </tr>\n",
       "    <tr>\n",
       "      <th>8</th>\n",
       "      <td>강남아파트 46채 통째 판 매도인 \"정부시책 맞춰 팔았다\"</td>\n",
       "      <td>https://news.naver.com/main/ranking/read.nhn?m...</td>\n",
       "    </tr>\n",
       "    <tr>\n",
       "      <th>9</th>\n",
       "      <td>빚더미 한국, 부도나나?… 3대 평가사 “이제부턴 걱정해야 …</td>\n",
       "      <td>https://news.naver.com/main/ranking/read.nhn?m...</td>\n",
       "    </tr>\n",
       "    <tr>\n",
       "      <th>10</th>\n",
       "      <td>'한우 먹는 날' 불참 한혜진 승소···\"2억 배상\" 1심 뒤집…</td>\n",
       "      <td>https://news.naver.com/main/ranking/read.nhn?m...</td>\n",
       "    </tr>\n",
       "    <tr>\n",
       "      <th>11</th>\n",
       "      <td>[단독]부여 투표지가 왜 시흥 고물상서 나와? 선관위 \"모른…</td>\n",
       "      <td>https://news.naver.com/main/ranking/read.nhn?m...</td>\n",
       "    </tr>\n",
       "    <tr>\n",
       "      <th>12</th>\n",
       "      <td>[단독] 장윤정 \"두 얼굴의 운동처방사, 내가 최대 피해자\"</td>\n",
       "      <td>https://news.naver.com/main/ranking/read.nhn?m...</td>\n",
       "    </tr>\n",
       "    <tr>\n",
       "      <th>13</th>\n",
       "      <td>\"일개 장관이 국민 알권리 포샵질\" 한동훈, 추미애에 사이다…</td>\n",
       "      <td>https://news.naver.com/main/ranking/read.nhn?m...</td>\n",
       "    </tr>\n",
       "    <tr>\n",
       "      <th>14</th>\n",
       "      <td>기본소득에 이어 경기도 ‘기본주택’ 파격 실험</td>\n",
       "      <td>https://news.naver.com/main/ranking/read.nhn?m...</td>\n",
       "    </tr>\n",
       "    <tr>\n",
       "      <th>15</th>\n",
       "      <td>두 명의 애인과 나, 부부와 친구하나…한집에 성인 셋, 이상…</td>\n",
       "      <td>https://news.naver.com/main/ranking/read.nhn?m...</td>\n",
       "    </tr>\n",
       "    <tr>\n",
       "      <th>16</th>\n",
       "      <td>찬장 안 확인하세요… 쇳가루 나온 시판 후추들 [목록]</td>\n",
       "      <td>https://news.naver.com/main/ranking/read.nhn?m...</td>\n",
       "    </tr>\n",
       "    <tr>\n",
       "      <th>17</th>\n",
       "      <td>\"재미없으니 딴 방송 보세요\" 백종원도 셀프디스한 '백파더'</td>\n",
       "      <td>https://news.naver.com/main/ranking/read.nhn?m...</td>\n",
       "    </tr>\n",
       "    <tr>\n",
       "      <th>18</th>\n",
       "      <td>‘반도’ 닷새만에 180만 동원…“속편 만들면 좀비 호러로”</td>\n",
       "      <td>https://news.naver.com/main/ranking/read.nhn?m...</td>\n",
       "    </tr>\n",
       "    <tr>\n",
       "      <th>19</th>\n",
       "      <td>카톡 성적인 대화 그대로 베낀 김봉곤, 결국 젊은작가상 반…</td>\n",
       "      <td>https://news.naver.com/main/ranking/read.nhn?m...</td>\n",
       "    </tr>\n",
       "    <tr>\n",
       "      <th>20</th>\n",
       "      <td>생리때도 성폭행, 회사 신고하니 \"개인 일\"···악몽의 中…</td>\n",
       "      <td>https://news.naver.com/main/ranking/read.nhn?m...</td>\n",
       "    </tr>\n",
       "    <tr>\n",
       "      <th>21</th>\n",
       "      <td>6조 재산 대신 승려의 길 택했다···'현대판 석가모니' 화…</td>\n",
       "      <td>https://news.naver.com/main/ranking/read.nhn?m...</td>\n",
       "    </tr>\n",
       "    <tr>\n",
       "      <th>22</th>\n",
       "      <td>[뉴스브리핑] 절벽에 아이 매달고 찰칵…도 넘은 '인증샷'</td>\n",
       "      <td>https://news.naver.com/main/ranking/read.nhn?m...</td>\n",
       "    </tr>\n",
       "    <tr>\n",
       "      <th>23</th>\n",
       "      <td>\"술병 던져\" \"바람핀 주제에\" 할리우드 조니 뎁 부부 막장드…</td>\n",
       "      <td>https://news.naver.com/main/ranking/read.nhn?m...</td>\n",
       "    </tr>\n",
       "    <tr>\n",
       "      <th>24</th>\n",
       "      <td>“뭐하러 열었어”…잔혹극이 된 디즈니월드 재개장</td>\n",
       "      <td>https://news.naver.com/main/ranking/read.nhn?m...</td>\n",
       "    </tr>\n",
       "    <tr>\n",
       "      <th>25</th>\n",
       "      <td>콜라,사이다에 담갔던 치아를 현미경으로 보니</td>\n",
       "      <td>https://news.naver.com/main/ranking/read.nhn?m...</td>\n",
       "    </tr>\n",
       "    <tr>\n",
       "      <th>26</th>\n",
       "      <td>[속보] SK바이오사이언스, 아스트라제네카 코로나19 백신 …</td>\n",
       "      <td>https://news.naver.com/main/ranking/read.nhn?m...</td>\n",
       "    </tr>\n",
       "    <tr>\n",
       "      <th>27</th>\n",
       "      <td>낙동강에 ‘뇌전증 치료제’ 가바펜틴이 왜?…인체 유해성 연…</td>\n",
       "      <td>https://news.naver.com/main/ranking/read.nhn?m...</td>\n",
       "    </tr>\n",
       "    <tr>\n",
       "      <th>28</th>\n",
       "      <td>'문재인 내려와' '문재인 힘내세요' 전쟁의 승자는?</td>\n",
       "      <td>https://news.naver.com/main/ranking/read.nhn?m...</td>\n",
       "    </tr>\n",
       "    <tr>\n",
       "      <th>29</th>\n",
       "      <td>SK바이오팜 대박 후유증…직원 줄사표 현실로</td>\n",
       "      <td>https://news.naver.com/main/ranking/read.nhn?m...</td>\n",
       "    </tr>\n",
       "  </tbody>\n",
       "</table>\n",
       "</div>"
      ],
      "text/plain": [
       "                                    news  \\\n",
       "0    [단독] PPT 2장으로 나랏돈 748억 따낸 '이혁진의 신공'   \n",
       "1              8월17일 임시공휴일 확정…광복절부터 사흘연휴   \n",
       "2               오늘 국무회의서 8월 17일 임시공휴일 지정   \n",
       "3   [단독]\"이인영 부인, 보조금 9억 중 7억 박원순 재임때 받았…   \n",
       "4     8월17일 임시공휴일 지정…文대통령 \"국민께 작은 위로되길\"…   \n",
       "5       \"한 달 몇천만원씩 벌었는데…\" 코로나 6개월에 '초토화'   \n",
       "6    \"잘있거라 나는 간다, 16억 챙기러\" SK바이오팜 직원들 사…   \n",
       "7      강남아파트 통째 판 매도인 \"다주택 팔라는 정부시책 맞췄을…   \n",
       "8       강남아파트 46채 통째 판 매도인 \"정부시책 맞춰 팔았다\"   \n",
       "9     빚더미 한국, 부도나나?… 3대 평가사 “이제부턴 걱정해야 …   \n",
       "10  '한우 먹는 날' 불참 한혜진 승소···\"2억 배상\" 1심 뒤집…   \n",
       "11    [단독]부여 투표지가 왜 시흥 고물상서 나와? 선관위 \"모른…   \n",
       "12     [단독] 장윤정 \"두 얼굴의 운동처방사, 내가 최대 피해자\"   \n",
       "13    \"일개 장관이 국민 알권리 포샵질\" 한동훈, 추미애에 사이다…   \n",
       "14             기본소득에 이어 경기도 ‘기본주택’ 파격 실험   \n",
       "15    두 명의 애인과 나, 부부와 친구하나…한집에 성인 셋, 이상…   \n",
       "16        찬장 안 확인하세요… 쇳가루 나온 시판 후추들 [목록]   \n",
       "17     \"재미없으니 딴 방송 보세요\" 백종원도 셀프디스한 '백파더'   \n",
       "18     ‘반도’ 닷새만에 180만 동원…“속편 만들면 좀비 호러로”   \n",
       "19     카톡 성적인 대화 그대로 베낀 김봉곤, 결국 젊은작가상 반…   \n",
       "20     생리때도 성폭행, 회사 신고하니 \"개인 일\"···악몽의 中…   \n",
       "21    6조 재산 대신 승려의 길 택했다···'현대판 석가모니' 화…   \n",
       "22      [뉴스브리핑] 절벽에 아이 매달고 찰칵…도 넘은 '인증샷'   \n",
       "23   \"술병 던져\" \"바람핀 주제에\" 할리우드 조니 뎁 부부 막장드…   \n",
       "24            “뭐하러 열었어”…잔혹극이 된 디즈니월드 재개장   \n",
       "25              콜라,사이다에 담갔던 치아를 현미경으로 보니   \n",
       "26    [속보] SK바이오사이언스, 아스트라제네카 코로나19 백신 …   \n",
       "27     낙동강에 ‘뇌전증 치료제’ 가바펜틴이 왜?…인체 유해성 연…   \n",
       "28         '문재인 내려와' '문재인 힘내세요' 전쟁의 승자는?   \n",
       "29              SK바이오팜 대박 후유증…직원 줄사표 현실로   \n",
       "\n",
       "                                                 link  \n",
       "0   https://news.naver.com/main/ranking/read.nhn?m...  \n",
       "1   https://news.naver.com/main/ranking/read.nhn?m...  \n",
       "2   https://news.naver.com/main/ranking/read.nhn?m...  \n",
       "3   https://news.naver.com/main/ranking/read.nhn?m...  \n",
       "4   https://news.naver.com/main/ranking/read.nhn?m...  \n",
       "5   https://news.naver.com/main/ranking/read.nhn?m...  \n",
       "6   https://news.naver.com/main/ranking/read.nhn?m...  \n",
       "7   https://news.naver.com/main/ranking/read.nhn?m...  \n",
       "8   https://news.naver.com/main/ranking/read.nhn?m...  \n",
       "9   https://news.naver.com/main/ranking/read.nhn?m...  \n",
       "10  https://news.naver.com/main/ranking/read.nhn?m...  \n",
       "11  https://news.naver.com/main/ranking/read.nhn?m...  \n",
       "12  https://news.naver.com/main/ranking/read.nhn?m...  \n",
       "13  https://news.naver.com/main/ranking/read.nhn?m...  \n",
       "14  https://news.naver.com/main/ranking/read.nhn?m...  \n",
       "15  https://news.naver.com/main/ranking/read.nhn?m...  \n",
       "16  https://news.naver.com/main/ranking/read.nhn?m...  \n",
       "17  https://news.naver.com/main/ranking/read.nhn?m...  \n",
       "18  https://news.naver.com/main/ranking/read.nhn?m...  \n",
       "19  https://news.naver.com/main/ranking/read.nhn?m...  \n",
       "20  https://news.naver.com/main/ranking/read.nhn?m...  \n",
       "21  https://news.naver.com/main/ranking/read.nhn?m...  \n",
       "22  https://news.naver.com/main/ranking/read.nhn?m...  \n",
       "23  https://news.naver.com/main/ranking/read.nhn?m...  \n",
       "24  https://news.naver.com/main/ranking/read.nhn?m...  \n",
       "25  https://news.naver.com/main/ranking/read.nhn?m...  \n",
       "26  https://news.naver.com/main/ranking/read.nhn?m...  \n",
       "27  https://news.naver.com/main/ranking/read.nhn?m...  \n",
       "28  https://news.naver.com/main/ranking/read.nhn?m...  \n",
       "29  https://news.naver.com/main/ranking/read.nhn?m...  "
      ]
     },
     "execution_count": 32,
     "metadata": {},
     "output_type": "execute_result"
    }
   ],
   "source": [
    "import requests\n",
    "from bs4 import BeautifulSoup\n",
    "import pandas as pd\n",
    "url = 'https://news.naver.com/main/ranking/popularDay.nhn?rankingType=popular_day&date=20200721'\n",
    "r = requests.get(url)\n",
    "html = r.content\n",
    "soup = BeautifulSoup(html, 'html.parser')\n",
    "titles_html = soup.select('.ranking_section > ol > li > dl > dt > a')\n",
    "\n",
    "news=[]\n",
    "link=[]\n",
    "kote=[]\n",
    "j=0\n",
    "lis=[\"정치\",\"경제\",\"사회\",\"생활/문화\",\"세계\",\"It/과학\"]\n",
    "for i in range(len(titles_html)):    \n",
    "    news.append(titles_html[i].text)\n",
    "    link.append(\"https://news.naver.com\"+titles_html[i].get('href'))\n",
    "pd.DataFrame({\"news\":news,\"link\":link})"
   ]
  },
  {
   "cell_type": "code",
   "execution_count": 128,
   "metadata": {
    "scrolled": true
   },
   "outputs": [
    {
     "data": {
      "text/html": [
       "<div>\n",
       "<style scoped>\n",
       "    .dataframe tbody tr th:only-of-type {\n",
       "        vertical-align: middle;\n",
       "    }\n",
       "\n",
       "    .dataframe tbody tr th {\n",
       "        vertical-align: top;\n",
       "    }\n",
       "\n",
       "    .dataframe thead th {\n",
       "        text-align: right;\n",
       "    }\n",
       "</style>\n",
       "<table border=\"1\" class=\"dataframe\">\n",
       "  <thead>\n",
       "    <tr style=\"text-align: right;\">\n",
       "      <th></th>\n",
       "      <th>kote</th>\n",
       "      <th>news</th>\n",
       "      <th>link</th>\n",
       "    </tr>\n",
       "  </thead>\n",
       "  <tbody>\n",
       "    <tr>\n",
       "      <th>0</th>\n",
       "      <td>정치</td>\n",
       "      <td>통합 \"박지원 광주교대→조선대 학력위조 확인\"</td>\n",
       "      <td>https://news.naver.com/main/ranking/read.nhn?m...</td>\n",
       "    </tr>\n",
       "    <tr>\n",
       "      <th>1</th>\n",
       "      <td>정치</td>\n",
       "      <td>[속보] 이낙연 “공천 논의, 연말쯤 가서 해도 늦지 않다”</td>\n",
       "      <td>https://news.naver.com/main/ranking/read.nhn?m...</td>\n",
       "    </tr>\n",
       "    <tr>\n",
       "      <th>2</th>\n",
       "      <td>정치</td>\n",
       "      <td>오뚜기부대에 무슨일이… 확진자 속출에 220명 격리</td>\n",
       "      <td>https://news.naver.com/main/ranking/read.nhn?m...</td>\n",
       "    </tr>\n",
       "    <tr>\n",
       "      <th>3</th>\n",
       "      <td>정치</td>\n",
       "      <td>이틀만에 말바꾼 이재명 \"서울·부산 무공천 주장한적 없어\"</td>\n",
       "      <td>https://news.naver.com/main/ranking/read.nhn?m...</td>\n",
       "    </tr>\n",
       "    <tr>\n",
       "      <th>4</th>\n",
       "      <td>정치</td>\n",
       "      <td>진중권 \"수도 이전? 대통령집무실도 광화문 못 옮긴 주제에\"</td>\n",
       "      <td>https://news.naver.com/main/ranking/read.nhn?m...</td>\n",
       "    </tr>\n",
       "    <tr>\n",
       "      <th>5</th>\n",
       "      <td>경제</td>\n",
       "      <td>\"멀쩡한 집 팔고 세 살라는 거냐\"…분노 폭발한 서민들</td>\n",
       "      <td>https://news.naver.com/main/ranking/read.nhn?m...</td>\n",
       "    </tr>\n",
       "    <tr>\n",
       "      <th>6</th>\n",
       "      <td>경제</td>\n",
       "      <td>지상 541m 위에서 ‘팔 벌려 뛰기’ 도전했으나…</td>\n",
       "      <td>https://news.naver.com/main/ranking/read.nhn?m...</td>\n",
       "    </tr>\n",
       "    <tr>\n",
       "      <th>7</th>\n",
       "      <td>경제</td>\n",
       "      <td>꽁치 한마리에 6만6000원...도대체 무슨 일?</td>\n",
       "      <td>https://news.naver.com/main/ranking/read.nhn?m...</td>\n",
       "    </tr>\n",
       "    <tr>\n",
       "      <th>8</th>\n",
       "      <td>경제</td>\n",
       "      <td>영화배우 클린트 이스트우드 \"한국은 개고기 먹는 문화 끝내…</td>\n",
       "      <td>https://news.naver.com/main/ranking/read.nhn?m...</td>\n",
       "    </tr>\n",
       "    <tr>\n",
       "      <th>9</th>\n",
       "      <td>경제</td>\n",
       "      <td>유산균 19종 들어 있다더니 1개 균종이 88%</td>\n",
       "      <td>https://news.naver.com/main/ranking/read.nhn?m...</td>\n",
       "    </tr>\n",
       "    <tr>\n",
       "      <th>10</th>\n",
       "      <td>사회</td>\n",
       "      <td>박원순 피해자 \"20명에 말해…진실 밝혀지길 기다리겠다\"</td>\n",
       "      <td>https://news.naver.com/main/ranking/read.nhn?m...</td>\n",
       "    </tr>\n",
       "    <tr>\n",
       "      <th>11</th>\n",
       "      <td>사회</td>\n",
       "      <td>\"남은 공무원 생활 편하게 해준다며 박원순 비서 하라고 요…</td>\n",
       "      <td>https://news.naver.com/main/ranking/read.nhn?m...</td>\n",
       "    </tr>\n",
       "    <tr>\n",
       "      <th>12</th>\n",
       "      <td>사회</td>\n",
       "      <td>[속보] 박원순 시장 성추행 의혹 피해자측 \"경찰 가기 하루 …</td>\n",
       "      <td>https://news.naver.com/main/ranking/read.nhn?m...</td>\n",
       "    </tr>\n",
       "    <tr>\n",
       "      <th>13</th>\n",
       "      <td>사회</td>\n",
       "      <td>피해여성 \"朴이 보낸 속옷사진 보여주며 호소, 市가 묵살\"</td>\n",
       "      <td>https://news.naver.com/main/ranking/read.nhn?m...</td>\n",
       "    </tr>\n",
       "    <tr>\n",
       "      <th>14</th>\n",
       "      <td>사회</td>\n",
       "      <td>[속보]경주시청 선수들 \"하루도 안 맞은 적 없었다\"</td>\n",
       "      <td>https://news.naver.com/main/ranking/read.nhn?m...</td>\n",
       "    </tr>\n",
       "    <tr>\n",
       "      <th>15</th>\n",
       "      <td>생활/문화</td>\n",
       "      <td>“재미없으니 딴 방송 보세요” 백종원도 속수무책 ‘백파더’</td>\n",
       "      <td>https://news.naver.com/main/ranking/read.nhn?m...</td>\n",
       "    </tr>\n",
       "    <tr>\n",
       "      <th>16</th>\n",
       "      <td>생활/문화</td>\n",
       "      <td>[인-잇] 32년간 절 노예, 수사는 왜 이 모양입니까</td>\n",
       "      <td>https://news.naver.com/main/ranking/read.nhn?m...</td>\n",
       "    </tr>\n",
       "    <tr>\n",
       "      <th>17</th>\n",
       "      <td>생활/문화</td>\n",
       "      <td>[더오래] 제사 없애고 일박이일 가족모임 만들었더니</td>\n",
       "      <td>https://news.naver.com/main/ranking/read.nhn?m...</td>\n",
       "    </tr>\n",
       "    <tr>\n",
       "      <th>18</th>\n",
       "      <td>생활/문화</td>\n",
       "      <td>카톡 성적인 대화 그대로 베낀 김봉곤, 결국 젊은작가상 반…</td>\n",
       "      <td>https://news.naver.com/main/ranking/read.nhn?m...</td>\n",
       "    </tr>\n",
       "    <tr>\n",
       "      <th>19</th>\n",
       "      <td>생활/문화</td>\n",
       "      <td>김치 해외서 날개 돋친 듯 팔린다…비결은 현지화·물류망·…</td>\n",
       "      <td>https://news.naver.com/main/ranking/read.nhn?m...</td>\n",
       "    </tr>\n",
       "    <tr>\n",
       "      <th>20</th>\n",
       "      <td>세계</td>\n",
       "      <td>담장 넘던 원숭이떼에 벽돌이 와르르…마당에서 잠자던 일가…</td>\n",
       "      <td>https://news.naver.com/main/ranking/read.nhn?m...</td>\n",
       "    </tr>\n",
       "    <tr>\n",
       "      <th>21</th>\n",
       "      <td>세계</td>\n",
       "      <td>산책길에 야생 곰 만난 멕시코 여성, 목숨 건 셀카 한장</td>\n",
       "      <td>https://news.naver.com/main/ranking/read.nhn?m...</td>\n",
       "    </tr>\n",
       "    <tr>\n",
       "      <th>22</th>\n",
       "      <td>세계</td>\n",
       "      <td>이재민 6억, GDP 40% 날아간다…싼샤댐 붕괴설 속타는 시진…</td>\n",
       "      <td>https://news.naver.com/main/ranking/read.nhn?m...</td>\n",
       "    </tr>\n",
       "    <tr>\n",
       "      <th>23</th>\n",
       "      <td>세계</td>\n",
       "      <td>부모 죽인 탈레반과 총격전…16살 아프간 소녀의 복수</td>\n",
       "      <td>https://news.naver.com/main/ranking/read.nhn?m...</td>\n",
       "    </tr>\n",
       "    <tr>\n",
       "      <th>24</th>\n",
       "      <td>세계</td>\n",
       "      <td>\"트럼프는 우리 대통령\" 트윗 올린 美교사, 학교서 해고 당…</td>\n",
       "      <td>https://news.naver.com/main/ranking/read.nhn?m...</td>\n",
       "    </tr>\n",
       "    <tr>\n",
       "      <th>25</th>\n",
       "      <td>It/과학</td>\n",
       "      <td>SK바이오팜 대박 후유증…직원 줄사표 현실로</td>\n",
       "      <td>https://news.naver.com/main/ranking/read.nhn?m...</td>\n",
       "    </tr>\n",
       "    <tr>\n",
       "      <th>26</th>\n",
       "      <td>It/과학</td>\n",
       "      <td>韓, 세계 최초 ‘촉매 자판기’ 개발… “이르면 내년 상용화”</td>\n",
       "      <td>https://news.naver.com/main/ranking/read.nhn?m...</td>\n",
       "    </tr>\n",
       "    <tr>\n",
       "      <th>27</th>\n",
       "      <td>It/과학</td>\n",
       "      <td>쿠팡發 \"쩐의 전쟁\"…배민 ‘비상경영’ [IT선빵!]</td>\n",
       "      <td>https://news.naver.com/main/ranking/read.nhn?m...</td>\n",
       "    </tr>\n",
       "    <tr>\n",
       "      <th>28</th>\n",
       "      <td>It/과학</td>\n",
       "      <td>중졸 여공이 해냈다, 아이폰 만드는 첫 중국회사 '럭스쉐어'</td>\n",
       "      <td>https://news.naver.com/main/ranking/read.nhn?m...</td>\n",
       "    </tr>\n",
       "    <tr>\n",
       "      <th>29</th>\n",
       "      <td>It/과학</td>\n",
       "      <td>반도체 장비시장 ‘전성시대’…2021년 역대 최대치 전망</td>\n",
       "      <td>https://news.naver.com/main/ranking/read.nhn?m...</td>\n",
       "    </tr>\n",
       "  </tbody>\n",
       "</table>\n",
       "</div>"
      ],
      "text/plain": [
       "     kote                                  news  \\\n",
       "0      정치             통합 \"박지원 광주교대→조선대 학력위조 확인\"   \n",
       "1      정치     [속보] 이낙연 “공천 논의, 연말쯤 가서 해도 늦지 않다”   \n",
       "2      정치          오뚜기부대에 무슨일이… 확진자 속출에 220명 격리   \n",
       "3      정치      이틀만에 말바꾼 이재명 \"서울·부산 무공천 주장한적 없어\"   \n",
       "4      정치     진중권 \"수도 이전? 대통령집무실도 광화문 못 옮긴 주제에\"   \n",
       "5      경제        \"멀쩡한 집 팔고 세 살라는 거냐\"…분노 폭발한 서민들   \n",
       "6      경제          지상 541m 위에서 ‘팔 벌려 뛰기’ 도전했으나…   \n",
       "7      경제           꽁치 한마리에 6만6000원...도대체 무슨 일?   \n",
       "8      경제     영화배우 클린트 이스트우드 \"한국은 개고기 먹는 문화 끝내…   \n",
       "9      경제            유산균 19종 들어 있다더니 1개 균종이 88%   \n",
       "10     사회       박원순 피해자 \"20명에 말해…진실 밝혀지길 기다리겠다\"   \n",
       "11     사회     \"남은 공무원 생활 편하게 해준다며 박원순 비서 하라고 요…   \n",
       "12     사회   [속보] 박원순 시장 성추행 의혹 피해자측 \"경찰 가기 하루 …   \n",
       "13     사회      피해여성 \"朴이 보낸 속옷사진 보여주며 호소, 市가 묵살\"   \n",
       "14     사회         [속보]경주시청 선수들 \"하루도 안 맞은 적 없었다\"   \n",
       "15  생활/문화      “재미없으니 딴 방송 보세요” 백종원도 속수무책 ‘백파더’   \n",
       "16  생활/문화        [인-잇] 32년간 절 노예, 수사는 왜 이 모양입니까   \n",
       "17  생활/문화          [더오래] 제사 없애고 일박이일 가족모임 만들었더니   \n",
       "18  생활/문화     카톡 성적인 대화 그대로 베낀 김봉곤, 결국 젊은작가상 반…   \n",
       "19  생활/문화      김치 해외서 날개 돋친 듯 팔린다…비결은 현지화·물류망·…   \n",
       "20     세계      담장 넘던 원숭이떼에 벽돌이 와르르…마당에서 잠자던 일가…   \n",
       "21     세계       산책길에 야생 곰 만난 멕시코 여성, 목숨 건 셀카 한장   \n",
       "22     세계  이재민 6억, GDP 40% 날아간다…싼샤댐 붕괴설 속타는 시진…   \n",
       "23     세계         부모 죽인 탈레반과 총격전…16살 아프간 소녀의 복수   \n",
       "24     세계    \"트럼프는 우리 대통령\" 트윗 올린 美교사, 학교서 해고 당…   \n",
       "25  It/과학              SK바이오팜 대박 후유증…직원 줄사표 현실로   \n",
       "26  It/과학    韓, 세계 최초 ‘촉매 자판기’ 개발… “이르면 내년 상용화”   \n",
       "27  It/과학         쿠팡發 \"쩐의 전쟁\"…배민 ‘비상경영’ [IT선빵!]   \n",
       "28  It/과학     중졸 여공이 해냈다, 아이폰 만드는 첫 중국회사 '럭스쉐어'   \n",
       "29  It/과학       반도체 장비시장 ‘전성시대’…2021년 역대 최대치 전망   \n",
       "\n",
       "                                                 link  \n",
       "0   https://news.naver.com/main/ranking/read.nhn?m...  \n",
       "1   https://news.naver.com/main/ranking/read.nhn?m...  \n",
       "2   https://news.naver.com/main/ranking/read.nhn?m...  \n",
       "3   https://news.naver.com/main/ranking/read.nhn?m...  \n",
       "4   https://news.naver.com/main/ranking/read.nhn?m...  \n",
       "5   https://news.naver.com/main/ranking/read.nhn?m...  \n",
       "6   https://news.naver.com/main/ranking/read.nhn?m...  \n",
       "7   https://news.naver.com/main/ranking/read.nhn?m...  \n",
       "8   https://news.naver.com/main/ranking/read.nhn?m...  \n",
       "9   https://news.naver.com/main/ranking/read.nhn?m...  \n",
       "10  https://news.naver.com/main/ranking/read.nhn?m...  \n",
       "11  https://news.naver.com/main/ranking/read.nhn?m...  \n",
       "12  https://news.naver.com/main/ranking/read.nhn?m...  \n",
       "13  https://news.naver.com/main/ranking/read.nhn?m...  \n",
       "14  https://news.naver.com/main/ranking/read.nhn?m...  \n",
       "15  https://news.naver.com/main/ranking/read.nhn?m...  \n",
       "16  https://news.naver.com/main/ranking/read.nhn?m...  \n",
       "17  https://news.naver.com/main/ranking/read.nhn?m...  \n",
       "18  https://news.naver.com/main/ranking/read.nhn?m...  \n",
       "19  https://news.naver.com/main/ranking/read.nhn?m...  \n",
       "20  https://news.naver.com/main/ranking/read.nhn?m...  \n",
       "21  https://news.naver.com/main/ranking/read.nhn?m...  \n",
       "22  https://news.naver.com/main/ranking/read.nhn?m...  \n",
       "23  https://news.naver.com/main/ranking/read.nhn?m...  \n",
       "24  https://news.naver.com/main/ranking/read.nhn?m...  \n",
       "25  https://news.naver.com/main/ranking/read.nhn?m...  \n",
       "26  https://news.naver.com/main/ranking/read.nhn?m...  \n",
       "27  https://news.naver.com/main/ranking/read.nhn?m...  \n",
       "28  https://news.naver.com/main/ranking/read.nhn?m...  \n",
       "29  https://news.naver.com/main/ranking/read.nhn?m...  "
      ]
     },
     "execution_count": 128,
     "metadata": {},
     "output_type": "execute_result"
    }
   ],
   "source": [
    "import requests\n",
    "from bs4 import BeautifulSoup\n",
    "\n",
    "url = 'https://news.naver.com/main/ranking/popularDay.nhn?rankingType=popular_day&date=20200722'\n",
    "\n",
    "r = requests.get(url)\n",
    "html = r.content\n",
    "soup = BeautifulSoup(html, 'html.parser')\n",
    "titles_html = soup.select('.ranking_section > ol > li > dl > dt > a')\n",
    "\n",
    "news=[]\n",
    "link=[]\n",
    "kote=[]\n",
    "j=0\n",
    "lis=[\"정치\",\"경제\",\"사회\",\"생활/문화\",\"세계\",\"It/과학\"]\n",
    "for i in range(len(titles_html)):    \n",
    "    if i in [5,10,15,20,25]:        \n",
    "        news.append(titles_html[i].text)\n",
    "        link.append(\"https://news.naver.com\"+titles_html[i].get('href'))\n",
    "        j+=1\n",
    "        kote.append(lis[j])        \n",
    "    else:\n",
    "        news.append(titles_html[i].text)\n",
    "        link.append(\"https://news.naver.com\"+titles_html[i].get('href'))\n",
    "        kote.append(lis[j])\n",
    "pd.DataFrame({\"kote\":kote,\"news\":news,\"link\":link})"
   ]
  },
  {
   "cell_type": "code",
   "execution_count": null,
   "metadata": {},
   "outputs": [],
   "source": []
  },
  {
   "cell_type": "code",
   "execution_count": 159,
   "metadata": {},
   "outputs": [],
   "source": [
    "import requests\n",
    "from bs4 import BeautifulSoup\n",
    "\n",
    "url = 'http://www.cgv.co.kr/movies/'\n",
    "\n",
    "r = requests.get(url)\n",
    "html = r.content\n",
    "soup = BeautifulSoup(html, 'html.parser')"
   ]
  },
  {
   "cell_type": "code",
   "execution_count": null,
   "metadata": {},
   "outputs": [],
   "source": []
  },
  {
   "cell_type": "code",
   "execution_count": 220,
   "metadata": {},
   "outputs": [
    {
     "data": {
      "text/html": [
       "<div>\n",
       "<style scoped>\n",
       "    .dataframe tbody tr th:only-of-type {\n",
       "        vertical-align: middle;\n",
       "    }\n",
       "\n",
       "    .dataframe tbody tr th {\n",
       "        vertical-align: top;\n",
       "    }\n",
       "\n",
       "    .dataframe thead th {\n",
       "        text-align: right;\n",
       "    }\n",
       "</style>\n",
       "<table border=\"1\" class=\"dataframe\">\n",
       "  <thead>\n",
       "    <tr style=\"text-align: right;\">\n",
       "      <th></th>\n",
       "      <th>title</th>\n",
       "      <th>reser</th>\n",
       "    </tr>\n",
       "  </thead>\n",
       "  <tbody>\n",
       "    <tr>\n",
       "      <th>0</th>\n",
       "      <td>반도</td>\n",
       "      <td>예매율50.1%</td>\n",
       "    </tr>\n",
       "    <tr>\n",
       "      <th>1</th>\n",
       "      <td>알라딘</td>\n",
       "      <td>예매율10.3%</td>\n",
       "    </tr>\n",
       "    <tr>\n",
       "      <th>2</th>\n",
       "      <td>블루 아워</td>\n",
       "      <td>예매율8.7%</td>\n",
       "    </tr>\n",
       "    <tr>\n",
       "      <th>3</th>\n",
       "      <td>소년시절의 너</td>\n",
       "      <td>예매율2.6%</td>\n",
       "    </tr>\n",
       "    <tr>\n",
       "      <th>4</th>\n",
       "      <td>밤쉘-세상을 바꾼 폭탄선언</td>\n",
       "      <td>예매율1.9%</td>\n",
       "    </tr>\n",
       "    <tr>\n",
       "      <th>5</th>\n",
       "      <td>팬데믹</td>\n",
       "      <td>예매율1.5%</td>\n",
       "    </tr>\n",
       "    <tr>\n",
       "      <th>6</th>\n",
       "      <td>시네마천국</td>\n",
       "      <td>예매율1.1%</td>\n",
       "    </tr>\n",
       "  </tbody>\n",
       "</table>\n",
       "</div>"
      ],
      "text/plain": [
       "            title     reser\n",
       "0              반도  예매율50.1%\n",
       "1             알라딘  예매율10.3%\n",
       "2           블루 아워   예매율8.7%\n",
       "3         소년시절의 너   예매율2.6%\n",
       "4  밤쉘-세상을 바꾼 폭탄선언   예매율1.9%\n",
       "5             팬데믹   예매율1.5%\n",
       "6           시네마천국   예매율1.1%"
      ]
     },
     "execution_count": 220,
     "metadata": {},
     "output_type": "execute_result"
    }
   ],
   "source": [
    "import requests\n",
    "import pandas as pd\n",
    "from bs4 import BeautifulSoup\n",
    "url = 'http://www.cgv.co.kr/movies/'\n",
    "r = requests.get(url)\n",
    "html = r.content\n",
    "soup = BeautifulSoup(html, 'html.parser')\n",
    "titles = soup.select('.box-contents > a > strong')\n",
    "reserv = soup.select('.box-contents > div > strong')\n",
    "reserv\n",
    "titles\n",
    "title=[]\n",
    "reser=[]\n",
    "for i in range(7):\n",
    "    title.append(titles[i].text)\n",
    "    reser.append(reserv[i].text)\n",
    "pd.DataFrame({\"title\":title,\"reser\":reser})"
   ]
  },
  {
   "cell_type": "code",
   "execution_count": 202,
   "metadata": {},
   "outputs": [
    {
     "data": {
      "text/plain": [
       "'예매율50.1%'"
      ]
     },
     "execution_count": 202,
     "metadata": {},
     "output_type": "execute_result"
    }
   ],
   "source": [
    "titles_html[0].text"
   ]
  },
  {
   "cell_type": "code",
   "execution_count": 216,
   "metadata": {},
   "outputs": [
    {
     "data": {
      "text/plain": [
       "'반도'"
      ]
     },
     "execution_count": 216,
     "metadata": {},
     "output_type": "execute_result"
    }
   ],
   "source": [
    "titles[0].text"
   ]
  },
  {
   "cell_type": "code",
   "execution_count": null,
   "metadata": {},
   "outputs": [],
   "source": [
    "CGV실시간 인기검색어"
   ]
  },
  {
   "cell_type": "code",
   "execution_count": 210,
   "metadata": {},
   "outputs": [
    {
     "data": {
      "text/plain": [
       "[]"
      ]
     },
     "execution_count": 210,
     "metadata": {},
     "output_type": "execute_result"
    }
   ],
   "source": [
    "import requests\n",
    "from bs4 import BeautifulSoup\n",
    "\n",
    "url = 'http://www.cgv.co.kr/movies/'\n",
    "\n",
    "r = requests.get(url)\n",
    "html = r.content\n",
    "soup = BeautifulSoup(html, 'html.parser')\n",
    "titles_html = soup.select('.box-contents > a > div')\n",
    "titles_html"
   ]
  },
  {
   "cell_type": "code",
   "execution_count": 64,
   "metadata": {},
   "outputs": [],
   "source": [
    "CGV 무비차트 순위"
   ]
  },
  {
   "cell_type": "code",
   "execution_count": 197,
   "metadata": {
    "scrolled": true
   },
   "outputs": [
    {
     "data": {
      "text/plain": [
       "[<strong class=\"title\">반도</strong>,\n",
       " <strong class=\"title\">알라딘</strong>,\n",
       " <strong class=\"title\">블루 아워</strong>,\n",
       " <strong class=\"title\">소년시절의 너</strong>,\n",
       " <strong class=\"title\">밤쉘-세상을 바꾼 폭탄선언</strong>,\n",
       " <strong class=\"title\">팬데믹</strong>,\n",
       " <strong class=\"title\">시네마천국</strong>,\n",
       " <strong class=\"title\">캣츠</strong>,\n",
       " <strong class=\"title\">카운트다운</strong>,\n",
       " <strong class=\"title\">영화로운 나날</strong>,\n",
       " <strong class=\"title\">러브 앳</strong>,\n",
       " <strong class=\"title\">월성</strong>]"
      ]
     },
     "execution_count": 197,
     "metadata": {},
     "output_type": "execute_result"
    }
   ],
   "source": [
    "import requests\n",
    "from bs4 import BeautifulSoup\n",
    "\n",
    "url = 'http://www.cgv.co.kr/movies/'\n",
    "\n",
    "r = requests.get(url)\n",
    "html = r.content\n",
    "soup = BeautifulSoup(html, 'html.parser')\n",
    "titles_html = soup.select('.box-contents > a > strong')\n",
    "titles_html"
   ]
  },
  {
   "cell_type": "code",
   "execution_count": null,
   "metadata": {
    "scrolled": true
   },
   "outputs": [],
   "source": []
  },
  {
   "cell_type": "code",
   "execution_count": 76,
   "metadata": {},
   "outputs": [
    {
     "data": {
      "text/plain": [
       "'부활'"
      ]
     },
     "execution_count": 76,
     "metadata": {},
     "output_type": "execute_result"
    }
   ],
   "source": []
  },
  {
   "cell_type": "code",
   "execution_count": null,
   "metadata": {},
   "outputs": [],
   "source": []
  },
  {
   "cell_type": "code",
   "execution_count": 13,
   "metadata": {},
   "outputs": [],
   "source": [
    "import requests\n",
    "from bs4 import BeautifulSoup\n",
    "import pandas as pd\n",
    "url = 'https://search.naver.com/search.naver?sm=top_hty&fbm=1&ie=utf8&query=%EA%B5%AC%EA%B8%B0%EB%8F%99%ED%98%84%EB%8C%80%EB%B9%8C%EB%9D%BC+%EB%B2%84%EC%8A%A4'\n",
    "r = requests.get(url)\n",
    "html = r.content\n",
    "soup = BeautifulSoup(html, 'html.parser')\n",
    "titles_html = soup.select('.bi_wrap2 > ul > li')"
   ]
  },
  {
   "cell_type": "code",
   "execution_count": 16,
   "metadata": {},
   "outputs": [
    {
     "data": {
      "text/plain": [
       "' 7212 은평공영차고지 ↔ 옥수동 첫차04:00|막차21:50|8분 간격 실시간 '"
      ]
     },
     "execution_count": 16,
     "metadata": {},
     "output_type": "execute_result"
    }
   ],
   "source": [
    "titles_html[0].text"
   ]
  },
  {
   "cell_type": "code",
   "execution_count": 17,
   "metadata": {},
   "outputs": [
    {
     "data": {
      "text/plain": [
       "' 7730 은평공영차고지 ↔ 이북오도청 첫차04:30|막차23:00|7분 간격 실시간 '"
      ]
     },
     "execution_count": 17,
     "metadata": {},
     "output_type": "execute_result"
    }
   ],
   "source": [
    "titles_html[1].text"
   ]
  },
  {
   "cell_type": "code",
   "execution_count": 18,
   "metadata": {},
   "outputs": [
    {
     "data": {
      "text/plain": [
       "2"
      ]
     },
     "execution_count": 18,
     "metadata": {},
     "output_type": "execute_result"
    }
   ],
   "source": [
    "len(titles_html)"
   ]
  },
  {
   "cell_type": "code",
   "execution_count": null,
   "metadata": {},
   "outputs": [],
   "source": [
    "for i in "
   ]
  }
 ],
 "metadata": {
  "kernelspec": {
   "display_name": "Python 3",
   "language": "python",
   "name": "python3"
  },
  "language_info": {
   "codemirror_mode": {
    "name": "ipython",
    "version": 3
   },
   "file_extension": ".py",
   "mimetype": "text/x-python",
   "name": "python",
   "nbconvert_exporter": "python",
   "pygments_lexer": "ipython3",
   "version": "3.7.0"
  }
 },
 "nbformat": 4,
 "nbformat_minor": 2
}
