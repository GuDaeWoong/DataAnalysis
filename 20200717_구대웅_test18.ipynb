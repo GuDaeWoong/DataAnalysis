{
 "cells": [
  {
   "cell_type": "markdown",
   "metadata": {},
   "source": [
    "# 구대웅"
   ]
  },
  {
   "cell_type": "code",
   "execution_count": 1,
   "metadata": {},
   "outputs": [
    {
     "name": "stderr",
     "output_type": "stream",
     "text": [
      "In C:\\Users\\A\\Anaconda3\\lib\\site-packages\\matplotlib\\mpl-data\\stylelib\\_classic_test.mplstyle: \n",
      "The text.latex.unicode rcparam was deprecated in Matplotlib 3.0 and will be removed in 3.2.\n",
      "In C:\\Users\\A\\Anaconda3\\lib\\site-packages\\matplotlib\\mpl-data\\stylelib\\_classic_test.mplstyle: \n",
      "The savefig.frameon rcparam was deprecated in Matplotlib 3.1 and will be removed in 3.3.\n",
      "In C:\\Users\\A\\Anaconda3\\lib\\site-packages\\matplotlib\\mpl-data\\stylelib\\_classic_test.mplstyle: \n",
      "The pgf.debug rcparam was deprecated in Matplotlib 3.0 and will be removed in 3.2.\n",
      "In C:\\Users\\A\\Anaconda3\\lib\\site-packages\\matplotlib\\mpl-data\\stylelib\\_classic_test.mplstyle: \n",
      "The verbose.level rcparam was deprecated in Matplotlib 3.1 and will be removed in 3.3.\n",
      "In C:\\Users\\A\\Anaconda3\\lib\\site-packages\\matplotlib\\mpl-data\\stylelib\\_classic_test.mplstyle: \n",
      "The verbose.fileo rcparam was deprecated in Matplotlib 3.1 and will be removed in 3.3.\n"
     ]
    }
   ],
   "source": [
    "import numpy as np\n",
    "import pandas as pd\n",
    "%matplotlib inline\n",
    "import matplotlib.pyplot as plt\n",
    "import seaborn as sns\n",
    "import warnings\n",
    "warnings.filterwarnings(action = 'ignore')\n",
    "from matplotlib import font_manager, rc\n",
    "font_name = font_manager.FontProperties(fname='c:/Windows/Fonts/malgun.ttf').get_name()\n",
    "rc('font', family = font_name)"
   ]
  },
  {
   "cell_type": "code",
   "execution_count": 2,
   "metadata": {
    "scrolled": true
   },
   "outputs": [],
   "source": [
    "#1\n",
    "data=pd.read_csv(\"../data/공공자전거 대여이력 정보_202006.csv\", encoding='CP949')"
   ]
  },
  {
   "cell_type": "code",
   "execution_count": 3,
   "metadata": {},
   "outputs": [
    {
     "data": {
      "text/html": [
       "<div>\n",
       "<style scoped>\n",
       "    .dataframe tbody tr th:only-of-type {\n",
       "        vertical-align: middle;\n",
       "    }\n",
       "\n",
       "    .dataframe tbody tr th {\n",
       "        vertical-align: top;\n",
       "    }\n",
       "\n",
       "    .dataframe thead th {\n",
       "        text-align: right;\n",
       "    }\n",
       "</style>\n",
       "<table border=\"1\" class=\"dataframe\">\n",
       "  <thead>\n",
       "    <tr style=\"text-align: right;\">\n",
       "      <th></th>\n",
       "      <th>자전거번호</th>\n",
       "      <th>대여일시</th>\n",
       "      <th>대여 대여소번호</th>\n",
       "      <th>대여 대여소명</th>\n",
       "      <th>대여거치대</th>\n",
       "      <th>반납일시</th>\n",
       "      <th>반납대여소번호</th>\n",
       "      <th>반납대여소명</th>\n",
       "      <th>반납거치대</th>\n",
       "      <th>이용시간</th>\n",
       "      <th>이용거리</th>\n",
       "    </tr>\n",
       "  </thead>\n",
       "  <tbody>\n",
       "    <tr>\n",
       "      <th>0</th>\n",
       "      <td>SPB-33273</td>\n",
       "      <td>2020-06-01 00:03:05</td>\n",
       "      <td>1050</td>\n",
       "      <td>둔촌역 3번 출입구</td>\n",
       "      <td>0</td>\n",
       "      <td>2020-06-01 00:05:59</td>\n",
       "      <td>1078</td>\n",
       "      <td>둔촌사거리</td>\n",
       "      <td>0</td>\n",
       "      <td>3</td>\n",
       "      <td>0.0</td>\n",
       "    </tr>\n",
       "    <tr>\n",
       "      <th>1</th>\n",
       "      <td>SPB-30703</td>\n",
       "      <td>2020-06-01 00:00:46</td>\n",
       "      <td>1132</td>\n",
       "      <td>등촌역 7번출구</td>\n",
       "      <td>0</td>\n",
       "      <td>2020-06-01 00:06:53</td>\n",
       "      <td>1169</td>\n",
       "      <td>염창역 1번 출구</td>\n",
       "      <td>0</td>\n",
       "      <td>6</td>\n",
       "      <td>0.0</td>\n",
       "    </tr>\n",
       "    <tr>\n",
       "      <th>2</th>\n",
       "      <td>SPB-31969</td>\n",
       "      <td>2020-06-01 00:02:43</td>\n",
       "      <td>1306</td>\n",
       "      <td>한성대입구역2번출구</td>\n",
       "      <td>0</td>\n",
       "      <td>2020-06-01 00:06:59</td>\n",
       "      <td>388</td>\n",
       "      <td>동성중학교 앞</td>\n",
       "      <td>0</td>\n",
       "      <td>4</td>\n",
       "      <td>0.0</td>\n",
       "    </tr>\n",
       "    <tr>\n",
       "      <th>3</th>\n",
       "      <td>SPB-19763</td>\n",
       "      <td>2020-06-01 00:00:16</td>\n",
       "      <td>956</td>\n",
       "      <td>응암시장교차로</td>\n",
       "      <td>8</td>\n",
       "      <td>2020-06-01 00:08:25</td>\n",
       "      <td>939</td>\n",
       "      <td>은평구청 교차로</td>\n",
       "      <td>6</td>\n",
       "      <td>7</td>\n",
       "      <td>1340.0</td>\n",
       "    </tr>\n",
       "    <tr>\n",
       "      <th>4</th>\n",
       "      <td>SPB-32949</td>\n",
       "      <td>2020-06-01 00:04:20</td>\n",
       "      <td>709</td>\n",
       "      <td>신정3동 현장민원실 앞</td>\n",
       "      <td>0</td>\n",
       "      <td>2020-06-01 00:08:53</td>\n",
       "      <td>712</td>\n",
       "      <td>강월초교입구 사거리</td>\n",
       "      <td>0</td>\n",
       "      <td>5</td>\n",
       "      <td>0.0</td>\n",
       "    </tr>\n",
       "  </tbody>\n",
       "</table>\n",
       "</div>"
      ],
      "text/plain": [
       "       자전거번호                 대여일시  대여 대여소번호       대여 대여소명  대여거치대  \\\n",
       "0  SPB-33273  2020-06-01 00:03:05      1050    둔촌역 3번 출입구      0   \n",
       "1  SPB-30703  2020-06-01 00:00:46      1132      등촌역 7번출구      0   \n",
       "2  SPB-31969  2020-06-01 00:02:43      1306    한성대입구역2번출구      0   \n",
       "3  SPB-19763  2020-06-01 00:00:16       956       응암시장교차로      8   \n",
       "4  SPB-32949  2020-06-01 00:04:20       709  신정3동 현장민원실 앞      0   \n",
       "\n",
       "                  반납일시  반납대여소번호      반납대여소명  반납거치대  이용시간    이용거리  \n",
       "0  2020-06-01 00:05:59     1078       둔촌사거리      0     3     0.0  \n",
       "1  2020-06-01 00:06:53     1169   염창역 1번 출구      0     6     0.0  \n",
       "2  2020-06-01 00:06:59      388     동성중학교 앞      0     4     0.0  \n",
       "3  2020-06-01 00:08:25      939    은평구청 교차로      6     7  1340.0  \n",
       "4  2020-06-01 00:08:53      712  강월초교입구 사거리      0     5     0.0  "
      ]
     },
     "execution_count": 3,
     "metadata": {},
     "output_type": "execute_result"
    }
   ],
   "source": [
    "data.head()"
   ]
  },
  {
   "cell_type": "code",
   "execution_count": 4,
   "metadata": {},
   "outputs": [
    {
     "data": {
      "text/plain": [
       "대여 대여소번호\n",
       "207     10682\n",
       "502     10504\n",
       "152      7710\n",
       "2102     7382\n",
       "2701     6053\n",
       "Name: 대여 대여소명, dtype: int64"
      ]
     },
     "execution_count": 4,
     "metadata": {},
     "output_type": "execute_result"
    }
   ],
   "source": [
    "#2\n",
    "data.groupby([\"대여 대여소번호\"])[\"대여 대여소명\"].count().sort_values(ascending=False).head(5)"
   ]
  },
  {
   "cell_type": "code",
   "execution_count": 5,
   "metadata": {},
   "outputs": [
    {
     "data": {
      "text/plain": [
       "반납대여소번호\n",
       "502     11424\n",
       "207     10876\n",
       "152      8323\n",
       "2102     7407\n",
       "2219     6229\n",
       "Name: 반납대여소명, dtype: int64"
      ]
     },
     "execution_count": 5,
     "metadata": {},
     "output_type": "execute_result"
    }
   ],
   "source": [
    "#3\n",
    "data.groupby([\"반납대여소번호\"])[\"반납대여소명\"].count().sort_values(ascending=False).head(5)"
   ]
  },
  {
   "cell_type": "code",
   "execution_count": 6,
   "metadata": {},
   "outputs": [
    {
     "data": {
      "text/html": [
       "<div>\n",
       "<style scoped>\n",
       "    .dataframe tbody tr th:only-of-type {\n",
       "        vertical-align: middle;\n",
       "    }\n",
       "\n",
       "    .dataframe tbody tr th {\n",
       "        vertical-align: top;\n",
       "    }\n",
       "\n",
       "    .dataframe thead th {\n",
       "        text-align: right;\n",
       "    }\n",
       "</style>\n",
       "<table border=\"1\" class=\"dataframe\">\n",
       "  <thead>\n",
       "    <tr style=\"text-align: right;\">\n",
       "      <th></th>\n",
       "      <th>date</th>\n",
       "      <th>대여반납</th>\n",
       "    </tr>\n",
       "  </thead>\n",
       "  <tbody>\n",
       "    <tr>\n",
       "      <th>0</th>\n",
       "      <td>01</td>\n",
       "      <td>대여</td>\n",
       "    </tr>\n",
       "    <tr>\n",
       "      <th>1</th>\n",
       "      <td>01</td>\n",
       "      <td>대여</td>\n",
       "    </tr>\n",
       "    <tr>\n",
       "      <th>2</th>\n",
       "      <td>01</td>\n",
       "      <td>대여</td>\n",
       "    </tr>\n",
       "    <tr>\n",
       "      <th>3</th>\n",
       "      <td>01</td>\n",
       "      <td>대여</td>\n",
       "    </tr>\n",
       "    <tr>\n",
       "      <th>4</th>\n",
       "      <td>01</td>\n",
       "      <td>대여</td>\n",
       "    </tr>\n",
       "  </tbody>\n",
       "</table>\n",
       "</div>"
      ],
      "text/plain": [
       "  date 대여반납\n",
       "0   01   대여\n",
       "1   01   대여\n",
       "2   01   대여\n",
       "3   01   대여\n",
       "4   01   대여"
      ]
     },
     "execution_count": 6,
     "metadata": {},
     "output_type": "execute_result"
    }
   ],
   "source": [
    "data_대여=pd.DataFrame(data.대여일시.str[8:10])\n",
    "data_대여[\"대여반납\"]=\"대여\"\n",
    "data_대여\n",
    "data_대여.columns = [\"date\", \"대여반납\"]\n",
    "\n",
    "data_반납=pd.DataFrame(data.반납일시.str[8:10])\n",
    "data_반납[\"대여반납\"]=\"반납\"\n",
    "data_반납\n",
    "data_반납.columns = [\"date\", \"대여반납\"]\n",
    "data_대여반납=pd.concat([data_대여,data_반납])\n",
    "data_대여반납.head()"
   ]
  },
  {
   "cell_type": "code",
   "execution_count": 7,
   "metadata": {},
   "outputs": [
    {
     "data": {
      "image/png": "[encoded data removed]",
      "text/plain": [
       "<Figure size 432x288 with 1 Axes>"
      ]
     },
     "metadata": {
      "needs_background": "light"
     },
     "output_type": "display_data"
    }
   ],
   "source": [
    "#4\n",
    "sns.countplot(x='date', data=data_대여반납, hue='대여반납')\n",
    "plt.show()"
   ]
  },
  {
   "cell_type": "code",
   "execution_count": 8,
   "metadata": {},
   "outputs": [],
   "source": [
    "aa=[]\n",
    "for i in range(len(data[\"대여 대여소번호\"])):\n",
    "    if data[\"대여 대여소번호\"][i]==data[\"반납대여소번호\"][i]:\n",
    "        aa.append(1)\n",
    "    else:\n",
    "        aa.append(0)"
   ]
  },
  {
   "cell_type": "code",
   "execution_count": 9,
   "metadata": {},
   "outputs": [
    {
     "data": {
      "text/html": [
       "<div>\n",
       "<style scoped>\n",
       "    .dataframe tbody tr th:only-of-type {\n",
       "        vertical-align: middle;\n",
       "    }\n",
       "\n",
       "    .dataframe tbody tr th {\n",
       "        vertical-align: top;\n",
       "    }\n",
       "\n",
       "    .dataframe thead th {\n",
       "        text-align: right;\n",
       "    }\n",
       "</style>\n",
       "<table border=\"1\" class=\"dataframe\">\n",
       "  <thead>\n",
       "    <tr style=\"text-align: right;\">\n",
       "      <th></th>\n",
       "      <th>자전거번호</th>\n",
       "      <th>대여일시</th>\n",
       "      <th>대여 대여소번호</th>\n",
       "      <th>대여 대여소명</th>\n",
       "      <th>대여거치대</th>\n",
       "      <th>반납일시</th>\n",
       "      <th>반납대여소번호</th>\n",
       "      <th>반납대여소명</th>\n",
       "      <th>반납거치대</th>\n",
       "      <th>이용시간</th>\n",
       "      <th>이용거리</th>\n",
       "      <th>대여반납동일유무</th>\n",
       "    </tr>\n",
       "  </thead>\n",
       "  <tbody>\n",
       "    <tr>\n",
       "      <th>0</th>\n",
       "      <td>SPB-33273</td>\n",
       "      <td>2020-06-01 00:03:05</td>\n",
       "      <td>1050</td>\n",
       "      <td>둔촌역 3번 출입구</td>\n",
       "      <td>0</td>\n",
       "      <td>2020-06-01 00:05:59</td>\n",
       "      <td>1078</td>\n",
       "      <td>둔촌사거리</td>\n",
       "      <td>0</td>\n",
       "      <td>3</td>\n",
       "      <td>0.0</td>\n",
       "      <td>0</td>\n",
       "    </tr>\n",
       "    <tr>\n",
       "      <th>1</th>\n",
       "      <td>SPB-30703</td>\n",
       "      <td>2020-06-01 00:00:46</td>\n",
       "      <td>1132</td>\n",
       "      <td>등촌역 7번출구</td>\n",
       "      <td>0</td>\n",
       "      <td>2020-06-01 00:06:53</td>\n",
       "      <td>1169</td>\n",
       "      <td>염창역 1번 출구</td>\n",
       "      <td>0</td>\n",
       "      <td>6</td>\n",
       "      <td>0.0</td>\n",
       "      <td>0</td>\n",
       "    </tr>\n",
       "    <tr>\n",
       "      <th>2</th>\n",
       "      <td>SPB-31969</td>\n",
       "      <td>2020-06-01 00:02:43</td>\n",
       "      <td>1306</td>\n",
       "      <td>한성대입구역2번출구</td>\n",
       "      <td>0</td>\n",
       "      <td>2020-06-01 00:06:59</td>\n",
       "      <td>388</td>\n",
       "      <td>동성중학교 앞</td>\n",
       "      <td>0</td>\n",
       "      <td>4</td>\n",
       "      <td>0.0</td>\n",
       "      <td>0</td>\n",
       "    </tr>\n",
       "    <tr>\n",
       "      <th>3</th>\n",
       "      <td>SPB-19763</td>\n",
       "      <td>2020-06-01 00:00:16</td>\n",
       "      <td>956</td>\n",
       "      <td>응암시장교차로</td>\n",
       "      <td>8</td>\n",
       "      <td>2020-06-01 00:08:25</td>\n",
       "      <td>939</td>\n",
       "      <td>은평구청 교차로</td>\n",
       "      <td>6</td>\n",
       "      <td>7</td>\n",
       "      <td>1340.0</td>\n",
       "      <td>0</td>\n",
       "    </tr>\n",
       "    <tr>\n",
       "      <th>4</th>\n",
       "      <td>SPB-32949</td>\n",
       "      <td>2020-06-01 00:04:20</td>\n",
       "      <td>709</td>\n",
       "      <td>신정3동 현장민원실 앞</td>\n",
       "      <td>0</td>\n",
       "      <td>2020-06-01 00:08:53</td>\n",
       "      <td>712</td>\n",
       "      <td>강월초교입구 사거리</td>\n",
       "      <td>0</td>\n",
       "      <td>5</td>\n",
       "      <td>0.0</td>\n",
       "      <td>0</td>\n",
       "    </tr>\n",
       "  </tbody>\n",
       "</table>\n",
       "</div>"
      ],
      "text/plain": [
       "       자전거번호                 대여일시  대여 대여소번호       대여 대여소명  대여거치대  \\\n",
       "0  SPB-33273  2020-06-01 00:03:05      1050    둔촌역 3번 출입구      0   \n",
       "1  SPB-30703  2020-06-01 00:00:46      1132      등촌역 7번출구      0   \n",
       "2  SPB-31969  2020-06-01 00:02:43      1306    한성대입구역2번출구      0   \n",
       "3  SPB-19763  2020-06-01 00:00:16       956       응암시장교차로      8   \n",
       "4  SPB-32949  2020-06-01 00:04:20       709  신정3동 현장민원실 앞      0   \n",
       "\n",
       "                  반납일시  반납대여소번호      반납대여소명  반납거치대  이용시간    이용거리  대여반납동일유무  \n",
       "0  2020-06-01 00:05:59     1078       둔촌사거리      0     3     0.0         0  \n",
       "1  2020-06-01 00:06:53     1169   염창역 1번 출구      0     6     0.0         0  \n",
       "2  2020-06-01 00:06:59      388     동성중학교 앞      0     4     0.0         0  \n",
       "3  2020-06-01 00:08:25      939    은평구청 교차로      6     7  1340.0         0  \n",
       "4  2020-06-01 00:08:53      712  강월초교입구 사거리      0     5     0.0         0  "
      ]
     },
     "execution_count": 9,
     "metadata": {},
     "output_type": "execute_result"
    }
   ],
   "source": [
    "data[\"대여반납동일유무\"]=aa\n",
    "data.head()"
   ]
  },
  {
   "cell_type": "code",
   "execution_count": 10,
   "metadata": {},
   "outputs": [
    {
     "data": {
      "image/png": "[encoded data removed]",
      "text/plain": [
       "<Figure size 432x288 with 1 Axes>"
      ]
     },
     "metadata": {
      "needs_background": "light"
     },
     "output_type": "display_data"
    }
   ],
   "source": [
    "#5\n",
    "sns.countplot(x='대여반납동일유무', data=data)\n",
    "plt.show()"
   ]
  },
  {
   "cell_type": "code",
   "execution_count": 11,
   "metadata": {},
   "outputs": [
    {
     "data": {
      "text/plain": [
       "자전거번호\n",
       "SPB-31583    407\n",
       "SPB-31923    397\n",
       "SPB-34392    389\n",
       "SPB-30894    388\n",
       "SPB-33576    386\n",
       "Name: 대여일시, dtype: int64"
      ]
     },
     "execution_count": 11,
     "metadata": {},
     "output_type": "execute_result"
    }
   ],
   "source": [
    "#6\n",
    "data.groupby([\"자전거번호\"]).count()[\"대여일시\"].sort_values(ascending=False).head(5)"
   ]
  },
  {
   "cell_type": "code",
   "execution_count": 12,
   "metadata": {},
   "outputs": [
    {
     "data": {
      "text/html": [
       "<div>\n",
       "<style scoped>\n",
       "    .dataframe tbody tr th:only-of-type {\n",
       "        vertical-align: middle;\n",
       "    }\n",
       "\n",
       "    .dataframe tbody tr th {\n",
       "        vertical-align: top;\n",
       "    }\n",
       "\n",
       "    .dataframe thead th {\n",
       "        text-align: right;\n",
       "    }\n",
       "</style>\n",
       "<table border=\"1\" class=\"dataframe\">\n",
       "  <thead>\n",
       "    <tr style=\"text-align: right;\">\n",
       "      <th></th>\n",
       "      <th>time</th>\n",
       "      <th>대여반납</th>\n",
       "    </tr>\n",
       "  </thead>\n",
       "  <tbody>\n",
       "    <tr>\n",
       "      <th>0</th>\n",
       "      <td>00</td>\n",
       "      <td>대여</td>\n",
       "    </tr>\n",
       "    <tr>\n",
       "      <th>1</th>\n",
       "      <td>00</td>\n",
       "      <td>대여</td>\n",
       "    </tr>\n",
       "    <tr>\n",
       "      <th>2</th>\n",
       "      <td>00</td>\n",
       "      <td>대여</td>\n",
       "    </tr>\n",
       "    <tr>\n",
       "      <th>3</th>\n",
       "      <td>00</td>\n",
       "      <td>대여</td>\n",
       "    </tr>\n",
       "    <tr>\n",
       "      <th>4</th>\n",
       "      <td>00</td>\n",
       "      <td>대여</td>\n",
       "    </tr>\n",
       "  </tbody>\n",
       "</table>\n",
       "</div>"
      ],
      "text/plain": [
       "  time 대여반납\n",
       "0   00   대여\n",
       "1   00   대여\n",
       "2   00   대여\n",
       "3   00   대여\n",
       "4   00   대여"
      ]
     },
     "execution_count": 12,
     "metadata": {},
     "output_type": "execute_result"
    }
   ],
   "source": [
    "data_대여시간=pd.DataFrame(data.대여일시.str[11:13])\n",
    "data_대여시간[\"대여반납\"]=\"대여\"\n",
    "data_대여시간\n",
    "data_대여시간.columns = [\"time\", \"대여반납\"]\n",
    "\n",
    "data_반납시간=pd.DataFrame(data.반납일시.str[11:13])\n",
    "data_반납시간[\"대여반납\"]=\"반납\"\n",
    "data_반납시간\n",
    "data_반납시간.columns = [\"time\", \"대여반납\"]\n",
    "data_대여반납시간=pd.concat([data_대여시간,data_반납시간])\n",
    "data_대여반납시간.head()"
   ]
  },
  {
   "cell_type": "code",
   "execution_count": 13,
   "metadata": {},
   "outputs": [],
   "source": [
    "data_대여반납시간[\"bb\"]=1\n",
    "data_대여반납시간_re=data_대여반납시간.groupby([\"time\",\"대여반납\"]).bb.count().reset_index()"
   ]
  },
  {
   "cell_type": "code",
   "execution_count": 14,
   "metadata": {},
   "outputs": [
    {
     "data": {
      "image/png": "[encoded data removed]",
      "text/plain": [
       "<Figure size 432x288 with 1 Axes>"
      ]
     },
     "metadata": {
      "needs_background": "light"
     },
     "output_type": "display_data"
    }
   ],
   "source": [
    "sns.barplot(x='time',y=\"bb\", data=data_대여반납시간_re,hue=\"대여반납\")\n",
    "sns.lineplot(x='time',y=\"bb\", data=data_대여반납시간_re,hue=\"대여반납\",marker='o', markersize=5)\n",
    "plt.show()"
   ]
  }
 ],
 "metadata": {
  "kernelspec": {
   "display_name": "Python 3",
   "language": "python",
   "name": "python3"
  },
  "language_info": {
   "codemirror_mode": {
    "name": "ipython",
    "version": 3
   },
   "file_extension": ".py",
   "mimetype": "text/x-python",
   "name": "python",
   "nbconvert_exporter": "python",
   "pygments_lexer": "ipython3",
   "version": "3.7.0"
  }
 },
 "nbformat": 4,
 "nbformat_minor": 2
}
